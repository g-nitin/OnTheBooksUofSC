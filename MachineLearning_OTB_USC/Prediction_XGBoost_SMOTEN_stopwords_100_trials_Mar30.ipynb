{
 "cells": [
  {
   "cell_type": "markdown",
   "metadata": {},
   "source": [
    "- ## Preferred notebook for model creation with 100 trials; also used for label prediction (Feb, 2024)\n",
    "- #### Morgan / Taylor's labeled sentences added in this version"
   ]
  },
  {
   "cell_type": "markdown",
   "metadata": {},
   "source": [
    "#### This notebook tests for duplicates in labelled data"
   ]
  },
  {
   "cell_type": "markdown",
   "metadata": {},
   "source": [
    "- This file creates model with MORE labelled data (Coded Sentences Drawn from Civic Center's Research and Taylor (1892_labeled_sentences.csv). Renamed \"Label\" column to \"jim_crow\".\n",
    "- Added 11 updated files with correct splitting and coded by Axton : 1868_24-25_updated, 1868_143-145_updated, 1868_146-151_updated, 1877_571-586_updated.csv, 1884_24-26_updated.csv, 1886-87_1031-1034_updated.csv, 1886-87_1072-1074_updated.csv,1868_24-25_updated, 1896_63act_updated, 1907_518-522_updated, 1925_324act_updated, shared_base_training_set_v2.csv (from UNC)\n",
    "- Converted the excel files coded by Axton to csv\n",
    "- Renamed the above files to make the naming consistent (- replaced by _, added 'labeled_sentences')\n",
    "- Renamed the column 'Coding (Axton)\" of Civic Center data to 'jim_crow' , 'Act' to 'sentence' and 'Year' to 'year' for consistency\n",
    "- Added column state = 'South Carolina' in all Civic Center coded files\n",
    "- Replaced the 'year' values in file 1886_87_1031-1034.csv from '1886-87' to 1886 and '1868_146-151_updated.csv' from '1868-69' to 1868\n",
    "- Changed case in some column names (upper to lower)\n",
    "- Read \"UNC_shared_base_training_set_v2.csv\" file differently to perform some filteration as mentioned by Matthew Jansen (UNC) \n",
    "- CASE 1: Training and testing model on combined data of UNC and USC\n",
    "- CASE 2: Training model on UNC data and testing model on USC data"
   ]
  },
  {
   "cell_type": "markdown",
   "metadata": {},
   "source": [
    "- **Used SMOTEN to rebalance the imbalanced dataset and removed stopwords but the model performance did not improve in comparison to without SMOTEN/stopword removal.**\n",
    "- **The time taken to create the model is very less than the time taken without SMOTEN/stopwords removal.**\n",
    "- **This code DOES NOT predicts labels for the WHOLE CORPUS and for EACH YEAR**"
   ]
  },
  {
   "cell_type": "markdown",
   "metadata": {},
   "source": [
    "## Case 1: Training and testing model on both USC and UNC data"
   ]
  },
  {
   "cell_type": "markdown",
   "metadata": {},
   "source": [
    "### Import neccessary libraries"
   ]
  },
  {
   "cell_type": "code",
   "execution_count": 2,
   "metadata": {},
   "outputs": [
    {
     "name": "stderr",
     "output_type": "stream",
     "text": [
      "[nltk_data] Downloading package stopwords to\n",
      "[nltk_data]     /home/vandana/nltk_data...\n",
      "[nltk_data]   Package stopwords is already up-to-date!\n"
     ]
    }
   ],
   "source": [
    "# data reading libraries\n",
    "import numpy as np\n",
    "import pandas as pd\n",
    "from pathlib import Path\n",
    "\n",
    "#Saving model so that we don't have to run it every time we open this notebook\n",
    "import pickle \n",
    "\n",
    "# Text Libraries\n",
    "import re\n",
    "import nltk\n",
    "from nltk.corpus import stopwords \n",
    "nltk.download('stopwords') \n",
    "\n",
    "# Machine Learning Libraries\n",
    "from xgboost import XGBClassifier\n",
    "from imblearn.over_sampling import SMOTEN\n",
    "from sklearn.pipeline import Pipeline, FeatureUnion\n",
    "from sklearn.base import BaseEstimator, TransformerMixin\n",
    "from sklearn.model_selection import train_test_split, cross_val_score\n",
    "from sklearn.feature_extraction.text import CountVectorizer\n",
    "\n",
    "#Model Tuning Libraries\n",
    "from hyperopt import hp, tpe, space_eval, Trials\n",
    "from hyperopt.fmin import fmin\n",
    "\n",
    "#Evaluation Libraries\n",
    "from sklearn.metrics import confusion_matrix, classification_report, make_scorer, f1_score\n",
    "\n",
    "#Visualization libraries\n",
    "import seaborn as sns\n",
    "import matplotlib.pyplot as plt\n",
    "\n",
    "#Supression\n",
    "import warnings\n",
    "warnings.filterwarnings('ignore')\n",
    "warnings.simplefilter('ignore')"
   ]
  },
  {
   "cell_type": "markdown",
   "metadata": {},
   "source": [
    "### Read the data and store in dataframe"
   ]
  },
  {
   "cell_type": "code",
   "execution_count": 3,
   "metadata": {
    "tags": []
   },
   "outputs": [],
   "source": [
    "# Read data from the folder \"LabeledData\". Since one file \"UNC_shared_base_training_set_v2.csv\" is different from others, we are \n",
    "# reading it separately from others.\n",
    "new_df = pd.DataFrame()\n",
    "\n",
    "for file in Path(\"LabeledData_UNC_USC_Feb2024\").glob('*.csv'):\n",
    "    if str(file).find(\"base\") != -1 :\n",
    "        df1 = pd.read_csv(file)       # reading the \"UNC_shared_base_training_set_v2.csv\" file and store it in dataframe df1\n",
    "    else: \n",
    "        df = pd.read_csv(file, usecols=['year', 'state','sentence', 'jim_crow'])\n",
    "        new_df = new_df.append(df, ignore_index = True)"
   ]
  },
  {
   "cell_type": "code",
   "execution_count": 4,
   "metadata": {},
   "outputs": [
    {
     "data": {
      "text/html": [
       "<div>\n",
       "<style scoped>\n",
       "    .dataframe tbody tr th:only-of-type {\n",
       "        vertical-align: middle;\n",
       "    }\n",
       "\n",
       "    .dataframe tbody tr th {\n",
       "        vertical-align: top;\n",
       "    }\n",
       "\n",
       "    .dataframe thead th {\n",
       "        text-align: right;\n",
       "    }\n",
       "</style>\n",
       "<table border=\"1\" class=\"dataframe\">\n",
       "  <thead>\n",
       "    <tr style=\"text-align: right;\">\n",
       "      <th></th>\n",
       "      <th>corpus_section_id</th>\n",
       "      <th>source</th>\n",
       "      <th>law_type</th>\n",
       "      <th>UNC_training</th>\n",
       "      <th>state</th>\n",
       "      <th>sentence</th>\n",
       "      <th>section_sents</th>\n",
       "      <th>char_len</th>\n",
       "      <th>reviewer</th>\n",
       "      <th>jim_crow</th>\n",
       "      <th>jim_crow_type</th>\n",
       "      <th>year</th>\n",
       "      <th>corpus_sentence_id</th>\n",
       "    </tr>\n",
       "  </thead>\n",
       "  <tbody>\n",
       "    <tr>\n",
       "      <th>0</th>\n",
       "      <td>1947_session laws_979_2</td>\n",
       "      <td>murray</td>\n",
       "      <td>session laws</td>\n",
       "      <td>1.0</td>\n",
       "      <td>NORTH CAROLINA</td>\n",
       "      <td>Subject only to restrictions and conditions no...</td>\n",
       "      <td>1.0</td>\n",
       "      <td>779.0</td>\n",
       "      <td>NaN</td>\n",
       "      <td>1</td>\n",
       "      <td>explicit</td>\n",
       "      <td>1947</td>\n",
       "      <td>NaN</td>\n",
       "    </tr>\n",
       "    <tr>\n",
       "      <th>1</th>\n",
       "      <td>1935_public laws_423_3</td>\n",
       "      <td>murray</td>\n",
       "      <td>public laws</td>\n",
       "      <td>1.0</td>\n",
       "      <td>NORTH CAROLINA</td>\n",
       "      <td>Powers and duties of Commission.</td>\n",
       "      <td>10.0</td>\n",
       "      <td>32.0</td>\n",
       "      <td>Axton</td>\n",
       "      <td>0</td>\n",
       "      <td>explicit</td>\n",
       "      <td>1935</td>\n",
       "      <td>NaN</td>\n",
       "    </tr>\n",
       "    <tr>\n",
       "      <th>2</th>\n",
       "      <td>1935_public laws_423_3</td>\n",
       "      <td>murray</td>\n",
       "      <td>public laws</td>\n",
       "      <td>1.0</td>\n",
       "      <td>NORTH CAROLINA</td>\n",
       "      <td>The said Textbook Purchase and Rental Commissi...</td>\n",
       "      <td>10.0</td>\n",
       "      <td>146.0</td>\n",
       "      <td>Axton</td>\n",
       "      <td>0</td>\n",
       "      <td>explicit</td>\n",
       "      <td>1935</td>\n",
       "      <td>NaN</td>\n",
       "    </tr>\n",
       "    <tr>\n",
       "      <th>3</th>\n",
       "      <td>1935_public laws_423_3</td>\n",
       "      <td>murray</td>\n",
       "      <td>public laws</td>\n",
       "      <td>1.0</td>\n",
       "      <td>NORTH CAROLINA</td>\n",
       "      <td>Acquire by contract, and/or purchase, such tex...</td>\n",
       "      <td>10.0</td>\n",
       "      <td>53.0</td>\n",
       "      <td>Axton</td>\n",
       "      <td>0</td>\n",
       "      <td>explicit</td>\n",
       "      <td>1935</td>\n",
       "      <td>NaN</td>\n",
       "    </tr>\n",
       "    <tr>\n",
       "      <th>4</th>\n",
       "      <td>1935_public laws_423_3</td>\n",
       "      <td>murray</td>\n",
       "      <td>public laws</td>\n",
       "      <td>1.0</td>\n",
       "      <td>NORTH CAROLINA</td>\n",
       "      <td>and instructional supplies, which are, or may ...</td>\n",
       "      <td>10.0</td>\n",
       "      <td>218.0</td>\n",
       "      <td>Axton</td>\n",
       "      <td>0</td>\n",
       "      <td>explicit</td>\n",
       "      <td>1935</td>\n",
       "      <td>NaN</td>\n",
       "    </tr>\n",
       "  </tbody>\n",
       "</table>\n",
       "</div>"
      ],
      "text/plain": [
       "         corpus_section_id  source      law_type  UNC_training  \\\n",
       "0  1947_session laws_979_2  murray  session laws           1.0   \n",
       "1   1935_public laws_423_3  murray   public laws           1.0   \n",
       "2   1935_public laws_423_3  murray   public laws           1.0   \n",
       "3   1935_public laws_423_3  murray   public laws           1.0   \n",
       "4   1935_public laws_423_3  murray   public laws           1.0   \n",
       "\n",
       "            state                                           sentence  \\\n",
       "0  NORTH CAROLINA  Subject only to restrictions and conditions no...   \n",
       "1  NORTH CAROLINA                   Powers and duties of Commission.   \n",
       "2  NORTH CAROLINA  The said Textbook Purchase and Rental Commissi...   \n",
       "3  NORTH CAROLINA  Acquire by contract, and/or purchase, such tex...   \n",
       "4  NORTH CAROLINA  and instructional supplies, which are, or may ...   \n",
       "\n",
       "   section_sents  char_len reviewer  jim_crow jim_crow_type  year  \\\n",
       "0            1.0     779.0      NaN         1      explicit  1947   \n",
       "1           10.0      32.0    Axton         0      explicit  1935   \n",
       "2           10.0     146.0    Axton         0      explicit  1935   \n",
       "3           10.0      53.0    Axton         0      explicit  1935   \n",
       "4           10.0     218.0    Axton         0      explicit  1935   \n",
       "\n",
       "  corpus_sentence_id  \n",
       "0                NaN  \n",
       "1                NaN  \n",
       "2                NaN  \n",
       "3                NaN  \n",
       "4                NaN  "
      ]
     },
     "execution_count": 4,
     "metadata": {},
     "output_type": "execute_result"
    }
   ],
   "source": [
    "# Read first 5 rows of \"UNC_shared_base_training_set_v2.csv\" file whose columns are different from other csv files\n",
    "df1[['jim_crow']] = df1[['jim_crow']].astype(int) # Change the datatype of jim_crow\" to int in df1 (it is 0.0, 1.0, 2.0 currently)\n",
    "df1.head()"
   ]
  },
  {
   "cell_type": "code",
   "execution_count": 5,
   "metadata": {},
   "outputs": [
    {
     "data": {
      "text/plain": [
       "10231"
      ]
     },
     "execution_count": 5,
     "metadata": {},
     "output_type": "execute_result"
    }
   ],
   "source": [
    "# find length of df1\n",
    "len(df1)"
   ]
  },
  {
   "cell_type": "markdown",
   "metadata": {},
   "source": [
    "#### Only select rows which have a 'jim_crow' value of either 0 or 1\n",
    "df.loc[df.jim_crow.isin([0,1]), :]\n",
    "\n",
    "#### Only select rows which have a 'jim_crow_type' value of 'extrinsic' or 'implicit'\n",
    "df.loc[df.jim_crow_type.isin([\"extrinsic\",\"implicit\"]), :]\n",
    "\n",
    "#### Only select rows which DONT have a 'jim_crow_type' value of 'extrinsic' or 'implicit' by using '~'\n",
    "df.loc[~df.jim_crow_type.isin([\"extrinsic\",\"implicit\"]), :]"
   ]
  },
  {
   "cell_type": "code",
   "execution_count": 6,
   "metadata": {},
   "outputs": [
    {
     "data": {
      "text/html": [
       "<div>\n",
       "<style scoped>\n",
       "    .dataframe tbody tr th:only-of-type {\n",
       "        vertical-align: middle;\n",
       "    }\n",
       "\n",
       "    .dataframe tbody tr th {\n",
       "        vertical-align: top;\n",
       "    }\n",
       "\n",
       "    .dataframe thead th {\n",
       "        text-align: right;\n",
       "    }\n",
       "</style>\n",
       "<table border=\"1\" class=\"dataframe\">\n",
       "  <thead>\n",
       "    <tr style=\"text-align: right;\">\n",
       "      <th></th>\n",
       "      <th>corpus_section_id</th>\n",
       "      <th>source</th>\n",
       "      <th>law_type</th>\n",
       "      <th>UNC_training</th>\n",
       "      <th>state</th>\n",
       "      <th>sentence</th>\n",
       "      <th>section_sents</th>\n",
       "      <th>char_len</th>\n",
       "      <th>reviewer</th>\n",
       "      <th>jim_crow</th>\n",
       "      <th>jim_crow_type</th>\n",
       "      <th>year</th>\n",
       "      <th>corpus_sentence_id</th>\n",
       "    </tr>\n",
       "  </thead>\n",
       "  <tbody>\n",
       "    <tr>\n",
       "      <th>0</th>\n",
       "      <td>1947_session laws_979_2</td>\n",
       "      <td>murray</td>\n",
       "      <td>session laws</td>\n",
       "      <td>1.0</td>\n",
       "      <td>NORTH CAROLINA</td>\n",
       "      <td>Subject only to restrictions and conditions no...</td>\n",
       "      <td>1.0</td>\n",
       "      <td>779.0</td>\n",
       "      <td>NaN</td>\n",
       "      <td>1</td>\n",
       "      <td>explicit</td>\n",
       "      <td>1947</td>\n",
       "      <td>NaN</td>\n",
       "    </tr>\n",
       "    <tr>\n",
       "      <th>1</th>\n",
       "      <td>1935_public laws_423_3</td>\n",
       "      <td>murray</td>\n",
       "      <td>public laws</td>\n",
       "      <td>1.0</td>\n",
       "      <td>NORTH CAROLINA</td>\n",
       "      <td>Powers and duties of Commission.</td>\n",
       "      <td>10.0</td>\n",
       "      <td>32.0</td>\n",
       "      <td>Axton</td>\n",
       "      <td>0</td>\n",
       "      <td>explicit</td>\n",
       "      <td>1935</td>\n",
       "      <td>NaN</td>\n",
       "    </tr>\n",
       "    <tr>\n",
       "      <th>2</th>\n",
       "      <td>1935_public laws_423_3</td>\n",
       "      <td>murray</td>\n",
       "      <td>public laws</td>\n",
       "      <td>1.0</td>\n",
       "      <td>NORTH CAROLINA</td>\n",
       "      <td>The said Textbook Purchase and Rental Commissi...</td>\n",
       "      <td>10.0</td>\n",
       "      <td>146.0</td>\n",
       "      <td>Axton</td>\n",
       "      <td>0</td>\n",
       "      <td>explicit</td>\n",
       "      <td>1935</td>\n",
       "      <td>NaN</td>\n",
       "    </tr>\n",
       "    <tr>\n",
       "      <th>3</th>\n",
       "      <td>1935_public laws_423_3</td>\n",
       "      <td>murray</td>\n",
       "      <td>public laws</td>\n",
       "      <td>1.0</td>\n",
       "      <td>NORTH CAROLINA</td>\n",
       "      <td>Acquire by contract, and/or purchase, such tex...</td>\n",
       "      <td>10.0</td>\n",
       "      <td>53.0</td>\n",
       "      <td>Axton</td>\n",
       "      <td>0</td>\n",
       "      <td>explicit</td>\n",
       "      <td>1935</td>\n",
       "      <td>NaN</td>\n",
       "    </tr>\n",
       "    <tr>\n",
       "      <th>4</th>\n",
       "      <td>1935_public laws_423_3</td>\n",
       "      <td>murray</td>\n",
       "      <td>public laws</td>\n",
       "      <td>1.0</td>\n",
       "      <td>NORTH CAROLINA</td>\n",
       "      <td>and instructional supplies, which are, or may ...</td>\n",
       "      <td>10.0</td>\n",
       "      <td>218.0</td>\n",
       "      <td>Axton</td>\n",
       "      <td>0</td>\n",
       "      <td>explicit</td>\n",
       "      <td>1935</td>\n",
       "      <td>NaN</td>\n",
       "    </tr>\n",
       "  </tbody>\n",
       "</table>\n",
       "</div>"
      ],
      "text/plain": [
       "         corpus_section_id  source      law_type  UNC_training  \\\n",
       "0  1947_session laws_979_2  murray  session laws           1.0   \n",
       "1   1935_public laws_423_3  murray   public laws           1.0   \n",
       "2   1935_public laws_423_3  murray   public laws           1.0   \n",
       "3   1935_public laws_423_3  murray   public laws           1.0   \n",
       "4   1935_public laws_423_3  murray   public laws           1.0   \n",
       "\n",
       "            state                                           sentence  \\\n",
       "0  NORTH CAROLINA  Subject only to restrictions and conditions no...   \n",
       "1  NORTH CAROLINA                   Powers and duties of Commission.   \n",
       "2  NORTH CAROLINA  The said Textbook Purchase and Rental Commissi...   \n",
       "3  NORTH CAROLINA  Acquire by contract, and/or purchase, such tex...   \n",
       "4  NORTH CAROLINA  and instructional supplies, which are, or may ...   \n",
       "\n",
       "   section_sents  char_len reviewer  jim_crow jim_crow_type  year  \\\n",
       "0            1.0     779.0      NaN         1      explicit  1947   \n",
       "1           10.0      32.0    Axton         0      explicit  1935   \n",
       "2           10.0     146.0    Axton         0      explicit  1935   \n",
       "3           10.0      53.0    Axton         0      explicit  1935   \n",
       "4           10.0     218.0    Axton         0      explicit  1935   \n",
       "\n",
       "  corpus_sentence_id  \n",
       "0                NaN  \n",
       "1                NaN  \n",
       "2                NaN  \n",
       "3                NaN  \n",
       "4                NaN  "
      ]
     },
     "execution_count": 6,
     "metadata": {},
     "output_type": "execute_result"
    }
   ],
   "source": [
    "# Only select those rows which have value of either 0 or 1 in \"jim_crow\" column AND do not have value of \"extrinsic\" or \n",
    "# \"intrinsic\" in \"jim_crow_type\" column ---- as suggested by Matt Jansen (UNC)\n",
    "df1_good = df1.loc[(df1.jim_crow.isin([0,1])) & (~df1.jim_crow_type.isin([\"extrinsic\",\"implicit\"])),:].copy()\n",
    "df1_good.head()"
   ]
  },
  {
   "cell_type": "code",
   "execution_count": 7,
   "metadata": {},
   "outputs": [
    {
     "data": {
      "text/html": [
       "<div>\n",
       "<style scoped>\n",
       "    .dataframe tbody tr th:only-of-type {\n",
       "        vertical-align: middle;\n",
       "    }\n",
       "\n",
       "    .dataframe tbody tr th {\n",
       "        vertical-align: top;\n",
       "    }\n",
       "\n",
       "    .dataframe thead th {\n",
       "        text-align: right;\n",
       "    }\n",
       "</style>\n",
       "<table border=\"1\" class=\"dataframe\">\n",
       "  <thead>\n",
       "    <tr style=\"text-align: right;\">\n",
       "      <th></th>\n",
       "      <th>year</th>\n",
       "      <th>state</th>\n",
       "      <th>sentence</th>\n",
       "      <th>jim_crow</th>\n",
       "    </tr>\n",
       "  </thead>\n",
       "  <tbody>\n",
       "    <tr>\n",
       "      <th>0</th>\n",
       "      <td>1947</td>\n",
       "      <td>NORTH CAROLINA</td>\n",
       "      <td>Subject only to restrictions and conditions no...</td>\n",
       "      <td>1</td>\n",
       "    </tr>\n",
       "    <tr>\n",
       "      <th>1</th>\n",
       "      <td>1935</td>\n",
       "      <td>NORTH CAROLINA</td>\n",
       "      <td>Powers and duties of Commission.</td>\n",
       "      <td>0</td>\n",
       "    </tr>\n",
       "    <tr>\n",
       "      <th>2</th>\n",
       "      <td>1935</td>\n",
       "      <td>NORTH CAROLINA</td>\n",
       "      <td>The said Textbook Purchase and Rental Commissi...</td>\n",
       "      <td>0</td>\n",
       "    </tr>\n",
       "    <tr>\n",
       "      <th>3</th>\n",
       "      <td>1935</td>\n",
       "      <td>NORTH CAROLINA</td>\n",
       "      <td>Acquire by contract, and/or purchase, such tex...</td>\n",
       "      <td>0</td>\n",
       "    </tr>\n",
       "    <tr>\n",
       "      <th>4</th>\n",
       "      <td>1935</td>\n",
       "      <td>NORTH CAROLINA</td>\n",
       "      <td>and instructional supplies, which are, or may ...</td>\n",
       "      <td>0</td>\n",
       "    </tr>\n",
       "    <tr>\n",
       "      <th>...</th>\n",
       "      <td>...</td>\n",
       "      <td>...</td>\n",
       "      <td>...</td>\n",
       "      <td>...</td>\n",
       "    </tr>\n",
       "    <tr>\n",
       "      <th>10225</th>\n",
       "      <td>1909</td>\n",
       "      <td>NORTH CAROLINA</td>\n",
       "      <td>On behalf of the general welfare of the city o...</td>\n",
       "      <td>0</td>\n",
       "    </tr>\n",
       "    <tr>\n",
       "      <th>10226</th>\n",
       "      <td>1895</td>\n",
       "      <td>NORTH CAROLINA</td>\n",
       "      <td>The clerk of the commissioners, on or before t...</td>\n",
       "      <td>1</td>\n",
       "    </tr>\n",
       "    <tr>\n",
       "      <th>10228</th>\n",
       "      <td>1899</td>\n",
       "      <td>NORTH CAROLINA</td>\n",
       "      <td>The township school trustees shall divide thei...</td>\n",
       "      <td>0</td>\n",
       "    </tr>\n",
       "    <tr>\n",
       "      <th>10229</th>\n",
       "      <td>1899</td>\n",
       "      <td>NORTH CAROLINA</td>\n",
       "      <td>They shall consult the convenience and necessi...</td>\n",
       "      <td>1</td>\n",
       "    </tr>\n",
       "    <tr>\n",
       "      <th>10230</th>\n",
       "      <td>1901</td>\n",
       "      <td>NORTH CAROLINA</td>\n",
       "      <td>That the Treasurer of Wilkes County be and he ...</td>\n",
       "      <td>1</td>\n",
       "    </tr>\n",
       "  </tbody>\n",
       "</table>\n",
       "<p>9492 rows × 4 columns</p>\n",
       "</div>"
      ],
      "text/plain": [
       "       year           state  \\\n",
       "0      1947  NORTH CAROLINA   \n",
       "1      1935  NORTH CAROLINA   \n",
       "2      1935  NORTH CAROLINA   \n",
       "3      1935  NORTH CAROLINA   \n",
       "4      1935  NORTH CAROLINA   \n",
       "...     ...             ...   \n",
       "10225  1909  NORTH CAROLINA   \n",
       "10226  1895  NORTH CAROLINA   \n",
       "10228  1899  NORTH CAROLINA   \n",
       "10229  1899  NORTH CAROLINA   \n",
       "10230  1901  NORTH CAROLINA   \n",
       "\n",
       "                                                sentence  jim_crow  \n",
       "0      Subject only to restrictions and conditions no...         1  \n",
       "1                       Powers and duties of Commission.         0  \n",
       "2      The said Textbook Purchase and Rental Commissi...         0  \n",
       "3      Acquire by contract, and/or purchase, such tex...         0  \n",
       "4      and instructional supplies, which are, or may ...         0  \n",
       "...                                                  ...       ...  \n",
       "10225  On behalf of the general welfare of the city o...         0  \n",
       "10226  The clerk of the commissioners, on or before t...         1  \n",
       "10228  The township school trustees shall divide thei...         0  \n",
       "10229  They shall consult the convenience and necessi...         1  \n",
       "10230  That the Treasurer of Wilkes County be and he ...         1  \n",
       "\n",
       "[9492 rows x 4 columns]"
      ]
     },
     "execution_count": 7,
     "metadata": {},
     "output_type": "execute_result"
    }
   ],
   "source": [
    "# Create a new dataframe from df1_good that has columns same as new_df\n",
    "new_df1 = df1_good[['year', 'state', 'sentence', 'jim_crow']]\n",
    "new_df1"
   ]
  },
  {
   "cell_type": "markdown",
   "metadata": {
    "tags": []
   },
   "source": [
    "### Data Cleaning and Exploration"
   ]
  },
  {
   "cell_type": "code",
   "execution_count": 8,
   "metadata": {},
   "outputs": [
    {
     "data": {
      "text/html": [
       "<div>\n",
       "<style scoped>\n",
       "    .dataframe tbody tr th:only-of-type {\n",
       "        vertical-align: middle;\n",
       "    }\n",
       "\n",
       "    .dataframe tbody tr th {\n",
       "        vertical-align: top;\n",
       "    }\n",
       "\n",
       "    .dataframe thead th {\n",
       "        text-align: right;\n",
       "    }\n",
       "</style>\n",
       "<table border=\"1\" class=\"dataframe\">\n",
       "  <thead>\n",
       "    <tr style=\"text-align: right;\">\n",
       "      <th></th>\n",
       "      <th>year</th>\n",
       "      <th>state</th>\n",
       "      <th>sentence</th>\n",
       "      <th>jim_crow</th>\n",
       "    </tr>\n",
       "  </thead>\n",
       "  <tbody>\n",
       "    <tr>\n",
       "      <th>0</th>\n",
       "      <td>1896</td>\n",
       "      <td>SOUTH CAROLINA</td>\n",
       "      <td>it shall be the duty of each county treasurer ...</td>\n",
       "      <td>0.0</td>\n",
       "    </tr>\n",
       "    <tr>\n",
       "      <th>1</th>\n",
       "      <td>1896</td>\n",
       "      <td>SOUTH CAROLINA</td>\n",
       "      <td>all moneys disbursed by any county treasurer o...</td>\n",
       "      <td>0.0</td>\n",
       "    </tr>\n",
       "    <tr>\n",
       "      <th>2</th>\n",
       "      <td>1896</td>\n",
       "      <td>SOUTH CAROLINA</td>\n",
       "      <td>each county treasurer shall make out and forwa...</td>\n",
       "      <td>0.0</td>\n",
       "    </tr>\n",
       "    <tr>\n",
       "      <th>3</th>\n",
       "      <td>1896</td>\n",
       "      <td>SOUTH CAROLINA</td>\n",
       "      <td>the county treasurer shall carry forward all s...</td>\n",
       "      <td>0.0</td>\n",
       "    </tr>\n",
       "    <tr>\n",
       "      <th>4</th>\n",
       "      <td>1896</td>\n",
       "      <td>SOUTH CAROLINA</td>\n",
       "      <td>it shall be unlawful for any county treasurer,...</td>\n",
       "      <td>0.0</td>\n",
       "    </tr>\n",
       "  </tbody>\n",
       "</table>\n",
       "</div>"
      ],
      "text/plain": [
       "   year           state                                           sentence  \\\n",
       "0  1896  SOUTH CAROLINA  it shall be the duty of each county treasurer ...   \n",
       "1  1896  SOUTH CAROLINA  all moneys disbursed by any county treasurer o...   \n",
       "2  1896  SOUTH CAROLINA  each county treasurer shall make out and forwa...   \n",
       "3  1896  SOUTH CAROLINA  the county treasurer shall carry forward all s...   \n",
       "4  1896  SOUTH CAROLINA  it shall be unlawful for any county treasurer,...   \n",
       "\n",
       "   jim_crow  \n",
       "0       0.0  \n",
       "1       0.0  \n",
       "2       0.0  \n",
       "3       0.0  \n",
       "4       0.0  "
      ]
     },
     "execution_count": 8,
     "metadata": {},
     "output_type": "execute_result"
    }
   ],
   "source": [
    "# display first 5 rows of the data new_df\n",
    "new_df.head()"
   ]
  },
  {
   "cell_type": "code",
   "execution_count": 9,
   "metadata": {},
   "outputs": [
    {
     "data": {
      "text/html": [
       "<div>\n",
       "<style scoped>\n",
       "    .dataframe tbody tr th:only-of-type {\n",
       "        vertical-align: middle;\n",
       "    }\n",
       "\n",
       "    .dataframe tbody tr th {\n",
       "        vertical-align: top;\n",
       "    }\n",
       "\n",
       "    .dataframe thead th {\n",
       "        text-align: right;\n",
       "    }\n",
       "</style>\n",
       "<table border=\"1\" class=\"dataframe\">\n",
       "  <thead>\n",
       "    <tr style=\"text-align: right;\">\n",
       "      <th></th>\n",
       "      <th>year</th>\n",
       "      <th>state</th>\n",
       "      <th>sentence</th>\n",
       "      <th>jim_crow</th>\n",
       "    </tr>\n",
       "  </thead>\n",
       "  <tbody>\n",
       "  </tbody>\n",
       "</table>\n",
       "</div>"
      ],
      "text/plain": [
       "Empty DataFrame\n",
       "Columns: [year, state, sentence, jim_crow]\n",
       "Index: []"
      ]
     },
     "execution_count": 9,
     "metadata": {},
     "output_type": "execute_result"
    }
   ],
   "source": [
    "#replace '1886-87' in \"year\" column by 1886 and '1868-69' by 1868\n",
    "new_df.replace('1886-87', '1886', inplace=True)\n",
    "new_df.replace('1868-69', '1868', inplace=True)\n",
    "new_df[new_df['year'] == '1868-69'].head() # emplty dataframe because we have replaced \"1886-87\" by \"1886\""
   ]
  },
  {
   "cell_type": "code",
   "execution_count": 10,
   "metadata": {},
   "outputs": [
    {
     "name": "stdout",
     "output_type": "stream",
     "text": [
      " The length of new_df is 27072\n",
      " The length of new_df1 is 9492\n"
     ]
    }
   ],
   "source": [
    "# find the size of each dataframe\n",
    "print(\" The length of new_df is\", len(new_df))\n",
    "print(\" The length of new_df1 is\", len(new_df1))"
   ]
  },
  {
   "cell_type": "code",
   "execution_count": 11,
   "metadata": {},
   "outputs": [
    {
     "name": "stdout",
     "output_type": "stream",
     "text": [
      "13086\n",
      "0\n"
     ]
    }
   ],
   "source": [
    "# Check how many entries are null or empty in the two datasets\n",
    "print(new_df.isnull().sum().sum())\n",
    "print(new_df1.isnull().sum().sum())"
   ]
  },
  {
   "cell_type": "markdown",
   "metadata": {},
   "source": [
    "##### Remove all the null entries - coming from the 3 files shared by Morgan/Taylor"
   ]
  },
  {
   "cell_type": "code",
   "execution_count": 12,
   "metadata": {},
   "outputs": [
    {
     "name": "stdout",
     "output_type": "stream",
     "text": [
      "0\n"
     ]
    }
   ],
   "source": [
    "new_df_clean = new_df.dropna(subset=['jim_crow'])\n",
    "print(new_df_clean.isnull().sum().sum())"
   ]
  },
  {
   "cell_type": "code",
   "execution_count": 13,
   "metadata": {},
   "outputs": [
    {
     "name": "stdout",
     "output_type": "stream",
     "text": [
      "Column datatypes of new_df_clean are below: \n",
      " year         object\n",
      "state        object\n",
      "sentence     object\n",
      "jim_crow    float64\n",
      "dtype: object\n",
      "Column datatypes of new_df1 are below: \n",
      " year         int64\n",
      "state       object\n",
      "sentence    object\n",
      "jim_crow     int64\n",
      "dtype: object\n"
     ]
    }
   ],
   "source": [
    "# find the data types of columns of new_df1 and new_df\n",
    "print(\"Column datatypes of new_df_clean are below: \\n\", new_df_clean.dtypes)\n",
    "print(\"Column datatypes of new_df1 are below: \\n\", new_df1.dtypes)"
   ]
  },
  {
   "cell_type": "markdown",
   "metadata": {},
   "source": [
    "Make sure that the data type of the two dataframes are SAME as we are going to append the datasets to create ONE large dataset"
   ]
  },
  {
   "cell_type": "code",
   "execution_count": 14,
   "metadata": {},
   "outputs": [],
   "source": [
    "# Change the datatype of \"year\" and \"jim_crow\" to string in new_df1 \n",
    "#new_df1[['jim_crow']] = new_df1[['jim_crow']].astype(int)\n",
    "#new_df1[['year']] = new_df1[['year']].astype(str)\n",
    "\n",
    "# # Change the datatype of 'year' to string in new_df\n",
    "new_df_clean[['year']] = new_df_clean[['year']].astype(int)\n",
    "new_df_clean[['jim_crow']] = new_df_clean[['jim_crow']].astype(int)"
   ]
  },
  {
   "cell_type": "code",
   "execution_count": 15,
   "metadata": {},
   "outputs": [
    {
     "name": "stdout",
     "output_type": "stream",
     "text": [
      "Column datatypes of new_df_clean are below: \n",
      " year         int64\n",
      "state       object\n",
      "sentence    object\n",
      "jim_crow     int64\n",
      "dtype: object\n",
      "Column datatypes of new_df1 are below: \n",
      " year         int64\n",
      "state       object\n",
      "sentence    object\n",
      "jim_crow     int64\n",
      "dtype: object\n"
     ]
    }
   ],
   "source": [
    "# find the data types of columns of new_df1 and new_df after changing\n",
    "print(\"Column datatypes of new_df_clean are below: \\n\", new_df_clean.dtypes)\n",
    "print(\"Column datatypes of new_df1 are below: \\n\", new_df1.dtypes)"
   ]
  },
  {
   "cell_type": "code",
   "execution_count": 16,
   "metadata": {},
   "outputs": [
    {
     "data": {
      "text/plain": [
       "array([1896, 1907, '1886', 1937, 1922, 1877, 1879, 1898, 1900, 1903, 1904,\n",
       "       1905, 1908, 1909, 1910, 1911, 1912, 1914, 1915, 1916, 1917, 1918,\n",
       "       1920, 1924, 1926, 1928, 1930, 1934, 1872, 1878, 1906, 1891, 1923,\n",
       "       1935, 1938, 1939, 1940, 1943, 1944, 1945, 1947, 1933, 1927, 1925,\n",
       "       1913, 1899, 1901, 1941, 1949, 1889, 1887, 1885, 1883, 1881, 1880,\n",
       "       1897, 1893, 1895, 1929, 1931, 1919, 1955, 1959, 1967, 1965, 1957,\n",
       "       1869, 1963, 1951, 1868, 1961, 1870, 1921, 1953, 1876, 1871, 1866,\n",
       "       1874, 1873, 1956, 1888, 1952, 1892, 1884, '1868'], dtype=object)"
      ]
     },
     "execution_count": 16,
     "metadata": {},
     "output_type": "execute_result"
    }
   ],
   "source": [
    "new_df.year.unique()\n"
   ]
  },
  {
   "cell_type": "markdown",
   "metadata": {},
   "source": [
    "#### Append the 2 datasets to create a big labeled dataset"
   ]
  },
  {
   "cell_type": "code",
   "execution_count": 17,
   "metadata": {},
   "outputs": [
    {
     "name": "stdout",
     "output_type": "stream",
     "text": [
      "23479\n"
     ]
    }
   ],
   "source": [
    "# Create a large dataset with the 2 separate datasets\n",
    "combined_df = new_df_clean.append(new_df1,ignore_index = True)\n",
    "\n",
    "#find the length of combined dataset\n",
    "print(len(combined_df))"
   ]
  },
  {
   "cell_type": "code",
   "execution_count": 19,
   "metadata": {},
   "outputs": [
    {
     "data": {
      "text/html": [
       "<div>\n",
       "<style scoped>\n",
       "    .dataframe tbody tr th:only-of-type {\n",
       "        vertical-align: middle;\n",
       "    }\n",
       "\n",
       "    .dataframe tbody tr th {\n",
       "        vertical-align: top;\n",
       "    }\n",
       "\n",
       "    .dataframe thead th {\n",
       "        text-align: right;\n",
       "    }\n",
       "</style>\n",
       "<table border=\"1\" class=\"dataframe\">\n",
       "  <thead>\n",
       "    <tr style=\"text-align: right;\">\n",
       "      <th></th>\n",
       "      <th>year</th>\n",
       "      <th>state</th>\n",
       "      <th>sentence</th>\n",
       "      <th>jim_crow</th>\n",
       "    </tr>\n",
       "  </thead>\n",
       "  <tbody>\n",
       "    <tr>\n",
       "      <th>0</th>\n",
       "      <td>1896</td>\n",
       "      <td>SOUTH CAROLINA</td>\n",
       "      <td>it shall be the duty of each county treasurer ...</td>\n",
       "      <td>0</td>\n",
       "    </tr>\n",
       "    <tr>\n",
       "      <th>1</th>\n",
       "      <td>1896</td>\n",
       "      <td>SOUTH CAROLINA</td>\n",
       "      <td>all moneys disbursed by any county treasurer o...</td>\n",
       "      <td>0</td>\n",
       "    </tr>\n",
       "    <tr>\n",
       "      <th>2</th>\n",
       "      <td>1896</td>\n",
       "      <td>SOUTH CAROLINA</td>\n",
       "      <td>each county treasurer shall make out and forwa...</td>\n",
       "      <td>0</td>\n",
       "    </tr>\n",
       "    <tr>\n",
       "      <th>3</th>\n",
       "      <td>1896</td>\n",
       "      <td>SOUTH CAROLINA</td>\n",
       "      <td>the county treasurer shall carry forward all s...</td>\n",
       "      <td>0</td>\n",
       "    </tr>\n",
       "    <tr>\n",
       "      <th>4</th>\n",
       "      <td>1896</td>\n",
       "      <td>SOUTH CAROLINA</td>\n",
       "      <td>it shall be unlawful for any county treasurer,...</td>\n",
       "      <td>0</td>\n",
       "    </tr>\n",
       "    <tr>\n",
       "      <th>...</th>\n",
       "      <td>...</td>\n",
       "      <td>...</td>\n",
       "      <td>...</td>\n",
       "      <td>...</td>\n",
       "    </tr>\n",
       "    <tr>\n",
       "      <th>23474</th>\n",
       "      <td>1909</td>\n",
       "      <td>NORTH CAROLINA</td>\n",
       "      <td>on behalf of the general welfare of the city o...</td>\n",
       "      <td>0</td>\n",
       "    </tr>\n",
       "    <tr>\n",
       "      <th>23475</th>\n",
       "      <td>1895</td>\n",
       "      <td>NORTH CAROLINA</td>\n",
       "      <td>the clerk of the commissioners, on or before t...</td>\n",
       "      <td>1</td>\n",
       "    </tr>\n",
       "    <tr>\n",
       "      <th>23476</th>\n",
       "      <td>1899</td>\n",
       "      <td>NORTH CAROLINA</td>\n",
       "      <td>the township school trustees shall divide thei...</td>\n",
       "      <td>0</td>\n",
       "    </tr>\n",
       "    <tr>\n",
       "      <th>23477</th>\n",
       "      <td>1899</td>\n",
       "      <td>NORTH CAROLINA</td>\n",
       "      <td>they shall consult the convenience and necessi...</td>\n",
       "      <td>1</td>\n",
       "    </tr>\n",
       "    <tr>\n",
       "      <th>23478</th>\n",
       "      <td>1901</td>\n",
       "      <td>NORTH CAROLINA</td>\n",
       "      <td>that the treasurer of wilkes county be and he ...</td>\n",
       "      <td>1</td>\n",
       "    </tr>\n",
       "  </tbody>\n",
       "</table>\n",
       "<p>23479 rows × 4 columns</p>\n",
       "</div>"
      ],
      "text/plain": [
       "       year           state  \\\n",
       "0      1896  SOUTH CAROLINA   \n",
       "1      1896  SOUTH CAROLINA   \n",
       "2      1896  SOUTH CAROLINA   \n",
       "3      1896  SOUTH CAROLINA   \n",
       "4      1896  SOUTH CAROLINA   \n",
       "...     ...             ...   \n",
       "23474  1909  NORTH CAROLINA   \n",
       "23475  1895  NORTH CAROLINA   \n",
       "23476  1899  NORTH CAROLINA   \n",
       "23477  1899  NORTH CAROLINA   \n",
       "23478  1901  NORTH CAROLINA   \n",
       "\n",
       "                                                sentence  jim_crow  \n",
       "0      it shall be the duty of each county treasurer ...         0  \n",
       "1      all moneys disbursed by any county treasurer o...         0  \n",
       "2      each county treasurer shall make out and forwa...         0  \n",
       "3      the county treasurer shall carry forward all s...         0  \n",
       "4      it shall be unlawful for any county treasurer,...         0  \n",
       "...                                                  ...       ...  \n",
       "23474  on behalf of the general welfare of the city o...         0  \n",
       "23475  the clerk of the commissioners, on or before t...         1  \n",
       "23476  the township school trustees shall divide thei...         0  \n",
       "23477  they shall consult the convenience and necessi...         1  \n",
       "23478  that the treasurer of wilkes county be and he ...         1  \n",
       "\n",
       "[23479 rows x 4 columns]"
      ]
     },
     "execution_count": 19,
     "metadata": {},
     "output_type": "execute_result"
    }
   ],
   "source": [
    "# Convert column 'sentence' to lowercase use map()\n",
    "combined_df['sentence'] = combined_df['sentence'].map(str.lower)\n",
    "combined_df"
   ]
  },
  {
   "cell_type": "code",
   "execution_count": 20,
   "metadata": {},
   "outputs": [
    {
     "data": {
      "text/html": [
       "<div>\n",
       "<style scoped>\n",
       "    .dataframe tbody tr th:only-of-type {\n",
       "        vertical-align: middle;\n",
       "    }\n",
       "\n",
       "    .dataframe tbody tr th {\n",
       "        vertical-align: top;\n",
       "    }\n",
       "\n",
       "    .dataframe thead th {\n",
       "        text-align: right;\n",
       "    }\n",
       "</style>\n",
       "<table border=\"1\" class=\"dataframe\">\n",
       "  <thead>\n",
       "    <tr style=\"text-align: right;\">\n",
       "      <th></th>\n",
       "      <th>year</th>\n",
       "      <th>sentence</th>\n",
       "      <th>jim_crow</th>\n",
       "    </tr>\n",
       "    <tr>\n",
       "      <th>state</th>\n",
       "      <th></th>\n",
       "      <th></th>\n",
       "      <th></th>\n",
       "    </tr>\n",
       "  </thead>\n",
       "  <tbody>\n",
       "    <tr>\n",
       "      <th>NORTH CAROLINA</th>\n",
       "      <td>14913</td>\n",
       "      <td>14913</td>\n",
       "      <td>14913</td>\n",
       "    </tr>\n",
       "    <tr>\n",
       "      <th>SOUTH CAROLINA</th>\n",
       "      <td>8566</td>\n",
       "      <td>8566</td>\n",
       "      <td>8566</td>\n",
       "    </tr>\n",
       "  </tbody>\n",
       "</table>\n",
       "</div>"
      ],
      "text/plain": [
       "                 year  sentence  jim_crow\n",
       "state                                    \n",
       "NORTH CAROLINA  14913     14913     14913\n",
       "SOUTH CAROLINA   8566      8566      8566"
      ]
     },
     "execution_count": 20,
     "metadata": {},
     "output_type": "execute_result"
    }
   ],
   "source": [
    "# Count of North Carolina and SOuth Carolina sentences\n",
    "count_df = combined_df.groupby('state').count()\n",
    "count_df"
   ]
  },
  {
   "cell_type": "code",
   "execution_count": 21,
   "metadata": {},
   "outputs": [
    {
     "data": {
      "text/html": [
       "<div>\n",
       "<style scoped>\n",
       "    .dataframe tbody tr th:only-of-type {\n",
       "        vertical-align: middle;\n",
       "    }\n",
       "\n",
       "    .dataframe tbody tr th {\n",
       "        vertical-align: top;\n",
       "    }\n",
       "\n",
       "    .dataframe thead th {\n",
       "        text-align: right;\n",
       "    }\n",
       "</style>\n",
       "<table border=\"1\" class=\"dataframe\">\n",
       "  <thead>\n",
       "    <tr style=\"text-align: right;\">\n",
       "      <th></th>\n",
       "      <th>year</th>\n",
       "      <th>state</th>\n",
       "      <th>sentence</th>\n",
       "      <th>jim_crow</th>\n",
       "      <th>sent_length</th>\n",
       "    </tr>\n",
       "  </thead>\n",
       "  <tbody>\n",
       "    <tr>\n",
       "      <th>0</th>\n",
       "      <td>1896</td>\n",
       "      <td>SOUTH CAROLINA</td>\n",
       "      <td>it shall be the duty of each county treasurer ...</td>\n",
       "      <td>0</td>\n",
       "      <td>533</td>\n",
       "    </tr>\n",
       "    <tr>\n",
       "      <th>1</th>\n",
       "      <td>1896</td>\n",
       "      <td>SOUTH CAROLINA</td>\n",
       "      <td>all moneys disbursed by any county treasurer o...</td>\n",
       "      <td>0</td>\n",
       "      <td>249</td>\n",
       "    </tr>\n",
       "    <tr>\n",
       "      <th>2</th>\n",
       "      <td>1896</td>\n",
       "      <td>SOUTH CAROLINA</td>\n",
       "      <td>each county treasurer shall make out and forwa...</td>\n",
       "      <td>0</td>\n",
       "      <td>808</td>\n",
       "    </tr>\n",
       "    <tr>\n",
       "      <th>3</th>\n",
       "      <td>1896</td>\n",
       "      <td>SOUTH CAROLINA</td>\n",
       "      <td>the county treasurer shall carry forward all s...</td>\n",
       "      <td>0</td>\n",
       "      <td>320</td>\n",
       "    </tr>\n",
       "    <tr>\n",
       "      <th>4</th>\n",
       "      <td>1896</td>\n",
       "      <td>SOUTH CAROLINA</td>\n",
       "      <td>it shall be unlawful for any county treasurer,...</td>\n",
       "      <td>0</td>\n",
       "      <td>318</td>\n",
       "    </tr>\n",
       "    <tr>\n",
       "      <th>...</th>\n",
       "      <td>...</td>\n",
       "      <td>...</td>\n",
       "      <td>...</td>\n",
       "      <td>...</td>\n",
       "      <td>...</td>\n",
       "    </tr>\n",
       "    <tr>\n",
       "      <th>23474</th>\n",
       "      <td>1909</td>\n",
       "      <td>NORTH CAROLINA</td>\n",
       "      <td>on behalf of the general welfare of the city o...</td>\n",
       "      <td>0</td>\n",
       "      <td>365</td>\n",
       "    </tr>\n",
       "    <tr>\n",
       "      <th>23475</th>\n",
       "      <td>1895</td>\n",
       "      <td>NORTH CAROLINA</td>\n",
       "      <td>the clerk of the commissioners, on or before t...</td>\n",
       "      <td>1</td>\n",
       "      <td>477</td>\n",
       "    </tr>\n",
       "    <tr>\n",
       "      <th>23476</th>\n",
       "      <td>1899</td>\n",
       "      <td>NORTH CAROLINA</td>\n",
       "      <td>the township school trustees shall divide thei...</td>\n",
       "      <td>0</td>\n",
       "      <td>136</td>\n",
       "    </tr>\n",
       "    <tr>\n",
       "      <th>23477</th>\n",
       "      <td>1899</td>\n",
       "      <td>NORTH CAROLINA</td>\n",
       "      <td>they shall consult the convenience and necessi...</td>\n",
       "      <td>1</td>\n",
       "      <td>282</td>\n",
       "    </tr>\n",
       "    <tr>\n",
       "      <th>23478</th>\n",
       "      <td>1901</td>\n",
       "      <td>NORTH CAROLINA</td>\n",
       "      <td>that the treasurer of wilkes county be and he ...</td>\n",
       "      <td>1</td>\n",
       "      <td>336</td>\n",
       "    </tr>\n",
       "  </tbody>\n",
       "</table>\n",
       "<p>23479 rows × 5 columns</p>\n",
       "</div>"
      ],
      "text/plain": [
       "       year           state  \\\n",
       "0      1896  SOUTH CAROLINA   \n",
       "1      1896  SOUTH CAROLINA   \n",
       "2      1896  SOUTH CAROLINA   \n",
       "3      1896  SOUTH CAROLINA   \n",
       "4      1896  SOUTH CAROLINA   \n",
       "...     ...             ...   \n",
       "23474  1909  NORTH CAROLINA   \n",
       "23475  1895  NORTH CAROLINA   \n",
       "23476  1899  NORTH CAROLINA   \n",
       "23477  1899  NORTH CAROLINA   \n",
       "23478  1901  NORTH CAROLINA   \n",
       "\n",
       "                                                sentence  jim_crow  \\\n",
       "0      it shall be the duty of each county treasurer ...         0   \n",
       "1      all moneys disbursed by any county treasurer o...         0   \n",
       "2      each county treasurer shall make out and forwa...         0   \n",
       "3      the county treasurer shall carry forward all s...         0   \n",
       "4      it shall be unlawful for any county treasurer,...         0   \n",
       "...                                                  ...       ...   \n",
       "23474  on behalf of the general welfare of the city o...         0   \n",
       "23475  the clerk of the commissioners, on or before t...         1   \n",
       "23476  the township school trustees shall divide thei...         0   \n",
       "23477  they shall consult the convenience and necessi...         1   \n",
       "23478  that the treasurer of wilkes county be and he ...         1   \n",
       "\n",
       "       sent_length  \n",
       "0              533  \n",
       "1              249  \n",
       "2              808  \n",
       "3              320  \n",
       "4              318  \n",
       "...            ...  \n",
       "23474          365  \n",
       "23475          477  \n",
       "23476          136  \n",
       "23477          282  \n",
       "23478          336  \n",
       "\n",
       "[23479 rows x 5 columns]"
      ]
     },
     "execution_count": 21,
     "metadata": {},
     "output_type": "execute_result"
    }
   ],
   "source": [
    "# find length of each sentence\n",
    "combined_df['sent_length'] = combined_df['sentence'].str.len()\n",
    "combined_df"
   ]
  },
  {
   "cell_type": "code",
   "execution_count": 22,
   "metadata": {},
   "outputs": [
    {
     "name": "stdout",
     "output_type": "stream",
     "text": [
      " The longest sentence is of length: 8889\n"
     ]
    },
    {
     "data": {
      "text/plain": [
       "Int64Index([5493, 15570], dtype='int64')"
      ]
     },
     "execution_count": 22,
     "metadata": {},
     "output_type": "execute_result"
    }
   ],
   "source": [
    "# find the max and min length of the sentence\n",
    "print(\" The longest sentence is of length:\", combined_df['sent_length'].max())\n",
    "\n",
    "# find the index of the row with longest sentence\n",
    "combined_df.index[combined_df['sent_length'] == 8889]"
   ]
  },
  {
   "cell_type": "code",
   "execution_count": 23,
   "metadata": {},
   "outputs": [
    {
     "data": {
      "text/plain": [
       "year                                                        1901\n",
       "state                                             NORTH CAROLINA\n",
       "sentence       that j. n. price, h. l. price, e. m. moore, l....\n",
       "jim_crow                                                       0\n",
       "sent_length                                                 1115\n",
       "Name: 5298, dtype: object"
      ]
     },
     "execution_count": 23,
     "metadata": {},
     "output_type": "execute_result"
    }
   ],
   "source": [
    "combined_df.iloc[5298,:]"
   ]
  },
  {
   "cell_type": "code",
   "execution_count": 24,
   "metadata": {},
   "outputs": [
    {
     "data": {
      "text/plain": [
       "<matplotlib.axes._subplots.AxesSubplot at 0x2aab40520450>"
      ]
     },
     "execution_count": 24,
     "metadata": {},
     "output_type": "execute_result"
    },
    {
     "data": {
      "image/png": "[encoded data removed]",
      "text/plain": [
       "<Figure size 864x576 with 1 Axes>"
      ]
     },
     "metadata": {
      "needs_background": "light"
     },
     "output_type": "display_data"
    }
   ],
   "source": [
    "\n",
    "fig, ax = plt.subplots(1,1, figsize=(12,8))\n",
    "# Histogram for the sentence length\n",
    "sns.histplot(data=df, x=combined_df['sent_length'], bins = 100, ax=ax)\n"
   ]
  },
  {
   "cell_type": "code",
   "execution_count": 25,
   "metadata": {},
   "outputs": [
    {
     "name": "stdout",
     "output_type": "stream",
     "text": [
      "       year           state                    sentence  jim_crow  sent_length\n",
      "58     1907  SOUTH CAROLINA    provided, further, that.         0           24\n",
      "73     1886  SOUTH CAROLINA      officers of the board.         0           22\n",
      "74     1886  SOUTH CAROLINA                   meetings.         0            9\n",
      "76     1886  SOUTH CAROLINA           local school tax.         0           17\n",
      "79     1886  SOUTH CAROLINA  and protected by his bond.         0           26\n",
      "...     ...             ...                         ...       ...          ...\n",
      "18113  1939  NORTH CAROLINA         purpose of the act.         0           20\n",
      "18115  1939  NORTH CAROLINA              appropriation.         0           14\n",
      "18154  1899  NORTH CAROLINA                           :         0            1\n",
      "18215  1907  NORTH CAROLINA                           q         0            1\n",
      "18219  1905  NORTH CAROLINA       manner of assessment.         0           21\n",
      "\n",
      "[681 rows x 5 columns]\n",
      "       year           state                sentence  jim_crow  sent_length\n",
      "11138  1952  SOUTH CAROLINA  negro county agent 72.         1           22\n",
      "      year           state                    sentence  jim_crow  sent_length\n",
      "69    1886  SOUTH CAROLINA              area and name.         2           14\n",
      "3665  1896  SOUTH CAROLINA  county board of education.         2           26\n"
     ]
    }
   ],
   "source": [
    "# find the rows whose sentence length is less than 27 words\n",
    "combined_df_27char = combined_df[combined_df['sent_length'] < 27]\n",
    "combined_df_27char.to_csv(\"combined_df_27char.csv\")\n",
    "\n",
    "# Find the number of sentences with labels \"0\", \"1\", and \"2\" in the dataframe with less than 27 charcters\n",
    "df0 = combined_df_27char[combined_df_27char['jim_crow'] == 0]\n",
    "df1 = combined_df_27char[combined_df_27char['jim_crow'] == 1]\n",
    "df2 = combined_df_27char[combined_df_27char['jim_crow'] == 2]\n",
    "print(df0)\n",
    "print(df1)\n",
    "print(df2)"
   ]
  },
  {
   "cell_type": "markdown",
   "metadata": {},
   "source": [
    "- The number of sentences less than 25 characters are 463 and they are all labeled as 0 except one (labeled 2). So, we can delete all senetences whose length are less than 25.\n",
    "- The number of sentences less than 27 characters are 684 and they are all labeled as 0 except three (one labeled 1, two lableled 2). Since we do not want to delete any sentence coded as 1, we will delete all sentences less than 22 characters."
   ]
  },
  {
   "cell_type": "markdown",
   "metadata": {},
   "source": [
    "#### Remove all the sentences with < 22 characters. Create dataset with >= 22 characaters"
   ]
  },
  {
   "cell_type": "code",
   "execution_count": 26,
   "metadata": {},
   "outputs": [
    {
     "name": "stdout",
     "output_type": "stream",
     "text": [
      " Number of rows in the reduced dataset: 23041\n"
     ]
    }
   ],
   "source": [
    "# Remove all the sentences whose length is <= characters\n",
    "df_updated = combined_df[combined_df['sent_length'] >= 22]\n",
    "print(\" Number of rows in the reduced dataset:\", len(df_updated))"
   ]
  },
  {
   "cell_type": "code",
   "execution_count": 27,
   "metadata": {},
   "outputs": [
    {
     "data": {
      "text/plain": [
       "year            int64\n",
       "state          object\n",
       "sentence       object\n",
       "jim_crow        int64\n",
       "sent_length     int64\n",
       "dtype: object"
      ]
     },
     "execution_count": 27,
     "metadata": {},
     "output_type": "execute_result"
    }
   ],
   "source": [
    "# find the data type of reduced dataframe columns\n",
    "df_updated.dtypes"
   ]
  },
  {
   "cell_type": "code",
   "execution_count": 28,
   "metadata": {},
   "outputs": [
    {
     "name": "stdout",
     "output_type": "stream",
     "text": [
      "Number of sentences that are NOT jim crow = 18056\n",
      "Number of jim crow sentences = 4318\n",
      "Number of undecided sentences = 667\n"
     ]
    }
   ],
   "source": [
    "# Find the number of sentences with labels \"0\", \"1\", and \"2\"\n",
    "df_0 = df_updated[df_updated['jim_crow'] == 0]\n",
    "df_1 = df_updated[df_updated['jim_crow'] == 1]\n",
    "df_2 = df_updated[df_updated['jim_crow'] == 2]\n",
    "\n",
    "print(\"Number of sentences that are NOT jim crow =\", len(df_0))\n",
    "print(\"Number of jim crow sentences =\", len(df_1))\n",
    "print(\"Number of undecided sentences =\", len(df_2))"
   ]
  },
  {
   "cell_type": "code",
   "execution_count": 29,
   "metadata": {},
   "outputs": [
    {
     "data": {
      "text/plain": [
       "year            int64\n",
       "state          object\n",
       "sentence       object\n",
       "jim_crow        int64\n",
       "sent_length     int64\n",
       "dtype: object"
      ]
     },
     "execution_count": 29,
     "metadata": {},
     "output_type": "execute_result"
    }
   ],
   "source": [
    "df_updated.dtypes"
   ]
  },
  {
   "cell_type": "code",
   "execution_count": 30,
   "metadata": {
    "tags": []
   },
   "outputs": [
    {
     "data": {
      "text/plain": [
       "<matplotlib.axes._subplots.AxesSubplot at 0x2aab409dc550>"
      ]
     },
     "execution_count": 30,
     "metadata": {},
     "output_type": "execute_result"
    },
    {
     "data": {
      "image/png": "[encoded data removed]",
      "text/plain": [
       "<Figure size 432x288 with 1 Axes>"
      ]
     },
     "metadata": {
      "needs_background": "light"
     },
     "output_type": "display_data"
    }
   ],
   "source": [
    "from seaborn import countplot\n",
    "\n",
    "# Plot the distribution of the target (=1 that is jim_crow)\n",
    "countplot(x=df_updated['jim_crow'])"
   ]
  },
  {
   "cell_type": "code",
   "execution_count": 31,
   "metadata": {
    "tags": []
   },
   "outputs": [
    {
     "data": {
      "text/plain": [
       "0"
      ]
     },
     "execution_count": 31,
     "metadata": {},
     "output_type": "execute_result"
    }
   ],
   "source": [
    "# Check for missing values\n",
    "df_updated.isnull().sum().sum()"
   ]
  },
  {
   "cell_type": "code",
   "execution_count": 32,
   "metadata": {},
   "outputs": [
    {
     "data": {
      "text/html": [
       "<div>\n",
       "<style scoped>\n",
       "    .dataframe tbody tr th:only-of-type {\n",
       "        vertical-align: middle;\n",
       "    }\n",
       "\n",
       "    .dataframe tbody tr th {\n",
       "        vertical-align: top;\n",
       "    }\n",
       "\n",
       "    .dataframe thead th {\n",
       "        text-align: right;\n",
       "    }\n",
       "</style>\n",
       "<table border=\"1\" class=\"dataframe\">\n",
       "  <thead>\n",
       "    <tr style=\"text-align: right;\">\n",
       "      <th></th>\n",
       "      <th>year</th>\n",
       "      <th>state</th>\n",
       "      <th>sentence</th>\n",
       "      <th>jim_crow</th>\n",
       "      <th>sent_length</th>\n",
       "    </tr>\n",
       "  </thead>\n",
       "  <tbody>\n",
       "  </tbody>\n",
       "</table>\n",
       "</div>"
      ],
      "text/plain": [
       "Empty DataFrame\n",
       "Columns: [year, state, sentence, jim_crow, sent_length]\n",
       "Index: []"
      ]
     },
     "execution_count": 32,
     "metadata": {},
     "output_type": "execute_result"
    }
   ],
   "source": [
    "df_0 = df_updated[df_updated['jim_crow'] == 9]\n",
    "df_0"
   ]
  },
  {
   "cell_type": "markdown",
   "metadata": {},
   "source": [
    "#### Check for duplicate rows "
   ]
  },
  {
   "cell_type": "code",
   "execution_count": 46,
   "metadata": {},
   "outputs": [
    {
     "name": "stdout",
     "output_type": "stream",
     "text": [
      "5127\n"
     ]
    }
   ],
   "source": [
    "#find duplicate rows...returns True or False\n",
    "duplicate_rows = df_updated.duplicated()\n",
    "\n",
    "#count of duplicate rows -- True implies the row is duplicated\n",
    "truth_count = duplicate_rows.value_counts()\n",
    "print(truth_count[True])"
   ]
  },
  {
   "cell_type": "code",
   "execution_count": 48,
   "metadata": {},
   "outputs": [],
   "source": [
    "# save the duplicated rows in csv file\n",
    "duplicated_data = df_updated[df_updated.duplicated(keep=False)]\n",
    "duplicated_data.to_csv('duplicate_data.csv')"
   ]
  },
  {
   "cell_type": "code",
   "execution_count": 52,
   "metadata": {},
   "outputs": [],
   "source": [
    "# drop duplicate data(rows)\n",
    "df_no_duplicate = df_updated.drop_duplicates() "
   ]
  },
  {
   "cell_type": "code",
   "execution_count": 57,
   "metadata": {},
   "outputs": [
    {
     "name": "stdout",
     "output_type": "stream",
     "text": [
      "17914\n",
      "Count of sentences labelled 0 14345\n",
      "Count of sentences labelled 1 2908\n",
      "Count of sentences labelled 2 661\n"
     ]
    }
   ],
   "source": [
    "# count the length of the clean data, number of 0's and 1's there\n",
    "print(len(df_no_duplicate))\n",
    "print('Count of sentences labelled 0',len(df_no_duplicate[df_no_duplicate['jim_crow'] == 0]))\n",
    "print('Count of sentences labelled 1', len(df_no_duplicate[df_no_duplicate['jim_crow'] == 1]))\n",
    "print('Count of sentences labelled 2', len(df_no_duplicate[df_no_duplicate['jim_crow'] == 2]))"
   ]
  },
  {
   "cell_type": "code",
   "execution_count": null,
   "metadata": {},
   "outputs": [],
   "source": []
  },
  {
   "cell_type": "markdown",
   "metadata": {},
   "source": [
    "#### Removing stopwords from the sentences"
   ]
  },
  {
   "cell_type": "code",
   "execution_count": 58,
   "metadata": {},
   "outputs": [],
   "source": [
    "stopWords = stopwords.words(\"english\")\n",
    "\n",
    "# Define a function to remove stop words from a sentence \n",
    "def remove_stop_words(sentence): \n",
    "  # Split the sentence into individual words \n",
    "    words = sentence.split() \n",
    "  \n",
    "  # Use a list comprehension to remove stop words \n",
    "    filtered_words = [word for word in words if word not in stopWords] \n",
    "  \n",
    "  # Join the filtered words back into a sentence \n",
    "    return ' '.join(filtered_words)"
   ]
  },
  {
   "cell_type": "code",
   "execution_count": 59,
   "metadata": {},
   "outputs": [
    {
     "data": {
      "text/plain": [
       "0        shall duty county treasurer report monthly, fi...\n",
       "1        moneys disbursed county treasurer account scho...\n",
       "2        county treasurer shall make forward state supe...\n",
       "3        county treasurer shall carry forward sums hand...\n",
       "4        shall unlawful county treasurer, county audito...\n",
       "                               ...                        \n",
       "23474    behalf general welfare city winston, good orde...\n",
       "23475    clerk commissioners, first monday november lis...\n",
       "23476    township school trustees shall divide respecti...\n",
       "23477    shall consult convenience necessities race set...\n",
       "23478    treasurer wilkes county hereby authorized pay ...\n",
       "Name: sentence, Length: 17914, dtype: object"
      ]
     },
     "execution_count": 59,
     "metadata": {},
     "output_type": "execute_result"
    }
   ],
   "source": [
    "# Remove stopwords from the 'sentence' column of the dataframe\n",
    "p=[]\n",
    "for i in df_no_duplicate['sentence']:\n",
    "    p.append(remove_stop_words(i))\n",
    "df_no_duplicate['sentence']=p\n",
    "df_no_duplicate['sentence']"
   ]
  },
  {
   "cell_type": "markdown",
   "metadata": {},
   "source": [
    "### Split the data into 'features' and 'target' for machine learning "
   ]
  },
  {
   "cell_type": "code",
   "execution_count": 61,
   "metadata": {
    "tags": []
   },
   "outputs": [],
   "source": [
    "# Split data\n",
    "features = df_no_duplicate[['year', 'sentence']]\n",
    "target = df_no_duplicate['jim_crow']"
   ]
  },
  {
   "cell_type": "code",
   "execution_count": 62,
   "metadata": {
    "tags": []
   },
   "outputs": [
    {
     "name": "stdout",
     "output_type": "stream",
     "text": [
      "(17914, 2) (17914,)\n"
     ]
    }
   ],
   "source": [
    "print(features.shape, target.shape)"
   ]
  },
  {
   "cell_type": "code",
   "execution_count": 63,
   "metadata": {
    "tags": []
   },
   "outputs": [
    {
     "data": {
      "text/html": [
       "<div>\n",
       "<style scoped>\n",
       "    .dataframe tbody tr th:only-of-type {\n",
       "        vertical-align: middle;\n",
       "    }\n",
       "\n",
       "    .dataframe tbody tr th {\n",
       "        vertical-align: top;\n",
       "    }\n",
       "\n",
       "    .dataframe thead th {\n",
       "        text-align: right;\n",
       "    }\n",
       "</style>\n",
       "<table border=\"1\" class=\"dataframe\">\n",
       "  <thead>\n",
       "    <tr style=\"text-align: right;\">\n",
       "      <th></th>\n",
       "      <th>year</th>\n",
       "      <th>sentence</th>\n",
       "    </tr>\n",
       "  </thead>\n",
       "  <tbody>\n",
       "    <tr>\n",
       "      <th>0</th>\n",
       "      <td>1896</td>\n",
       "      <td>shall duty county treasurer report monthly, fi...</td>\n",
       "    </tr>\n",
       "    <tr>\n",
       "      <th>1</th>\n",
       "      <td>1896</td>\n",
       "      <td>moneys disbursed county treasurer account scho...</td>\n",
       "    </tr>\n",
       "    <tr>\n",
       "      <th>2</th>\n",
       "      <td>1896</td>\n",
       "      <td>county treasurer shall make forward state supe...</td>\n",
       "    </tr>\n",
       "    <tr>\n",
       "      <th>3</th>\n",
       "      <td>1896</td>\n",
       "      <td>county treasurer shall carry forward sums hand...</td>\n",
       "    </tr>\n",
       "    <tr>\n",
       "      <th>4</th>\n",
       "      <td>1896</td>\n",
       "      <td>shall unlawful county treasurer, county audito...</td>\n",
       "    </tr>\n",
       "    <tr>\n",
       "      <th>...</th>\n",
       "      <td>...</td>\n",
       "      <td>...</td>\n",
       "    </tr>\n",
       "    <tr>\n",
       "      <th>23474</th>\n",
       "      <td>1909</td>\n",
       "      <td>behalf general welfare city winston, good orde...</td>\n",
       "    </tr>\n",
       "    <tr>\n",
       "      <th>23475</th>\n",
       "      <td>1895</td>\n",
       "      <td>clerk commissioners, first monday november lis...</td>\n",
       "    </tr>\n",
       "    <tr>\n",
       "      <th>23476</th>\n",
       "      <td>1899</td>\n",
       "      <td>township school trustees shall divide respecti...</td>\n",
       "    </tr>\n",
       "    <tr>\n",
       "      <th>23477</th>\n",
       "      <td>1899</td>\n",
       "      <td>shall consult convenience necessities race set...</td>\n",
       "    </tr>\n",
       "    <tr>\n",
       "      <th>23478</th>\n",
       "      <td>1901</td>\n",
       "      <td>treasurer wilkes county hereby authorized pay ...</td>\n",
       "    </tr>\n",
       "  </tbody>\n",
       "</table>\n",
       "<p>17914 rows × 2 columns</p>\n",
       "</div>"
      ],
      "text/plain": [
       "       year                                           sentence\n",
       "0      1896  shall duty county treasurer report monthly, fi...\n",
       "1      1896  moneys disbursed county treasurer account scho...\n",
       "2      1896  county treasurer shall make forward state supe...\n",
       "3      1896  county treasurer shall carry forward sums hand...\n",
       "4      1896  shall unlawful county treasurer, county audito...\n",
       "...     ...                                                ...\n",
       "23474  1909  behalf general welfare city winston, good orde...\n",
       "23475  1895  clerk commissioners, first monday november lis...\n",
       "23476  1899  township school trustees shall divide respecti...\n",
       "23477  1899  shall consult convenience necessities race set...\n",
       "23478  1901  treasurer wilkes county hereby authorized pay ...\n",
       "\n",
       "[17914 rows x 2 columns]"
      ]
     },
     "execution_count": 63,
     "metadata": {},
     "output_type": "execute_result"
    }
   ],
   "source": [
    "features"
   ]
  },
  {
   "cell_type": "markdown",
   "metadata": {},
   "source": [
    "### Machine Learning: XGBoost "
   ]
  },
  {
   "cell_type": "markdown",
   "metadata": {},
   "source": [
    "- Splitting test and training set in 20|80 ratio\n",
    "- Using default values of the parameter\n",
    "- Training and test set contains mixed of NC and SC sentences\n",
    "- Resample training data using imblearn SMOTEN as the dataset is very imbalanced - using SMOTEN because our dataset is purely categorical (https://imbalanced-learn.org/stable/references/generated/imblearn.over_sampling.SMOTEN.html#imblearn.over_sampling.SMOTEN)"
   ]
  },
  {
   "cell_type": "code",
   "execution_count": 64,
   "metadata": {
    "tags": []
   },
   "outputs": [],
   "source": [
    "# Randomly split X and y into training (80%) and test(20%) sets\n",
    "\n",
    "X_train, X_test, y_train, y_test = train_test_split(features, target, \n",
    "                                                    test_size = 0.2, \n",
    "                                                    random_state = 13)"
   ]
  },
  {
   "cell_type": "code",
   "execution_count": 65,
   "metadata": {},
   "outputs": [
    {
     "name": "stdout",
     "output_type": "stream",
     "text": [
      "......TRAINING SET....\n",
      " Size of X_train is:  (14331, 2)\n",
      " Size of y_train is:  (14331,)\n",
      "......TEST SET....\n",
      " Size of X_test is:  (3583, 2)\n",
      " Size of y_test is:  (3583,)\n"
     ]
    }
   ],
   "source": [
    "print(\"......TRAINING SET....\")\n",
    "print(\" Size of X_train is: \", X_train.shape)\n",
    "print(\" Size of y_train is: \", y_train.shape)\n",
    "print(\"......TEST SET....\")\n",
    "print(\" Size of X_test is: \", X_test.shape)\n",
    "print(\" Size of y_test is: \", y_test.shape)\n"
   ]
  },
  {
   "cell_type": "markdown",
   "metadata": {},
   "source": [
    "#### Count of 0,1,2 in training set BEFORE resampling using SMOTEN"
   ]
  },
  {
   "cell_type": "code",
   "execution_count": 66,
   "metadata": {},
   "outputs": [
    {
     "data": {
      "text/plain": [
       "array([[    0, 11464],\n",
       "       [    1,  2330],\n",
       "       [    2,   537]])"
      ]
     },
     "execution_count": 66,
     "metadata": {},
     "output_type": "execute_result"
    }
   ],
   "source": [
    "# Counting 0,1,2 in y_train \n",
    "np.array(np.unique(y_train, return_counts=True)).T"
   ]
  },
  {
   "cell_type": "code",
   "execution_count": 67,
   "metadata": {},
   "outputs": [
    {
     "data": {
      "text/plain": [
       "year         int64\n",
       "sentence    object\n",
       "dtype: object"
      ]
     },
     "execution_count": 67,
     "metadata": {},
     "output_type": "execute_result"
    }
   ],
   "source": [
    "X_train.dtypes"
   ]
  },
  {
   "cell_type": "markdown",
   "metadata": {},
   "source": [
    "#### Resample the data using SMOTEN"
   ]
  },
  {
   "cell_type": "code",
   "execution_count": 68,
   "metadata": {},
   "outputs": [
    {
     "data": {
      "text/plain": [
       "34392"
      ]
     },
     "execution_count": 68,
     "metadata": {},
     "output_type": "execute_result"
    }
   ],
   "source": [
    "sm = SMOTEN(random_state=13)\n",
    "X_train, y_train = sm.fit_resample(X_train, np.array(y_train))\n",
    "len(X_train)"
   ]
  },
  {
   "cell_type": "markdown",
   "metadata": {},
   "source": [
    "#### Count of 0,1,2 in training set AFTER resampling using SMOTEN"
   ]
  },
  {
   "cell_type": "code",
   "execution_count": 69,
   "metadata": {},
   "outputs": [
    {
     "data": {
      "text/plain": [
       "array([[    0, 11464],\n",
       "       [    1, 11464],\n",
       "       [    2, 11464]])"
      ]
     },
     "execution_count": 69,
     "metadata": {},
     "output_type": "execute_result"
    }
   ],
   "source": [
    "# count of 0,1,2 after using SMOTEN\n",
    "np.array(np.unique(y_train, return_counts=True)).T"
   ]
  },
  {
   "cell_type": "markdown",
   "metadata": {},
   "source": [
    "### Create pipeline for the analysis"
   ]
  },
  {
   "cell_type": "code",
   "execution_count": 70,
   "metadata": {},
   "outputs": [],
   "source": [
    "class SelectColumnsTransformer(BaseEstimator, TransformerMixin):\n",
    "    def __init__(self, columns=None):\n",
    "        self.columns = columns\n",
    "    def transform(self, X, **transform_params):\n",
    "        out = X[self.columns].copy()\n",
    "        return out\n",
    "    def fit(self, X, y=None, **fit_params):\n",
    "        return self"
   ]
  },
  {
   "cell_type": "markdown",
   "metadata": {
    "tags": []
   },
   "source": [
    "##### Bayesian Hyperparameter search with HyperOpt"
   ]
  },
  {
   "cell_type": "code",
   "execution_count": 71,
   "metadata": {},
   "outputs": [],
   "source": [
    "pipeline = Pipeline([\n",
    "\n",
    "        ('features', FeatureUnion([\n",
    "\n",
    "            # Extract features\n",
    "            ('text_pipeline', Pipeline([\n",
    "                ('get_text', SelectColumnsTransformer(\"sentence\")),\n",
    "                ('vect', CountVectorizer(decode_error = \"ignore\",\n",
    "                      min_df = 2, max_df = 0.8)),\n",
    "                ('tfidf', 'passthrough'),\n",
    "            ])),\n",
    "#             ('text_len', Pipeline([\n",
    "#                 ('get_text', SelectColumnsTransformer(\"sentence\")),\n",
    "#                 ('length', LengthExtractor())\n",
    "#             ])),\n",
    "            ('metadata', SelectColumnsTransformer(['year']))\n",
    "        ])),\n",
    "        ('dlf',XGBClassifier(tree_method=\"hist\"))\n",
    "])"
   ]
  },
  {
   "cell_type": "code",
   "execution_count": 72,
   "metadata": {
    "scrolled": true,
    "tags": []
   },
   "outputs": [
    {
     "name": "stdout",
     "output_type": "stream",
     "text": [
      "100%|██████████| 100/100 [18:58<00:00, 11.38s/trial, best loss: 0.039574482791014276]\n"
     ]
    }
   ],
   "source": [
    "def objective(params):\n",
    "    params['features__text_pipeline__vect__min_df'] = int(params['features__text_pipeline__vect__min_df'])\n",
    "    params['dlf__max_depth'] = int(params['dlf__max_depth'])\n",
    "    params['dlf__min_child_weight'] = int(params['dlf__min_child_weight'])\n",
    "    params['dlf__scale_pos_weight'] = int(params['dlf__scale_pos_weight'])\n",
    "    pipeline.set_params(**params)\n",
    "    \n",
    "    score = 1-cross_val_score(pipeline, X_train, y_train, scoring=make_scorer(f1_score, average=\"weighted\"),\n",
    "                              n_jobs=-1).mean()\n",
    "    #print(\"F1 {:.4f} params {}\".format((1-score), params))\n",
    "    return score\n",
    "\n",
    "space = {\n",
    "    'features__text_pipeline__vect__min_df': hp.quniform ('features__text_pipeline__vect__min_df',2,20,1),\n",
    "    'features__text_pipeline__vect__lowercase': hp.choice('features__text_pipeline__vect__lowercase',[True,False]),\n",
    "    'features__text_pipeline__vect__ngram_range': hp.choice('features__text_pipeline__vect__ngram_range',[(1,1),(1,2),(1,3),(1,4)]),\n",
    "    'features__text_pipeline__vect__max_df': hp.uniform('features__text_pipeline__vect__max_df',0.6,0.8),\n",
    "#     'features__text_len':hp.choice('features__text_len',[Pipeline([\n",
    "#             ('get_text', SelectColumnsTransformer(\"sentence\")),\n",
    "#             ('length', LengthExtractor())\n",
    "#         ])]),\n",
    "    'dlf__max_depth': hp.quniform('dlf__max_depth', 2, 10, 1),\n",
    "    'dlf__min_child_weight': hp.quniform('dlf__min_child_weight', 1, 5, 1),\n",
    "    'dlf__colsample_bytree': hp.uniform('dlf__colsample_bytree', 0.3, 1.0),\n",
    "    'dlf__learning_rate': hp.uniform('dlf__learning_rate', 0.05, 1),\n",
    "    'dlf__scale_pos_weight': hp.quniform('dlf__scale_pos_weight',1,8,1),\n",
    "    'dlf__gamma': hp.uniform('dlf__gamma',0,2)\n",
    "    \n",
    "}\n",
    "\n",
    "trials = Trials()\n",
    "best = fmin(fn=objective,\n",
    "            space=space,\n",
    "            algo=tpe.suggest,\n",
    "            max_evals=100, #actual fit was run with 1000 evals\n",
    "           trials=trials)"
   ]
  },
  {
   "cell_type": "code",
   "execution_count": 73,
   "metadata": {
    "tags": []
   },
   "outputs": [],
   "source": [
    "model_params = space_eval(space, best)\n",
    "model_params['features__text_pipeline__vect__min_df'] = int(model_params['features__text_pipeline__vect__min_df'])\n",
    "model_params['dlf__max_depth'] = int(model_params['dlf__max_depth'])\n",
    "model_params['dlf__min_child_weight'] = int(model_params['dlf__min_child_weight'])\n",
    "# model_params['dlf__scale_pos_weight'] = int(model_params['dlf__scale_pos_weight'])"
   ]
  },
  {
   "cell_type": "code",
   "execution_count": 74,
   "metadata": {
    "tags": []
   },
   "outputs": [
    {
     "data": {
      "text/plain": [
       "{'dlf__colsample_bytree': 0.4582322269971355,\n",
       " 'dlf__gamma': 1.207848863216088,\n",
       " 'dlf__learning_rate': 0.12394149171874647,\n",
       " 'dlf__max_depth': 8,\n",
       " 'dlf__min_child_weight': 1,\n",
       " 'dlf__scale_pos_weight': 7.0,\n",
       " 'features__text_pipeline__vect__lowercase': True,\n",
       " 'features__text_pipeline__vect__max_df': 0.6010106391459717,\n",
       " 'features__text_pipeline__vect__min_df': 2,\n",
       " 'features__text_pipeline__vect__ngram_range': (1, 1)}"
      ]
     },
     "execution_count": 74,
     "metadata": {},
     "output_type": "execute_result"
    }
   ],
   "source": [
    "model_params"
   ]
  },
  {
   "cell_type": "code",
   "execution_count": 75,
   "metadata": {
    "tags": []
   },
   "outputs": [
    {
     "name": "stdout",
     "output_type": "stream",
     "text": [
      "[20:24:57] WARNING: ../src/learner.cc:627: \n",
      "Parameters: { \"scale_pos_weight\" } might not be used.\n",
      "\n",
      "  This could be a false alarm, with some parameters getting used by language bindings but\n",
      "  then being mistakenly passed down to XGBoost core, or some parameter actually being used\n",
      "  but getting flagged wrongly here. Please open an issue if you find any such cases.\n",
      "\n",
      "\n"
     ]
    },
    {
     "data": {
      "text/plain": [
       "Pipeline(steps=[('features',\n",
       "                 FeatureUnion(transformer_list=[('text_pipeline',\n",
       "                                                 Pipeline(steps=[('get_text',\n",
       "                                                                  SelectColumnsTransformer(columns='sentence')),\n",
       "                                                                 ('vect',\n",
       "                                                                  CountVectorizer(decode_error='ignore',\n",
       "                                                                                  max_df=0.6010106391459717,\n",
       "                                                                                  min_df=2)),\n",
       "                                                                 ('tfidf',\n",
       "                                                                  'passthrough')])),\n",
       "                                                ('metadata',\n",
       "                                                 SelectColumnsTransformer(columns=['year']))])),\n",
       "                ('dlf',\n",
       "                 XGBClassifier(base_score...\n",
       "                               grow_policy='depthwise', importance_type=None,\n",
       "                               interaction_constraints='',\n",
       "                               learning_rate=0.12394149171874647, max_bin=256,\n",
       "                               max_cat_to_onehot=4, max_delta_step=0,\n",
       "                               max_depth=8, max_leaves=0, min_child_weight=1,\n",
       "                               missing=nan, monotone_constraints='()',\n",
       "                               n_estimators=100, n_jobs=0, num_parallel_tree=1,\n",
       "                               objective='multi:softprob', predictor='auto',\n",
       "                               random_state=0, reg_alpha=0, ...))])"
      ]
     },
     "execution_count": 75,
     "metadata": {},
     "output_type": "execute_result"
    }
   ],
   "source": [
    "best_model = pipeline\n",
    "best_model.set_params(**model_params)\n",
    "best_model.fit(X_train,y_train)\n"
   ]
  },
  {
   "cell_type": "markdown",
   "metadata": {},
   "source": [
    "#### Design confusion matrix"
   ]
  },
  {
   "cell_type": "code",
   "execution_count": 76,
   "metadata": {},
   "outputs": [
    {
     "data": {
      "text/plain": [
       "[Text(0.5, 1, 'Overall')]"
      ]
     },
     "execution_count": 76,
     "metadata": {},
     "output_type": "execute_result"
    },
    {
     "data": {
      "image/png": "[encoded data removed]",
      "text/plain": [
       "<Figure size 432x288 with 2 Axes>"
      ]
     },
     "metadata": {},
     "output_type": "display_data"
    }
   ],
   "source": [
    "#predict the labels of test data \n",
    "y_pred = best_model.predict(X_test)\n",
    "\n",
    "# count the number of labels\n",
    "labels = np.unique(y_pred)\n",
    "\n",
    "data = confusion_matrix(y_test, y_pred)\n",
    "df_cm = pd.DataFrame(data, columns=np.unique(y_test), index = np.unique(y_test))\n",
    "df_cm.index.name = 'Actual'\n",
    "df_cm.columns.name = 'Predicted'\n",
    "\n",
    "# use sns.heatmap on top of confusion_matrix to show the confusion matrix\n",
    "sns.set(font_scale=1.4)\n",
    "ax = sns.heatmap(df_cm,xticklabels=True, annot=True, fmt='.0f', center=0.8, cmap='crest', linewidth=.5)\n",
    "ax.set(title=\"Overall\")"
   ]
  },
  {
   "cell_type": "code",
   "execution_count": 77,
   "metadata": {},
   "outputs": [
    {
     "name": "stdout",
     "output_type": "stream",
     "text": [
      "              precision    recall  f1-score   support\n",
      "\n",
      "           0       0.94      0.99      0.96      2881\n",
      "           1       0.92      0.83      0.87       578\n",
      "           2       0.50      0.12      0.19       124\n",
      "\n",
      "    accuracy                           0.93      3583\n",
      "   macro avg       0.79      0.65      0.68      3583\n",
      "weighted avg       0.92      0.93      0.92      3583\n",
      "\n"
     ]
    }
   ],
   "source": [
    "print(classification_report(y_test, y_pred))"
   ]
  },
  {
   "cell_type": "code",
   "execution_count": null,
   "metadata": {},
   "outputs": [],
   "source": []
  }
 ],
 "metadata": {
  "kernelspec": {
   "display_name": "Python 3",
   "language": "python",
   "name": "python3"
  },
  "language_info": {
   "codemirror_mode": {
    "name": "ipython",
    "version": 3
   },
   "file_extension": ".py",
   "mimetype": "text/x-python",
   "name": "python",
   "nbconvert_exporter": "python",
   "pygments_lexer": "ipython3",
   "version": "3.7.6"
  }
 },
 "nbformat": 4,
 "nbformat_minor": 5
}
