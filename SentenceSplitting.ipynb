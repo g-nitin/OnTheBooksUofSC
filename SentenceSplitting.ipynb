{
 "cells": [
  {
   "cell_type": "markdown",
   "id": "2409e4ce-2e4f-4029-ae7c-842dfa3294a8",
   "metadata": {},
   "source": [
    "# Sentence Tokenization"
   ]
  },
  {
   "cell_type": "markdown",
   "id": "6261971e-eaad-4191-a8f9-279c31471815",
   "metadata": {},
   "source": [
    "<b>Note:</b>\n",
    "- If the Acts and Joints were mixed for the chosen year, the OCRed output will contain `{year}_Both.txt` and `{year}_Both_data.tsv`\n",
    "- If the Acts and Joints were seperate for the chosen year, the OCRed output will contain `{year}_Acts.txt` and `{year}_Acts_data.tsv`"
   ]
  },
  {
   "cell_type": "code",
   "execution_count": 1,
   "id": "42ce678b-a95e-48af-b86f-f96be48a238c",
   "metadata": {},
   "outputs": [],
   "source": [
    "from nltk.tokenize import PunktSentenceTokenizer\n",
    "import pandas as pd\n",
    "import matplotlib.pyplot as plt\n",
    "import os\n",
    "import numpy as np\n",
    "import re\n",
    "\n",
    "pd.set_option('display.max_colwidth', None)"
   ]
  },
  {
   "cell_type": "code",
   "execution_count": 2,
   "id": "a2e9c007-5fac-45e9-b614-dfd84d993d0a",
   "metadata": {},
   "outputs": [],
   "source": [
    "year = 1901"
   ]
  },
  {
   "cell_type": "code",
   "execution_count": 3,
   "id": "b55b1c4b-ad16-4478-90ac-7be1b3b8aa99",
   "metadata": {
    "scrolled": true,
    "tags": []
   },
   "outputs": [],
   "source": [
    "direc = \"../OCRed/\" + str(year)\n",
    "\n",
    "try:\n",
    "    acts_path = direc + \"/\" + str(year) + \"_Acts.txt\"\n",
    "    with open(acts_path, 'r') as f:\n",
    "        data = f.read()\n",
    "\n",
    "    actsSep = True  # A flag to identify if the acts and joints are seperate or if they are joined\n",
    "\n",
    "# If the directory contains {year}_Both.txt instead\n",
    "except FileNotFoundError:\n",
    "    acts_path = direc + \"/\" + str(year) + \"_Both.txt\"\n",
    "    with open(acts_path, 'r') as f:\n",
    "        data = f.read()\n",
    "    \n",
    "    actsSep = False\n",
    "\n",
    "# This variable holds all the OCRed text as a String\n",
    "# data"
   ]
  },
  {
   "cell_type": "code",
   "execution_count": 4,
   "id": "d9839aca-b497-4efe-9d19-855a2df045d0",
   "metadata": {},
   "outputs": [
    {
     "name": "stdout",
     "output_type": "stream",
     "text": [
      "The number of pages OCRed for 1901 is: 258\n"
     ]
    }
   ],
   "source": [
    "print(\"The number of pages OCRed for {year} is: {count}\".format(year = year, count = (data.count(\"\\n\\n\")+1)))"
   ]
  },
  {
   "cell_type": "markdown",
   "id": "ba46f133-3523-4079-9bbf-b19400f1c3cf",
   "metadata": {},
   "source": [
    "## Training the tokenizer\n",
    "Based on this [article](https://subscription.packtpub.com/book/application-development/9781782167853/1/ch01lvl1sec12/training-a-sentence-tokenizer),\n",
    "- NLTK's default sentence tokenizer is general purpose and usually works quite well. But sometimes it might not be the best choice for our text if it uses nonstandard punctuation or is formatted in a unique way. In such cases, training your own sentence tokenizer can result in much more accurate sentence tokenization.\n",
    "- The `PunktSentenceTokenizer` class uses an unsupervised learning algorithm to learn what constitutes a sentence break.\n",
    "    - The specific technique used in this case is called sentence boundary detection. It works by counting punctuation and tokens that commonly end a sentence, such as a period or a newline, then using the resulting frequencies to decide the sentence boundaries."
   ]
  },
  {
   "cell_type": "code",
   "execution_count": 5,
   "id": "084e787f-ba8d-4f47-a8e0-5b2d3b7cc708",
   "metadata": {
    "scrolled": true,
    "tags": []
   },
   "outputs": [],
   "source": [
    "sent_tokenizer = PunktSentenceTokenizer(data)\n",
    "sentences = sent_tokenizer.tokenize(data)\n",
    "\n",
    "# A List of tokens/sentences as seperated by nltk's PunktSentenceTokenizer\n",
    "# sentences"
   ]
  },
  {
   "cell_type": "markdown",
   "id": "771a408d-8d8e-4dd9-8d3d-1ad62e1dead1",
   "metadata": {},
   "source": [
    "## Creating the dataframe with the sentences and chracter lengths"
   ]
  },
  {
   "cell_type": "code",
   "execution_count": 6,
   "id": "991c17c5-5ad3-4371-8380-6728bee2863d",
   "metadata": {},
   "outputs": [],
   "source": [
    "# Add to a new DataFrame\n",
    "df = pd.DataFrame()\n",
    "df[\"sentence\"] = sentences"
   ]
  },
  {
   "cell_type": "code",
   "execution_count": 7,
   "id": "4d5e4176-aa1b-42b2-af4b-2bc2167be841",
   "metadata": {},
   "outputs": [
    {
     "name": "stdout",
     "output_type": "stream",
     "text": [
      "Length of the initial dataframe: 1864 \n",
      "This is the number of tokenized sentences.\n"
     ]
    }
   ],
   "source": [
    "df[\"length\"] = [len(sentence) for sentence in sentences]\n",
    "print(\"Length of the initial dataframe:\", df.shape[0], \"\\nThis is the number of tokenized sentences.\")"
   ]
  },
  {
   "cell_type": "markdown",
   "id": "1cb28216-d4fb-4409-bfbf-403d1c3e2727",
   "metadata": {
    "tags": []
   },
   "source": [
    "## Adding page file names\n",
    "- Add an identifier that specifies which page number that sentence starts on.\n",
    "- Reading only Acts. <b> Not reading Joints </b>\n",
    "- The reason to read the files from the directory is to ensure that missing file pages are not missed in the dataframe."
   ]
  },
  {
   "cell_type": "code",
   "execution_count": 8,
   "id": "8716cafc-aefb-4920-ac01-e5cc88c4250c",
   "metadata": {},
   "outputs": [
    {
     "name": "stdout",
     "output_type": "stream",
     "text": [
      "The number of image files for this year is: 270\n"
     ]
    }
   ],
   "source": [
    "imgs_path = direc + \"/images\"\n",
    "\n",
    "imgs = os.listdir(imgs_path)\n",
    "imgs = [img for img in imgs if \"jpg\" in img or \"tiff\" in img or \"JPG\" in img or \"TIFF\" in img]\n",
    "imgs.sort()\n",
    "print(\"The number of image files for this year is:\", len(imgs))"
   ]
  },
  {
   "cell_type": "code",
   "execution_count": 9,
   "id": "2f3f7dc7-9d14-43db-af56-c1c644b1b882",
   "metadata": {
    "tags": []
   },
   "outputs": [
    {
     "name": "stdout",
     "output_type": "stream",
     "text": [
      "The files are of type: .jpg\n"
     ]
    }
   ],
   "source": [
    "fileType = imgs[0].split(\".\")\n",
    "fileType = fileType[1]\n",
    "print(f\"The files are of type: .{fileType}\")"
   ]
  },
  {
   "cell_type": "code",
   "execution_count": 13,
   "id": "1f9ed736-fffa-4c51-863a-ad181411e1fb",
   "metadata": {},
   "outputs": [],
   "source": [
    "def addPrefix(fileName: str, nameLen: int) -> str:\n",
    "    '''\n",
    "    Since the fileNames from the excel parsing could be any of any length\n",
    "    (ranging from 1-3), this function appends a string of 0's to the \n",
    "    start of the input so that it is 5 lengths long.\n",
    "    \n",
    "    Parameters\n",
    "    ----------\n",
    "    fileName : str\n",
    "        The file name that needs to be prefixed\n",
    "    nameLen : int\n",
    "        The length of the expected name of the file\n",
    "        Ex. '00034.jpg' would have length of 5\n",
    "\n",
    "    Returns\n",
    "    -------\n",
    "    str\n",
    "        A length 5 file name (prefixed with 0's)\n",
    "    '''\n",
    "    \n",
    "    # Remove the file type\n",
    "    name = fileName.split(\".\")[0]\n",
    "\n",
    "    prefix_length = nameLen - len(name)\n",
    "    prefix = \"0\" * prefix_length\n",
    "    \n",
    "    final_string = prefix + fileName\n",
    "    return final_string"
   ]
  },
  {
   "cell_type": "markdown",
   "id": "4b5e5e24-f88f-4eb9-b1df-60d1c522f2d0",
   "metadata": {},
   "source": [
    "The imgs list, right now, contains both Acts and Joints.\n",
    "<br>So, partition the imgs list so that it contains only Acts."
   ]
  },
  {
   "cell_type": "code",
   "execution_count": 17,
   "id": "d11b263a-3bac-464d-af43-8aaa02f5d2d6",
   "metadata": {
    "tags": []
   },
   "outputs": [
    {
     "name": "stdout",
     "output_type": "stream",
     "text": [
      "The first page file name for the acts is 00035.jpg\n",
      "The last page file name for the acts is 00292.jpg\n"
     ]
    }
   ],
   "source": [
    "# Get the chracter length of the image file\n",
    "nameLen = len(imgs[0].split(\".\")[0])\n",
    "\n",
    "# Read in CopyofImageCorpusMetadata.xlsx to a pandas frame\n",
    "# The file needs to be in THE SAME direcotry as this file.\n",
    "corpusMetaPath = \"./Copy of ImageCorpusMetadata.xlsx\"\n",
    "corpusMeta = pd.read_excel(corpusMetaPath)\n",
    "\n",
    "corpusMeta = corpusMeta[corpusMeta[\"year\"] == year]  # Only the row for this year\n",
    "\n",
    "# Read the value in the \"Acts Start Page File Name\" column for the year.\n",
    "ActsFirstPage = str(int(corpusMeta[\"Acts Start Page File Name\"])) + \".\" + fileType\n",
    "ActsFirstPage = addPrefix(ActsFirstPage, nameLen)\n",
    "print(\"The first page file name for the acts is\", ActsFirstPage)\n",
    "\n",
    "# Read the value in the \"Acts Last Page File Name\" column for the year.\n",
    "ActsLastPage = str(int(corpusMeta[\"Acts Last Page File Name\"])) + \".\" + fileType\n",
    "ActsLastPage = addPrefix(ActsLastPage, nameLen)\n",
    "print(\"The last page file name for the acts is\", ActsLastPage)\n",
    "\n",
    "# Split the imgs list on the values\n",
    "ActsFirstPage_indx = imgs.index(ActsFirstPage)\n",
    "ActsLastPage_indx = imgs.index(ActsLastPage)\n",
    "imgs = imgs[ActsFirstPage_indx:ActsLastPage_indx+1]"
   ]
  },
  {
   "cell_type": "markdown",
   "id": "b480de28-8596-4633-b69d-65794a527cd6",
   "metadata": {},
   "source": [
    "<br>"
   ]
  },
  {
   "cell_type": "markdown",
   "id": "d592e372-ec44-43ee-8d46-0780fd9c9626",
   "metadata": {},
   "source": [
    "<b>Note:</b>\n",
    "- The OCR text seperates new pages by adding \"\\n\\n\".\n",
    "- However, most likely, the total number of pages does not equal the total count of \"\\n\\n\" in the text as the OCR does not add \"\\n\\n\" after every page.\n",
    "- This can be demonstrated by the code cell below:"
   ]
  },
  {
   "cell_type": "code",
   "execution_count": 18,
   "id": "44519998-4fa8-45ed-86ec-db135dae5cf3",
   "metadata": {},
   "outputs": [
    {
     "name": "stdout",
     "output_type": "stream",
     "text": [
      "Total number of pages: 258\n",
      "The total count for '\\n\\n' is 209\n"
     ]
    }
   ],
   "source": [
    "print(f\"Total number of pages: {ActsLastPage_indx+1 - ActsFirstPage_indx}\")\n",
    "\n",
    "# Find the total count for \"\\n\\n\"\n",
    "count = 0\n",
    "for i in range(0, df.shape[0]):\n",
    "\n",
    "    if \"\\n\\n\" in df.iloc[i]['sentence']:\n",
    "        count += 1\n",
    "\n",
    "print(f\"The total count for '\\\\n\\\\n' is {count}\")"
   ]
  },
  {
   "cell_type": "markdown",
   "id": "22a6ada8-190d-43d3-9646-72daacaf147d",
   "metadata": {},
   "source": [
    "<br>\n",
    "This can be further demonstrated by adding a page identifier in the dataframe which corresponds to the start page of the sentence."
   ]
  },
  {
   "cell_type": "code",
   "execution_count": 19,
   "id": "e0598b66-236a-4dea-936a-4ca40aa46d6e",
   "metadata": {
    "scrolled": true,
    "tags": []
   },
   "outputs": [],
   "source": [
    "# Have a list of images, which are basically new page identifiers\n",
    "# A list of tokenized sentences\n",
    "# Some tokenized sentences will correspond to the same image\n",
    "\n",
    "# Create a list for the page numbers\n",
    "# A new page starts when \"\\n\\n\" appears in the sentences\n",
    "\n",
    "df['page'] = np.nan\n",
    "\n",
    "# Track the index for the imgs list. \n",
    "imgs_trk = 0\n",
    "\n",
    "for i in range(0, df.shape[0]):\n",
    "\n",
    "    if \"\\n\\n\" in df.iloc[i]['sentence'] and i != 0:\n",
    "        df.at[i, 'page'] = imgs[imgs_trk]\n",
    "\n",
    "        # if this is the first iteration, then don't increment\n",
    "        # the list tracker as the first sentence always \"\\n\\n\"\n",
    "        if i != 0:\n",
    "            imgs_trk += 1\n",
    "\n",
    "    else:\n",
    "        df.at[i, 'page'] = imgs[imgs_trk]"
   ]
  },
  {
   "cell_type": "markdown",
   "id": "ab2ee8a4-4928-4fc3-8cfc-b79a54d6a20a",
   "metadata": {},
   "source": [
    "By checking the end with of the table with `df.tail()`, we see that the last page values do not correspond with the last page file name for the acts."
   ]
  },
  {
   "cell_type": "code",
   "execution_count": 20,
   "id": "22253dd9-b33c-4b29-a893-ec1587a9dbf8",
   "metadata": {},
   "outputs": [
    {
     "data": {
      "text/html": [
       "<div>\n",
       "<style scoped>\n",
       "    .dataframe tbody tr th:only-of-type {\n",
       "        vertical-align: middle;\n",
       "    }\n",
       "\n",
       "    .dataframe tbody tr th {\n",
       "        vertical-align: top;\n",
       "    }\n",
       "\n",
       "    .dataframe thead th {\n",
       "        text-align: right;\n",
       "    }\n",
       "</style>\n",
       "<table border=\"1\" class=\"dataframe\">\n",
       "  <thead>\n",
       "    <tr style=\"text-align: right;\">\n",
       "      <th></th>\n",
       "      <th>sentence</th>\n",
       "      <th>length</th>\n",
       "      <th>page</th>\n",
       "    </tr>\n",
       "  </thead>\n",
       "  <tbody>\n",
       "    <tr>\n",
       "      <th>1859</th>\n",
       "      <td>SECTION 1. Be it enacted by the General Assembly of the State of South Carolina: That the County Board of Commis- sioners of Cherokee County be, and they are hereby, authorized, if in their discretion they deem that it is for the best interest of said County, to borrow a sum of money from the Sinking Fund of the State of South Carolina, not to exceed ten thousand dol- lars, at a rate of interest not to exceed five per centum per an- num, for the purpose of building a bridge across Broad River, in said County, at such point on said river as they may deem most practicable, and a special tax of one-half mill on the dollar may be levied on all taxable property in the County of Chero- kee, provided the Board of Commissioners so decide to build said bridge, for the said period of seven years, for the purpose of repaying said loan.</td>\n",
       "      <td>836</td>\n",
       "      <td>00243.jpg</td>\n",
       "    </tr>\n",
       "    <tr>\n",
       "      <th>1860</th>\n",
       "      <td>That the proceeds of said levy of one- half mill shall be paid each year on said loan until the seventh year, in which year the balance remaining due on said loan shall be paid from said special levy, if any remain it shall-be turned into the County Treasury for ordinary County purposes, and if a’sufficient sum has not been realized by said special levy at the expiration of said seven years the deficiency shall be paid by the County Board of Commissioners out of the ordinary County funds.</td>\n",
       "      <td>493</td>\n",
       "      <td>00243.jpg</td>\n",
       "    </tr>\n",
       "    <tr>\n",
       "      <th>1861</th>\n",
       "      <td>Sec. 2.</td>\n",
       "      <td>7</td>\n",
       "      <td>00243.jpg</td>\n",
       "    </tr>\n",
       "    <tr>\n",
       "      <th>1862</th>\n",
       "      <td>That the Commissioners of the Sinking Fund of the State of South Carolina are hereby authorized to lend to the County Board of Commissioners of Cherokee County out of the funds in their hands, the sum of ten thousand dollars, to be used for building said bridge, said sum to be secured by the special levy as herein provided for in Section one.</td>\n",
       "      <td>344</td>\n",
       "      <td>00243.jpg</td>\n",
       "    </tr>\n",
       "    <tr>\n",
       "      <th>1863</th>\n",
       "      <td>Approved the 2oth day of February, A. D. 1goI.</td>\n",
       "      <td>46</td>\n",
       "      <td>00243.jpg</td>\n",
       "    </tr>\n",
       "  </tbody>\n",
       "</table>\n",
       "</div>"
      ],
      "text/plain": [
       "                                                                                                                                                                                                                                                                                                                                                                                                                                                                                                                                                                                                                                                                                                                                                                                                                                                                  sentence  \\\n",
       "1859  SECTION 1. Be it enacted by the General Assembly of the State of South Carolina: That the County Board of Commis- sioners of Cherokee County be, and they are hereby, authorized, if in their discretion they deem that it is for the best interest of said County, to borrow a sum of money from the Sinking Fund of the State of South Carolina, not to exceed ten thousand dol- lars, at a rate of interest not to exceed five per centum per an- num, for the purpose of building a bridge across Broad River, in said County, at such point on said river as they may deem most practicable, and a special tax of one-half mill on the dollar may be levied on all taxable property in the County of Chero- kee, provided the Board of Commissioners so decide to build said bridge, for the said period of seven years, for the purpose of repaying said loan.   \n",
       "1860                                                                                                                                                                                                                                                                                                                                                         That the proceeds of said levy of one- half mill shall be paid each year on said loan until the seventh year, in which year the balance remaining due on said loan shall be paid from said special levy, if any remain it shall-be turned into the County Treasury for ordinary County purposes, and if a’sufficient sum has not been realized by said special levy at the expiration of said seven years the deficiency shall be paid by the County Board of Commissioners out of the ordinary County funds.   \n",
       "1861                                                                                                                                                                                                                                                                                                                                                                                                                                                                                                                                                                                                                                                                                                                                                                                                                                                               Sec. 2.   \n",
       "1862                                                                                                                                                                                                                                                                                                                                                                                                                                                                                                              That the Commissioners of the Sinking Fund of the State of South Carolina are hereby authorized to lend to the County Board of Commissioners of Cherokee County out of the funds in their hands, the sum of ten thousand dollars, to be used for building said bridge, said sum to be secured by the special levy as herein provided for in Section one.   \n",
       "1863                                                                                                                                                                                                                                                                                                                                                                                                                                                                                                                                                                                                                                                                                                                                                                                                                        Approved the 2oth day of February, A. D. 1goI.   \n",
       "\n",
       "      length       page  \n",
       "1859     836  00243.jpg  \n",
       "1860     493  00243.jpg  \n",
       "1861       7  00243.jpg  \n",
       "1862     344  00243.jpg  \n",
       "1863      46  00243.jpg  "
      ]
     },
     "execution_count": 20,
     "metadata": {},
     "output_type": "execute_result"
    }
   ],
   "source": [
    "df.tail()"
   ]
  },
  {
   "cell_type": "markdown",
   "id": "dded26a4-c2f9-48a4-861b-57a6a0cbac92",
   "metadata": {},
   "source": [
    "<br>"
   ]
  },
  {
   "cell_type": "markdown",
   "id": "29bdd684-e6ee-477a-860e-d69eda73a975",
   "metadata": {},
   "source": [
    "One way to eliminate this issue is by utilizing the `{year}_Both_data.tsv` (if acts and joints mixed) or `{year}_Acts_data.tsv` (if acts and joints seperated) file from the OCR output.\n",
    "<br>This file contains each word (in the 2nd last column) and the filename for that word (last column)."
   ]
  },
  {
   "cell_type": "code",
   "execution_count": 21,
   "id": "eb9b0292-77f3-40c7-9df5-fc5572944b7d",
   "metadata": {},
   "outputs": [
    {
     "data": {
      "text/html": [
       "<div>\n",
       "<style scoped>\n",
       "    .dataframe tbody tr th:only-of-type {\n",
       "        vertical-align: middle;\n",
       "    }\n",
       "\n",
       "    .dataframe tbody tr th {\n",
       "        vertical-align: top;\n",
       "    }\n",
       "\n",
       "    .dataframe thead th {\n",
       "        text-align: right;\n",
       "    }\n",
       "</style>\n",
       "<table border=\"1\" class=\"dataframe\">\n",
       "  <thead>\n",
       "    <tr style=\"text-align: right;\">\n",
       "      <th></th>\n",
       "      <th>left</th>\n",
       "      <th>top</th>\n",
       "      <th>width</th>\n",
       "      <th>height</th>\n",
       "      <th>conf</th>\n",
       "      <th>text</th>\n",
       "      <th>name</th>\n",
       "    </tr>\n",
       "  </thead>\n",
       "  <tbody>\n",
       "    <tr>\n",
       "      <th>0</th>\n",
       "      <td>0</td>\n",
       "      <td>0</td>\n",
       "      <td>1592</td>\n",
       "      <td>2536</td>\n",
       "      <td>-1.000000</td>\n",
       "      <td>NaN</td>\n",
       "      <td>00035.jpg</td>\n",
       "    </tr>\n",
       "    <tr>\n",
       "      <th>1</th>\n",
       "      <td>728</td>\n",
       "      <td>283</td>\n",
       "      <td>60</td>\n",
       "      <td>144</td>\n",
       "      <td>-1.000000</td>\n",
       "      <td>NaN</td>\n",
       "      <td>00035.jpg</td>\n",
       "    </tr>\n",
       "    <tr>\n",
       "      <th>2</th>\n",
       "      <td>728</td>\n",
       "      <td>257</td>\n",
       "      <td>180</td>\n",
       "      <td>170</td>\n",
       "      <td>-1.000000</td>\n",
       "      <td>NaN</td>\n",
       "      <td>00035.jpg</td>\n",
       "    </tr>\n",
       "    <tr>\n",
       "      <th>3</th>\n",
       "      <td>728</td>\n",
       "      <td>283</td>\n",
       "      <td>60</td>\n",
       "      <td>144</td>\n",
       "      <td>-1.000000</td>\n",
       "      <td>NaN</td>\n",
       "      <td>00035.jpg</td>\n",
       "    </tr>\n",
       "    <tr>\n",
       "      <th>4</th>\n",
       "      <td>728</td>\n",
       "      <td>283</td>\n",
       "      <td>60</td>\n",
       "      <td>144</td>\n",
       "      <td>34.161140</td>\n",
       "      <td>IK</td>\n",
       "      <td>00035.jpg</td>\n",
       "    </tr>\n",
       "    <tr>\n",
       "      <th>...</th>\n",
       "      <td>...</td>\n",
       "      <td>...</td>\n",
       "      <td>...</td>\n",
       "      <td>...</td>\n",
       "      <td>...</td>\n",
       "      <td>...</td>\n",
       "      <td>...</td>\n",
       "    </tr>\n",
       "    <tr>\n",
       "      <th>127981</th>\n",
       "      <td>682</td>\n",
       "      <td>1851</td>\n",
       "      <td>38</td>\n",
       "      <td>31</td>\n",
       "      <td>95.772659</td>\n",
       "      <td>of</td>\n",
       "      <td>00292.jpg</td>\n",
       "    </tr>\n",
       "    <tr>\n",
       "      <th>127982</th>\n",
       "      <td>735</td>\n",
       "      <td>1851</td>\n",
       "      <td>174</td>\n",
       "      <td>39</td>\n",
       "      <td>96.576187</td>\n",
       "      <td>February,</td>\n",
       "      <td>00292.jpg</td>\n",
       "    </tr>\n",
       "    <tr>\n",
       "      <th>127983</th>\n",
       "      <td>926</td>\n",
       "      <td>1851</td>\n",
       "      <td>40</td>\n",
       "      <td>31</td>\n",
       "      <td>92.059761</td>\n",
       "      <td>A.</td>\n",
       "      <td>00292.jpg</td>\n",
       "    </tr>\n",
       "    <tr>\n",
       "      <th>127984</th>\n",
       "      <td>984</td>\n",
       "      <td>1851</td>\n",
       "      <td>39</td>\n",
       "      <td>31</td>\n",
       "      <td>92.059761</td>\n",
       "      <td>D.</td>\n",
       "      <td>00292.jpg</td>\n",
       "    </tr>\n",
       "    <tr>\n",
       "      <th>127985</th>\n",
       "      <td>1043</td>\n",
       "      <td>1859</td>\n",
       "      <td>87</td>\n",
       "      <td>31</td>\n",
       "      <td>6.582840</td>\n",
       "      <td>1goI.</td>\n",
       "      <td>00292.jpg</td>\n",
       "    </tr>\n",
       "  </tbody>\n",
       "</table>\n",
       "<p>127986 rows × 7 columns</p>\n",
       "</div>"
      ],
      "text/plain": [
       "        left   top  width  height       conf       text       name\n",
       "0          0     0   1592    2536  -1.000000        NaN  00035.jpg\n",
       "1        728   283     60     144  -1.000000        NaN  00035.jpg\n",
       "2        728   257    180     170  -1.000000        NaN  00035.jpg\n",
       "3        728   283     60     144  -1.000000        NaN  00035.jpg\n",
       "4        728   283     60     144  34.161140         IK  00035.jpg\n",
       "...      ...   ...    ...     ...        ...        ...        ...\n",
       "127981   682  1851     38      31  95.772659         of  00292.jpg\n",
       "127982   735  1851    174      39  96.576187  February,  00292.jpg\n",
       "127983   926  1851     40      31  92.059761         A.  00292.jpg\n",
       "127984   984  1851     39      31  92.059761         D.  00292.jpg\n",
       "127985  1043  1859     87      31   6.582840      1goI.  00292.jpg\n",
       "\n",
       "[127986 rows x 7 columns]"
      ]
     },
     "execution_count": 21,
     "metadata": {},
     "output_type": "execute_result"
    }
   ],
   "source": [
    "if actsSep:\n",
    "    df_words = pd.read_table(f\"{direc}/{year}_Acts_data.tsv\")\n",
    "else:\n",
    "    df_words = pd.read_table(f\"{direc}/{year}_Both_data.tsv\")\n",
    "\n",
    "df_words"
   ]
  },
  {
   "cell_type": "markdown",
   "id": "9deaebfe-30b8-4078-9543-cf10059129ac",
   "metadata": {},
   "source": [
    "<br>\n",
    "So, to label the page numbers in the dataframe, we can go through the original dataframe and find the start and end words in each sentence.\n",
    "<br>We, can then find the page numbers for those words, from `df_words` and add them to the original dataframe, `df`."
   ]
  },
  {
   "cell_type": "markdown",
   "id": "a4b2021e-eb3e-43c7-9d26-c58ef4d99ed4",
   "metadata": {},
   "source": [
    "<br>To start, we need to clean the two dataframes."
   ]
  },
  {
   "cell_type": "code",
   "execution_count": 22,
   "id": "a5474d57-cba4-4a4b-8f69-832dbcdeb840",
   "metadata": {},
   "outputs": [],
   "source": [
    "# Drop the columns which are unessecary for our analysis\n",
    "df_words.drop(columns=[\"left\", \"top\", \"width\", \"height\", \"conf\"], inplace=True)\n",
    "\n",
    "# Drop the rows which don't contain a word in the \"text\" column\n",
    "df_words.dropna(inplace=True)\n",
    "\n",
    "# Relabel the \"name\" column to \"page\" column\n",
    "df_words.rename(columns={\"name\": \"page\"}, inplace=True)\n",
    "\n",
    "# Reassign index after dropping nas\n",
    "df_words = df_words.assign(row_number=range(len(df_words)))\n",
    "df_words.set_index('row_number', inplace=True)\n",
    "\n",
    "# Drop the 'page' column from the org dataframe\n",
    "df.drop(columns=['page'], inplace=True)\n",
    "\n",
    "# Add an empty 'start_page' and 'end_page' column\n",
    "df['start_page'] = np.nan\n",
    "df['end_page'] = np.nan"
   ]
  },
  {
   "cell_type": "markdown",
   "id": "e2fba37f-602b-4256-9d0e-e58ed172d65d",
   "metadata": {},
   "source": [
    "Since, a word can only exist on a single page, we can have unique identifiers for the start and end page for each sentence "
   ]
  },
  {
   "cell_type": "code",
   "execution_count": 23,
   "id": "c50f2d2a-938f-4e58-b055-a15eb8e65cef",
   "metadata": {
    "tags": []
   },
   "outputs": [],
   "source": [
    "# Tracker for df_words:\n",
    "words_trkr = 0\n",
    "\n",
    "# Loop over the original dataframe\n",
    "for i in range(0, df.shape[0]):\n",
    "    \n",
    "    # Remove \"\\n\\n\" from the original dataframe as they will interfere with the analysis\n",
    "    df.at[i, 'sentence'] = df.iloc[i]['sentence'].replace(\"\\n\\n\", \"\")\n",
    "\n",
    "    # For each sentence, extract the first and last word\n",
    "    tmp_sentence = df.iloc[i]['sentence'].split(\" \")\n",
    "    first, last = tmp_sentence[0], tmp_sentence[-1]\n",
    "\n",
    "    # Get the page number for the start and end word\n",
    "    first_page = df_words.iloc[words_trkr]['page']\n",
    "\n",
    "    try:\n",
    "        end_page = df_words.iloc[words_trkr + len(tmp_sentence)]['page']\n",
    "    except:\n",
    "        end_page = df_words.iloc[words_trkr]['page']\n",
    "    \n",
    "    # Assign the page number to their respective columns in the dataframe\n",
    "    df.at[i, 'start_page'] = first_page\n",
    "    df.at[i, 'end_page'] = end_page\n",
    "    \n",
    "    # Update tracker\n",
    "    words_trkr += len(tmp_sentence)"
   ]
  },
  {
   "cell_type": "code",
   "execution_count": 24,
   "id": "0f7e208f-775a-4233-9c3f-a8bc376f96b7",
   "metadata": {},
   "outputs": [
    {
     "data": {
      "text/html": [
       "<div>\n",
       "<style scoped>\n",
       "    .dataframe tbody tr th:only-of-type {\n",
       "        vertical-align: middle;\n",
       "    }\n",
       "\n",
       "    .dataframe tbody tr th {\n",
       "        vertical-align: top;\n",
       "    }\n",
       "\n",
       "    .dataframe thead th {\n",
       "        text-align: right;\n",
       "    }\n",
       "</style>\n",
       "<table border=\"1\" class=\"dataframe\">\n",
       "  <thead>\n",
       "    <tr style=\"text-align: right;\">\n",
       "      <th></th>\n",
       "      <th>sentence</th>\n",
       "      <th>length</th>\n",
       "      <th>start_page</th>\n",
       "      <th>end_page</th>\n",
       "    </tr>\n",
       "  </thead>\n",
       "  <tbody>\n",
       "    <tr>\n",
       "      <th>1854</th>\n",
       "      <td>Approved the 19th day of February, A. D. Igor. No.</td>\n",
       "      <td>50</td>\n",
       "      <td>00290.jpg</td>\n",
       "      <td>00290.jpg</td>\n",
       "    </tr>\n",
       "    <tr>\n",
       "      <th>1855</th>\n",
       "      <td>497. AN ACT to AvuTHOoRIZE AND EMPOWER Twin City Power CoMPANY, A CORPORATION OF THE STATE OF SOUTH CaRo- LINA TO CONSTRUCT A DAM OR DaMs ACROSS THE SAVAN- NAH RIVER TO THE GEORGIA STATE LINE, IN Sarp River, NEAR THE MOUTH OF DortTon’s CREEK AND SOUTHERN Enp or Price’s ISLAND, AND TO CONFER THE RIGHT OF EMINENT DOMAIN ON SAID COMPANY.</td>\n",
       "      <td>336</td>\n",
       "      <td>00290.jpg</td>\n",
       "      <td>00290.jpg</td>\n",
       "    </tr>\n",
       "    <tr>\n",
       "      <th>1856</th>\n",
       "      <td>Whereas Twin City Power Company has been duly organ- ized under the laws of the State of South Carolina for the pur- pose of developing electrical power by means of the construc- tion of a dam or dams across the Savannah River and for the erection and operation of certain industries in the charter of said Company mentioned and set forth and it is necessary to have the power and authority to construct a dam or dams across said River at or near the mouth of Dorton’s Creek and southern end of Price’s Island in the Savannah River for the collection of sufficient water to operate such machinery for manufacturing and other purposes ; And whereas, by the construction of said dam or dams it will raise the water in said river so as to affect and overflow.</td>\n",
       "      <td>758</td>\n",
       "      <td>00290.jpg</td>\n",
       "      <td>00291.jpg</td>\n",
       "    </tr>\n",
       "    <tr>\n",
       "      <th>1857</th>\n",
       "      <td>lands adjacent to said River; And whereas by the construction of said dam or dams the navigation of said River may be increased and the public in- terest promoted by the construction thereof for the purpose and for the sake of such improvement in the navigability of said River and for the public purposes to be ,fulfilled and encour- aged by the construction of said dam or dams and for the pur- pose of removing any doubt which may arise as to the power and authority of the Secretary of State in granting the charter to the said Twin City Power Company for the erection of said dam or dams to be built across the said River: Now, Section 1. Be it enacted by the General Assembly of the State of South Carolina: That the right, power and privilege to construct and maintain a dam or dams across the Savannah River, as hereinbefore mentioned, to Twin City Power Com- pany, its successors or assigns, shall be and is hereby fully au- thorized, ratified and confirmed; and that the said Twin City Power Company shall have all rights, powers and privileges conferred for the purpose of the acquisition and condemnation of land which may be overflowed by the erection or construction of said dam or dams as are conferred by Sections 1743-1755, in- clusive, of the Revised Statutes of South Carolina, 1893, upon railway, canal and turnpike companies in the State and all of the Acts amendatory thereof; it being the intention of this Act for the sake of the public purposes intended to be carried out by said company to confer upon it all the rights, privileges and authorities conferred by the laws of this State upon rail- way, canal and turnpike companies in the acquisition and con- demnation of property for rights of way or other interests in lands.</td>\n",
       "      <td>1751</td>\n",
       "      <td>00291.jpg</td>\n",
       "      <td>00291.jpg</td>\n",
       "    </tr>\n",
       "    <tr>\n",
       "      <th>1858</th>\n",
       "      <td>Approved the 2oth day of February, A. D. 1901 AN ACT To EMPOWER AND AUTHORIZE THE CouNnTY BoarD oF COMMISSIONERS OF CHEROKEE COUNTY TO BUILD A BRIDGE ACROSS BroAaD RIVER AND Borrow MONEY THERE- FOR FROM THE CoMMISSIONERS OF THE SINKING FUND.</td>\n",
       "      <td>243</td>\n",
       "      <td>00291.jpg</td>\n",
       "      <td>00292.jpg</td>\n",
       "    </tr>\n",
       "    <tr>\n",
       "      <th>1859</th>\n",
       "      <td>SECTION 1. Be it enacted by the General Assembly of the State of South Carolina: That the County Board of Commis- sioners of Cherokee County be, and they are hereby, authorized, if in their discretion they deem that it is for the best interest of said County, to borrow a sum of money from the Sinking Fund of the State of South Carolina, not to exceed ten thousand dol- lars, at a rate of interest not to exceed five per centum per an- num, for the purpose of building a bridge across Broad River, in said County, at such point on said river as they may deem most practicable, and a special tax of one-half mill on the dollar may be levied on all taxable property in the County of Chero- kee, provided the Board of Commissioners so decide to build said bridge, for the said period of seven years, for the purpose of repaying said loan.</td>\n",
       "      <td>836</td>\n",
       "      <td>00292.jpg</td>\n",
       "      <td>00292.jpg</td>\n",
       "    </tr>\n",
       "    <tr>\n",
       "      <th>1860</th>\n",
       "      <td>That the proceeds of said levy of one- half mill shall be paid each year on said loan until the seventh year, in which year the balance remaining due on said loan shall be paid from said special levy, if any remain it shall-be turned into the County Treasury for ordinary County purposes, and if a’sufficient sum has not been realized by said special levy at the expiration of said seven years the deficiency shall be paid by the County Board of Commissioners out of the ordinary County funds.</td>\n",
       "      <td>493</td>\n",
       "      <td>00292.jpg</td>\n",
       "      <td>00292.jpg</td>\n",
       "    </tr>\n",
       "    <tr>\n",
       "      <th>1861</th>\n",
       "      <td>Sec. 2.</td>\n",
       "      <td>7</td>\n",
       "      <td>00292.jpg</td>\n",
       "      <td>00292.jpg</td>\n",
       "    </tr>\n",
       "    <tr>\n",
       "      <th>1862</th>\n",
       "      <td>That the Commissioners of the Sinking Fund of the State of South Carolina are hereby authorized to lend to the County Board of Commissioners of Cherokee County out of the funds in their hands, the sum of ten thousand dollars, to be used for building said bridge, said sum to be secured by the special levy as herein provided for in Section one.</td>\n",
       "      <td>344</td>\n",
       "      <td>00292.jpg</td>\n",
       "      <td>00292.jpg</td>\n",
       "    </tr>\n",
       "    <tr>\n",
       "      <th>1863</th>\n",
       "      <td>Approved the 2oth day of February, A. D. 1goI.</td>\n",
       "      <td>46</td>\n",
       "      <td>00292.jpg</td>\n",
       "      <td>00292.jpg</td>\n",
       "    </tr>\n",
       "  </tbody>\n",
       "</table>\n",
       "</div>"
      ],
      "text/plain": [
       "                                                                                                                                                                                                                                                                                                                                                                                                                                                                                                                                                                                                                                                                                                                                                                                                                                                                                                                                                                                                                                                                                                                                                                                                                                                                                                                                                                                                                                                                                                                                                                                                                                                                                                                                                                                                                     sentence  \\\n",
       "1854                                                                                                                                                                                                                                                                                                                                                                                                                                                                                                                                                                                                                                                                                                                                                                                                                                                                                                                                                                                                                                                                                                                                                                                                                                                                                                                                                                                                                                                                                                                                                                                                                                                                                                                                                                       Approved the 19th day of February, A. D. Igor. No.   \n",
       "1855                                                                                                                                                                                                                                                                                                                                                                                                                                                                                                                                                                                                                                                                                                                                                                                                                                                                                                                                                                                                                                                                                                                                                                                                                                                                                                                                                                                                                                                                         497. AN ACT to AvuTHOoRIZE AND EMPOWER Twin City Power CoMPANY, A CORPORATION OF THE STATE OF SOUTH CaRo- LINA TO CONSTRUCT A DAM OR DaMs ACROSS THE SAVAN- NAH RIVER TO THE GEORGIA STATE LINE, IN Sarp River, NEAR THE MOUTH OF DortTon’s CREEK AND SOUTHERN Enp or Price’s ISLAND, AND TO CONFER THE RIGHT OF EMINENT DOMAIN ON SAID COMPANY.   \n",
       "1856                                                                                                                                                                                                                                                                                                                                                                                                                                                                                                                                                                                                                                                                                                                                                                                                                                                                                                                                                                                                                                     Whereas Twin City Power Company has been duly organ- ized under the laws of the State of South Carolina for the pur- pose of developing electrical power by means of the construc- tion of a dam or dams across the Savannah River and for the erection and operation of certain industries in the charter of said Company mentioned and set forth and it is necessary to have the power and authority to construct a dam or dams across said River at or near the mouth of Dorton’s Creek and southern end of Price’s Island in the Savannah River for the collection of sufficient water to operate such machinery for manufacturing and other purposes ; And whereas, by the construction of said dam or dams it will raise the water in said river so as to affect and overflow.   \n",
       "1857  lands adjacent to said River; And whereas by the construction of said dam or dams the navigation of said River may be increased and the public in- terest promoted by the construction thereof for the purpose and for the sake of such improvement in the navigability of said River and for the public purposes to be ,fulfilled and encour- aged by the construction of said dam or dams and for the pur- pose of removing any doubt which may arise as to the power and authority of the Secretary of State in granting the charter to the said Twin City Power Company for the erection of said dam or dams to be built across the said River: Now, Section 1. Be it enacted by the General Assembly of the State of South Carolina: That the right, power and privilege to construct and maintain a dam or dams across the Savannah River, as hereinbefore mentioned, to Twin City Power Com- pany, its successors or assigns, shall be and is hereby fully au- thorized, ratified and confirmed; and that the said Twin City Power Company shall have all rights, powers and privileges conferred for the purpose of the acquisition and condemnation of land which may be overflowed by the erection or construction of said dam or dams as are conferred by Sections 1743-1755, in- clusive, of the Revised Statutes of South Carolina, 1893, upon railway, canal and turnpike companies in the State and all of the Acts amendatory thereof; it being the intention of this Act for the sake of the public purposes intended to be carried out by said company to confer upon it all the rights, privileges and authorities conferred by the laws of this State upon rail- way, canal and turnpike companies in the acquisition and con- demnation of property for rights of way or other interests in lands.   \n",
       "1858                                                                                                                                                                                                                                                                                                                                                                                                                                                                                                                                                                                                                                                                                                                                                                                                                                                                                                                                                                                                                                                                                                                                                                                                                                                                                                                                                                                                                                                                                                                                                                        Approved the 2oth day of February, A. D. 1901 AN ACT To EMPOWER AND AUTHORIZE THE CouNnTY BoarD oF COMMISSIONERS OF CHEROKEE COUNTY TO BUILD A BRIDGE ACROSS BroAaD RIVER AND Borrow MONEY THERE- FOR FROM THE CoMMISSIONERS OF THE SINKING FUND.   \n",
       "1859                                                                                                                                                                                                                                                                                                                                                                                                                                                                                                                                                                                                                                                                                                                                                                                                                                                                                                                                                     SECTION 1. Be it enacted by the General Assembly of the State of South Carolina: That the County Board of Commis- sioners of Cherokee County be, and they are hereby, authorized, if in their discretion they deem that it is for the best interest of said County, to borrow a sum of money from the Sinking Fund of the State of South Carolina, not to exceed ten thousand dol- lars, at a rate of interest not to exceed five per centum per an- num, for the purpose of building a bridge across Broad River, in said County, at such point on said river as they may deem most practicable, and a special tax of one-half mill on the dollar may be levied on all taxable property in the County of Chero- kee, provided the Board of Commissioners so decide to build said bridge, for the said period of seven years, for the purpose of repaying said loan.   \n",
       "1860                                                                                                                                                                                                                                                                                                                                                                                                                                                                                                                                                                                                                                                                                                                                                                                                                                                                                                                                                                                                                                                                                                                                                                                                                                                                                                            That the proceeds of said levy of one- half mill shall be paid each year on said loan until the seventh year, in which year the balance remaining due on said loan shall be paid from said special levy, if any remain it shall-be turned into the County Treasury for ordinary County purposes, and if a’sufficient sum has not been realized by said special levy at the expiration of said seven years the deficiency shall be paid by the County Board of Commissioners out of the ordinary County funds.   \n",
       "1861                                                                                                                                                                                                                                                                                                                                                                                                                                                                                                                                                                                                                                                                                                                                                                                                                                                                                                                                                                                                                                                                                                                                                                                                                                                                                                                                                                                                                                                                                                                                                                                                                                                                                                                                                                                                                  Sec. 2.   \n",
       "1862                                                                                                                                                                                                                                                                                                                                                                                                                                                                                                                                                                                                                                                                                                                                                                                                                                                                                                                                                                                                                                                                                                                                                                                                                                                                                                                                                                                                                                                                 That the Commissioners of the Sinking Fund of the State of South Carolina are hereby authorized to lend to the County Board of Commissioners of Cherokee County out of the funds in their hands, the sum of ten thousand dollars, to be used for building said bridge, said sum to be secured by the special levy as herein provided for in Section one.   \n",
       "1863                                                                                                                                                                                                                                                                                                                                                                                                                                                                                                                                                                                                                                                                                                                                                                                                                                                                                                                                                                                                                                                                                                                                                                                                                                                                                                                                                                                                                                                                                                                                                                                                                                                                                                                                                                           Approved the 2oth day of February, A. D. 1goI.   \n",
       "\n",
       "      length start_page   end_page  \n",
       "1854      50  00290.jpg  00290.jpg  \n",
       "1855     336  00290.jpg  00290.jpg  \n",
       "1856     758  00290.jpg  00291.jpg  \n",
       "1857    1751  00291.jpg  00291.jpg  \n",
       "1858     243  00291.jpg  00292.jpg  \n",
       "1859     836  00292.jpg  00292.jpg  \n",
       "1860     493  00292.jpg  00292.jpg  \n",
       "1861       7  00292.jpg  00292.jpg  \n",
       "1862     344  00292.jpg  00292.jpg  \n",
       "1863      46  00292.jpg  00292.jpg  "
      ]
     },
     "execution_count": 24,
     "metadata": {},
     "output_type": "execute_result"
    }
   ],
   "source": [
    "df.tail(10)"
   ]
  },
  {
   "cell_type": "markdown",
   "id": "af059985-bf5d-41f9-b15c-bc0613b85405",
   "metadata": {
    "tags": []
   },
   "source": [
    "## Cleaning on Char. lenght\n",
    "Get rid of sentences with a low number of characters as they might not form meaningful sentences"
   ]
  },
  {
   "cell_type": "markdown",
   "id": "6cb162e6-5498-49ca-ba81-690fbb89d68f",
   "metadata": {},
   "source": [
    "However, first, get the statistics on the length column to avoid removing meaningful sentence"
   ]
  },
  {
   "cell_type": "code",
   "execution_count": 25,
   "id": "4adad633-bd47-4d6a-94fb-dd773211a987",
   "metadata": {},
   "outputs": [
    {
     "data": {
      "text/plain": [
       "count    1864.000000\n",
       "mean      295.813305\n",
       "std       375.065698\n",
       "min         1.000000\n",
       "25%        47.000000\n",
       "50%       188.000000\n",
       "75%       391.000000\n",
       "max      3650.000000\n",
       "Name: length, dtype: float64"
      ]
     },
     "execution_count": 25,
     "metadata": {},
     "output_type": "execute_result"
    }
   ],
   "source": [
    "# Get the statistics for the length column\n",
    "df[\"length\"].describe()"
   ]
  },
  {
   "cell_type": "code",
   "execution_count": 26,
   "id": "81aa067b-6286-47b3-aa2a-7929ae9676d4",
   "metadata": {},
   "outputs": [
    {
     "data": {
      "image/png": "[encoded data removed]",
      "text/plain": [
       "<Figure size 640x480 with 2 Axes>"
      ]
     },
     "metadata": {},
     "output_type": "display_data"
    }
   ],
   "source": [
    "# Plot a histogram for that column\n",
    "fig, axes = plt.subplots(1, 2)\n",
    "df.hist(column=\"length\", ax=axes[0])\n",
    "axes[0].set_title('Character lengths')\n",
    "axes[0].set(xlabel=\"Character length of the sentences\", ylabel=\"Frequency\")\n",
    "\n",
    "df.hist(column=\"length\", ax=axes[1])\n",
    "\n",
    "axes[1].set_title('Character lengths (zoomed)')\n",
    "axes[1].set(xlabel=\"Character length of the sentences\", ylabel=\"Frequency\", xlim = [0, 1000])\n",
    "fig.tight_layout()"
   ]
  },
  {
   "cell_type": "markdown",
   "id": "c78172d2-3e9a-4889-a842-429273fa05b0",
   "metadata": {},
   "source": [
    "Create a smaller dataframe, and export it to csv, that only contains the short length sentences.\n",
    "Check the csv and change the length condition accordingly."
   ]
  },
  {
   "cell_type": "code",
   "execution_count": 27,
   "id": "df695759-1e0d-4d5c-abfc-b81b5d4f02aa",
   "metadata": {},
   "outputs": [],
   "source": [
    "testing_df = df[df['length'] < 13]\n",
    "testing_df.to_csv(f\"{year}_len_testing.csv\")"
   ]
  },
  {
   "cell_type": "markdown",
   "id": "059bdce2-9ba6-430d-99e3-6ebf3c92705f",
   "metadata": {},
   "source": [
    "<br>\n",
    "Once, the length is decided, create a new dataframe with sentences greater that the length"
   ]
  },
  {
   "cell_type": "code",
   "execution_count": 28,
   "id": "05db1f3f-7454-4e23-819f-698c536bb277",
   "metadata": {},
   "outputs": [
    {
     "name": "stdout",
     "output_type": "stream",
     "text": [
      "Length of the cleaned dataframe:  1478\n",
      "Reduction of about 20.71%\n"
     ]
    }
   ],
   "source": [
    "df_cleaned = df[ df[\"length\"] > 13]\n",
    "print(\"Length of the cleaned dataframe: \", df_cleaned.shape[0])\n",
    "print(\"Reduction of about {:.2f}%\".format( (1 - df_cleaned.shape[0]/df.shape[0]) * 100))"
   ]
  },
  {
   "cell_type": "code",
   "execution_count": 29,
   "id": "51144099-ae02-4949-849c-48e5b271ba06",
   "metadata": {},
   "outputs": [
    {
     "data": {
      "text/html": [
       "<div>\n",
       "<style scoped>\n",
       "    .dataframe tbody tr th:only-of-type {\n",
       "        vertical-align: middle;\n",
       "    }\n",
       "\n",
       "    .dataframe tbody tr th {\n",
       "        vertical-align: top;\n",
       "    }\n",
       "\n",
       "    .dataframe thead th {\n",
       "        text-align: right;\n",
       "    }\n",
       "</style>\n",
       "<table border=\"1\" class=\"dataframe\">\n",
       "  <thead>\n",
       "    <tr style=\"text-align: right;\">\n",
       "      <th></th>\n",
       "      <th>sentence</th>\n",
       "      <th>length</th>\n",
       "      <th>start_page</th>\n",
       "      <th>end_page</th>\n",
       "    </tr>\n",
       "  </thead>\n",
       "  <tbody>\n",
       "    <tr>\n",
       "      <th>0</th>\n",
       "      <td>IK OF THE | GENERAL ASSEMBLY.</td>\n",
       "      <td>31</td>\n",
       "      <td>00035.jpg</td>\n",
       "      <td>00035.jpg</td>\n",
       "    </tr>\n",
       "    <tr>\n",
       "      <th>1</th>\n",
       "      <td>OF THE STATE OF SOUTH CAROLINA Passed at the Regular Session which was begun and held at the City of Co- lumbia on the Eighth Day of January, A. D. 1961 and was adjourned without day on the Sicteenth day of February, A. D. 1901.</td>\n",
       "      <td>228</td>\n",
       "      <td>00035.jpg</td>\n",
       "      <td>00035.jpg</td>\n",
       "    </tr>\n",
       "    <tr>\n",
       "      <th>2</th>\n",
       "      <td>M. B. McSweeney, Governor.</td>\n",
       "      <td>26</td>\n",
       "      <td>00035.jpg</td>\n",
       "      <td>00035.jpg</td>\n",
       "    </tr>\n",
       "    <tr>\n",
       "      <th>3</th>\n",
       "      <td>Jas. H. TittMan, Lieutenant- Governor and ex officio President of the Senate.</td>\n",
       "      <td>77</td>\n",
       "      <td>00035.jpg</td>\n",
       "      <td>00035.jpg</td>\n",
       "    </tr>\n",
       "    <tr>\n",
       "      <th>4</th>\n",
       "      <td>W. F STEVENSON, Speaker of the House of Representatives Rorert R. HEMPHILL, Clerk of the Senate.</td>\n",
       "      <td>96</td>\n",
       "      <td>00035.jpg</td>\n",
       "      <td>00035.jpg</td>\n",
       "    </tr>\n",
       "    <tr>\n",
       "      <th>...</th>\n",
       "      <td>...</td>\n",
       "      <td>...</td>\n",
       "      <td>...</td>\n",
       "      <td>...</td>\n",
       "    </tr>\n",
       "    <tr>\n",
       "      <th>1858</th>\n",
       "      <td>Approved the 2oth day of February, A. D. 1901 AN ACT To EMPOWER AND AUTHORIZE THE CouNnTY BoarD oF COMMISSIONERS OF CHEROKEE COUNTY TO BUILD A BRIDGE ACROSS BroAaD RIVER AND Borrow MONEY THERE- FOR FROM THE CoMMISSIONERS OF THE SINKING FUND.</td>\n",
       "      <td>243</td>\n",
       "      <td>00291.jpg</td>\n",
       "      <td>00292.jpg</td>\n",
       "    </tr>\n",
       "    <tr>\n",
       "      <th>1859</th>\n",
       "      <td>SECTION 1. Be it enacted by the General Assembly of the State of South Carolina: That the County Board of Commis- sioners of Cherokee County be, and they are hereby, authorized, if in their discretion they deem that it is for the best interest of said County, to borrow a sum of money from the Sinking Fund of the State of South Carolina, not to exceed ten thousand dol- lars, at a rate of interest not to exceed five per centum per an- num, for the purpose of building a bridge across Broad River, in said County, at such point on said river as they may deem most practicable, and a special tax of one-half mill on the dollar may be levied on all taxable property in the County of Chero- kee, provided the Board of Commissioners so decide to build said bridge, for the said period of seven years, for the purpose of repaying said loan.</td>\n",
       "      <td>836</td>\n",
       "      <td>00292.jpg</td>\n",
       "      <td>00292.jpg</td>\n",
       "    </tr>\n",
       "    <tr>\n",
       "      <th>1860</th>\n",
       "      <td>That the proceeds of said levy of one- half mill shall be paid each year on said loan until the seventh year, in which year the balance remaining due on said loan shall be paid from said special levy, if any remain it shall-be turned into the County Treasury for ordinary County purposes, and if a’sufficient sum has not been realized by said special levy at the expiration of said seven years the deficiency shall be paid by the County Board of Commissioners out of the ordinary County funds.</td>\n",
       "      <td>493</td>\n",
       "      <td>00292.jpg</td>\n",
       "      <td>00292.jpg</td>\n",
       "    </tr>\n",
       "    <tr>\n",
       "      <th>1862</th>\n",
       "      <td>That the Commissioners of the Sinking Fund of the State of South Carolina are hereby authorized to lend to the County Board of Commissioners of Cherokee County out of the funds in their hands, the sum of ten thousand dollars, to be used for building said bridge, said sum to be secured by the special levy as herein provided for in Section one.</td>\n",
       "      <td>344</td>\n",
       "      <td>00292.jpg</td>\n",
       "      <td>00292.jpg</td>\n",
       "    </tr>\n",
       "    <tr>\n",
       "      <th>1863</th>\n",
       "      <td>Approved the 2oth day of February, A. D. 1goI.</td>\n",
       "      <td>46</td>\n",
       "      <td>00292.jpg</td>\n",
       "      <td>00292.jpg</td>\n",
       "    </tr>\n",
       "  </tbody>\n",
       "</table>\n",
       "<p>1478 rows × 4 columns</p>\n",
       "</div>"
      ],
      "text/plain": [
       "                                                                                                                                                                                                                                                                                                                                                                                                                                                                                                                                                                                                                                                                                                                                                                                                                                                                  sentence  \\\n",
       "0                                                                                                                                                                                                                                                                                                                                                                                                                                                                                                                                                                                                                                                                                                                                                                                                                                            IK OF THE | GENERAL ASSEMBLY.   \n",
       "1                                                                                                                                                                                                                                                                                                                                                                                                                                                                                                                                                                                                                                     OF THE STATE OF SOUTH CAROLINA Passed at the Regular Session which was begun and held at the City of Co- lumbia on the Eighth Day of January, A. D. 1961 and was adjourned without day on the Sicteenth day of February, A. D. 1901.   \n",
       "2                                                                                                                                                                                                                                                                                                                                                                                                                                                                                                                                                                                                                                                                                                                                                                                                                                               M. B. McSweeney, Governor.   \n",
       "3                                                                                                                                                                                                                                                                                                                                                                                                                                                                                                                                                                                                                                                                                                                                                                                            Jas. H. TittMan, Lieutenant- Governor and ex officio President of the Senate.   \n",
       "4                                                                                                                                                                                                                                                                                                                                                                                                                                                                                                                                                                                                                                                                                                                                                                         W. F STEVENSON, Speaker of the House of Representatives Rorert R. HEMPHILL, Clerk of the Senate.   \n",
       "...                                                                                                                                                                                                                                                                                                                                                                                                                                                                                                                                                                                                                                                                                                                                                                                                                                                                    ...   \n",
       "1858                                                                                                                                                                                                                                                                                                                                                                                                                                                                                                                                                                                                                     Approved the 2oth day of February, A. D. 1901 AN ACT To EMPOWER AND AUTHORIZE THE CouNnTY BoarD oF COMMISSIONERS OF CHEROKEE COUNTY TO BUILD A BRIDGE ACROSS BroAaD RIVER AND Borrow MONEY THERE- FOR FROM THE CoMMISSIONERS OF THE SINKING FUND.   \n",
       "1859  SECTION 1. Be it enacted by the General Assembly of the State of South Carolina: That the County Board of Commis- sioners of Cherokee County be, and they are hereby, authorized, if in their discretion they deem that it is for the best interest of said County, to borrow a sum of money from the Sinking Fund of the State of South Carolina, not to exceed ten thousand dol- lars, at a rate of interest not to exceed five per centum per an- num, for the purpose of building a bridge across Broad River, in said County, at such point on said river as they may deem most practicable, and a special tax of one-half mill on the dollar may be levied on all taxable property in the County of Chero- kee, provided the Board of Commissioners so decide to build said bridge, for the said period of seven years, for the purpose of repaying said loan.   \n",
       "1860                                                                                                                                                                                                                                                                                                                                                         That the proceeds of said levy of one- half mill shall be paid each year on said loan until the seventh year, in which year the balance remaining due on said loan shall be paid from said special levy, if any remain it shall-be turned into the County Treasury for ordinary County purposes, and if a’sufficient sum has not been realized by said special levy at the expiration of said seven years the deficiency shall be paid by the County Board of Commissioners out of the ordinary County funds.   \n",
       "1862                                                                                                                                                                                                                                                                                                                                                                                                                                                                                                              That the Commissioners of the Sinking Fund of the State of South Carolina are hereby authorized to lend to the County Board of Commissioners of Cherokee County out of the funds in their hands, the sum of ten thousand dollars, to be used for building said bridge, said sum to be secured by the special levy as herein provided for in Section one.   \n",
       "1863                                                                                                                                                                                                                                                                                                                                                                                                                                                                                                                                                                                                                                                                                                                                                                                                                        Approved the 2oth day of February, A. D. 1goI.   \n",
       "\n",
       "      length start_page   end_page  \n",
       "0         31  00035.jpg  00035.jpg  \n",
       "1        228  00035.jpg  00035.jpg  \n",
       "2         26  00035.jpg  00035.jpg  \n",
       "3         77  00035.jpg  00035.jpg  \n",
       "4         96  00035.jpg  00035.jpg  \n",
       "...      ...        ...        ...  \n",
       "1858     243  00291.jpg  00292.jpg  \n",
       "1859     836  00292.jpg  00292.jpg  \n",
       "1860     493  00292.jpg  00292.jpg  \n",
       "1862     344  00292.jpg  00292.jpg  \n",
       "1863      46  00292.jpg  00292.jpg  \n",
       "\n",
       "[1478 rows x 4 columns]"
      ]
     },
     "execution_count": 29,
     "metadata": {},
     "output_type": "execute_result"
    }
   ],
   "source": [
    "df_cleaned"
   ]
  },
  {
   "cell_type": "code",
   "execution_count": 30,
   "id": "fbcac79e-856a-449e-bffb-c80e72d9fff7",
   "metadata": {},
   "outputs": [],
   "source": [
    "# Export the final dataframe to csv for viewing\n",
    "df_cleaned.to_csv(f\"{year}.csv\", index=False)"
   ]
  }
 ],
 "metadata": {
  "kernelspec": {
   "display_name": "Python 3 (ipykernel)",
   "language": "python",
   "name": "python3"
  },
  "language_info": {
   "codemirror_mode": {
    "name": "ipython",
    "version": 3
   },
   "file_extension": ".py",
   "mimetype": "text/x-python",
   "name": "python",
   "nbconvert_exporter": "python",
   "pygments_lexer": "ipython3",
   "version": "3.9.15"
  }
 },
 "nbformat": 4,
 "nbformat_minor": 5
}
