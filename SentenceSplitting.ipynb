{
 "cells": [
  {
   "cell_type": "markdown",
   "id": "2409e4ce-2e4f-4029-ae7c-842dfa3294a8",
   "metadata": {
    "jp-MarkdownHeadingCollapsed": true,
    "tags": []
   },
   "source": [
    "# Sentence Tokenization"
   ]
  },
  {
   "cell_type": "markdown",
   "id": "6261971e-eaad-4191-a8f9-279c31471815",
   "metadata": {},
   "source": [
    "<b>Note:</b>\n",
    "- If the Acts and Joints were mixed for the chosen year, the OCRed output will contain `{year}_Both.txt` and `{year}_Both_data.tsv`\n",
    "- If the Acts and Joints were seperate for the chosen year, the OCRed output will contain `{year}_Acts.txt` and `{year}_Acts_data.tsv`"
   ]
  },
  {
   "cell_type": "code",
   "execution_count": 1,
   "id": "42ce678b-a95e-48af-b86f-f96be48a238c",
   "metadata": {},
   "outputs": [],
   "source": [
    "from nltk.tokenize import PunktSentenceTokenizer\n",
    "import pandas as pd\n",
    "import matplotlib.pyplot as plt\n",
    "import os\n",
    "import numpy as np\n",
    "import re\n",
    "\n",
    "pd.set_option('display.max_colwidth', None)"
   ]
  },
  {
   "cell_type": "code",
   "execution_count": 2,
   "id": "a2e9c007-5fac-45e9-b614-dfd84d993d0a",
   "metadata": {},
   "outputs": [],
   "source": [
    "year = 1892"
   ]
  },
  {
   "cell_type": "code",
   "execution_count": 3,
   "id": "b55b1c4b-ad16-4478-90ac-7be1b3b8aa99",
   "metadata": {
    "scrolled": true,
    "tags": []
   },
   "outputs": [],
   "source": [
    "direc = \"../OCRed/\" + str(year)\n",
    "\n",
    "# Try reading in \"{year}_text.txt\" if the Acts and Joints were seperate for the year\n",
    "try:\n",
    "    acts_path = direc + \"/\" + str(year) + \"_Acts.txt\"\n",
    "    with open(acts_path, 'r') as f:\n",
    "        data = f.read()\n",
    "\n",
    "    # If the read is successful, set a flag that identifies that the Acts and Joints are seperate\n",
    "    actsSep = True\n",
    "\n",
    "# However, if the directory contains {year}_Both.txt instead, a FileNotFoundError will be returned for the above code.\n",
    "# So, catch that error and read in \"{year}_Both.txt\"\n",
    "except FileNotFoundError:\n",
    "    acts_path = direc + \"/\" + str(year) + \"_Both.txt\"\n",
    "    with open(acts_path, 'r') as f:\n",
    "        data = f.read()\n",
    "    \n",
    "    actsSep = False  # The flag being False means that the Acts and Joints are not seperate\n",
    "\n",
    "# This variable holds all the OCRed text as a String\n",
    "# data"
   ]
  },
  {
   "cell_type": "code",
   "execution_count": 4,
   "id": "d9839aca-b497-4efe-9d19-855a2df045d0",
   "metadata": {},
   "outputs": [
    {
     "name": "stdout",
     "output_type": "stream",
     "text": [
      "The number of pages OCRed for 1892 is: 384\n"
     ]
    }
   ],
   "source": [
    "print(\"The number of pages OCRed for {year} is: {count}\".format(year = year, count = (data.count(\"\\n\\n\")+1)))"
   ]
  },
  {
   "cell_type": "markdown",
   "id": "ba46f133-3523-4079-9bbf-b19400f1c3cf",
   "metadata": {},
   "source": [
    "## Training the tokenizer\n",
    "Based on this [article](https://subscription.packtpub.com/book/application-development/9781782167853/1/ch01lvl1sec12/training-a-sentence-tokenizer),\n",
    "- NLTK's default sentence tokenizer is general purpose and usually works quite well. But sometimes it might not be the best choice for our text if it uses nonstandard punctuation or is formatted in a unique way. In such cases, training your own sentence tokenizer can result in much more accurate sentence tokenization.\n",
    "- The `PunktSentenceTokenizer` class uses an unsupervised learning algorithm to learn what constitutes a sentence break.\n",
    "    - The specific technique used in this case is called sentence boundary detection. It works by counting punctuation and tokens that commonly end a sentence, such as a period or a newline, then using the resulting frequencies to decide the sentence boundaries."
   ]
  },
  {
   "cell_type": "code",
   "execution_count": 5,
   "id": "084e787f-ba8d-4f47-a8e0-5b2d3b7cc708",
   "metadata": {
    "scrolled": true,
    "tags": []
   },
   "outputs": [],
   "source": [
    "sent_tokenizer = PunktSentenceTokenizer(data)\n",
    "sentences = sent_tokenizer.tokenize(data)\n",
    "\n",
    "# A List of tokens/sentences as seperated by nltk's PunktSentenceTokenizer\n",
    "# sentences"
   ]
  },
  {
   "cell_type": "markdown",
   "id": "771a408d-8d8e-4dd9-8d3d-1ad62e1dead1",
   "metadata": {},
   "source": [
    "## Creating the dataframe\n",
    "Make a new dataframe with the sentences and character lengths as attributes"
   ]
  },
  {
   "cell_type": "code",
   "execution_count": 6,
   "id": "991c17c5-5ad3-4371-8380-6728bee2863d",
   "metadata": {},
   "outputs": [],
   "source": [
    "# Add to a new DataFrame\n",
    "df = pd.DataFrame()\n",
    "df[\"sentence\"] = sentences"
   ]
  },
  {
   "cell_type": "code",
   "execution_count": 7,
   "id": "4d5e4176-aa1b-42b2-af4b-2bc2167be841",
   "metadata": {},
   "outputs": [
    {
     "name": "stdout",
     "output_type": "stream",
     "text": [
      "Length of the initial dataframe: 3010 \n",
      "This is the number of tokenized sentences.\n"
     ]
    }
   ],
   "source": [
    "df[\"length\"] = [len(sentence) for sentence in sentences]\n",
    "print(\"Length of the initial dataframe:\", df.shape[0], \"\\nThis is the number of tokenized sentences.\")"
   ]
  },
  {
   "cell_type": "markdown",
   "id": "1cb28216-d4fb-4409-bfbf-403d1c3e2727",
   "metadata": {
    "tags": []
   },
   "source": [
    "## Adding page file names\n",
    "- Add an identifier that specifies which page number that sentence starts on.\n",
    "- Reading only Acts. <b> Not reading Joints </b>\n",
    "- The reason to read the files from the directory is to ensure that missing file pages are not missed in the dataframe."
   ]
  },
  {
   "cell_type": "code",
   "execution_count": 8,
   "id": "8716cafc-aefb-4920-ac01-e5cc88c4250c",
   "metadata": {},
   "outputs": [
    {
     "name": "stdout",
     "output_type": "stream",
     "text": [
      "The number of image files for this year is: 478\n"
     ]
    }
   ],
   "source": [
    "imgs_path = direc + \"/images\"\n",
    "\n",
    "imgs = os.listdir(imgs_path)\n",
    "imgs = [img for img in imgs if \"jpg\" in img or \"tiff\" in img or \"JPG\" in img or \"TIFF\" in img]\n",
    "imgs.sort()\n",
    "print(\"The number of image files for this year is:\", len(imgs))"
   ]
  },
  {
   "cell_type": "code",
   "execution_count": 9,
   "id": "2f3f7dc7-9d14-43db-af56-c1c644b1b882",
   "metadata": {
    "tags": []
   },
   "outputs": [
    {
     "name": "stdout",
     "output_type": "stream",
     "text": [
      "The files are of type: .jpg\n"
     ]
    }
   ],
   "source": [
    "fileType = imgs[0].split(\".\")\n",
    "fileType = fileType[1]\n",
    "print(f\"The files are of type: .{fileType}\")"
   ]
  },
  {
   "cell_type": "code",
   "execution_count": 10,
   "id": "1f9ed736-fffa-4c51-863a-ad181411e1fb",
   "metadata": {},
   "outputs": [],
   "source": [
    "def addPrefix(fileName: str, nameLen: int, fileType: bool) -> str:\n",
    "    '''\n",
    "    Since the fileNames from the excel parsing could be any of any length\n",
    "    (ranging from 1-3), this function appends a string of 0's to the \n",
    "    start of the input so that it is 5 lengths long.\n",
    "    \n",
    "    Parameters\n",
    "    ----------\n",
    "    fileName : str\n",
    "        The file name that needs to be prefixed\n",
    "    nameLen : int\n",
    "        The length of the expected name of the file\n",
    "        Ex. '00034.jpg' would have length of 5\n",
    "    fileType: bool\n",
    "        True if the fileName contains a fileType prefix such as '.tiff'\n",
    "\n",
    "    Returns\n",
    "    -------\n",
    "    str\n",
    "        A length 5 file name (prefixed with 0's)\n",
    "    '''\n",
    "    \n",
    "    # Remove the file type\n",
    "    if fileType:\n",
    "        name = fileName.split(\".\")[0]\n",
    "    else:\n",
    "        name = fileName\n",
    "\n",
    "    prefix_length = nameLen - len(name)\n",
    "    prefix = \"0\" * prefix_length\n",
    "    \n",
    "    final_string = prefix + fileName\n",
    "    return final_string"
   ]
  },
  {
   "cell_type": "markdown",
   "id": "4b5e5e24-f88f-4eb9-b1df-60d1c522f2d0",
   "metadata": {},
   "source": [
    "The imgs list, right now, contains both Acts and Joints.\n",
    "<br>So, partition the imgs list so that it contains only Acts."
   ]
  },
  {
   "cell_type": "code",
   "execution_count": 11,
   "id": "d11b263a-3bac-464d-af43-8aaa02f5d2d6",
   "metadata": {
    "tags": []
   },
   "outputs": [
    {
     "name": "stdout",
     "output_type": "stream",
     "text": [
      "The first page file name for the acts is 045.jpg\n",
      "The last page file name for the acts is 427.jpg\n"
     ]
    }
   ],
   "source": [
    "# Get the chracter length of the image file\n",
    "nameLen = len(imgs[0].split(\".\")[0])\n",
    "\n",
    "# Read in CopyofImageCorpusMetadata.xlsx to a pandas frame\n",
    "# The file needs to be in THE SAME direcotry as this file.\n",
    "corpusMetaPath = \"./Copy of ImageCorpusMetadata.xlsx\"\n",
    "corpusMeta = pd.read_excel(corpusMetaPath)\n",
    "\n",
    "corpusMeta = corpusMeta[corpusMeta[\"year\"] == year]  # Only the row for this year\n",
    "\n",
    "# Read the value in the \"Acts Start Page File Name\" column for the year.\n",
    "ActsFirstPage = str(int(corpusMeta[\"Acts Start Page File Name\"])) + \".\" + fileType\n",
    "ActsFirstPage = addPrefix(ActsFirstPage, nameLen, fileType=True)\n",
    "print(\"The first page file name for the acts is\", ActsFirstPage)\n",
    "\n",
    "# Read the value in the \"Acts Last Page File Name\" column for the year.\n",
    "ActsLastPage = str(int(corpusMeta[\"Acts Last Page File Name\"])) + \".\" + fileType\n",
    "ActsLastPage = addPrefix(ActsLastPage, nameLen, fileType=True)\n",
    "print(\"The last page file name for the acts is\", ActsLastPage)\n",
    "\n",
    "# Split the imgs list on the values\n",
    "ActsFirstPage_indx = imgs.index(ActsFirstPage)\n",
    "ActsLastPage_indx = imgs.index(ActsLastPage)\n",
    "imgs = imgs[ActsFirstPage_indx:ActsLastPage_indx+1]"
   ]
  },
  {
   "cell_type": "markdown",
   "id": "b480de28-8596-4633-b69d-65794a527cd6",
   "metadata": {},
   "source": [
    "<br>"
   ]
  },
  {
   "cell_type": "markdown",
   "id": "d592e372-ec44-43ee-8d46-0780fd9c9626",
   "metadata": {},
   "source": [
    "<b>Note:</b>\n",
    "- The OCR text seperates new pages by adding \"\\n\\n\".\n",
    "- However, most likely, the total number of pages does not equal the total count of \"\\n\\n\" in the text as the OCR does not add \"\\n\\n\" after every page.\n",
    "- This can be demonstrated by the code cell below:"
   ]
  },
  {
   "cell_type": "code",
   "execution_count": 12,
   "id": "44519998-4fa8-45ed-86ec-db135dae5cf3",
   "metadata": {},
   "outputs": [
    {
     "name": "stdout",
     "output_type": "stream",
     "text": [
      "Total number of pages: 383\n",
      "The total count for '\\n\\n' is 346\n"
     ]
    }
   ],
   "source": [
    "print(f\"Total number of pages: {ActsLastPage_indx+1 - ActsFirstPage_indx}\")\n",
    "\n",
    "# Find the total count for \"\\n\\n\"\n",
    "count = 0\n",
    "for i in range(0, df.shape[0]):\n",
    "\n",
    "    if \"\\n\\n\" in df.iloc[i]['sentence']:\n",
    "        count += 1\n",
    "\n",
    "print(f\"The total count for '\\\\n\\\\n' is {count}\")"
   ]
  },
  {
   "cell_type": "markdown",
   "id": "22a6ada8-190d-43d3-9646-72daacaf147d",
   "metadata": {},
   "source": [
    "<br>\n",
    "This can be further demonstrated by adding a page identifier in the dataframe which corresponds to the start page of the sentence."
   ]
  },
  {
   "cell_type": "code",
   "execution_count": 13,
   "id": "e0598b66-236a-4dea-936a-4ca40aa46d6e",
   "metadata": {
    "scrolled": true,
    "tags": []
   },
   "outputs": [],
   "source": [
    "# Have a list of images, which are basically new page identifiers\n",
    "# A list of tokenized sentences\n",
    "# Some tokenized sentences will correspond to the same image\n",
    "\n",
    "# Create a list for the page numbers\n",
    "# A new page starts when \"\\n\\n\" appears in the sentences\n",
    "\n",
    "df['page'] = np.nan\n",
    "\n",
    "# Track the index for the imgs list. \n",
    "imgs_trk = 0\n",
    "\n",
    "for i in range(0, df.shape[0]):\n",
    "\n",
    "    if \"\\n\\n\" in df.iloc[i]['sentence'] and i != 0:\n",
    "        df.at[i, 'page'] = imgs[imgs_trk]\n",
    "\n",
    "        # if this is the first iteration, then don't increment\n",
    "        # the list tracker as the first sentence always \"\\n\\n\"\n",
    "        if i != 0:\n",
    "            imgs_trk += 1\n",
    "\n",
    "    else:\n",
    "        df.at[i, 'page'] = imgs[imgs_trk]"
   ]
  },
  {
   "cell_type": "markdown",
   "id": "ab2ee8a4-4928-4fc3-8cfc-b79a54d6a20a",
   "metadata": {},
   "source": [
    "By checking the end with of the table with `df.tail()`, we see that the last page values do not correspond with the last page file name for the acts."
   ]
  },
  {
   "cell_type": "code",
   "execution_count": 14,
   "id": "22253dd9-b33c-4b29-a893-ec1587a9dbf8",
   "metadata": {},
   "outputs": [
    {
     "data": {
      "text/html": [
       "<div>\n",
       "<style scoped>\n",
       "    .dataframe tbody tr th:only-of-type {\n",
       "        vertical-align: middle;\n",
       "    }\n",
       "\n",
       "    .dataframe tbody tr th {\n",
       "        vertical-align: top;\n",
       "    }\n",
       "\n",
       "    .dataframe thead th {\n",
       "        text-align: right;\n",
       "    }\n",
       "</style>\n",
       "<table border=\"1\" class=\"dataframe\">\n",
       "  <thead>\n",
       "    <tr style=\"text-align: right;\">\n",
       "      <th></th>\n",
       "      <th>sentence</th>\n",
       "      <th>length</th>\n",
       "      <th>page</th>\n",
       "    </tr>\n",
       "  </thead>\n",
       "  <tbody>\n",
       "    <tr>\n",
       "      <th>3005</th>\n",
       "      <td>The municipal authorities of said town of Beaufort are hereby authorized and empowered to levy a tax upon all real and personal property in said town to an amount not exceeding one (1) per cent.</td>\n",
       "      <td>194</td>\n",
       "      <td>390.jpg</td>\n",
       "    </tr>\n",
       "    <tr>\n",
       "      <th>3006</th>\n",
       "      <td>of the assessed value of said property.</td>\n",
       "      <td>39</td>\n",
       "      <td>390.jpg</td>\n",
       "    </tr>\n",
       "    <tr>\n",
       "      <th>3007</th>\n",
       "      <td>Szc.</td>\n",
       "      <td>4</td>\n",
       "      <td>390.jpg</td>\n",
       "    </tr>\n",
       "    <tr>\n",
       "      <th>3008</th>\n",
       "      <td>3. All Acts or parts of Acts in conflict with or repugnant to this Act are hereby repealed.</td>\n",
       "      <td>91</td>\n",
       "      <td>390.jpg</td>\n",
       "    </tr>\n",
       "    <tr>\n",
       "      <th>3009</th>\n",
       "      <td>Approved January 11th, A. D. 1893.</td>\n",
       "      <td>34</td>\n",
       "      <td>390.jpg</td>\n",
       "    </tr>\n",
       "  </tbody>\n",
       "</table>\n",
       "</div>"
      ],
      "text/plain": [
       "                                                                                                                                                                                                sentence  \\\n",
       "3005  The municipal authorities of said town of Beaufort are hereby authorized and empowered to levy a tax upon all real and personal property in said town to an amount not exceeding one (1) per cent.   \n",
       "3006                                                                                                                                                             of the assessed value of said property.   \n",
       "3007                                                                                                                                                                                                Szc.   \n",
       "3008                                                                                                         3. All Acts or parts of Acts in conflict with or repugnant to this Act are hereby repealed.   \n",
       "3009                                                                                                                                                                  Approved January 11th, A. D. 1893.   \n",
       "\n",
       "      length     page  \n",
       "3005     194  390.jpg  \n",
       "3006      39  390.jpg  \n",
       "3007       4  390.jpg  \n",
       "3008      91  390.jpg  \n",
       "3009      34  390.jpg  "
      ]
     },
     "execution_count": 14,
     "metadata": {},
     "output_type": "execute_result"
    }
   ],
   "source": [
    "df.tail()"
   ]
  },
  {
   "cell_type": "markdown",
   "id": "dded26a4-c2f9-48a4-861b-57a6a0cbac92",
   "metadata": {},
   "source": [
    "<br>"
   ]
  },
  {
   "cell_type": "markdown",
   "id": "29bdd684-e6ee-477a-860e-d69eda73a975",
   "metadata": {},
   "source": [
    "One way to eliminate this issue is by utilizing the `{year}_Both_data.tsv` (if acts and joints mixed) or `{year}_Acts_data.tsv` (if acts and joints seperated) file from the OCR output.\n",
    "<br>This file contains each word (in the 2nd last column) and the filename for that word (last column)."
   ]
  },
  {
   "cell_type": "code",
   "execution_count": 15,
   "id": "eb9b0292-77f3-40c7-9df5-fc5572944b7d",
   "metadata": {},
   "outputs": [
    {
     "data": {
      "text/html": [
       "<div>\n",
       "<style scoped>\n",
       "    .dataframe tbody tr th:only-of-type {\n",
       "        vertical-align: middle;\n",
       "    }\n",
       "\n",
       "    .dataframe tbody tr th {\n",
       "        vertical-align: top;\n",
       "    }\n",
       "\n",
       "    .dataframe thead th {\n",
       "        text-align: right;\n",
       "    }\n",
       "</style>\n",
       "<table border=\"1\" class=\"dataframe\">\n",
       "  <thead>\n",
       "    <tr style=\"text-align: right;\">\n",
       "      <th></th>\n",
       "      <th>left</th>\n",
       "      <th>top</th>\n",
       "      <th>width</th>\n",
       "      <th>height</th>\n",
       "      <th>conf</th>\n",
       "      <th>text</th>\n",
       "      <th>name</th>\n",
       "    </tr>\n",
       "  </thead>\n",
       "  <tbody>\n",
       "    <tr>\n",
       "      <th>0</th>\n",
       "      <td>0</td>\n",
       "      <td>0</td>\n",
       "      <td>1620</td>\n",
       "      <td>1024</td>\n",
       "      <td>-1.000000</td>\n",
       "      <td>NaN</td>\n",
       "      <td>045.jpg</td>\n",
       "    </tr>\n",
       "    <tr>\n",
       "      <th>1</th>\n",
       "      <td>231</td>\n",
       "      <td>224</td>\n",
       "      <td>1153</td>\n",
       "      <td>32</td>\n",
       "      <td>-1.000000</td>\n",
       "      <td>NaN</td>\n",
       "      <td>045.jpg</td>\n",
       "    </tr>\n",
       "    <tr>\n",
       "      <th>2</th>\n",
       "      <td>231</td>\n",
       "      <td>224</td>\n",
       "      <td>1153</td>\n",
       "      <td>32</td>\n",
       "      <td>-1.000000</td>\n",
       "      <td>NaN</td>\n",
       "      <td>045.jpg</td>\n",
       "    </tr>\n",
       "    <tr>\n",
       "      <th>3</th>\n",
       "      <td>231</td>\n",
       "      <td>224</td>\n",
       "      <td>1153</td>\n",
       "      <td>32</td>\n",
       "      <td>-1.000000</td>\n",
       "      <td>NaN</td>\n",
       "      <td>045.jpg</td>\n",
       "    </tr>\n",
       "    <tr>\n",
       "      <th>4</th>\n",
       "      <td>231</td>\n",
       "      <td>226</td>\n",
       "      <td>64</td>\n",
       "      <td>30</td>\n",
       "      <td>96.684166</td>\n",
       "      <td>AN</td>\n",
       "      <td>045.jpg</td>\n",
       "    </tr>\n",
       "    <tr>\n",
       "      <th>...</th>\n",
       "      <td>...</td>\n",
       "      <td>...</td>\n",
       "      <td>...</td>\n",
       "      <td>...</td>\n",
       "      <td>...</td>\n",
       "      <td>...</td>\n",
       "      <td>...</td>\n",
       "    </tr>\n",
       "    <tr>\n",
       "      <th>199243</th>\n",
       "      <td>445</td>\n",
       "      <td>2197</td>\n",
       "      <td>145</td>\n",
       "      <td>40</td>\n",
       "      <td>96.368355</td>\n",
       "      <td>January</td>\n",
       "      <td>427.jpg</td>\n",
       "    </tr>\n",
       "    <tr>\n",
       "      <th>199244</th>\n",
       "      <td>604</td>\n",
       "      <td>2195</td>\n",
       "      <td>90</td>\n",
       "      <td>38</td>\n",
       "      <td>89.207558</td>\n",
       "      <td>11th,</td>\n",
       "      <td>427.jpg</td>\n",
       "    </tr>\n",
       "    <tr>\n",
       "      <th>199245</th>\n",
       "      <td>711</td>\n",
       "      <td>2195</td>\n",
       "      <td>40</td>\n",
       "      <td>31</td>\n",
       "      <td>92.814949</td>\n",
       "      <td>A.</td>\n",
       "      <td>427.jpg</td>\n",
       "    </tr>\n",
       "    <tr>\n",
       "      <th>199246</th>\n",
       "      <td>771</td>\n",
       "      <td>2196</td>\n",
       "      <td>41</td>\n",
       "      <td>31</td>\n",
       "      <td>90.454147</td>\n",
       "      <td>D.</td>\n",
       "      <td>427.jpg</td>\n",
       "    </tr>\n",
       "    <tr>\n",
       "      <th>199247</th>\n",
       "      <td>836</td>\n",
       "      <td>2198</td>\n",
       "      <td>90</td>\n",
       "      <td>31</td>\n",
       "      <td>96.103073</td>\n",
       "      <td>1893.</td>\n",
       "      <td>427.jpg</td>\n",
       "    </tr>\n",
       "  </tbody>\n",
       "</table>\n",
       "<p>199248 rows × 7 columns</p>\n",
       "</div>"
      ],
      "text/plain": [
       "        left   top  width  height       conf     text     name\n",
       "0          0     0   1620    1024  -1.000000      NaN  045.jpg\n",
       "1        231   224   1153      32  -1.000000      NaN  045.jpg\n",
       "2        231   224   1153      32  -1.000000      NaN  045.jpg\n",
       "3        231   224   1153      32  -1.000000      NaN  045.jpg\n",
       "4        231   226     64      30  96.684166       AN  045.jpg\n",
       "...      ...   ...    ...     ...        ...      ...      ...\n",
       "199243   445  2197    145      40  96.368355  January  427.jpg\n",
       "199244   604  2195     90      38  89.207558    11th,  427.jpg\n",
       "199245   711  2195     40      31  92.814949       A.  427.jpg\n",
       "199246   771  2196     41      31  90.454147       D.  427.jpg\n",
       "199247   836  2198     90      31  96.103073    1893.  427.jpg\n",
       "\n",
       "[199248 rows x 7 columns]"
      ]
     },
     "execution_count": 15,
     "metadata": {},
     "output_type": "execute_result"
    }
   ],
   "source": [
    "if actsSep:\n",
    "    df_words = pd.read_table(f\"{direc}/{year}_Acts_data.tsv\")\n",
    "else:\n",
    "    df_words = pd.read_table(f\"{direc}/{year}_Both_data.tsv\")\n",
    "\n",
    "df_words"
   ]
  },
  {
   "cell_type": "markdown",
   "id": "9deaebfe-30b8-4078-9543-cf10059129ac",
   "metadata": {},
   "source": [
    "<br>\n",
    "So, to label the page numbers in the dataframe, we can go through the original dataframe and find the start and end words in each sentence.\n",
    "<br>We, can then find the page numbers for those words, from `df_words` and add them to the original dataframe, `df`."
   ]
  },
  {
   "cell_type": "markdown",
   "id": "a4b2021e-eb3e-43c7-9d26-c58ef4d99ed4",
   "metadata": {},
   "source": [
    "<br>To start, we need to clean the two dataframes."
   ]
  },
  {
   "cell_type": "code",
   "execution_count": 16,
   "id": "a5474d57-cba4-4a4b-8f69-832dbcdeb840",
   "metadata": {},
   "outputs": [],
   "source": [
    "# Drop the columns which are unessecary for our analysis\n",
    "df_words.drop(columns=[\"left\", \"top\", \"width\", \"height\", \"conf\"], inplace=True)\n",
    "\n",
    "# Drop the rows which don't contain a word in the \"text\" column\n",
    "df_words.dropna(inplace=True)\n",
    "\n",
    "# Relabel the \"name\" column to \"page\" column\n",
    "df_words.rename(columns={\"name\": \"page\"}, inplace=True)\n",
    "\n",
    "# Reassign index after dropping nas\n",
    "df_words = df_words.assign(row_number=range(len(df_words)))\n",
    "df_words.set_index('row_number', inplace=True)\n",
    "\n",
    "# Drop the 'page' column from the org dataframe\n",
    "df.drop(columns=['page'], inplace=True)\n",
    "\n",
    "# Add an empty 'start_page' and 'end_page' column\n",
    "df['start_page'] = np.nan\n",
    "df['end_page'] = np.nan"
   ]
  },
  {
   "cell_type": "markdown",
   "id": "e2fba37f-602b-4256-9d0e-e58ed172d65d",
   "metadata": {},
   "source": [
    "Since, a word can only exist on a single page, we can have unique identifiers for the start and end page for each sentence "
   ]
  },
  {
   "cell_type": "code",
   "execution_count": 17,
   "id": "c50f2d2a-938f-4e58-b055-a15eb8e65cef",
   "metadata": {
    "tags": []
   },
   "outputs": [],
   "source": [
    "# Tracker for df_words:\n",
    "words_trkr = 0\n",
    "\n",
    "# Loop over the original dataframe\n",
    "for i in range(0, df.shape[0]):\n",
    "    \n",
    "    # Remove \"\\n\\n\" from the original dataframe as they will interfere with the analysis\n",
    "    df.at[i, 'sentence'] = df.iloc[i]['sentence'].replace(\"\\n\\n\", \"\")\n",
    "\n",
    "    # For each sentence, extract the first and last word\n",
    "    tmp_sentence = df.iloc[i]['sentence'].split(\" \")\n",
    "    start, last = tmp_sentence[0], tmp_sentence[-1]\n",
    "\n",
    "    # Get the page number for the start and end word\n",
    "    start_page = df_words.iloc[words_trkr]['page']\n",
    "\n",
    "    try:\n",
    "        end_page = df_words.iloc[words_trkr + len(tmp_sentence)]['page']\n",
    "    except:\n",
    "        end_page = df_words.iloc[words_trkr]['page']\n",
    "        \n",
    "\n",
    "    # Remove the filename from the pages:\n",
    "    start_page = start_page.split(\".\")[0]\n",
    "    end_page = end_page.split(\".\")[0]\n",
    "\n",
    "    \n",
    "    # Assign the page number to their respective columns in the dataframe\n",
    "    df.at[i, 'start_page'] = start_page\n",
    "    df.at[i, 'end_page'] = end_page\n",
    "    \n",
    "    # Update tracker\n",
    "    words_trkr += len(tmp_sentence)"
   ]
  },
  {
   "cell_type": "code",
   "execution_count": 18,
   "id": "0f7e208f-775a-4233-9c3f-a8bc376f96b7",
   "metadata": {},
   "outputs": [
    {
     "data": {
      "text/html": [
       "<div>\n",
       "<style scoped>\n",
       "    .dataframe tbody tr th:only-of-type {\n",
       "        vertical-align: middle;\n",
       "    }\n",
       "\n",
       "    .dataframe tbody tr th {\n",
       "        vertical-align: top;\n",
       "    }\n",
       "\n",
       "    .dataframe thead th {\n",
       "        text-align: right;\n",
       "    }\n",
       "</style>\n",
       "<table border=\"1\" class=\"dataframe\">\n",
       "  <thead>\n",
       "    <tr style=\"text-align: right;\">\n",
       "      <th></th>\n",
       "      <th>sentence</th>\n",
       "      <th>length</th>\n",
       "      <th>start_page</th>\n",
       "      <th>end_page</th>\n",
       "    </tr>\n",
       "  </thead>\n",
       "  <tbody>\n",
       "    <tr>\n",
       "      <th>3000</th>\n",
       "      <td>SecTIoN 1. Be it enacted by the Senate and House of Repre- sentatives of the State of South Carolina, now met and sitting in General Assembly, and by the authority of the same, That the Board of Phosphate Commissioners of the State be, and they are hereby, authorized and empowered to fix the royalty to be paid the State by parties mining in the navigable waters and the marshes of this State at such amounts, not to exceed two dollars per ton, and for such periods, as they, upon full investigation and examination, may deem advisable: Provided, That six months’ notice be given of any raising of such royalty above the sum of one dollar.</td>\n",
       "      <td>640</td>\n",
       "      <td>427</td>\n",
       "      <td>427</td>\n",
       "    </tr>\n",
       "    <tr>\n",
       "      <th>3001</th>\n",
       "      <td>Approved January 7th, A. D. 1893. AN ACT To RENEW AND AMEND THE CHARTER OF THE TOWN OF BEAUFORT.</td>\n",
       "      <td>96</td>\n",
       "      <td>427</td>\n",
       "      <td>427</td>\n",
       "    </tr>\n",
       "    <tr>\n",
       "      <th>3002</th>\n",
       "      <td>Section 1. Be it enacted by the Senate and House of Repre- sentatives of the State of South Carolina, now met and sitting in General Assembly, and by the authority of the same, That the charter of the town of Beaufort, with the amendments thereto, are hereby renewed and extended for the term of twenty years.</td>\n",
       "      <td>309</td>\n",
       "      <td>427</td>\n",
       "      <td>427</td>\n",
       "    </tr>\n",
       "    <tr>\n",
       "      <th>3003</th>\n",
       "      <td>Sec.</td>\n",
       "      <td>4</td>\n",
       "      <td>427</td>\n",
       "      <td>427</td>\n",
       "    </tr>\n",
       "    <tr>\n",
       "      <th>3004</th>\n",
       "      <td>2.</td>\n",
       "      <td>2</td>\n",
       "      <td>427</td>\n",
       "      <td>427</td>\n",
       "    </tr>\n",
       "    <tr>\n",
       "      <th>3005</th>\n",
       "      <td>The municipal authorities of said town of Beaufort are hereby authorized and empowered to levy a tax upon all real and personal property in said town to an amount not exceeding one (1) per cent.</td>\n",
       "      <td>194</td>\n",
       "      <td>427</td>\n",
       "      <td>427</td>\n",
       "    </tr>\n",
       "    <tr>\n",
       "      <th>3006</th>\n",
       "      <td>of the assessed value of said property.</td>\n",
       "      <td>39</td>\n",
       "      <td>427</td>\n",
       "      <td>427</td>\n",
       "    </tr>\n",
       "    <tr>\n",
       "      <th>3007</th>\n",
       "      <td>Szc.</td>\n",
       "      <td>4</td>\n",
       "      <td>427</td>\n",
       "      <td>427</td>\n",
       "    </tr>\n",
       "    <tr>\n",
       "      <th>3008</th>\n",
       "      <td>3. All Acts or parts of Acts in conflict with or repugnant to this Act are hereby repealed.</td>\n",
       "      <td>91</td>\n",
       "      <td>427</td>\n",
       "      <td>427</td>\n",
       "    </tr>\n",
       "    <tr>\n",
       "      <th>3009</th>\n",
       "      <td>Approved January 11th, A. D. 1893.</td>\n",
       "      <td>34</td>\n",
       "      <td>427</td>\n",
       "      <td>427</td>\n",
       "    </tr>\n",
       "  </tbody>\n",
       "</table>\n",
       "</div>"
      ],
      "text/plain": [
       "                                                                                                                                                                                                                                                                                                                                                                                                                                                                                                                                                                                                                                                              sentence  \\\n",
       "3000  SecTIoN 1. Be it enacted by the Senate and House of Repre- sentatives of the State of South Carolina, now met and sitting in General Assembly, and by the authority of the same, That the Board of Phosphate Commissioners of the State be, and they are hereby, authorized and empowered to fix the royalty to be paid the State by parties mining in the navigable waters and the marshes of this State at such amounts, not to exceed two dollars per ton, and for such periods, as they, upon full investigation and examination, may deem advisable: Provided, That six months’ notice be given of any raising of such royalty above the sum of one dollar.   \n",
       "3001                                                                                                                                                                                                                                                                                                                                                                                                                                                                                                                                                                  Approved January 7th, A. D. 1893. AN ACT To RENEW AND AMEND THE CHARTER OF THE TOWN OF BEAUFORT.   \n",
       "3002                                                                                                                                                                                                                                                                                                                                             Section 1. Be it enacted by the Senate and House of Repre- sentatives of the State of South Carolina, now met and sitting in General Assembly, and by the authority of the same, That the charter of the town of Beaufort, with the amendments thereto, are hereby renewed and extended for the term of twenty years.   \n",
       "3003                                                                                                                                                                                                                                                                                                                                                                                                                                                                                                                                                                                                                                                              Sec.   \n",
       "3004                                                                                                                                                                                                                                                                                                                                                                                                                                                                                                                                                                                                                                                                2.   \n",
       "3005                                                                                                                                                                                                                                                                                                                                                                                                                                                                The municipal authorities of said town of Beaufort are hereby authorized and empowered to levy a tax upon all real and personal property in said town to an amount not exceeding one (1) per cent.   \n",
       "3006                                                                                                                                                                                                                                                                                                                                                                                                                                                                                                                                                                                                                           of the assessed value of said property.   \n",
       "3007                                                                                                                                                                                                                                                                                                                                                                                                                                                                                                                                                                                                                                                              Szc.   \n",
       "3008                                                                                                                                                                                                                                                                                                                                                                                                                                                                                                                                                                       3. All Acts or parts of Acts in conflict with or repugnant to this Act are hereby repealed.   \n",
       "3009                                                                                                                                                                                                                                                                                                                                                                                                                                                                                                                                                                                                                                Approved January 11th, A. D. 1893.   \n",
       "\n",
       "      length start_page end_page  \n",
       "3000     640        427      427  \n",
       "3001      96        427      427  \n",
       "3002     309        427      427  \n",
       "3003       4        427      427  \n",
       "3004       2        427      427  \n",
       "3005     194        427      427  \n",
       "3006      39        427      427  \n",
       "3007       4        427      427  \n",
       "3008      91        427      427  \n",
       "3009      34        427      427  "
      ]
     },
     "execution_count": 18,
     "metadata": {},
     "output_type": "execute_result"
    }
   ],
   "source": [
    "df.tail(10)"
   ]
  },
  {
   "cell_type": "markdown",
   "id": "a76d3256-7f66-42ab-b5f9-263c1f40f6b3",
   "metadata": {},
   "source": [
    "<br>"
   ]
  },
  {
   "cell_type": "markdown",
   "id": "af059985-bf5d-41f9-b15c-bc0613b85405",
   "metadata": {
    "tags": []
   },
   "source": [
    "## Cleaning on Char. lenght\n",
    "Get rid of sentences with a low number of characters as they might not form meaningful sentences"
   ]
  },
  {
   "cell_type": "markdown",
   "id": "6cb162e6-5498-49ca-ba81-690fbb89d68f",
   "metadata": {},
   "source": [
    "However, first, get the statistics on the length column to avoid removing meaningful sentence"
   ]
  },
  {
   "cell_type": "code",
   "execution_count": 19,
   "id": "4adad633-bd47-4d6a-94fb-dd773211a987",
   "metadata": {},
   "outputs": [
    {
     "data": {
      "text/plain": [
       "count    3010.000000\n",
       "mean      286.785382\n",
       "std       368.127799\n",
       "min         1.000000\n",
       "25%         4.000000\n",
       "50%       174.000000\n",
       "75%       406.000000\n",
       "max      3445.000000\n",
       "Name: length, dtype: float64"
      ]
     },
     "execution_count": 19,
     "metadata": {},
     "output_type": "execute_result"
    }
   ],
   "source": [
    "# Get the statistics for the length column\n",
    "df[\"length\"].describe()"
   ]
  },
  {
   "cell_type": "code",
   "execution_count": 20,
   "id": "81aa067b-6286-47b3-aa2a-7929ae9676d4",
   "metadata": {},
   "outputs": [
    {
     "data": {
      "image/png": "[encoded data removed]",
      "text/plain": [
       "<Figure size 640x480 with 2 Axes>"
      ]
     },
     "metadata": {},
     "output_type": "display_data"
    }
   ],
   "source": [
    "# Plot a histogram for that column\n",
    "fig, axes = plt.subplots(1, 2)\n",
    "df.hist(column=\"length\", ax=axes[0])\n",
    "axes[0].set_title('Character lengths')\n",
    "axes[0].set(xlabel=\"Character length of the sentences\", ylabel=\"Frequency\")\n",
    "\n",
    "df.hist(column=\"length\", ax=axes[1])\n",
    "\n",
    "axes[1].set_title('Character lengths (zoomed)')\n",
    "axes[1].set(xlabel=\"Character length of the sentences\", ylabel=\"Frequency\", xlim = [0, 1000])\n",
    "fig.tight_layout()"
   ]
  },
  {
   "cell_type": "markdown",
   "id": "c78172d2-3e9a-4889-a842-429273fa05b0",
   "metadata": {},
   "source": [
    "Create a smaller dataframe, and export it to csv, that only contains the short length sentences.\n",
    "Check the csv and change the length condition accordingly."
   ]
  },
  {
   "cell_type": "code",
   "execution_count": 21,
   "id": "df695759-1e0d-4d5c-abfc-b81b5d4f02aa",
   "metadata": {},
   "outputs": [],
   "source": [
    "testing_df = df[df['length'] < 50]\n",
    "testing_df.to_csv(f\"{year}_len_testing.csv\", index=False)"
   ]
  },
  {
   "cell_type": "markdown",
   "id": "059bdce2-9ba6-430d-99e3-6ebf3c92705f",
   "metadata": {},
   "source": [
    "<br>\n",
    "Once, the length is decided, create a new dataframe with sentences greater that the length"
   ]
  },
  {
   "cell_type": "code",
   "execution_count": 22,
   "id": "05db1f3f-7454-4e23-819f-698c536bb277",
   "metadata": {},
   "outputs": [
    {
     "name": "stdout",
     "output_type": "stream",
     "text": [
      "Length of the cleaned dataframe:  2053\n",
      "Reduction of about 31.79%\n"
     ]
    }
   ],
   "source": [
    "df_reduced = df[ df[\"length\"] > 50]\n",
    "print(\"Length of the cleaned dataframe: \", df_reduced.shape[0])\n",
    "print(\"Reduction of about {:.2f}%\".format( (1 - df_reduced.shape[0]/df.shape[0]) * 100))"
   ]
  },
  {
   "cell_type": "code",
   "execution_count": 23,
   "id": "51144099-ae02-4949-849c-48e5b271ba06",
   "metadata": {},
   "outputs": [],
   "source": [
    "df_reduced.reset_index(drop=True, inplace=True)\n",
    "df_reduced.index.name = \"index\""
   ]
  },
  {
   "cell_type": "markdown",
   "id": "77376f41-ff13-4fc3-80f1-096880ede75f",
   "metadata": {},
   "source": [
    "<br>"
   ]
  },
  {
   "cell_type": "markdown",
   "id": "b639c194-db50-4444-ba6f-a9eb376ad89a",
   "metadata": {},
   "source": [
    "## Regex Matching\n",
    "Remove unecessary words, which do not contribute to the overall meaning, in the sentences."
   ]
  },
  {
   "cell_type": "code",
   "execution_count": 24,
   "id": "d0ae0635-75aa-44af-afa7-82872093d2d6",
   "metadata": {},
   "outputs": [],
   "source": [
    "# New dataframe so that the results of the matching can be compared\n",
    "df_cleaned = df_reduced.copy()"
   ]
  },
  {
   "cell_type": "markdown",
   "id": "7102c656-de20-4078-950c-eb0140134fe8",
   "metadata": {},
   "source": [
    "<br>\n",
    "The following code three separate regex patterns to identify sections, such as \"Section 1.\", \"Sec. 4.\", etc. \n",
    "\n",
    "Because most sections, which need to be removed, appear either at the start or the start of the ORCed sentence, the pattern finds matches either at the start or the end of the sentence."
   ]
  },
  {
   "cell_type": "code",
   "execution_count": 25,
   "id": "10e4b3a6-b967-4bd2-a9f5-51481070bfb3",
   "metadata": {},
   "outputs": [],
   "source": [
    "# Match either at the start of the sentence or at the end\n",
    "match_section = re.compile('^(S|s)[a-zA-Z]{2,6}(\\.|,|:|;| ){0,2}(\\d.){1}|(S|s)[a-zA-Z]{2,6}(\\.|,|:|;| ){0,2}(\\d.){1}$')\n",
    "\n",
    "# # Create a new column that will contain the removed words that match the section patter\n",
    "# df_cleaned['removed'] = np.nan\n",
    "\n",
    "# Rename 'sentence' column to 'org_sent' to avoid confusion\n",
    "# df_cleaned.rename(columns={'sentence': 'org_sent'}, inplace=True)"
   ]
  },
  {
   "cell_type": "code",
   "execution_count": 26,
   "id": "02e6e603-2728-4141-a0dd-c9f5781d2b28",
   "metadata": {},
   "outputs": [],
   "source": [
    "for i in range(0, df_cleaned.shape[0]):\n",
    "    # df_cleaned.at[i, 'removed'] = \"; \".join([x.group() for x in re.finditer(match_section, df_cleaned.iloc[i]['sentence'])])  # Add the matched patterns to the \"removed\" section\n",
    "    df_cleaned.at[i, 'sentence'] = re.sub(match_section, '', df_cleaned.iloc[i]['sentence'])  # Remove the matched patterns from sentences"
   ]
  },
  {
   "cell_type": "code",
   "execution_count": 27,
   "id": "e69b1946-60c1-456e-98f0-0d5fc9b66ca6",
   "metadata": {},
   "outputs": [
    {
     "data": {
      "text/html": [
       "<div>\n",
       "<style scoped>\n",
       "    .dataframe tbody tr th:only-of-type {\n",
       "        vertical-align: middle;\n",
       "    }\n",
       "\n",
       "    .dataframe tbody tr th {\n",
       "        vertical-align: top;\n",
       "    }\n",
       "\n",
       "    .dataframe thead th {\n",
       "        text-align: right;\n",
       "    }\n",
       "</style>\n",
       "<table border=\"1\" class=\"dataframe\">\n",
       "  <thead>\n",
       "    <tr style=\"text-align: right;\">\n",
       "      <th></th>\n",
       "      <th>sentence</th>\n",
       "      <th>length</th>\n",
       "      <th>start_page</th>\n",
       "      <th>end_page</th>\n",
       "    </tr>\n",
       "    <tr>\n",
       "      <th>index</th>\n",
       "      <th></th>\n",
       "      <th></th>\n",
       "      <th></th>\n",
       "      <th></th>\n",
       "    </tr>\n",
       "  </thead>\n",
       "  <tbody>\n",
       "    <tr>\n",
       "      <th>0</th>\n",
       "      <td>AN ACT to CoNSsTITUTE A BATTALION TO BE KNOWN AS THE NAVAL BATTALION OF VOLUNTEER TROOPS OF SOUTH CAROLINA.</td>\n",
       "      <td>109</td>\n",
       "      <td>045</td>\n",
       "      <td>045</td>\n",
       "    </tr>\n",
       "    <tr>\n",
       "      <th>1</th>\n",
       "      <td>Be tt enacted by the Senate and House of Repre- sentatives of the State of South Carolina, now met and sitting in General Assembly, and by the authority of the same, That there shall be allowed, in addition to the companies of the Vol-t unteer Troops of the State of South Carolina as now provided by law, not more than four companies of Naval Militia, which shall constitute a battalion, to be known as the Naval Battalion of the Volunteer Troops of South Carolina.</td>\n",
       "      <td>477</td>\n",
       "      <td>045</td>\n",
       "      <td>046</td>\n",
       "    </tr>\n",
       "    <tr>\n",
       "      <th>2</th>\n",
       "      <td>The officers of this battalion shall consist of a Lieu- tenant Commander, who shall be appointed by the Governor, and whose rank and pay shall assimilate to that of a Major of infantry, and a staff, to consist of one Adjutant, one Ordnance Officer, one Paymaster, who shall be the mustering officer, and one Surgeon, each with the rank of First Lieutenant.</td>\n",
       "      <td>356</td>\n",
       "      <td>046</td>\n",
       "      <td>046</td>\n",
       "    </tr>\n",
       "    <tr>\n",
       "      <th>3</th>\n",
       "      <td>They shall be paid the same as battalion staffs in the Volunteer Troops.</td>\n",
       "      <td>72</td>\n",
       "      <td>046</td>\n",
       "      <td>046</td>\n",
       "    </tr>\n",
       "    <tr>\n",
       "      <th>4</th>\n",
       "      <td>There shall also be attached to the staff the following petty officers: One Master-at-Arms, two Yeomen, one Hospital Steward, one Chief Bugler, who shall receive the same pay as the non-commissioned staff of a battalion of infantry.</td>\n",
       "      <td>232</td>\n",
       "      <td>046</td>\n",
       "      <td>046</td>\n",
       "    </tr>\n",
       "    <tr>\n",
       "      <th>...</th>\n",
       "      <td>...</td>\n",
       "      <td>...</td>\n",
       "      <td>...</td>\n",
       "      <td>...</td>\n",
       "    </tr>\n",
       "    <tr>\n",
       "      <th>2048</th>\n",
       "      <td>Be it enacted by the Senate and House of Repre- sentatives of the State of South Carolina, now met and sitting in General Assembly, and by the authority of the same, That the Board of Phosphate Commissioners of the State be, and they are hereby, authorized and empowered to fix the royalty to be paid the State by parties mining in the navigable waters and the marshes of this State at such amounts, not to exceed two dollars per ton, and for such periods, as they, upon full investigation and examination, may deem advisable: Provided, That six months’ notice be given of any raising of such royalty above the sum of one dollar.</td>\n",
       "      <td>640</td>\n",
       "      <td>427</td>\n",
       "      <td>427</td>\n",
       "    </tr>\n",
       "    <tr>\n",
       "      <th>2049</th>\n",
       "      <td>Approved January 7th, A. D. 1893. AN ACT To RENEW AND AMEND THE CHARTER OF THE TOWN OF BEAUFORT.</td>\n",
       "      <td>96</td>\n",
       "      <td>427</td>\n",
       "      <td>427</td>\n",
       "    </tr>\n",
       "    <tr>\n",
       "      <th>2050</th>\n",
       "      <td>Be it enacted by the Senate and House of Repre- sentatives of the State of South Carolina, now met and sitting in General Assembly, and by the authority of the same, That the charter of the town of Beaufort, with the amendments thereto, are hereby renewed and extended for the term of twenty years.</td>\n",
       "      <td>309</td>\n",
       "      <td>427</td>\n",
       "      <td>427</td>\n",
       "    </tr>\n",
       "    <tr>\n",
       "      <th>2051</th>\n",
       "      <td>The municipal authorities of said town of Beaufort are hereby authorized and empowered to levy a tax upon all real and personal property in said town to an amount not exceeding one (1) per cent.</td>\n",
       "      <td>194</td>\n",
       "      <td>427</td>\n",
       "      <td>427</td>\n",
       "    </tr>\n",
       "    <tr>\n",
       "      <th>2052</th>\n",
       "      <td>3. All Acts or parts of Acts in conflict with or repugnant to this Act are hereby repealed.</td>\n",
       "      <td>91</td>\n",
       "      <td>427</td>\n",
       "      <td>427</td>\n",
       "    </tr>\n",
       "  </tbody>\n",
       "</table>\n",
       "<p>2053 rows × 4 columns</p>\n",
       "</div>"
      ],
      "text/plain": [
       "                                                                                                                                                                                                                                                                                                                                                                                                                                                                                                                                                                                                                                                     sentence  \\\n",
       "index                                                                                                                                                                                                                                                                                                                                                                                                                                                                                                                                                                                                                                                           \n",
       "0                                                                                                                                                                                                                                                                                                                                                                                                                                                                                                                                                 AN ACT to CoNSsTITUTE A BATTALION TO BE KNOWN AS THE NAVAL BATTALION OF VOLUNTEER TROOPS OF SOUTH CAROLINA.   \n",
       "1                                                                                                                                                                          Be tt enacted by the Senate and House of Repre- sentatives of the State of South Carolina, now met and sitting in General Assembly, and by the authority of the same, That there shall be allowed, in addition to the companies of the Vol-t unteer Troops of the State of South Carolina as now provided by law, not more than four companies of Naval Militia, which shall constitute a battalion, to be known as the Naval Battalion of the Volunteer Troops of South Carolina.   \n",
       "2                                                                                                                                                                                                                                                                                        The officers of this battalion shall consist of a Lieu- tenant Commander, who shall be appointed by the Governor, and whose rank and pay shall assimilate to that of a Major of infantry, and a staff, to consist of one Adjutant, one Ordnance Officer, one Paymaster, who shall be the mustering officer, and one Surgeon, each with the rank of First Lieutenant.   \n",
       "3                                                                                                                                                                                                                                                                                                                                                                                                                                                                                                                                                                                    They shall be paid the same as battalion staffs in the Volunteer Troops.   \n",
       "4                                                                                                                                                                                                                                                                                                                                                                                                                    There shall also be attached to the staff the following petty officers: One Master-at-Arms, two Yeomen, one Hospital Steward, one Chief Bugler, who shall receive the same pay as the non-commissioned staff of a battalion of infantry.   \n",
       "...                                                                                                                                                                                                                                                                                                                                                                                                                                                                                                                                                                                                                                                       ...   \n",
       "2048    Be it enacted by the Senate and House of Repre- sentatives of the State of South Carolina, now met and sitting in General Assembly, and by the authority of the same, That the Board of Phosphate Commissioners of the State be, and they are hereby, authorized and empowered to fix the royalty to be paid the State by parties mining in the navigable waters and the marshes of this State at such amounts, not to exceed two dollars per ton, and for such periods, as they, upon full investigation and examination, may deem advisable: Provided, That six months’ notice be given of any raising of such royalty above the sum of one dollar.   \n",
       "2049                                                                                                                                                                                                                                                                                                                                                                                                                                                                                                                                                         Approved January 7th, A. D. 1893. AN ACT To RENEW AND AMEND THE CHARTER OF THE TOWN OF BEAUFORT.   \n",
       "2050                                                                                                                                                                                                                                                                                                                                               Be it enacted by the Senate and House of Repre- sentatives of the State of South Carolina, now met and sitting in General Assembly, and by the authority of the same, That the charter of the town of Beaufort, with the amendments thereto, are hereby renewed and extended for the term of twenty years.   \n",
       "2051                                                                                                                                                                                                                                                                                                                                                                                                                                                       The municipal authorities of said town of Beaufort are hereby authorized and empowered to levy a tax upon all real and personal property in said town to an amount not exceeding one (1) per cent.   \n",
       "2052                                                                                                                                                                                                                                                                                                                                                                                                                                                                                                                                                              3. All Acts or parts of Acts in conflict with or repugnant to this Act are hereby repealed.   \n",
       "\n",
       "       length start_page end_page  \n",
       "index                              \n",
       "0         109        045      045  \n",
       "1         477        045      046  \n",
       "2         356        046      046  \n",
       "3          72        046      046  \n",
       "4         232        046      046  \n",
       "...       ...        ...      ...  \n",
       "2048      640        427      427  \n",
       "2049       96        427      427  \n",
       "2050      309        427      427  \n",
       "2051      194        427      427  \n",
       "2052       91        427      427  \n",
       "\n",
       "[2053 rows x 4 columns]"
      ]
     },
     "execution_count": 27,
     "metadata": {},
     "output_type": "execute_result"
    }
   ],
   "source": [
    "df_cleaned"
   ]
  },
  {
   "cell_type": "markdown",
   "id": "9562628b-e9b8-45de-96a4-e173b34f1d0b",
   "metadata": {},
   "source": [
    "<br>"
   ]
  },
  {
   "cell_type": "markdown",
   "id": "e0f0294a-e3cf-47b2-919d-a49330d36996",
   "metadata": {},
   "source": [
    "## Adding unique id\n",
    "Since sentences from different volumes will be mixed in the future steps, it is important to label each sentence uniquely.  \n",
    "Some unique identifiers are:\n",
    "- year\n",
    "- order number"
   ]
  },
  {
   "cell_type": "code",
   "execution_count": 28,
   "id": "1801592f-d1d4-4908-b565-3d23737fca0a",
   "metadata": {},
   "outputs": [],
   "source": [
    "df_cleaned.reset_index(inplace=True)\n",
    "df_cleaned.rename(columns={\"index\" : \"id\"}, inplace=True)\n",
    "# df_cleaned.set_index('id', inplace=True)"
   ]
  },
  {
   "cell_type": "code",
   "execution_count": 29,
   "id": "087ca367-11fa-4901-9562-84450319fb9e",
   "metadata": {},
   "outputs": [],
   "source": [
    "# The length of the id of the last row in the dataframe, which is used to assess how many 0's will be prefixed to the other ids\n",
    "maxNumLength = len(str(df_cleaned.last_valid_index()))\n",
    "\n",
    "for i in range(0, df_cleaned.shape[0]):\n",
    "    df_cleaned.at[i, 'id'] = str(year) + \"_\" + addPrefix(str(df_cleaned.iloc[i]['id']), maxNumLength, fileType=False)"
   ]
  },
  {
   "cell_type": "code",
   "execution_count": 30,
   "id": "3e267c36-e5bb-472c-8ffa-0e92b75fe840",
   "metadata": {},
   "outputs": [
    {
     "data": {
      "text/html": [
       "<div>\n",
       "<style scoped>\n",
       "    .dataframe tbody tr th:only-of-type {\n",
       "        vertical-align: middle;\n",
       "    }\n",
       "\n",
       "    .dataframe tbody tr th {\n",
       "        vertical-align: top;\n",
       "    }\n",
       "\n",
       "    .dataframe thead th {\n",
       "        text-align: right;\n",
       "    }\n",
       "</style>\n",
       "<table border=\"1\" class=\"dataframe\">\n",
       "  <thead>\n",
       "    <tr style=\"text-align: right;\">\n",
       "      <th></th>\n",
       "      <th>id</th>\n",
       "      <th>sentence</th>\n",
       "      <th>length</th>\n",
       "      <th>start_page</th>\n",
       "      <th>end_page</th>\n",
       "    </tr>\n",
       "  </thead>\n",
       "  <tbody>\n",
       "    <tr>\n",
       "      <th>0</th>\n",
       "      <td>1892_0000</td>\n",
       "      <td>AN ACT to CoNSsTITUTE A BATTALION TO BE KNOWN AS THE NAVAL BATTALION OF VOLUNTEER TROOPS OF SOUTH CAROLINA.</td>\n",
       "      <td>109</td>\n",
       "      <td>045</td>\n",
       "      <td>045</td>\n",
       "    </tr>\n",
       "    <tr>\n",
       "      <th>1</th>\n",
       "      <td>1892_0001</td>\n",
       "      <td>Be tt enacted by the Senate and House of Repre- sentatives of the State of South Carolina, now met and sitting in General Assembly, and by the authority of the same, That there shall be allowed, in addition to the companies of the Vol-t unteer Troops of the State of South Carolina as now provided by law, not more than four companies of Naval Militia, which shall constitute a battalion, to be known as the Naval Battalion of the Volunteer Troops of South Carolina.</td>\n",
       "      <td>477</td>\n",
       "      <td>045</td>\n",
       "      <td>046</td>\n",
       "    </tr>\n",
       "    <tr>\n",
       "      <th>2</th>\n",
       "      <td>1892_0002</td>\n",
       "      <td>The officers of this battalion shall consist of a Lieu- tenant Commander, who shall be appointed by the Governor, and whose rank and pay shall assimilate to that of a Major of infantry, and a staff, to consist of one Adjutant, one Ordnance Officer, one Paymaster, who shall be the mustering officer, and one Surgeon, each with the rank of First Lieutenant.</td>\n",
       "      <td>356</td>\n",
       "      <td>046</td>\n",
       "      <td>046</td>\n",
       "    </tr>\n",
       "    <tr>\n",
       "      <th>3</th>\n",
       "      <td>1892_0003</td>\n",
       "      <td>They shall be paid the same as battalion staffs in the Volunteer Troops.</td>\n",
       "      <td>72</td>\n",
       "      <td>046</td>\n",
       "      <td>046</td>\n",
       "    </tr>\n",
       "    <tr>\n",
       "      <th>4</th>\n",
       "      <td>1892_0004</td>\n",
       "      <td>There shall also be attached to the staff the following petty officers: One Master-at-Arms, two Yeomen, one Hospital Steward, one Chief Bugler, who shall receive the same pay as the non-commissioned staff of a battalion of infantry.</td>\n",
       "      <td>232</td>\n",
       "      <td>046</td>\n",
       "      <td>046</td>\n",
       "    </tr>\n",
       "    <tr>\n",
       "      <th>...</th>\n",
       "      <td>...</td>\n",
       "      <td>...</td>\n",
       "      <td>...</td>\n",
       "      <td>...</td>\n",
       "      <td>...</td>\n",
       "    </tr>\n",
       "    <tr>\n",
       "      <th>2048</th>\n",
       "      <td>1892_2048</td>\n",
       "      <td>Be it enacted by the Senate and House of Repre- sentatives of the State of South Carolina, now met and sitting in General Assembly, and by the authority of the same, That the Board of Phosphate Commissioners of the State be, and they are hereby, authorized and empowered to fix the royalty to be paid the State by parties mining in the navigable waters and the marshes of this State at such amounts, not to exceed two dollars per ton, and for such periods, as they, upon full investigation and examination, may deem advisable: Provided, That six months’ notice be given of any raising of such royalty above the sum of one dollar.</td>\n",
       "      <td>640</td>\n",
       "      <td>427</td>\n",
       "      <td>427</td>\n",
       "    </tr>\n",
       "    <tr>\n",
       "      <th>2049</th>\n",
       "      <td>1892_2049</td>\n",
       "      <td>Approved January 7th, A. D. 1893. AN ACT To RENEW AND AMEND THE CHARTER OF THE TOWN OF BEAUFORT.</td>\n",
       "      <td>96</td>\n",
       "      <td>427</td>\n",
       "      <td>427</td>\n",
       "    </tr>\n",
       "    <tr>\n",
       "      <th>2050</th>\n",
       "      <td>1892_2050</td>\n",
       "      <td>Be it enacted by the Senate and House of Repre- sentatives of the State of South Carolina, now met and sitting in General Assembly, and by the authority of the same, That the charter of the town of Beaufort, with the amendments thereto, are hereby renewed and extended for the term of twenty years.</td>\n",
       "      <td>309</td>\n",
       "      <td>427</td>\n",
       "      <td>427</td>\n",
       "    </tr>\n",
       "    <tr>\n",
       "      <th>2051</th>\n",
       "      <td>1892_2051</td>\n",
       "      <td>The municipal authorities of said town of Beaufort are hereby authorized and empowered to levy a tax upon all real and personal property in said town to an amount not exceeding one (1) per cent.</td>\n",
       "      <td>194</td>\n",
       "      <td>427</td>\n",
       "      <td>427</td>\n",
       "    </tr>\n",
       "    <tr>\n",
       "      <th>2052</th>\n",
       "      <td>1892_2052</td>\n",
       "      <td>3. All Acts or parts of Acts in conflict with or repugnant to this Act are hereby repealed.</td>\n",
       "      <td>91</td>\n",
       "      <td>427</td>\n",
       "      <td>427</td>\n",
       "    </tr>\n",
       "  </tbody>\n",
       "</table>\n",
       "<p>2053 rows × 5 columns</p>\n",
       "</div>"
      ],
      "text/plain": [
       "             id  \\\n",
       "0     1892_0000   \n",
       "1     1892_0001   \n",
       "2     1892_0002   \n",
       "3     1892_0003   \n",
       "4     1892_0004   \n",
       "...         ...   \n",
       "2048  1892_2048   \n",
       "2049  1892_2049   \n",
       "2050  1892_2050   \n",
       "2051  1892_2051   \n",
       "2052  1892_2052   \n",
       "\n",
       "                                                                                                                                                                                                                                                                                                                                                                                                                                                                                                                                                                                                                                                    sentence  \\\n",
       "0                                                                                                                                                                                                                                                                                                                                                                                                                                                                                                                                                AN ACT to CoNSsTITUTE A BATTALION TO BE KNOWN AS THE NAVAL BATTALION OF VOLUNTEER TROOPS OF SOUTH CAROLINA.   \n",
       "1                                                                                                                                                                         Be tt enacted by the Senate and House of Repre- sentatives of the State of South Carolina, now met and sitting in General Assembly, and by the authority of the same, That there shall be allowed, in addition to the companies of the Vol-t unteer Troops of the State of South Carolina as now provided by law, not more than four companies of Naval Militia, which shall constitute a battalion, to be known as the Naval Battalion of the Volunteer Troops of South Carolina.   \n",
       "2                                                                                                                                                                                                                                                                                       The officers of this battalion shall consist of a Lieu- tenant Commander, who shall be appointed by the Governor, and whose rank and pay shall assimilate to that of a Major of infantry, and a staff, to consist of one Adjutant, one Ordnance Officer, one Paymaster, who shall be the mustering officer, and one Surgeon, each with the rank of First Lieutenant.   \n",
       "3                                                                                                                                                                                                                                                                                                                                                                                                                                                                                                                                                                                   They shall be paid the same as battalion staffs in the Volunteer Troops.   \n",
       "4                                                                                                                                                                                                                                                                                                                                                                                                                   There shall also be attached to the staff the following petty officers: One Master-at-Arms, two Yeomen, one Hospital Steward, one Chief Bugler, who shall receive the same pay as the non-commissioned staff of a battalion of infantry.   \n",
       "...                                                                                                                                                                                                                                                                                                                                                                                                                                                                                                                                                                                                                                                      ...   \n",
       "2048   Be it enacted by the Senate and House of Repre- sentatives of the State of South Carolina, now met and sitting in General Assembly, and by the authority of the same, That the Board of Phosphate Commissioners of the State be, and they are hereby, authorized and empowered to fix the royalty to be paid the State by parties mining in the navigable waters and the marshes of this State at such amounts, not to exceed two dollars per ton, and for such periods, as they, upon full investigation and examination, may deem advisable: Provided, That six months’ notice be given of any raising of such royalty above the sum of one dollar.   \n",
       "2049                                                                                                                                                                                                                                                                                                                                                                                                                                                                                                                                                        Approved January 7th, A. D. 1893. AN ACT To RENEW AND AMEND THE CHARTER OF THE TOWN OF BEAUFORT.   \n",
       "2050                                                                                                                                                                                                                                                                                                                                              Be it enacted by the Senate and House of Repre- sentatives of the State of South Carolina, now met and sitting in General Assembly, and by the authority of the same, That the charter of the town of Beaufort, with the amendments thereto, are hereby renewed and extended for the term of twenty years.   \n",
       "2051                                                                                                                                                                                                                                                                                                                                                                                                                                                      The municipal authorities of said town of Beaufort are hereby authorized and empowered to levy a tax upon all real and personal property in said town to an amount not exceeding one (1) per cent.   \n",
       "2052                                                                                                                                                                                                                                                                                                                                                                                                                                                                                                                                                             3. All Acts or parts of Acts in conflict with or repugnant to this Act are hereby repealed.   \n",
       "\n",
       "      length start_page end_page  \n",
       "0        109        045      045  \n",
       "1        477        045      046  \n",
       "2        356        046      046  \n",
       "3         72        046      046  \n",
       "4        232        046      046  \n",
       "...      ...        ...      ...  \n",
       "2048     640        427      427  \n",
       "2049      96        427      427  \n",
       "2050     309        427      427  \n",
       "2051     194        427      427  \n",
       "2052      91        427      427  \n",
       "\n",
       "[2053 rows x 5 columns]"
      ]
     },
     "execution_count": 30,
     "metadata": {},
     "output_type": "execute_result"
    }
   ],
   "source": [
    "df_cleaned"
   ]
  },
  {
   "cell_type": "markdown",
   "id": "80060194-c068-4235-9b6c-cae29806afd0",
   "metadata": {},
   "source": [
    "<br>"
   ]
  },
  {
   "cell_type": "markdown",
   "id": "d2e4cdda-7013-42b3-9a9b-166f0c5ccc0b",
   "metadata": {},
   "source": [
    "## Adding other identifiers\n",
    "Add other identifiers about the laws, such as:\n",
    "- whether the sentence is an Act or a Joint\n",
    "- the state that the law originates from"
   ]
  },
  {
   "cell_type": "code",
   "execution_count": 31,
   "id": "38bb6961-6e94-400c-b5b6-5a9621a68af6",
   "metadata": {},
   "outputs": [],
   "source": [
    "df_cleaned.insert(1, 'law_type', 'Acts')\n",
    "df_cleaned.insert(2, 'state', 'SOUTH CAROLINA')\n",
    "\n",
    "# df_cleaned['law_type'] = \"Acts\"\n",
    "# df_cleaned['state'] = \"SOUTH CAROLINA\""
   ]
  },
  {
   "cell_type": "code",
   "execution_count": 32,
   "id": "92ae9f68-18b5-4af2-bea1-7cf8f2598c4c",
   "metadata": {
    "tags": []
   },
   "outputs": [
    {
     "data": {
      "text/html": [
       "<div>\n",
       "<style scoped>\n",
       "    .dataframe tbody tr th:only-of-type {\n",
       "        vertical-align: middle;\n",
       "    }\n",
       "\n",
       "    .dataframe tbody tr th {\n",
       "        vertical-align: top;\n",
       "    }\n",
       "\n",
       "    .dataframe thead th {\n",
       "        text-align: right;\n",
       "    }\n",
       "</style>\n",
       "<table border=\"1\" class=\"dataframe\">\n",
       "  <thead>\n",
       "    <tr style=\"text-align: right;\">\n",
       "      <th></th>\n",
       "      <th>id</th>\n",
       "      <th>law_type</th>\n",
       "      <th>state</th>\n",
       "      <th>sentence</th>\n",
       "      <th>length</th>\n",
       "      <th>start_page</th>\n",
       "      <th>end_page</th>\n",
       "    </tr>\n",
       "  </thead>\n",
       "  <tbody>\n",
       "    <tr>\n",
       "      <th>0</th>\n",
       "      <td>1892_0000</td>\n",
       "      <td>Acts</td>\n",
       "      <td>SOUTH CAROLINA</td>\n",
       "      <td>AN ACT to CoNSsTITUTE A BATTALION TO BE KNOWN AS THE NAVAL BATTALION OF VOLUNTEER TROOPS OF SOUTH CAROLINA.</td>\n",
       "      <td>109</td>\n",
       "      <td>045</td>\n",
       "      <td>045</td>\n",
       "    </tr>\n",
       "    <tr>\n",
       "      <th>1</th>\n",
       "      <td>1892_0001</td>\n",
       "      <td>Acts</td>\n",
       "      <td>SOUTH CAROLINA</td>\n",
       "      <td>Be tt enacted by the Senate and House of Repre- sentatives of the State of South Carolina, now met and sitting in General Assembly, and by the authority of the same, That there shall be allowed, in addition to the companies of the Vol-t unteer Troops of the State of South Carolina as now provided by law, not more than four companies of Naval Militia, which shall constitute a battalion, to be known as the Naval Battalion of the Volunteer Troops of South Carolina.</td>\n",
       "      <td>477</td>\n",
       "      <td>045</td>\n",
       "      <td>046</td>\n",
       "    </tr>\n",
       "    <tr>\n",
       "      <th>2</th>\n",
       "      <td>1892_0002</td>\n",
       "      <td>Acts</td>\n",
       "      <td>SOUTH CAROLINA</td>\n",
       "      <td>The officers of this battalion shall consist of a Lieu- tenant Commander, who shall be appointed by the Governor, and whose rank and pay shall assimilate to that of a Major of infantry, and a staff, to consist of one Adjutant, one Ordnance Officer, one Paymaster, who shall be the mustering officer, and one Surgeon, each with the rank of First Lieutenant.</td>\n",
       "      <td>356</td>\n",
       "      <td>046</td>\n",
       "      <td>046</td>\n",
       "    </tr>\n",
       "    <tr>\n",
       "      <th>3</th>\n",
       "      <td>1892_0003</td>\n",
       "      <td>Acts</td>\n",
       "      <td>SOUTH CAROLINA</td>\n",
       "      <td>They shall be paid the same as battalion staffs in the Volunteer Troops.</td>\n",
       "      <td>72</td>\n",
       "      <td>046</td>\n",
       "      <td>046</td>\n",
       "    </tr>\n",
       "    <tr>\n",
       "      <th>4</th>\n",
       "      <td>1892_0004</td>\n",
       "      <td>Acts</td>\n",
       "      <td>SOUTH CAROLINA</td>\n",
       "      <td>There shall also be attached to the staff the following petty officers: One Master-at-Arms, two Yeomen, one Hospital Steward, one Chief Bugler, who shall receive the same pay as the non-commissioned staff of a battalion of infantry.</td>\n",
       "      <td>232</td>\n",
       "      <td>046</td>\n",
       "      <td>046</td>\n",
       "    </tr>\n",
       "    <tr>\n",
       "      <th>...</th>\n",
       "      <td>...</td>\n",
       "      <td>...</td>\n",
       "      <td>...</td>\n",
       "      <td>...</td>\n",
       "      <td>...</td>\n",
       "      <td>...</td>\n",
       "      <td>...</td>\n",
       "    </tr>\n",
       "    <tr>\n",
       "      <th>2048</th>\n",
       "      <td>1892_2048</td>\n",
       "      <td>Acts</td>\n",
       "      <td>SOUTH CAROLINA</td>\n",
       "      <td>Be it enacted by the Senate and House of Repre- sentatives of the State of South Carolina, now met and sitting in General Assembly, and by the authority of the same, That the Board of Phosphate Commissioners of the State be, and they are hereby, authorized and empowered to fix the royalty to be paid the State by parties mining in the navigable waters and the marshes of this State at such amounts, not to exceed two dollars per ton, and for such periods, as they, upon full investigation and examination, may deem advisable: Provided, That six months’ notice be given of any raising of such royalty above the sum of one dollar.</td>\n",
       "      <td>640</td>\n",
       "      <td>427</td>\n",
       "      <td>427</td>\n",
       "    </tr>\n",
       "    <tr>\n",
       "      <th>2049</th>\n",
       "      <td>1892_2049</td>\n",
       "      <td>Acts</td>\n",
       "      <td>SOUTH CAROLINA</td>\n",
       "      <td>Approved January 7th, A. D. 1893. AN ACT To RENEW AND AMEND THE CHARTER OF THE TOWN OF BEAUFORT.</td>\n",
       "      <td>96</td>\n",
       "      <td>427</td>\n",
       "      <td>427</td>\n",
       "    </tr>\n",
       "    <tr>\n",
       "      <th>2050</th>\n",
       "      <td>1892_2050</td>\n",
       "      <td>Acts</td>\n",
       "      <td>SOUTH CAROLINA</td>\n",
       "      <td>Be it enacted by the Senate and House of Repre- sentatives of the State of South Carolina, now met and sitting in General Assembly, and by the authority of the same, That the charter of the town of Beaufort, with the amendments thereto, are hereby renewed and extended for the term of twenty years.</td>\n",
       "      <td>309</td>\n",
       "      <td>427</td>\n",
       "      <td>427</td>\n",
       "    </tr>\n",
       "    <tr>\n",
       "      <th>2051</th>\n",
       "      <td>1892_2051</td>\n",
       "      <td>Acts</td>\n",
       "      <td>SOUTH CAROLINA</td>\n",
       "      <td>The municipal authorities of said town of Beaufort are hereby authorized and empowered to levy a tax upon all real and personal property in said town to an amount not exceeding one (1) per cent.</td>\n",
       "      <td>194</td>\n",
       "      <td>427</td>\n",
       "      <td>427</td>\n",
       "    </tr>\n",
       "    <tr>\n",
       "      <th>2052</th>\n",
       "      <td>1892_2052</td>\n",
       "      <td>Acts</td>\n",
       "      <td>SOUTH CAROLINA</td>\n",
       "      <td>3. All Acts or parts of Acts in conflict with or repugnant to this Act are hereby repealed.</td>\n",
       "      <td>91</td>\n",
       "      <td>427</td>\n",
       "      <td>427</td>\n",
       "    </tr>\n",
       "  </tbody>\n",
       "</table>\n",
       "<p>2053 rows × 7 columns</p>\n",
       "</div>"
      ],
      "text/plain": [
       "             id law_type           state  \\\n",
       "0     1892_0000     Acts  SOUTH CAROLINA   \n",
       "1     1892_0001     Acts  SOUTH CAROLINA   \n",
       "2     1892_0002     Acts  SOUTH CAROLINA   \n",
       "3     1892_0003     Acts  SOUTH CAROLINA   \n",
       "4     1892_0004     Acts  SOUTH CAROLINA   \n",
       "...         ...      ...             ...   \n",
       "2048  1892_2048     Acts  SOUTH CAROLINA   \n",
       "2049  1892_2049     Acts  SOUTH CAROLINA   \n",
       "2050  1892_2050     Acts  SOUTH CAROLINA   \n",
       "2051  1892_2051     Acts  SOUTH CAROLINA   \n",
       "2052  1892_2052     Acts  SOUTH CAROLINA   \n",
       "\n",
       "                                                                                                                                                                                                                                                                                                                                                                                                                                                                                                                                                                                                                                                    sentence  \\\n",
       "0                                                                                                                                                                                                                                                                                                                                                                                                                                                                                                                                                AN ACT to CoNSsTITUTE A BATTALION TO BE KNOWN AS THE NAVAL BATTALION OF VOLUNTEER TROOPS OF SOUTH CAROLINA.   \n",
       "1                                                                                                                                                                         Be tt enacted by the Senate and House of Repre- sentatives of the State of South Carolina, now met and sitting in General Assembly, and by the authority of the same, That there shall be allowed, in addition to the companies of the Vol-t unteer Troops of the State of South Carolina as now provided by law, not more than four companies of Naval Militia, which shall constitute a battalion, to be known as the Naval Battalion of the Volunteer Troops of South Carolina.   \n",
       "2                                                                                                                                                                                                                                                                                       The officers of this battalion shall consist of a Lieu- tenant Commander, who shall be appointed by the Governor, and whose rank and pay shall assimilate to that of a Major of infantry, and a staff, to consist of one Adjutant, one Ordnance Officer, one Paymaster, who shall be the mustering officer, and one Surgeon, each with the rank of First Lieutenant.   \n",
       "3                                                                                                                                                                                                                                                                                                                                                                                                                                                                                                                                                                                   They shall be paid the same as battalion staffs in the Volunteer Troops.   \n",
       "4                                                                                                                                                                                                                                                                                                                                                                                                                   There shall also be attached to the staff the following petty officers: One Master-at-Arms, two Yeomen, one Hospital Steward, one Chief Bugler, who shall receive the same pay as the non-commissioned staff of a battalion of infantry.   \n",
       "...                                                                                                                                                                                                                                                                                                                                                                                                                                                                                                                                                                                                                                                      ...   \n",
       "2048   Be it enacted by the Senate and House of Repre- sentatives of the State of South Carolina, now met and sitting in General Assembly, and by the authority of the same, That the Board of Phosphate Commissioners of the State be, and they are hereby, authorized and empowered to fix the royalty to be paid the State by parties mining in the navigable waters and the marshes of this State at such amounts, not to exceed two dollars per ton, and for such periods, as they, upon full investigation and examination, may deem advisable: Provided, That six months’ notice be given of any raising of such royalty above the sum of one dollar.   \n",
       "2049                                                                                                                                                                                                                                                                                                                                                                                                                                                                                                                                                        Approved January 7th, A. D. 1893. AN ACT To RENEW AND AMEND THE CHARTER OF THE TOWN OF BEAUFORT.   \n",
       "2050                                                                                                                                                                                                                                                                                                                                              Be it enacted by the Senate and House of Repre- sentatives of the State of South Carolina, now met and sitting in General Assembly, and by the authority of the same, That the charter of the town of Beaufort, with the amendments thereto, are hereby renewed and extended for the term of twenty years.   \n",
       "2051                                                                                                                                                                                                                                                                                                                                                                                                                                                      The municipal authorities of said town of Beaufort are hereby authorized and empowered to levy a tax upon all real and personal property in said town to an amount not exceeding one (1) per cent.   \n",
       "2052                                                                                                                                                                                                                                                                                                                                                                                                                                                                                                                                                             3. All Acts or parts of Acts in conflict with or repugnant to this Act are hereby repealed.   \n",
       "\n",
       "      length start_page end_page  \n",
       "0        109        045      045  \n",
       "1        477        045      046  \n",
       "2        356        046      046  \n",
       "3         72        046      046  \n",
       "4        232        046      046  \n",
       "...      ...        ...      ...  \n",
       "2048     640        427      427  \n",
       "2049      96        427      427  \n",
       "2050     309        427      427  \n",
       "2051     194        427      427  \n",
       "2052      91        427      427  \n",
       "\n",
       "[2053 rows x 7 columns]"
      ]
     },
     "execution_count": 32,
     "metadata": {},
     "output_type": "execute_result"
    }
   ],
   "source": [
    "df_cleaned"
   ]
  },
  {
   "cell_type": "markdown",
   "id": "d89ec8e1-d79e-4467-86e1-4fb1293d8360",
   "metadata": {},
   "source": [
    "<br>"
   ]
  },
  {
   "cell_type": "markdown",
   "id": "50b23a33-3387-4c9e-878e-3d3bf6e218dd",
   "metadata": {},
   "source": [
    "## Exporting"
   ]
  },
  {
   "cell_type": "code",
   "execution_count": 33,
   "id": "fbcac79e-856a-449e-bffb-c80e72d9fff7",
   "metadata": {},
   "outputs": [],
   "source": [
    "# Export the final dataframe to csv for viewing\n",
    "df_cleaned.to_csv(f\"{year}.csv\", index=False)"
   ]
  }
 ],
 "metadata": {
  "kernelspec": {
   "display_name": "Python 3 (ipykernel)",
   "language": "python",
   "name": "python3"
  },
  "language_info": {
   "codemirror_mode": {
    "name": "ipython",
    "version": 3
   },
   "file_extension": ".py",
   "mimetype": "text/x-python",
   "name": "python",
   "nbconvert_exporter": "python",
   "pygments_lexer": "ipython3",
   "version": "3.9.15"
  }
 },
 "nbformat": 4,
 "nbformat_minor": 5
}
