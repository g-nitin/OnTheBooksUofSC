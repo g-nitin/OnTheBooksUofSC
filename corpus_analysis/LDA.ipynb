{
 "cells": [
  {
   "cell_type": "markdown",
   "id": "fa2dc01e-b715-4e1e-b9be-43fe4fee26f8",
   "metadata": {},
   "source": [
    "# Latent Dirichlet Allocation"
   ]
  },
  {
   "cell_type": "code",
   "execution_count": 1,
   "id": "8e406ea3-08cd-4cf2-9621-548a57d23b57",
   "metadata": {
    "ExecuteTime": {
     "end_time": "2023-10-12T21:30:34.321972Z",
     "start_time": "2023-10-12T21:30:34.232690Z"
    },
    "tags": []
   },
   "outputs": [],
   "source": [
    "import os\n",
    "import pandas as pd\n",
    "\n",
    "from gensim import corpora, models"
   ]
  },
  {
   "cell_type": "code",
   "execution_count": 2,
   "id": "249c02a5-f186-4224-a9ed-44e50daaaf1c",
   "metadata": {
    "tags": []
   },
   "outputs": [],
   "source": [
    "import re\n",
    "import nltk\n",
    "\n",
    "from nltk.corpus import stopwords\n",
    "from nltk.tokenize import word_tokenize\n",
    "from nltk.stem import WordNetLemmatizer\n",
    "\n",
    "from collections import Counter"
   ]
  },
  {
   "cell_type": "markdown",
   "id": "be952bed-b74f-4615-a66d-69b07bf362a9",
   "metadata": {
    "tags": []
   },
   "source": [
    "<br>"
   ]
  },
  {
   "cell_type": "markdown",
   "id": "ac934c1b-71ca-4288-b7f8-9473df37f773",
   "metadata": {},
   "source": [
    "## Data Acquisition and Pre-Processing"
   ]
  },
  {
   "cell_type": "code",
   "execution_count": 3,
   "id": "5d851cb0-c7da-4d9c-9217-af5ad82da35f",
   "metadata": {
    "tags": []
   },
   "outputs": [
    {
     "name": "stdout",
     "output_type": "stream",
     "text": [
      "['1873-1874', '1892', '1893', '1894', '1901', '1918', '1921', '1928', '1948', '1956']\n"
     ]
    }
   ],
   "source": [
    "# Read all folder names in the OCR (or a specified) directory\n",
    "# ocred_path = '/work/otb-lab/OCRed'\n",
    "ocred_path = '/Users/nitingupta/Desktop/OTB/OCRed'\n",
    "\n",
    "years = [name for name in os.listdir(ocred_path) if not name.startswith('.')]\n",
    "years.sort()\n",
    "print(years)"
   ]
  },
  {
   "cell_type": "code",
   "execution_count": 4,
   "id": "66e2ed15-b715-4373-8038-c5700e6057ba",
   "metadata": {
    "tags": []
   },
   "outputs": [],
   "source": [
    "df = pd.read_csv('../Splitting/final-update/final-splits/final_splits.csv', index_col = 0, usecols=['id', 'sentence'])\n",
    "# df = pd.read_csv('../split/updated/results/final_splits.csv', index_col = 0, usecols=['id', 'sentence'])"
   ]
  },
  {
   "cell_type": "code",
   "execution_count": 5,
   "id": "b9d3afab-3a46-44fd-bcb8-ce901f381111",
   "metadata": {
    "tags": []
   },
   "outputs": [],
   "source": [
    "df['year'] = df.index.str.split(\"_\").str[0]\n",
    "df.set_index('year', inplace=True)"
   ]
  },
  {
   "cell_type": "code",
   "execution_count": 6,
   "id": "83add712-55cd-4fdb-83cb-ad76650028f9",
   "metadata": {
    "tags": []
   },
   "outputs": [
    {
     "data": {
      "text/html": [
       "<div>\n",
       "<style scoped>\n",
       "    .dataframe tbody tr th:only-of-type {\n",
       "        vertical-align: middle;\n",
       "    }\n",
       "\n",
       "    .dataframe tbody tr th {\n",
       "        vertical-align: top;\n",
       "    }\n",
       "\n",
       "    .dataframe thead th {\n",
       "        text-align: right;\n",
       "    }\n",
       "</style>\n",
       "<table border=\"1\" class=\"dataframe\">\n",
       "  <thead>\n",
       "    <tr style=\"text-align: right;\">\n",
       "      <th></th>\n",
       "      <th>sentence</th>\n",
       "    </tr>\n",
       "    <tr>\n",
       "      <th>year</th>\n",
       "      <th></th>\n",
       "    </tr>\n",
       "  </thead>\n",
       "  <tbody>\n",
       "    <tr>\n",
       "      <th>1873-1874</th>\n",
       "      <td>AN ACT TO REPEAT SECTION FOUR (4) OR AN ACT EN...</td>\n",
       "    </tr>\n",
       "    <tr>\n",
       "      <th>1873-1874</th>\n",
       "      <td>| Section 1. Be it enacted by the Senate and H...</td>\n",
       "    </tr>\n",
       "    <tr>\n",
       "      <th>1873-1874</th>\n",
       "      <td>Sec. 2. That so much of Section seventytwo (72...</td>\n",
       "    </tr>\n",
       "    <tr>\n",
       "      <th>1873-1874</th>\n",
       "      <td>AN ACT to Revive, RENEw AND AMEND AN ACT ENTIT...</td>\n",
       "    </tr>\n",
       "    <tr>\n",
       "      <th>1873-1874</th>\n",
       "      <td>AN ACT To IncorPorRaTE THE REFORM Apotto Socle...</td>\n",
       "    </tr>\n",
       "    <tr>\n",
       "      <th>...</th>\n",
       "      <td>...</td>\n",
       "    </tr>\n",
       "    <tr>\n",
       "      <th>1956</th>\n",
       "      <td>1132 An Act To Require The Commissioner Of Agr...</td>\n",
       "    </tr>\n",
       "    <tr>\n",
       "      <th>1956</th>\n",
       "      <td>Be it enacted by the General Assembly of the S...</td>\n",
       "    </tr>\n",
       "    <tr>\n",
       "      <th>1956</th>\n",
       "      <td>The Commissioner of Agriculture of South Carol...</td>\n",
       "    </tr>\n",
       "    <tr>\n",
       "      <th>1956</th>\n",
       "      <td>Any such plants or weeds unlawfully imported i...</td>\n",
       "    </tr>\n",
       "    <tr>\n",
       "      <th>1956</th>\n",
       "      <td>Time effective: SECTION 3. This act shall take...</td>\n",
       "    </tr>\n",
       "  </tbody>\n",
       "</table>\n",
       "<p>30148 rows × 1 columns</p>\n",
       "</div>"
      ],
      "text/plain": [
       "                                                    sentence\n",
       "year                                                        \n",
       "1873-1874  AN ACT TO REPEAT SECTION FOUR (4) OR AN ACT EN...\n",
       "1873-1874  | Section 1. Be it enacted by the Senate and H...\n",
       "1873-1874  Sec. 2. That so much of Section seventytwo (72...\n",
       "1873-1874  AN ACT to Revive, RENEw AND AMEND AN ACT ENTIT...\n",
       "1873-1874  AN ACT To IncorPorRaTE THE REFORM Apotto Socle...\n",
       "...                                                      ...\n",
       "1956       1132 An Act To Require The Commissioner Of Agr...\n",
       "1956       Be it enacted by the General Assembly of the S...\n",
       "1956       The Commissioner of Agriculture of South Carol...\n",
       "1956       Any such plants or weeds unlawfully imported i...\n",
       "1956       Time effective: SECTION 3. This act shall take...\n",
       "\n",
       "[30148 rows x 1 columns]"
      ]
     },
     "execution_count": 6,
     "metadata": {},
     "output_type": "execute_result"
    }
   ],
   "source": [
    "df"
   ]
  },
  {
   "cell_type": "code",
   "execution_count": 7,
   "id": "98f90b9a-ef3d-499e-94f2-2d1736c8c089",
   "metadata": {},
   "outputs": [],
   "source": [
    "stop_words = stopwords.words('english')\n",
    "\n",
    "# Add some custom words to the list\n",
    "stop_words.append('said')\n",
    "stop_words.append('shall')\n",
    "stop_words.append('ee')\n",
    "stop_words.append('00')\n",
    "stop_words.append('state')\n",
    "stop_words.append('may')\n",
    "stop_words.append('src')\n",
    "stop_words.append('sec')\n",
    "stop_words.append('sec.')\n",
    "stop_words.append('town')\n",
    "stop_words.append('section')\n",
    "stop_words.append('county')\n",
    "stop_words.append('act')\n",
    "stop_words.append('board')\n",
    "stop_words.append('000')\n",
    "stop_words.append(';')\n",
    "stop_words.append('approved')\n",
    "stop_words.append('one')\n",
    "stop_words.append('general')\n",
    "stop_words.append('upon')\n",
    "stop_words.append('hereby')"
   ]
  },
  {
   "cell_type": "code",
   "execution_count": 8,
   "id": "b7b846c4-e957-447c-9131-24c28fee8a48",
   "metadata": {
    "tags": []
   },
   "outputs": [],
   "source": [
    "stop_words = set(stop_words)"
   ]
  },
  {
   "cell_type": "code",
   "execution_count": 9,
   "id": "e5d5bd8d-d0fd-4d9a-9316-cabf73310d97",
   "metadata": {
    "tags": []
   },
   "outputs": [],
   "source": [
    "# Initialize the WordNetLemmatizer\n",
    "lemmatizer = WordNetLemmatizer()\n",
    "\n",
    "def clean(sentence):\n",
    "    \"\"\"\n",
    "    Perform a basic cleaning that includes:\n",
    "        - Hyphen removals from words appeared at the end of a sentence and were split to the next line.\n",
    "        - Lowercasing\n",
    "        - Tokenization\n",
    "        - Removal of words that do not exclusively contain letters\n",
    "        - Removing stopwords\n",
    "        - Lemmatization\n",
    "    \"\"\"\n",
    "\n",
    "    # Hyphen removal\n",
    "    sentence = re.sub(r'(—|_|-)( )*', '', sentence)\n",
    "    \n",
    "    # Lowercase and tokenize\n",
    "    tokens = word_tokenize(sentence.lower())\n",
    "    \n",
    "    # Keep only letters\n",
    "    words_alpha = [word for word in tokens if word.isalpha()]\n",
    "    \n",
    "    # Stopword Removal\n",
    "    filtered_tokens = [word for word in words_alpha if word not in stop_words]\n",
    "    \n",
    "    # Lemmatization\n",
    "    lemmatized_words = [lemmatizer.lemmatize(word) for word in filtered_tokens]\n",
    "    \n",
    "    return lemmatized_words"
   ]
  },
  {
   "cell_type": "code",
   "execution_count": 10,
   "id": "e5dea4fe-216c-4568-8add-a073a9ab02a2",
   "metadata": {
    "tags": []
   },
   "outputs": [],
   "source": [
    "df['cleaned_sent'] = df['sentence'].apply(lambda x: clean(x))"
   ]
  },
  {
   "cell_type": "code",
   "execution_count": 11,
   "id": "04ec3104-5270-4e41-8441-9dbffc64661c",
   "metadata": {
    "tags": []
   },
   "outputs": [
    {
     "data": {
      "text/plain": [
       "year\n",
       "1873-1874    [repeat, four, entitled, relieve, south, carol...\n",
       "1873-1874    [enacted, senate, house, representative, south...\n",
       "1873-1874    [much, seventytwo, chapter, xii, title, iii, d...\n",
       "1873-1874    [revive, renew, amend, entitled, acr, incorpor...\n",
       "1873-1874    [incorporrate, reform, apotto, soclery, charle...\n",
       "                                   ...                        \n",
       "1956         [require, commissioner, agriculture, south, ca...\n",
       "1956         [enacted, assembly, south, carolina, commissio...\n",
       "1956         [commissioner, agriculture, south, carolina, d...\n",
       "1956         [plant, weed, unlawfully, imported, seized, co...\n",
       "1956         [time, effective, take, effect, approval, gove...\n",
       "Name: cleaned_sent, Length: 30148, dtype: object"
      ]
     },
     "execution_count": 11,
     "metadata": {},
     "output_type": "execute_result"
    }
   ],
   "source": [
    "df['cleaned_sent']"
   ]
  },
  {
   "cell_type": "markdown",
   "id": "7fe3ac4f-6c44-4dfe-9375-4830439527e7",
   "metadata": {},
   "source": [
    "### Removing Rare Words\n",
    "Filter out extreme words that won't be helpful in the topic modeling."
   ]
  },
  {
   "cell_type": "code",
   "execution_count": 12,
   "id": "5cea2560-167a-464c-bf8c-43d568dcdbb8",
   "metadata": {
    "tags": []
   },
   "outputs": [
    {
     "data": {
      "text/plain": [
       "732259"
      ]
     },
     "execution_count": 12,
     "metadata": {},
     "output_type": "execute_result"
    }
   ],
   "source": [
    "# A list of all cleaned words from the corpus\n",
    "allwords = []\n",
    "df['cleaned_sent'].apply(lambda x: [allwords.append(word) for word in x])\n",
    "len(allwords)"
   ]
  },
  {
   "cell_type": "code",
   "execution_count": 13,
   "id": "6711b4a2-360a-447e-a69f-091dc259bb43",
   "metadata": {
    "tags": []
   },
   "outputs": [],
   "source": [
    "# Count word frequencies across the entire corpus\n",
    "word_counts = Counter(allwords)\n",
    "\n",
    "# Frequency threshold for rare words\n",
    "frequency_threshold = 10\n",
    "\n",
    "# Remove rare words\n",
    "df['cleaned_sent'] = df['cleaned_sent'].apply(lambda x: [word for word in x if word_counts[word] >= frequency_threshold])"
   ]
  },
  {
   "cell_type": "code",
   "execution_count": 14,
   "id": "1337ca78-4c9e-4125-b826-2619556f7ad5",
   "metadata": {
    "tags": []
   },
   "outputs": [
    {
     "data": {
      "text/html": [
       "<div>\n",
       "<style scoped>\n",
       "    .dataframe tbody tr th:only-of-type {\n",
       "        vertical-align: middle;\n",
       "    }\n",
       "\n",
       "    .dataframe tbody tr th {\n",
       "        vertical-align: top;\n",
       "    }\n",
       "\n",
       "    .dataframe thead th {\n",
       "        text-align: right;\n",
       "    }\n",
       "</style>\n",
       "<table border=\"1\" class=\"dataframe\">\n",
       "  <thead>\n",
       "    <tr style=\"text-align: right;\">\n",
       "      <th></th>\n",
       "      <th>sentence</th>\n",
       "      <th>cleaned_sent</th>\n",
       "    </tr>\n",
       "    <tr>\n",
       "      <th>year</th>\n",
       "      <th></th>\n",
       "      <th></th>\n",
       "    </tr>\n",
       "  </thead>\n",
       "  <tbody>\n",
       "    <tr>\n",
       "      <th>1873-1874</th>\n",
       "      <td>AN ACT TO REPEAT SECTION FOUR (4) OR AN ACT EN...</td>\n",
       "      <td>[repeat, four, entitled, relieve, south, carol...</td>\n",
       "    </tr>\n",
       "    <tr>\n",
       "      <th>1873-1874</th>\n",
       "      <td>| Section 1. Be it enacted by the Senate and H...</td>\n",
       "      <td>[enacted, senate, house, representative, south...</td>\n",
       "    </tr>\n",
       "    <tr>\n",
       "      <th>1873-1874</th>\n",
       "      <td>Sec. 2. That so much of Section seventytwo (72...</td>\n",
       "      <td>[much, seventytwo, chapter, title, iii, audito...</td>\n",
       "    </tr>\n",
       "    <tr>\n",
       "      <th>1873-1874</th>\n",
       "      <td>AN ACT to Revive, RENEw AND AMEND AN ACT ENTIT...</td>\n",
       "      <td>[renew, amend, entitled, incorporate, home, in...</td>\n",
       "    </tr>\n",
       "    <tr>\n",
       "      <th>1873-1874</th>\n",
       "      <td>AN ACT To IncorPorRaTE THE REFORM Apotto Socle...</td>\n",
       "      <td>[charleston, south, carolina]</td>\n",
       "    </tr>\n",
       "    <tr>\n",
       "      <th>...</th>\n",
       "      <td>...</td>\n",
       "      <td>...</td>\n",
       "    </tr>\n",
       "    <tr>\n",
       "      <th>1956</th>\n",
       "      <td>1132 An Act To Require The Commissioner Of Agr...</td>\n",
       "      <td>[require, commissioner, agriculture, south, ca...</td>\n",
       "    </tr>\n",
       "    <tr>\n",
       "      <th>1956</th>\n",
       "      <td>Be it enacted by the General Assembly of the S...</td>\n",
       "      <td>[enacted, assembly, south, carolina, commissio...</td>\n",
       "    </tr>\n",
       "    <tr>\n",
       "      <th>1956</th>\n",
       "      <td>The Commissioner of Agriculture of South Carol...</td>\n",
       "      <td>[commissioner, agriculture, south, carolina, d...</td>\n",
       "    </tr>\n",
       "    <tr>\n",
       "      <th>1956</th>\n",
       "      <td>Any such plants or weeds unlawfully imported i...</td>\n",
       "      <td>[plant, unlawfully, seized, confiscated, addit...</td>\n",
       "    </tr>\n",
       "    <tr>\n",
       "      <th>1956</th>\n",
       "      <td>Time effective: SECTION 3. This act shall take...</td>\n",
       "      <td>[time, effective, take, effect, approval, gove...</td>\n",
       "    </tr>\n",
       "  </tbody>\n",
       "</table>\n",
       "<p>30148 rows × 2 columns</p>\n",
       "</div>"
      ],
      "text/plain": [
       "                                                    sentence  \\\n",
       "year                                                           \n",
       "1873-1874  AN ACT TO REPEAT SECTION FOUR (4) OR AN ACT EN...   \n",
       "1873-1874  | Section 1. Be it enacted by the Senate and H...   \n",
       "1873-1874  Sec. 2. That so much of Section seventytwo (72...   \n",
       "1873-1874  AN ACT to Revive, RENEw AND AMEND AN ACT ENTIT...   \n",
       "1873-1874  AN ACT To IncorPorRaTE THE REFORM Apotto Socle...   \n",
       "...                                                      ...   \n",
       "1956       1132 An Act To Require The Commissioner Of Agr...   \n",
       "1956       Be it enacted by the General Assembly of the S...   \n",
       "1956       The Commissioner of Agriculture of South Carol...   \n",
       "1956       Any such plants or weeds unlawfully imported i...   \n",
       "1956       Time effective: SECTION 3. This act shall take...   \n",
       "\n",
       "                                                cleaned_sent  \n",
       "year                                                          \n",
       "1873-1874  [repeat, four, entitled, relieve, south, carol...  \n",
       "1873-1874  [enacted, senate, house, representative, south...  \n",
       "1873-1874  [much, seventytwo, chapter, title, iii, audito...  \n",
       "1873-1874  [renew, amend, entitled, incorporate, home, in...  \n",
       "1873-1874                      [charleston, south, carolina]  \n",
       "...                                                      ...  \n",
       "1956       [require, commissioner, agriculture, south, ca...  \n",
       "1956       [enacted, assembly, south, carolina, commissio...  \n",
       "1956       [commissioner, agriculture, south, carolina, d...  \n",
       "1956       [plant, unlawfully, seized, confiscated, addit...  \n",
       "1956       [time, effective, take, effect, approval, gove...  \n",
       "\n",
       "[30148 rows x 2 columns]"
      ]
     },
     "execution_count": 14,
     "metadata": {},
     "output_type": "execute_result"
    }
   ],
   "source": [
    "df"
   ]
  },
  {
   "cell_type": "markdown",
   "id": "4ad4646e-b852-4154-bd0a-5eed589a5180",
   "metadata": {},
   "source": [
    "<br>"
   ]
  },
  {
   "cell_type": "markdown",
   "id": "662f8a3b-570c-4737-a87d-fd7d41e1ddd3",
   "metadata": {},
   "source": [
    "## LDA"
   ]
  },
  {
   "cell_type": "code",
   "execution_count": 15,
   "id": "e582d78a-cab5-4b79-b3df-b91817945f68",
   "metadata": {
    "tags": []
   },
   "outputs": [],
   "source": [
    "dictionary = corpora.Dictionary(df['cleaned_sent'])"
   ]
  },
  {
   "cell_type": "markdown",
   "id": "80049f35-aac6-4e46-9d2b-a77d6d8ebaf7",
   "metadata": {},
   "source": [
    "### LDA Model Training"
   ]
  },
  {
   "cell_type": "code",
   "execution_count": 16,
   "id": "b116762f-944a-43c0-a01e-3144080f2cb2",
   "metadata": {
    "tags": []
   },
   "outputs": [],
   "source": [
    "# Create a dictionary and a corpus (Bag of Words)\n",
    "id2word = corpora.Dictionary(df['cleaned_sent'])  # a mapping between words and their integer ids\n",
    "corpus = [id2word.doc2bow(text) for text in df['cleaned_sent']]  # Convert document into the bag-of-words format"
   ]
  },
  {
   "cell_type": "code",
   "execution_count": 17,
   "id": "35c94802-8c34-4487-b672-d54d05856fe5",
   "metadata": {
    "tags": []
   },
   "outputs": [],
   "source": [
    "lda_model = models.ldamodel.LdaModel(corpus=corpus, id2word=id2word,\n",
    "                                     num_topics=10,\n",
    "                                     per_word_topics=True)"
   ]
  },
  {
   "cell_type": "markdown",
   "id": "6589bc59-4cae-4ba7-8d70-e7b01207d35b",
   "metadata": {
    "tags": []
   },
   "source": [
    "### Topic Interpretation"
   ]
  },
  {
   "cell_type": "code",
   "execution_count": 18,
   "id": "018b404b-183b-4164-aa46-1725ade895cb",
   "metadata": {
    "tags": []
   },
   "outputs": [
    {
     "name": "stdout",
     "output_type": "stream",
     "text": [
      "(0, '0.032*\"education\" + 0.022*\"service\" + 0.020*\"elector\" + 0.020*\"total\" + 0.019*\"voting\" + 0.018*\"ey\" + 0.017*\"eee\" + 0.016*\"magistrate\" + 0.016*\"precinct\" + 0.015*\"commission\"')\n",
      "(1, '0.018*\"person\" + 0.014*\"vehicle\" + 0.011*\"provided\" + 0.010*\"corporation\" + 0.010*\"provision\" + 0.008*\"court\" + 0.008*\"company\" + 0.008*\"law\" + 0.008*\"commission\" + 0.007*\"land\"')\n",
      "(2, '0.051*\"dollar\" + 0.027*\"thousand\" + 0.021*\"hundred\" + 0.020*\"per\" + 0.018*\"cent\" + 0.015*\"sum\" + 0.011*\"purpose\" + 0.011*\"equipment\" + 0.011*\"building\" + 0.010*\"education\"')\n",
      "(3, '0.043*\"bond\" + 0.024*\"commission\" + 0.021*\"fund\" + 0.019*\"year\" + 0.019*\"interest\" + 0.013*\"authorized\" + 0.012*\"retirement\" + 0.011*\"loan\" + 0.011*\"issued\" + 0.011*\"commissioner\"')\n",
      "(4, '0.055*\"election\" + 0.051*\"act\" + 0.030*\"part\" + 0.025*\"item\" + 0.021*\"day\" + 0.020*\"repealed\" + 0.020*\"inconsistent\" + 0.018*\"april\" + 0.016*\"provision\" + 0.013*\"person\"')\n",
      "(5, '0.039*\"term\" + 0.032*\"elected\" + 0.027*\"member\" + 0.020*\"office\" + 0.019*\"year\" + 0.017*\"trustee\" + 0.016*\"power\" + 0.013*\"regulation\" + 0.012*\"development\" + 0.012*\"qualified\"')\n",
      "(6, '0.101*\"school\" + 0.094*\"district\" + 0.059*\"trustee\" + 0.045*\"tax\" + 0.016*\"provided\" + 0.014*\"property\" + 0.013*\"purpose\" + 0.012*\"levy\" + 0.012*\"fund\" + 0.011*\"amount\"')\n",
      "(7, '0.058*\"area\" + 0.038*\"approval\" + 0.034*\"governor\" + 0.033*\"effect\" + 0.032*\"day\" + 0.031*\"take\" + 0.025*\"effective\" + 0.024*\"road\" + 0.023*\"time\" + 0.022*\"highway\"')\n",
      "(8, '0.052*\"court\" + 0.031*\"clerk\" + 0.022*\"judge\" + 0.020*\"fee\" + 0.019*\"office\" + 0.018*\"attendance\" + 0.016*\"sheriff\" + 0.015*\"salary\" + 0.013*\"service\" + 0.011*\"provided\"')\n",
      "(9, '0.115*\"south\" + 0.112*\"carolina\" + 0.055*\"code\" + 0.051*\"assembly\" + 0.041*\"enacted\" + 0.038*\"amended\" + 0.033*\"law\" + 0.021*\"follows\" + 0.020*\"herewith\" + 0.019*\"read\"')\n"
     ]
    }
   ],
   "source": [
    "# Print the topics and associated words\n",
    "topics = lda_model.print_topics()\n",
    "for topic in topics:\n",
    "    print(topic)"
   ]
  },
  {
   "cell_type": "markdown",
   "id": "c3a068ec-202c-42ef-bd0b-284ad944c76f",
   "metadata": {},
   "source": [
    "## Evaluation Metrics"
   ]
  },
  {
   "cell_type": "markdown",
   "id": "1ca72b62-f1a7-4c17-afad-1585febdb628",
   "metadata": {},
   "source": [
    "Two evaluation metrics to consider for topic modeling: perplexity and coherence."
   ]
  },
  {
   "cell_type": "code",
   "execution_count": 19,
   "id": "a53af5bf-8c14-4275-9ab1-2df3d419e0f8",
   "metadata": {},
   "outputs": [],
   "source": [
    "from gensim.models import CoherenceModel"
   ]
  },
  {
   "cell_type": "code",
   "execution_count": 20,
   "id": "aec327fc-1d31-4c19-bf46-3ae56f502e6c",
   "metadata": {},
   "outputs": [
    {
     "name": "stdout",
     "output_type": "stream",
     "text": [
      "Perplexity: -7.13\n"
     ]
    }
   ],
   "source": [
    "# Compute Perplexity (lower is better)\n",
    "print('Perplexity:', round(lda_model.log_perplexity(corpus), 2))"
   ]
  },
  {
   "cell_type": "code",
   "execution_count": 21,
   "id": "b5caa65d-74b2-4888-b6e9-aa00b98b8d13",
   "metadata": {},
   "outputs": [
    {
     "name": "stdout",
     "output_type": "stream",
     "text": [
      "Coherence Score: 0.54\n"
     ]
    }
   ],
   "source": [
    "# Compute Coherence Score (higher is better)\n",
    "coherence_model_lda = CoherenceModel(model=lda_model, texts=df['cleaned_sent'], dictionary=id2word, coherence='c_v')\n",
    "coherence_lda = coherence_model_lda.get_coherence()\n",
    "print('Coherence Score:', round(coherence_lda, 2))"
   ]
  },
  {
   "cell_type": "markdown",
   "id": "5949ef67-2593-459e-8677-473de6cbea6d",
   "metadata": {},
   "source": [
    "## Visualization"
   ]
  },
  {
   "cell_type": "code",
   "execution_count": 28,
   "id": "af4bd64f-3b92-4037-9d64-74644d0ab7a2",
   "metadata": {
    "scrolled": true
   },
   "outputs": [],
   "source": [
    "import warnings\n",
    "warnings.filterwarnings(\"ignore\", category=DeprecationWarning) "
   ]
  },
  {
   "cell_type": "code",
   "execution_count": 29,
   "id": "74249c52-b07c-4c36-b500-6797be1d9c5a",
   "metadata": {
    "scrolled": true
   },
   "outputs": [],
   "source": [
    "import pyLDAvis\n",
    "import pyLDAvis.gensim"
   ]
  },
  {
   "cell_type": "code",
   "execution_count": 30,
   "id": "8c421be3-abe0-46f0-97dc-c72cfb46a28b",
   "metadata": {
    "scrolled": true
   },
   "outputs": [],
   "source": [
    "pyLDAvis.enable_notebook()"
   ]
  },
  {
   "cell_type": "code",
   "execution_count": 32,
   "id": "a2e4a910-94ea-40e5-9396-41281516bcef",
   "metadata": {
    "scrolled": true
   },
   "outputs": [],
   "source": [
    "p = pyLDAvis.gensim.prepare(lda_model, corpus, id2word)"
   ]
  },
  {
   "cell_type": "code",
   "execution_count": 34,
   "id": "dd19e8cb-fb15-4b4b-bd20-54b99e0f50ac",
   "metadata": {},
   "outputs": [],
   "source": [
    "# p"
   ]
  }
 ],
 "metadata": {
  "kernelspec": {
   "display_name": "Python 3 (ipykernel)",
   "language": "python",
   "name": "python3"
  },
  "language_info": {
   "codemirror_mode": {
    "name": "ipython",
    "version": 3
   },
   "file_extension": ".py",
   "mimetype": "text/x-python",
   "name": "python",
   "nbconvert_exporter": "python",
   "pygments_lexer": "ipython3",
   "version": "3.12.0"
  }
 },
 "nbformat": 4,
 "nbformat_minor": 5
}
