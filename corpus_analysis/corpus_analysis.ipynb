{
 "cells": [
  {
   "cell_type": "code",
   "execution_count": 1,
   "id": "6db919d7-5dac-4d06-bfac-af5c37144b35",
   "metadata": {
    "tags": []
   },
   "outputs": [],
   "source": [
    "import os\n",
    "import pandas as pd\n",
    "import numpy as np\n",
    "\n",
    "from nltk.corpus import stopwords # Import the stop word list\n",
    "pd.set_option('display.max_colwidth', None)"
   ]
  },
  {
   "cell_type": "code",
   "execution_count": 2,
   "id": "c873bce5-10ac-4a28-bb37-cd2d87f80e02",
   "metadata": {
    "tags": []
   },
   "outputs": [],
   "source": [
    "stop_words = stopwords.words('english')"
   ]
  },
  {
   "cell_type": "raw",
   "id": "d9fec079-a05f-491a-88fa-675794d5f7ec",
   "metadata": {
    "tags": []
   },
   "source": [
    "# Read all folder names in the OCR (or a specified) directory\n",
    "# ocred_path = '/work/otb-lab/OCRed'\n",
    "ocred_path = '/Users/nitingupta/Desktop/OTB/OCRed'\n",
    "\n",
    "years = [name for name in os.listdir(ocred_path) if not name.startswith('.')]\n",
    "years.sort()\n",
    "print(years)"
   ]
  },
  {
   "cell_type": "markdown",
   "id": "8f451f0b-a76d-4fb7-ac91-2cabbf679812",
   "metadata": {},
   "source": [
    "<br>\n",
    "Read the final split csv..."
   ]
  },
  {
   "cell_type": "code",
   "execution_count": 3,
   "id": "b02eee93-f6f6-4388-b7e8-36a04c22f56d",
   "metadata": {
    "tags": []
   },
   "outputs": [],
   "source": [
    "df = pd.read_csv('../Splitting/final-update/final-splits/final_splits.csv', index_col = 0)"
   ]
  },
  {
   "cell_type": "code",
   "execution_count": 4,
   "id": "53ad7a7e-9696-45b3-9dc6-25427e3a1651",
   "metadata": {
    "tags": []
   },
   "outputs": [],
   "source": [
    "df['year'] = df.index.str.split(\"_\").str[0]"
   ]
  },
  {
   "cell_type": "code",
   "execution_count": 5,
   "id": "cd45bec3-6b9f-40df-afaa-5a6daeb5e5be",
   "metadata": {
    "tags": []
   },
   "outputs": [
    {
     "data": {
      "text/html": [
       "<div>\n",
       "<style scoped>\n",
       "    .dataframe tbody tr th:only-of-type {\n",
       "        vertical-align: middle;\n",
       "    }\n",
       "\n",
       "    .dataframe tbody tr th {\n",
       "        vertical-align: top;\n",
       "    }\n",
       "\n",
       "    .dataframe thead th {\n",
       "        text-align: right;\n",
       "    }\n",
       "</style>\n",
       "<table border=\"1\" class=\"dataframe\">\n",
       "  <thead>\n",
       "    <tr style=\"text-align: right;\">\n",
       "      <th></th>\n",
       "      <th>law_type</th>\n",
       "      <th>state</th>\n",
       "      <th>sentence</th>\n",
       "      <th>length</th>\n",
       "      <th>start_page</th>\n",
       "      <th>end_page</th>\n",
       "      <th>act</th>\n",
       "      <th>section</th>\n",
       "      <th>path</th>\n",
       "      <th>year</th>\n",
       "    </tr>\n",
       "    <tr>\n",
       "      <th>id</th>\n",
       "      <th></th>\n",
       "      <th></th>\n",
       "      <th></th>\n",
       "      <th></th>\n",
       "      <th></th>\n",
       "      <th></th>\n",
       "      <th></th>\n",
       "      <th></th>\n",
       "      <th></th>\n",
       "      <th></th>\n",
       "    </tr>\n",
       "  </thead>\n",
       "  <tbody>\n",
       "    <tr>\n",
       "      <th>1873-1874_0000</th>\n",
       "      <td>Act</td>\n",
       "      <td>SOUTH CAROLINA</td>\n",
       "      <td>AN ACT TO REPEAT SECTION FOUR (4) OR AN ACT ENTITLED “AN ACT TO RELIEVE THE STATE OF SOUTH CAROLINA OF ALL LIABILITY FOR ITS GUARANTY OF THE BONPS OF THE BLUE RIPCE RAILROAP COMPANY, BY PROVIDING FOR THE SECURING AND DESTRUCTION OF THE SAME,” APPROVED MARCU 2, 1872; AND TO REPEAL SO MUCH OF SECTION 72, CHAPRER XII, TITLE III, OR THE GENERAL STATUTES, AS AUTHORIZES THE STATE AUDITOR TO GIVE NOTICE ANNUALLY TO EACU COUNTY AVUPITOR OF THE RATES PER CENTUM TO BE LEVIED FOR VARIOUS SRATE PURPPOSES.</td>\n",
       "      <td>503</td>\n",
       "      <td>31</td>\n",
       "      <td>31</td>\n",
       "      <td>1</td>\n",
       "      <td>0</td>\n",
       "      <td>https://emailsc.sharepoint.com/:i:/r/sites/COTEAM-ULIB-OntheBooks/Shared%20Documents/General/OCRed/1873-1874/images.zip/00000031.jpg</td>\n",
       "      <td>1873-1874</td>\n",
       "    </tr>\n",
       "    <tr>\n",
       "      <th>1873-1874_0001</th>\n",
       "      <td>Act</td>\n",
       "      <td>SOUTH CAROLINA</td>\n",
       "      <td>| Section 1. Be it enacted by the Senate and House of Representatives of the State of South Carolina, now met and sitting in General Assembly, and by the authority of the same, That Section four (4) of an Act entitled “An Act to relieve the State of South Carolina of all liability for its guaranty of the bonds of the Blue Ridge Railroad Company, by providing for the securing and destruction of the same, approved March 2, 1872, providing for an annual tax of three mills on the dollar, for the redemption of the revenue bond scrip, be, and the same is hereby, repealed.</td>\n",
       "      <td>577</td>\n",
       "      <td>31</td>\n",
       "      <td>32</td>\n",
       "      <td>1</td>\n",
       "      <td>0</td>\n",
       "      <td>https://emailsc.sharepoint.com/:i:/r/sites/COTEAM-ULIB-OntheBooks/Shared%20Documents/General/OCRed/1873-1874/images.zip/00000031.jpg</td>\n",
       "      <td>1873-1874</td>\n",
       "    </tr>\n",
       "    <tr>\n",
       "      <th>1873-1874_0002</th>\n",
       "      <td>Act</td>\n",
       "      <td>SOUTH CAROLINA</td>\n",
       "      <td>Sec. 2. That so much of Section seventytwo (72), Chapter XII, Title III, as directs that the State Auditor shall, on or before November fifteenth, annually, give notice to each County Auditor of the rates per centum authorized by law to be levied for various State purposes, be, and the same is hereby, repealed, and the Comptroller General is hereby forbidden to levy any tax for any purpose whatever, unless expressly hereafter authorized so to do by statute.  Approved October 22, 1873.</td>\n",
       "      <td>493</td>\n",
       "      <td>32</td>\n",
       "      <td>32</td>\n",
       "      <td>1</td>\n",
       "      <td>2</td>\n",
       "      <td>https://emailsc.sharepoint.com/:i:/r/sites/COTEAM-ULIB-OntheBooks/Shared%20Documents/General/OCRed/1873-1874/images.zip/00000032.jpg</td>\n",
       "      <td>1873-1874</td>\n",
       "    </tr>\n",
       "    <tr>\n",
       "      <th>1873-1874_0003</th>\n",
       "      <td>Act</td>\n",
       "      <td>SOUTH CAROLINA</td>\n",
       "      <td>AN ACT to Revive, RENEw AND AMEND AN ACT ENTITLED “An Acr to Incorporate THE Home InsurANcE ComPANY, OF CHARLESTON.” Be it enacted by the Senate and House of Representatives of the State of South Carolina, now met and sitting in General Assembly, and by the authority of the same, That the Act of the General Assembly of the said State, entitled “ An Act to incorporate the Home Insurance Company, of Charleston,” be, and the same is hereby, revived, renewed and extended, from the passage hereof, with the following alterations and amendments, viz: Section 5, strike out the words “one year” and insert in lieu thereof the words “ two years.” Section 8, after the word “ respondentia,” insert the words “or other securities.” Section 14, strike out the words “one year” and insert in lieu thereof “ two years.”</td>\n",
       "      <td>817</td>\n",
       "      <td>32</td>\n",
       "      <td>32</td>\n",
       "      <td>2</td>\n",
       "      <td>0</td>\n",
       "      <td>https://emailsc.sharepoint.com/:i:/r/sites/COTEAM-ULIB-OntheBooks/Shared%20Documents/General/OCRed/1873-1874/images.zip/00000032.jpg</td>\n",
       "      <td>1873-1874</td>\n",
       "    </tr>\n",
       "    <tr>\n",
       "      <th>1873-1874_0004</th>\n",
       "      <td>Act</td>\n",
       "      <td>SOUTH CAROLINA</td>\n",
       "      <td>AN ACT To IncorPorRaTE THE REFORM Apotto Soclery, OF CHARLESTON, SouTH CAROLINA.</td>\n",
       "      <td>85</td>\n",
       "      <td>32</td>\n",
       "      <td>32</td>\n",
       "      <td>3</td>\n",
       "      <td>0</td>\n",
       "      <td>https://emailsc.sharepoint.com/:i:/r/sites/COTEAM-ULIB-OntheBooks/Shared%20Documents/General/OCRed/1873-1874/images.zip/00000032.jpg</td>\n",
       "      <td>1873-1874</td>\n",
       "    </tr>\n",
       "  </tbody>\n",
       "</table>\n",
       "</div>"
      ],
      "text/plain": [
       "               law_type           state  \\\n",
       "id                                        \n",
       "1873-1874_0000      Act  SOUTH CAROLINA   \n",
       "1873-1874_0001      Act  SOUTH CAROLINA   \n",
       "1873-1874_0002      Act  SOUTH CAROLINA   \n",
       "1873-1874_0003      Act  SOUTH CAROLINA   \n",
       "1873-1874_0004      Act  SOUTH CAROLINA   \n",
       "\n",
       "                                                                                                                                                                                                                                                                                                                                                                                                                                                                                                                                                                                                                                                                                                                                                                                                                                                         sentence  \\\n",
       "id                                                                                                                                                                                                                                                                                                                                                                                                                                                                                                                                                                                                                                                                                                                                                                                                                                                                  \n",
       "1873-1874_0000                                                                                                                                                                                                                                                                                                                            AN ACT TO REPEAT SECTION FOUR (4) OR AN ACT ENTITLED “AN ACT TO RELIEVE THE STATE OF SOUTH CAROLINA OF ALL LIABILITY FOR ITS GUARANTY OF THE BONPS OF THE BLUE RIPCE RAILROAP COMPANY, BY PROVIDING FOR THE SECURING AND DESTRUCTION OF THE SAME,” APPROVED MARCU 2, 1872; AND TO REPEAL SO MUCH OF SECTION 72, CHAPRER XII, TITLE III, OR THE GENERAL STATUTES, AS AUTHORIZES THE STATE AUDITOR TO GIVE NOTICE ANNUALLY TO EACU COUNTY AVUPITOR OF THE RATES PER CENTUM TO BE LEVIED FOR VARIOUS SRATE PURPPOSES.        \n",
       "1873-1874_0001                                                                                                                                                                                                                                                  | Section 1. Be it enacted by the Senate and House of Representatives of the State of South Carolina, now met and sitting in General Assembly, and by the authority of the same, That Section four (4) of an Act entitled “An Act to relieve the State of South Carolina of all liability for its guaranty of the bonds of the Blue Ridge Railroad Company, by providing for the securing and destruction of the same, approved March 2, 1872, providing for an annual tax of three mills on the dollar, for the redemption of the revenue bond scrip, be, and the same is hereby, repealed.        \n",
       "1873-1874_0002                                                                                                                                                                                                                                                                                                                                      Sec. 2. That so much of Section seventytwo (72), Chapter XII, Title III, as directs that the State Auditor shall, on or before November fifteenth, annually, give notice to each County Auditor of the rates per centum authorized by law to be levied for various State purposes, be, and the same is hereby, repealed, and the Comptroller General is hereby forbidden to levy any tax for any purpose whatever, unless expressly hereafter authorized so to do by statute.  Approved October 22, 1873.       \n",
       "1873-1874_0003  AN ACT to Revive, RENEw AND AMEND AN ACT ENTITLED “An Acr to Incorporate THE Home InsurANcE ComPANY, OF CHARLESTON.” Be it enacted by the Senate and House of Representatives of the State of South Carolina, now met and sitting in General Assembly, and by the authority of the same, That the Act of the General Assembly of the said State, entitled “ An Act to incorporate the Home Insurance Company, of Charleston,” be, and the same is hereby, revived, renewed and extended, from the passage hereof, with the following alterations and amendments, viz: Section 5, strike out the words “one year” and insert in lieu thereof the words “ two years.” Section 8, after the word “ respondentia,” insert the words “or other securities.” Section 14, strike out the words “one year” and insert in lieu thereof “ two years.”         \n",
       "1873-1874_0004                                                                                                                                                                                                                                                                                                                                                                                                                                                                                                                                                                                                                                                                                                                                                              AN ACT To IncorPorRaTE THE REFORM Apotto Soclery, OF CHARLESTON, SouTH CAROLINA.        \n",
       "\n",
       "                length  start_page  end_page  act section  \\\n",
       "id                                                          \n",
       "1873-1874_0000     503          31        31    1       0   \n",
       "1873-1874_0001     577          31        32    1       0   \n",
       "1873-1874_0002     493          32        32    1       2   \n",
       "1873-1874_0003     817          32        32    2       0   \n",
       "1873-1874_0004      85          32        32    3       0   \n",
       "\n",
       "                                                                                                                                                path  \\\n",
       "id                                                                                                                                                     \n",
       "1873-1874_0000  https://emailsc.sharepoint.com/:i:/r/sites/COTEAM-ULIB-OntheBooks/Shared%20Documents/General/OCRed/1873-1874/images.zip/00000031.jpg   \n",
       "1873-1874_0001  https://emailsc.sharepoint.com/:i:/r/sites/COTEAM-ULIB-OntheBooks/Shared%20Documents/General/OCRed/1873-1874/images.zip/00000031.jpg   \n",
       "1873-1874_0002  https://emailsc.sharepoint.com/:i:/r/sites/COTEAM-ULIB-OntheBooks/Shared%20Documents/General/OCRed/1873-1874/images.zip/00000032.jpg   \n",
       "1873-1874_0003  https://emailsc.sharepoint.com/:i:/r/sites/COTEAM-ULIB-OntheBooks/Shared%20Documents/General/OCRed/1873-1874/images.zip/00000032.jpg   \n",
       "1873-1874_0004  https://emailsc.sharepoint.com/:i:/r/sites/COTEAM-ULIB-OntheBooks/Shared%20Documents/General/OCRed/1873-1874/images.zip/00000032.jpg   \n",
       "\n",
       "                     year  \n",
       "id                         \n",
       "1873-1874_0000  1873-1874  \n",
       "1873-1874_0001  1873-1874  \n",
       "1873-1874_0002  1873-1874  \n",
       "1873-1874_0003  1873-1874  \n",
       "1873-1874_0004  1873-1874  "
      ]
     },
     "execution_count": 5,
     "metadata": {},
     "output_type": "execute_result"
    }
   ],
   "source": [
    "df.head()"
   ]
  },
  {
   "cell_type": "markdown",
   "id": "98a4c7ef-1215-4a33-9aa3-2b65bd1a4a14",
   "metadata": {
    "tags": []
   },
   "source": [
    "<br>"
   ]
  },
  {
   "cell_type": "markdown",
   "id": "e75e8475-42f1-44d8-b37f-8859e02f7b17",
   "metadata": {},
   "source": [
    "Make a dataframe that contains most frequent words (along with their counts) and the top tf-idf words (along with their scores) for each year."
   ]
  },
  {
   "cell_type": "code",
   "execution_count": 6,
   "id": "9de4f721-ca31-4afb-ad10-9f53bd29bc27",
   "metadata": {
    "tags": []
   },
   "outputs": [
    {
     "name": "stdout",
     "output_type": "stream",
     "text": [
      "Working on 1873-1874\n",
      "Working on 1892\n",
      "Working on 1893\n",
      "Working on 1894\n",
      "Working on 1901\n",
      "Working on 1918\n",
      "Working on 1921\n",
      "Working on 1928\n",
      "Working on 1948\n",
      "Working on 1956\n"
     ]
    }
   ],
   "source": [
    "from sklearn.feature_extraction.text import TfidfVectorizer\n",
    "\n",
    "# Create a TF-IDF vectorizer\n",
    "tfidf_vectorizer = TfidfVectorizer(stop_words=stop_words)\n",
    "\n",
    "# Fit the vectorizer on all sentences\n",
    "tfidf_vectorizer.fit(df['sentence'])\n",
    "\n",
    "# Transform the sentences into TF-IDF vectors\n",
    "tfidf_matrix = tfidf_vectorizer.transform(df['sentence'])\n",
    "\n",
    "# Define the number of top terms to retrieve\n",
    "top_n = 5\n",
    "\n",
    "# Create an empty list to store dictionaries for each year's data\n",
    "data_to_concat = []\n",
    "\n",
    "# Group the DataFrame by 'year'\n",
    "grouped = df.groupby('year')\n",
    "\n",
    "# Iterate through each group (year)\n",
    "for year, group in grouped:\n",
    "    print('Working on', year)\n",
    "    \n",
    "    # Concatenate all sentences for the current year into one document\n",
    "    year_text = ' '.join(group['sentence'])\n",
    "    \n",
    "    # Transform the concatenated text into a TF-IDF vector\n",
    "    year_tfidf_vector = tfidf_vectorizer.transform([year_text])\n",
    "    \n",
    "    # Get the TF-IDF scores for the year\n",
    "    year_tfidf_scores = year_tfidf_vector.toarray()[0]\n",
    "    \n",
    "    # Get the indices of the top N terms for the year\n",
    "    ## row.argsort() calculates the indices that would sort the elements in ascending order\n",
    "    ## [-top_n:] takes the last top_n elements from the sorted indices array\n",
    "    ## [::-1] reverses the order of the selected indices to make the indices in descending order.\n",
    "    top_indices = year_tfidf_scores.argsort()[-top_n:][::-1]\n",
    "    \n",
    "    # Get the top terms and their TF-IDF scores\n",
    "    top_terms = [tfidf_vectorizer.get_feature_names_out()[i] for i in top_indices]\n",
    "    top_scores = [year_tfidf_scores[i] for i in top_indices]\n",
    "    \n",
    "    # Round top_scores to 3 decimal places\n",
    "    top_scores = list(np.around(np.array(top_scores),3))\n",
    "\n",
    "    # Get the top n frequent words\n",
    "    words_lower = pd.Series(year_text.lower().split())\n",
    "    top_frequent = dict(words_lower[~words_lower.isin(stop_words)].value_counts()[:top_n])\n",
    "    \n",
    "    # Create a dictionary for the current year's data\n",
    "    year_data = {'year': year, 'top frequent': top_frequent, 'top tf-idf': dict(zip(top_terms, top_scores))}\n",
    "    \n",
    "    # Append the dictionary to the list\n",
    "    data_to_concat.append(year_data)\n",
    "    \n",
    "# Concatenate all dictionaries into a single DataFrame\n",
    "df_analysis = pd.DataFrame(data_to_concat)\n",
    "df_analysis.set_index('year', inplace=True)"
   ]
  },
  {
   "cell_type": "code",
   "execution_count": 7,
   "id": "d7caba16-635d-40b5-97d8-cd3cc459b10c",
   "metadata": {
    "tags": []
   },
   "outputs": [
    {
     "data": {
      "text/html": [
       "<div>\n",
       "<style scoped>\n",
       "    .dataframe tbody tr th:only-of-type {\n",
       "        vertical-align: middle;\n",
       "    }\n",
       "\n",
       "    .dataframe tbody tr th {\n",
       "        vertical-align: top;\n",
       "    }\n",
       "\n",
       "    .dataframe thead th {\n",
       "        text-align: right;\n",
       "    }\n",
       "</style>\n",
       "<table border=\"1\" class=\"dataframe\">\n",
       "  <thead>\n",
       "    <tr style=\"text-align: right;\">\n",
       "      <th></th>\n",
       "      <th>top frequent</th>\n",
       "      <th>top tf-idf</th>\n",
       "    </tr>\n",
       "    <tr>\n",
       "      <th>year</th>\n",
       "      <th></th>\n",
       "      <th></th>\n",
       "    </tr>\n",
       "  </thead>\n",
       "  <tbody>\n",
       "    <tr>\n",
       "      <th>1873-1874</th>\n",
       "      <td>{'shall': 2705, 'said': 1549, 'may': 807, 'county': 741, 'act': 708}</td>\n",
       "      <td>{'shall': 0.334, 'said': 0.239, 'may': 0.177, 'sec': 0.174, 'state': 0.165}</td>\n",
       "    </tr>\n",
       "    <tr>\n",
       "      <th>1892</th>\n",
       "      <td>{'said': 2682, 'shall': 2486, 'act': 1071, 'county': 1041, 'state': 765}</td>\n",
       "      <td>{'said': 0.382, 'shall': 0.278, 'county': 0.191, 'act': 0.19, 'state': 0.163}</td>\n",
       "    </tr>\n",
       "    <tr>\n",
       "      <th>1893</th>\n",
       "      <td>{'shall': 2068, 'said': 1963, 'county': 1036, 'act': 875, 'state': 653}</td>\n",
       "      <td>{'said': 0.352, 'shall': 0.292, 'county': 0.224, 'act': 0.192, 'dollars': 0.181}</td>\n",
       "    </tr>\n",
       "    <tr>\n",
       "      <th>1894</th>\n",
       "      <td>{'shall': 3066, 'said': 2532, 'county': 1000, 'act': 919, 'may': 771}</td>\n",
       "      <td>{'said': 0.349, 'shall': 0.331, 'town': 0.18, 'sec': 0.177, 'county': 0.175}</td>\n",
       "    </tr>\n",
       "    <tr>\n",
       "      <th>1901</th>\n",
       "      <td>{'shall': 1741, 'said': 1474, 'county': 940, 'act': 715, 'section': 536}</td>\n",
       "      <td>{'said': 0.32, 'shall': 0.291, 'county': 0.246, 'dollars': 0.244, 'act': 0.188}</td>\n",
       "    </tr>\n",
       "    <tr>\n",
       "      <th>1918</th>\n",
       "      <td>{'shall': 2615, 'said': 2187, 'county': 1897, '00': 1887, 'act': 1144}</td>\n",
       "      <td>{'00': 0.41, 'county': 0.289, 'said': 0.257, 'shall': 0.239, 'item': 0.181}</td>\n",
       "    </tr>\n",
       "    <tr>\n",
       "      <th>1921</th>\n",
       "      <td>{'shall': 4414, 'said': 3949, 'county': 3823, 'act': 1754, 'school': 1194}</td>\n",
       "      <td>{'00': 0.352, 'county': 0.35, 'said': 0.287, 'shall': 0.248, 'act': 0.153}</td>\n",
       "    </tr>\n",
       "    <tr>\n",
       "      <th>1928</th>\n",
       "      <td>{'shall': 4690, 'county': 3820, 'said': 3347, 'act': 1699, 'school': 1419}</td>\n",
       "      <td>{'00': 0.491, 'county': 0.299, 'shall': 0.227, 'said': 0.21, 'school': 0.141}</td>\n",
       "    </tr>\n",
       "    <tr>\n",
       "      <th>1948</th>\n",
       "      <td>{'shall': 3523, 'said': 1928, 'section': 1910, 'county': 1188, 'act': 877}</td>\n",
       "      <td>{'shall': 0.332, 'section': 0.294, 'said': 0.237, 'county': 0.211, 'act': 0.14}</td>\n",
       "    </tr>\n",
       "    <tr>\n",
       "      <th>1956</th>\n",
       "      <td>{'shall': 3274, 'section': 2787, 'state': 1216, 'south': 1103, 'act': 1054}</td>\n",
       "      <td>{'section': 0.377, 'shall': 0.278, '00': 0.261, '1952': 0.203, 'state': 0.178}</td>\n",
       "    </tr>\n",
       "  </tbody>\n",
       "</table>\n",
       "</div>"
      ],
      "text/plain": [
       "                                                                          top frequent  \\\n",
       "year                                                                                     \n",
       "1873-1874         {'shall': 2705, 'said': 1549, 'may': 807, 'county': 741, 'act': 708}   \n",
       "1892          {'said': 2682, 'shall': 2486, 'act': 1071, 'county': 1041, 'state': 765}   \n",
       "1893           {'shall': 2068, 'said': 1963, 'county': 1036, 'act': 875, 'state': 653}   \n",
       "1894             {'shall': 3066, 'said': 2532, 'county': 1000, 'act': 919, 'may': 771}   \n",
       "1901          {'shall': 1741, 'said': 1474, 'county': 940, 'act': 715, 'section': 536}   \n",
       "1918            {'shall': 2615, 'said': 2187, 'county': 1897, '00': 1887, 'act': 1144}   \n",
       "1921        {'shall': 4414, 'said': 3949, 'county': 3823, 'act': 1754, 'school': 1194}   \n",
       "1928        {'shall': 4690, 'county': 3820, 'said': 3347, 'act': 1699, 'school': 1419}   \n",
       "1948        {'shall': 3523, 'said': 1928, 'section': 1910, 'county': 1188, 'act': 877}   \n",
       "1956       {'shall': 3274, 'section': 2787, 'state': 1216, 'south': 1103, 'act': 1054}   \n",
       "\n",
       "                                                                                 top tf-idf  \n",
       "year                                                                                         \n",
       "1873-1874       {'shall': 0.334, 'said': 0.239, 'may': 0.177, 'sec': 0.174, 'state': 0.165}  \n",
       "1892          {'said': 0.382, 'shall': 0.278, 'county': 0.191, 'act': 0.19, 'state': 0.163}  \n",
       "1893       {'said': 0.352, 'shall': 0.292, 'county': 0.224, 'act': 0.192, 'dollars': 0.181}  \n",
       "1894           {'said': 0.349, 'shall': 0.331, 'town': 0.18, 'sec': 0.177, 'county': 0.175}  \n",
       "1901        {'said': 0.32, 'shall': 0.291, 'county': 0.246, 'dollars': 0.244, 'act': 0.188}  \n",
       "1918            {'00': 0.41, 'county': 0.289, 'said': 0.257, 'shall': 0.239, 'item': 0.181}  \n",
       "1921             {'00': 0.352, 'county': 0.35, 'said': 0.287, 'shall': 0.248, 'act': 0.153}  \n",
       "1928          {'00': 0.491, 'county': 0.299, 'shall': 0.227, 'said': 0.21, 'school': 0.141}  \n",
       "1948        {'shall': 0.332, 'section': 0.294, 'said': 0.237, 'county': 0.211, 'act': 0.14}  \n",
       "1956         {'section': 0.377, 'shall': 0.278, '00': 0.261, '1952': 0.203, 'state': 0.178}  "
      ]
     },
     "execution_count": 7,
     "metadata": {},
     "output_type": "execute_result"
    }
   ],
   "source": [
    "df_analysis"
   ]
  },
  {
   "cell_type": "markdown",
   "id": "37ccb9a3-1290-49a3-9da4-515bf075aef5",
   "metadata": {},
   "source": [
    "<br>"
   ]
  }
 ],
 "metadata": {
  "kernelspec": {
   "display_name": "Python 3 (ipykernel)",
   "language": "python",
   "name": "python3"
  },
  "language_info": {
   "codemirror_mode": {
    "name": "ipython",
    "version": 3
   },
   "file_extension": ".py",
   "mimetype": "text/x-python",
   "name": "python",
   "nbconvert_exporter": "python",
   "pygments_lexer": "ipython3",
   "version": "3.11.5"
  }
 },
 "nbformat": 4,
 "nbformat_minor": 5
}
