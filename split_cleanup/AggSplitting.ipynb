{
 "cells": [
  {
   "cell_type": "markdown",
   "metadata": {},
   "source": [
    "# Aggregrate Sentence Splitting"
   ]
  },
  {
   "cell_type": "markdown",
   "metadata": {},
   "source": [
    "This notebook runs `SentenceSplitting.ipynb` for the years initiated below to concat and make a final, all encompassing, Pandas dataframe.\n",
    "<br>\n",
    "NOTE: The `%%cpature` command at the top of some cell is to avoid displaying the output messages."
   ]
  },
  {
   "cell_type": "code",
   "execution_count": 1,
   "metadata": {},
   "outputs": [],
   "source": [
    "import pandas as pd\n",
    "import sys\n",
    "from tqdm import tqdm  # For printing out progress bar\n",
    "import os"
   ]
  },
  {
   "cell_type": "code",
   "execution_count": 2,
   "metadata": {},
   "outputs": [
    {
     "data": {
      "text/plain": [
       "[1956, 1894, 1893, 1892, 1948, 1901]"
      ]
     },
     "execution_count": 2,
     "metadata": {},
     "output_type": "execute_result"
    }
   ],
   "source": [
    "# Manualy define the list of years to aggregate\n",
    "# years = [1892, 1901]\n",
    "\n",
    "# Or, read all folder names in the OCR (or a specified) directory\n",
    "years = [int(name) for name in os.listdir(\"/Users/nitingupta/Desktop/OTB/OCRed\") if not name.startswith('.')]\n",
    "\n",
    "years"
   ]
  },
  {
   "cell_type": "code",
   "execution_count": 3,
   "metadata": {},
   "outputs": [],
   "source": [
    "# A dictionary to count the number of errors for all years\n",
    "errorCountsAgg = {}"
   ]
  },
  {
   "cell_type": "code",
   "execution_count": 4,
   "metadata": {
    "ExecuteTime": {
     "end_time": "2023-07-12T21:24:24.668431Z",
     "start_time": "2023-07-12T21:24:20.423761Z"
    }
   },
   "outputs": [
    {
     "name": "stderr",
     "output_type": "stream",
     "text": [
      "Processed the list: 100%|█████████████████████████████████████████████████████████████████████████| 6/6 [00:10<00:00,  1.82s/it]\n"
     ]
    }
   ],
   "source": [
    "%%capture cap --no-stderr\n",
    "\n",
    "# Create an empty dataframe\n",
    "df_final = pd.DataFrame()\n",
    "\n",
    "# Set up the progress bar\n",
    "progress_bar = tqdm(total=len(years), file=sys.stderr)\n",
    "\n",
    "# Iterate over the list\n",
    "for year in years:\n",
    "    \n",
    "    # Update the progress bar\n",
    "    progress_bar.set_description(f\"Processing year {year}\")\n",
    "\n",
    "    # The %store command lets you pass variables between two different notebooks.\n",
    "    # Store the year so that it can be picked up by the other notebook\n",
    "    %store year\n",
    "\n",
    "    # Run the notebook\n",
    "    %run SentenceSplitting.ipynb\n",
    "\n",
    "    # All variables, including the final dataframe,\n",
    "    # should now be available in this notebook's scope.\n",
    "\n",
    "    # Append this year's dataframe to the final dataframe\n",
    "    df_final = pd.concat([df_final, df_cleaned])\n",
    "    \n",
    "    # Loop over this year's error counting dictionary and\n",
    "    # update the overall error counting dictionary\n",
    "    for key, value in errorsDict.items():\n",
    "        try:  # If some value exists, append the new value to it\n",
    "            errorCountsAgg[key] += value\n",
    "        except KeyError:  # Else, use this value as the initialization value\n",
    "            errorCountsAgg[key] = value\n",
    "\n",
    "    # Update the progress bar\n",
    "    progress_bar.update(1)\n",
    "\n",
    "# Close the progress bar\n",
    "progress_bar.set_description(f\"Processed the list\")\n",
    "progress_bar.close()"
   ]
  },
  {
   "cell_type": "code",
   "execution_count": 5,
   "metadata": {
    "tags": []
   },
   "outputs": [
    {
     "data": {
      "text/plain": [
       "{'section identifiers': 2953,\n",
       " 'EOL hyphenation': 14258,\n",
       " 'Approved phrases': 531,\n",
       " 'Act seperators': 69,\n",
       " 'Incorrect starting nums': 3911,\n",
       " 'Session headers': 9,\n",
       " 'Uppercased': 619}"
      ]
     },
     "execution_count": 5,
     "metadata": {},
     "output_type": "execute_result"
    }
   ],
   "source": [
    "# Get a total count of all the errors\n",
    "errorCountsAgg"
   ]
  },
  {
   "cell_type": "code",
   "execution_count": 6,
   "metadata": {},
   "outputs": [
    {
     "data": {
      "text/html": [
       "<div>\n",
       "<style scoped>\n",
       "    .dataframe tbody tr th:only-of-type {\n",
       "        vertical-align: middle;\n",
       "    }\n",
       "\n",
       "    .dataframe tbody tr th {\n",
       "        vertical-align: top;\n",
       "    }\n",
       "\n",
       "    .dataframe thead th {\n",
       "        text-align: right;\n",
       "    }\n",
       "</style>\n",
       "<table border=\"1\" class=\"dataframe\">\n",
       "  <thead>\n",
       "    <tr style=\"text-align: right;\">\n",
       "      <th></th>\n",
       "      <th>id</th>\n",
       "      <th>law_type</th>\n",
       "      <th>state</th>\n",
       "      <th>sentence</th>\n",
       "      <th>length</th>\n",
       "      <th>start_page</th>\n",
       "      <th>end_page</th>\n",
       "    </tr>\n",
       "  </thead>\n",
       "  <tbody>\n",
       "    <tr>\n",
       "      <th>0</th>\n",
       "      <td>1956_0000</td>\n",
       "      <td>Acts</td>\n",
       "      <td>SOUTH CAROLINA</td>\n",
       "      <td>AND JOINT RESOLUTIONS OF THE General Assembly OF THE State of South Carolina Grorce Bett TIMMERMAN, JR., Governor; Ernest F. Ho.ines, Lieutenant Governor and ex officio President of Senate; EDGAR A. Brown, President pro tempore of Senate; SoLomon Briar, Speaker of House of Representatives ; Tracy J. GaINnEs, Speaker pro tempore of House of Representatives; L. O. THomas, Clerk of the Senate; Inkz Watson, Clerk of House of Representatives.</td>\n",
       "      <td>443</td>\n",
       "      <td>00055</td>\n",
       "      <td>00055</td>\n",
       "    </tr>\n",
       "    <tr>\n",
       "      <th>1</th>\n",
       "      <td>1956_0001</td>\n",
       "      <td>Acts</td>\n",
       "      <td>SOUTH CAROLINA</td>\n",
       "      <td>Passed at the regular session, which was begun and held at the city of Columbia on the tenth day of January, A.D. 1956 and was adjourned sine die on the 10th day of April, A.D., 1956 Part I GENERAL AND PERMANENT LAWS (R614, S467) No.</td>\n",
       "      <td>233</td>\n",
       "      <td>00055</td>\n",
       "      <td>00055</td>\n",
       "    </tr>\n",
       "    <tr>\n",
       "      <th>2</th>\n",
       "      <td>1956_0002</td>\n",
       "      <td>Acts</td>\n",
       "      <td>SOUTH CAROLINA</td>\n",
       "      <td>An Act To Provide For The Regulation Of Traffic Upon Roads Of The United States Government Within The Confines Of Land Acquired For Use Of The Atomic Energy Commission, And To Permit Special State Constables, Appointed Under Chapter 5.1, Title 53, Code Of Laws Of South Oarolina, 1952, To Issue Official Summons Without Bond For Appearance For Trial, As Set Forth Therein.</td>\n",
       "      <td>380</td>\n",
       "      <td>00055</td>\n",
       "      <td>00056</td>\n",
       "    </tr>\n",
       "    <tr>\n",
       "      <th>3</th>\n",
       "      <td>1956_0003</td>\n",
       "      <td>Acts</td>\n",
       "      <td>SOUTH CAROLINA</td>\n",
       "      <td>Whereas, it is desirable to establish permanent regulations for the control of traffic, and to provide for the enforcement of such regulations by appropriate Special State Constables within the area of the Savannah River Plant; and Whereas, it is necessary for Special State Constables, authorized to act within the area, to have the power to issue Summons to apprehended persons for appearance for trial at a future date, so that such Constables will not be required to leave their posts.</td>\n",
       "      <td>493</td>\n",
       "      <td>00056</td>\n",
       "      <td>00056</td>\n",
       "    </tr>\n",
       "    <tr>\n",
       "      <th>4</th>\n",
       "      <td>1956_0004</td>\n",
       "      <td>Acts</td>\n",
       "      <td>SOUTH CAROLINA</td>\n",
       "      <td>Now, therefore, Be it enacted by the General Assembly of the State of South Carolina: Regulation of traffic at Atomic Energy Plant: SECTION 1. All the provisions of Chapter 3, Title 46, of the Code of Laws of South Carolina, 1952, except Articles 3, 11, 15, 16 and 17 of said chapter, being the Uniform Act Regulating Traffic on Highways, shall apply to all roads within the confines of lands in Aiken, Allendale and Barnwell Counties, acquired or to be acquired by the United States Government for use of the Atomic Energy Commission.</td>\n",
       "      <td>539</td>\n",
       "      <td>00056</td>\n",
       "      <td>00056</td>\n",
       "    </tr>\n",
       "    <tr>\n",
       "      <th>...</th>\n",
       "      <td>...</td>\n",
       "      <td>...</td>\n",
       "      <td>...</td>\n",
       "      <td>...</td>\n",
       "      <td>...</td>\n",
       "      <td>...</td>\n",
       "      <td>...</td>\n",
       "    </tr>\n",
       "    <tr>\n",
       "      <th>1326</th>\n",
       "      <td>1901_1326</td>\n",
       "      <td>Acts</td>\n",
       "      <td>SOUTH CAROLINA</td>\n",
       "      <td>nds adjacent to said River; And whereas by the construction of said dam or dams the navigation of said River may be increased and the public interest promoted by the construction thereof for the purpose and for the sake of such improvement in the navigability of said River and for the public purposes to be ,fulfilled and encouraged by the construction of said dam or dams and for the purpose of removing any doubt which may arise as to the power and authority of the Secretary of State in granting the charter to the said Twin City Power Company for the erection of said dam or dams to be built across the said River: Now, Section 1. Be it enacted by the General Assembly of the State of South Carolina: That the right, power and privilege to construct and maintain a dam or dams across the Savannah River, as hereinbefore mentioned, to Twin City Power Company, its successors or assigns, shall be and is hereby fully authorized, ratified and confirmed; and that the said Twin City Power Company shall have all rights, powers and privileges conferred for the purpose of the acquisition and condemnation of land which may be overflowed by the erection or construction of said dam or dams as are conferred by Sections 1743-1755, inclusive, of the Revised Statutes of South Carolina, 1893, upon railway, canal and turnpike companies in the State and all of the Acts amendatory thereof; it being the intention of this Act for the sake of the public purposes intended to be carried out by said company to confer upon it all the rights, privileges and authorities conferred by the laws of this State upon railway, canal and turnpike companies in the acquisition and condemnation of property for rights of way or other interests in lands. Approved the 2oth day of February, A. D. 1901</td>\n",
       "      <td>1751</td>\n",
       "      <td>00291</td>\n",
       "      <td>00291</td>\n",
       "    </tr>\n",
       "    <tr>\n",
       "      <th>1327</th>\n",
       "      <td>1901_1327</td>\n",
       "      <td>Acts</td>\n",
       "      <td>SOUTH CAROLINA</td>\n",
       "      <td>AN ACT TO EMPOWER AND AUTHORIZE THE COUNNTY BOARD OF COMMISSIONERS OF CHEROKEE COUNTY TO BUILD A BRIDGE ACROSS BROAAD RIVER AND BORROW MONEY THEREFOR FROM THE COMMISSIONERS OF THE SINKING FUND.</td>\n",
       "      <td>243</td>\n",
       "      <td>00291</td>\n",
       "      <td>00292</td>\n",
       "    </tr>\n",
       "    <tr>\n",
       "      <th>1328</th>\n",
       "      <td>1901_1328</td>\n",
       "      <td>Acts</td>\n",
       "      <td>SOUTH CAROLINA</td>\n",
       "      <td>Be it enacted by the General Assembly of the State of South Carolina: That the County Board of Commissioners of Cherokee County be, and they are hereby, authorized, if in their discretion they deem that it is for the best interest of said County, to borrow a sum of money from the Sinking Fund of the State of South Carolina, not to exceed ten thousand dollars, at a rate of interest not to exceed five per centum per annum, for the purpose of building a bridge across Broad River, in said County, at such point on said river as they may deem most practicable, and a special tax of one-half mill on the dollar may be levied on all taxable property in the County of Cherokee, provided the Board of Commissioners so decide to build said bridge, for the said period of seven years, for the purpose of repaying said loan.</td>\n",
       "      <td>836</td>\n",
       "      <td>00292</td>\n",
       "      <td>00292</td>\n",
       "    </tr>\n",
       "    <tr>\n",
       "      <th>1329</th>\n",
       "      <td>1901_1329</td>\n",
       "      <td>Acts</td>\n",
       "      <td>SOUTH CAROLINA</td>\n",
       "      <td>That the proceeds of said levy of onehalf mill shall be paid each year on said loan until the seventh year, in which year the balance remaining due on said loan shall be paid from said special levy, if any remain it shall-be turned into the County Treasury for ordinary County purposes, and if a’sufficient sum has not been realized by said special levy at the expiration of said seven years the deficiency shall be paid by the County Board of Commissioners out of the ordinary County funds.</td>\n",
       "      <td>493</td>\n",
       "      <td>00292</td>\n",
       "      <td>00292</td>\n",
       "    </tr>\n",
       "    <tr>\n",
       "      <th>1330</th>\n",
       "      <td>1901_1330</td>\n",
       "      <td>Acts</td>\n",
       "      <td>SOUTH CAROLINA</td>\n",
       "      <td>That the Commissioners of the Sinking Fund of the State of South Carolina are hereby authorized to lend to the County Board of Commissioners of Cherokee County out of the funds in their hands, the sum of ten thousand dollars, to be used for building said bridge, said sum to be secured by the special levy as herein provided for in Section one.</td>\n",
       "      <td>344</td>\n",
       "      <td>00292</td>\n",
       "      <td>00292</td>\n",
       "    </tr>\n",
       "  </tbody>\n",
       "</table>\n",
       "<p>14478 rows × 7 columns</p>\n",
       "</div>"
      ],
      "text/plain": [
       "             id law_type           state  \\\n",
       "0     1956_0000     Acts  SOUTH CAROLINA   \n",
       "1     1956_0001     Acts  SOUTH CAROLINA   \n",
       "2     1956_0002     Acts  SOUTH CAROLINA   \n",
       "3     1956_0003     Acts  SOUTH CAROLINA   \n",
       "4     1956_0004     Acts  SOUTH CAROLINA   \n",
       "...         ...      ...             ...   \n",
       "1326  1901_1326     Acts  SOUTH CAROLINA   \n",
       "1327  1901_1327     Acts  SOUTH CAROLINA   \n",
       "1328  1901_1328     Acts  SOUTH CAROLINA   \n",
       "1329  1901_1329     Acts  SOUTH CAROLINA   \n",
       "1330  1901_1330     Acts  SOUTH CAROLINA   \n",
       "\n",
       "                                                                                                                                                                                                                                                                                                                                                                                                                                                                                                                                                                                                                                                                                                                                                                                                                                                                                                                                                                                                                                                                                                                                                                                                                                                                                                                                                                                                                                                                                                                                                                                                                                                                                                                                                                                                                                                  sentence  \\\n",
       "0                                                                                                                                                                                                                                                                                                                                                                                                                                                                                                                                                                                                                                                                                                                                                                                                                                                                                                                                                                                                                                                                                                                                                                                                                                                                                                                                                                                                AND JOINT RESOLUTIONS OF THE General Assembly OF THE State of South Carolina Grorce Bett TIMMERMAN, JR., Governor; Ernest F. Ho.ines, Lieutenant Governor and ex officio President of Senate; EDGAR A. Brown, President pro tempore of Senate; SoLomon Briar, Speaker of House of Representatives ; Tracy J. GaINnEs, Speaker pro tempore of House of Representatives; L. O. THomas, Clerk of the Senate; Inkz Watson, Clerk of House of Representatives.   \n",
       "1                                                                                                                                                                                                                                                                                                                                                                                                                                                                                                                                                                                                                                                                                                                                                                                                                                                                                                                                                                                                                                                                                                                                                                                                                                                                                                                                                                                                                                                                                                                                                                                                                Passed at the regular session, which was begun and held at the city of Columbia on the tenth day of January, A.D. 1956 and was adjourned sine die on the 10th day of April, A.D., 1956 Part I GENERAL AND PERMANENT LAWS (R614, S467) No.   \n",
       "2                                                                                                                                                                                                                                                                                                                                                                                                                                                                                                                                                                                                                                                                                                                                                                                                                                                                                                                                                                                                                                                                                                                                                                                                                                                                                                                                                                                                                                                                     An Act To Provide For The Regulation Of Traffic Upon Roads Of The United States Government Within The Confines Of Land Acquired For Use Of The Atomic Energy Commission, And To Permit Special State Constables, Appointed Under Chapter 5.1, Title 53, Code Of Laws Of South Oarolina, 1952, To Issue Official Summons Without Bond For Appearance For Trial, As Set Forth Therein.   \n",
       "3                                                                                                                                                                                                                                                                                                                                                                                                                                                                                                                                                                                                                                                                                                                                                                                                                                                                                                                                                                                                                                                                                                                                                                                                                                                                                                                                                Whereas, it is desirable to establish permanent regulations for the control of traffic, and to provide for the enforcement of such regulations by appropriate Special State Constables within the area of the Savannah River Plant; and Whereas, it is necessary for Special State Constables, authorized to act within the area, to have the power to issue Summons to apprehended persons for appearance for trial at a future date, so that such Constables will not be required to leave their posts.   \n",
       "4                                                                                                                                                                                                                                                                                                                                                                                                                                                                                                                                                                                                                                                                                                                                                                                                                                                                                                                                                                                                                                                                                                                                                                                                                                                                                                  Now, therefore, Be it enacted by the General Assembly of the State of South Carolina: Regulation of traffic at Atomic Energy Plant: SECTION 1. All the provisions of Chapter 3, Title 46, of the Code of Laws of South Carolina, 1952, except Articles 3, 11, 15, 16 and 17 of said chapter, being the Uniform Act Regulating Traffic on Highways, shall apply to all roads within the confines of lands in Aiken, Allendale and Barnwell Counties, acquired or to be acquired by the United States Government for use of the Atomic Energy Commission.   \n",
       "...                                                                                                                                                                                                                                                                                                                                                                                                                                                                                                                                                                                                                                                                                                                                                                                                                                                                                                                                                                                                                                                                                                                                                                                                                                                                                                                                                                                                                                                                                                                                                                                                                                                                                                                                                                                                                                                    ...   \n",
       "1326  nds adjacent to said River; And whereas by the construction of said dam or dams the navigation of said River may be increased and the public interest promoted by the construction thereof for the purpose and for the sake of such improvement in the navigability of said River and for the public purposes to be ,fulfilled and encouraged by the construction of said dam or dams and for the purpose of removing any doubt which may arise as to the power and authority of the Secretary of State in granting the charter to the said Twin City Power Company for the erection of said dam or dams to be built across the said River: Now, Section 1. Be it enacted by the General Assembly of the State of South Carolina: That the right, power and privilege to construct and maintain a dam or dams across the Savannah River, as hereinbefore mentioned, to Twin City Power Company, its successors or assigns, shall be and is hereby fully authorized, ratified and confirmed; and that the said Twin City Power Company shall have all rights, powers and privileges conferred for the purpose of the acquisition and condemnation of land which may be overflowed by the erection or construction of said dam or dams as are conferred by Sections 1743-1755, inclusive, of the Revised Statutes of South Carolina, 1893, upon railway, canal and turnpike companies in the State and all of the Acts amendatory thereof; it being the intention of this Act for the sake of the public purposes intended to be carried out by said company to confer upon it all the rights, privileges and authorities conferred by the laws of this State upon railway, canal and turnpike companies in the acquisition and condemnation of property for rights of way or other interests in lands. Approved the 2oth day of February, A. D. 1901    \n",
       "1327                                                                                                                                                                                                                                                                                                                                                                                                                                                                                                                                                                                                                                                                                                                                                                                                                                                                                                                                                                                                                                                                                                                                                                                                                                                                                                                                                                                                                                                                                                                                                                                                                                                     AN ACT TO EMPOWER AND AUTHORIZE THE COUNNTY BOARD OF COMMISSIONERS OF CHEROKEE COUNTY TO BUILD A BRIDGE ACROSS BROAAD RIVER AND BORROW MONEY THEREFOR FROM THE COMMISSIONERS OF THE SINKING FUND.   \n",
       "1328                                                                                                                                                                                                                                                                                                                                                                                                                                                                                                                                                                                                                                                                                                                                                                                                                                                                                                                                                                                                     Be it enacted by the General Assembly of the State of South Carolina: That the County Board of Commissioners of Cherokee County be, and they are hereby, authorized, if in their discretion they deem that it is for the best interest of said County, to borrow a sum of money from the Sinking Fund of the State of South Carolina, not to exceed ten thousand dollars, at a rate of interest not to exceed five per centum per annum, for the purpose of building a bridge across Broad River, in said County, at such point on said river as they may deem most practicable, and a special tax of one-half mill on the dollar may be levied on all taxable property in the County of Cherokee, provided the Board of Commissioners so decide to build said bridge, for the said period of seven years, for the purpose of repaying said loan.   \n",
       "1329                                                                                                                                                                                                                                                                                                                                                                                                                                                                                                                                                                                                                                                                                                                                                                                                                                                                                                                                                                                                                                                                                                                                                                                                                                                                                                                                           That the proceeds of said levy of onehalf mill shall be paid each year on said loan until the seventh year, in which year the balance remaining due on said loan shall be paid from said special levy, if any remain it shall-be turned into the County Treasury for ordinary County purposes, and if a’sufficient sum has not been realized by said special levy at the expiration of said seven years the deficiency shall be paid by the County Board of Commissioners out of the ordinary County funds.   \n",
       "1330                                                                                                                                                                                                                                                                                                                                                                                                                                                                                                                                                                                                                                                                                                                                                                                                                                                                                                                                                                                                                                                                                                                                                                                                                                                                                                                                                                                                                                                                                              That the Commissioners of the Sinking Fund of the State of South Carolina are hereby authorized to lend to the County Board of Commissioners of Cherokee County out of the funds in their hands, the sum of ten thousand dollars, to be used for building said bridge, said sum to be secured by the special levy as herein provided for in Section one.   \n",
       "\n",
       "      length start_page end_page  \n",
       "0        443      00055    00055  \n",
       "1        233      00055    00055  \n",
       "2        380      00055    00056  \n",
       "3        493      00056    00056  \n",
       "4        539      00056    00056  \n",
       "...      ...        ...      ...  \n",
       "1326    1751      00291    00291  \n",
       "1327     243      00291    00292  \n",
       "1328     836      00292    00292  \n",
       "1329     493      00292    00292  \n",
       "1330     344      00292    00292  \n",
       "\n",
       "[14478 rows x 7 columns]"
      ]
     },
     "execution_count": 6,
     "metadata": {},
     "output_type": "execute_result"
    }
   ],
   "source": [
    "df_final"
   ]
  },
  {
   "cell_type": "markdown",
   "metadata": {},
   "source": [
    "<br>"
   ]
  },
  {
   "cell_type": "markdown",
   "metadata": {},
   "source": [
    "## Checking and dropping for duplicates\n",
    "There is a high possibility for duplicates to exist in the sentence column. This is removed here, intead of in `SentenceSplitting.ipynb`, because there might be duplicates across different volumes."
   ]
  },
  {
   "cell_type": "code",
   "execution_count": 7,
   "metadata": {
    "tags": []
   },
   "outputs": [
    {
     "name": "stdout",
     "output_type": "stream",
     "text": [
      "The number of dropped sentences is: 831\n"
     ]
    }
   ],
   "source": [
    "print(f\"The number of dropped sentences is: {df_final[df_final.duplicated(subset=['sentence'])].shape[0]}\")"
   ]
  },
  {
   "cell_type": "code",
   "execution_count": 8,
   "metadata": {
    "tags": []
   },
   "outputs": [],
   "source": [
    "df_final.drop_duplicates(subset=['sentence'], ignore_index=True, inplace=True)"
   ]
  }
 ],
 "metadata": {
  "kernelspec": {
   "display_name": "Python 3 (ipykernel)",
   "language": "python",
   "name": "python3"
  },
  "language_info": {
   "codemirror_mode": {
    "name": "ipython",
    "version": 3
   },
   "file_extension": ".py",
   "mimetype": "text/x-python",
   "name": "python",
   "nbconvert_exporter": "python",
   "pygments_lexer": "ipython3",
   "version": "3.11.4"
  }
 },
 "nbformat": 4,
 "nbformat_minor": 4
}
