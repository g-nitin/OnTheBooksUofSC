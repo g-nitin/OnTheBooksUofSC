{
 "cells": [
  {
   "cell_type": "markdown",
   "metadata": {},
   "source": [
    "# Aggregrate Sentence Splitting"
   ]
  },
  {
   "cell_type": "markdown",
   "metadata": {},
   "source": [
    "This notebook runs `SentenceSplitting.ipynb` for the years initiated below to concat and make a final, all encompassing, Pandas dataframe.\n",
    "<br>\n",
    "NOTE: The `%%cpature` command at the top of some cell is to avoid displaying the output messages."
   ]
  },
  {
   "cell_type": "code",
   "execution_count": 1,
   "metadata": {},
   "outputs": [],
   "source": [
    "import pandas as pd\n",
    "import sys\n",
    "from tqdm import tqdm  # For printing out progress bar"
   ]
  },
  {
   "cell_type": "code",
   "execution_count": 2,
   "metadata": {},
   "outputs": [],
   "source": [
    "# Define the list of years to aggregate\n",
    "years = [1892, 1901]"
   ]
  },
  {
   "cell_type": "code",
   "execution_count": 3,
   "metadata": {},
   "outputs": [],
   "source": [
    "# A dictionary to count the number of errors for all years\n",
    "errorCountsAgg = {}"
   ]
  },
  {
   "cell_type": "code",
   "execution_count": 4,
   "metadata": {
    "ExecuteTime": {
     "end_time": "2023-07-12T21:24:24.668431Z",
     "start_time": "2023-07-12T21:24:20.423761Z"
    }
   },
   "outputs": [
    {
     "name": "stderr",
     "output_type": "stream",
     "text": [
      "Processed the list: 100%|█████████████████████████| 2/2 [00:04<00:00,  2.30s/it]\n"
     ]
    }
   ],
   "source": [
    "%%capture cap --no-stderr\n",
    "\n",
    "# Create an empty dataframe\n",
    "df_final = pd.DataFrame()\n",
    "\n",
    "# Set up the progress bar\n",
    "progress_bar = tqdm(total=len(years), file=sys.stderr)\n",
    "\n",
    "# Iterate over the list\n",
    "for year in years:\n",
    "\n",
    "    # The %store command lets you pass variables between two different notebooks.\n",
    "    # Store the year so that it can be picked up by the other notebook\n",
    "    %store year\n",
    "\n",
    "    # Run the notebook\n",
    "    %run SentenceSplitting.ipynb\n",
    "\n",
    "    # All variables, including the final dataframe,\n",
    "    # should now be available in this notebook's scope.\n",
    "\n",
    "    # Append this year's dataframe to the final dataframe\n",
    "    df_final = pd.concat([df_final, df_cleaned])\n",
    "    \n",
    "    # Loop over this year's error counting dictionary and\n",
    "    # update the overall error counting dictionary\n",
    "    for key, value in errorsDict.items():\n",
    "        try:  # If some value exists, append the new value to it\n",
    "            errorCountsAgg[key] += value\n",
    "        except KeyError:  # Else, use this value as the initialization value\n",
    "            errorCountsAgg[key] = value\n",
    "\n",
    "    # Update the progress bar\n",
    "    progress_bar.update(1)\n",
    "    progress_bar.set_description(f\"Processing year {year}\")\n",
    "\n",
    "# Close the progress bar\n",
    "progress_bar.set_description(f\"Processed the list\")\n",
    "progress_bar.close()"
   ]
  },
  {
   "cell_type": "code",
   "execution_count": 5,
   "metadata": {
    "tags": []
   },
   "outputs": [
    {
     "data": {
      "text/plain": [
       "{'section identifiers': 414,\n",
       " 'EOL hyphenation': 3852,\n",
       " 'Approved phrases': 171,\n",
       " 'Act seperators': 12,\n",
       " 'Incorrect starting nums': 706}"
      ]
     },
     "execution_count": 5,
     "metadata": {},
     "output_type": "execute_result"
    }
   ],
   "source": [
    "errorCountsAgg"
   ]
  },
  {
   "cell_type": "code",
   "execution_count": 6,
   "metadata": {},
   "outputs": [
    {
     "data": {
      "text/html": [
       "<div>\n",
       "<style scoped>\n",
       "    .dataframe tbody tr th:only-of-type {\n",
       "        vertical-align: middle;\n",
       "    }\n",
       "\n",
       "    .dataframe tbody tr th {\n",
       "        vertical-align: top;\n",
       "    }\n",
       "\n",
       "    .dataframe thead th {\n",
       "        text-align: right;\n",
       "    }\n",
       "</style>\n",
       "<table border=\"1\" class=\"dataframe\">\n",
       "  <thead>\n",
       "    <tr style=\"text-align: right;\">\n",
       "      <th></th>\n",
       "      <th>id</th>\n",
       "      <th>law_type</th>\n",
       "      <th>state</th>\n",
       "      <th>sentence</th>\n",
       "      <th>length</th>\n",
       "      <th>start_page</th>\n",
       "      <th>end_page</th>\n",
       "    </tr>\n",
       "  </thead>\n",
       "  <tbody>\n",
       "    <tr>\n",
       "      <th>0</th>\n",
       "      <td>1892_0000</td>\n",
       "      <td>Acts</td>\n",
       "      <td>SOUTH CAROLINA</td>\n",
       "      <td>AN ACT to CoNSsTITUTE A BATTALION TO BE KNOWN AS THE NAVAL BATTALION OF VOLUNTEER TROOPS OF SOUTH CAROLINA.</td>\n",
       "      <td>109</td>\n",
       "      <td>045</td>\n",
       "      <td>045</td>\n",
       "    </tr>\n",
       "    <tr>\n",
       "      <th>1</th>\n",
       "      <td>1892_0001</td>\n",
       "      <td>Acts</td>\n",
       "      <td>SOUTH CAROLINA</td>\n",
       "      <td>Be tt enacted by the Senate and House of Representatives of the State of South Carolina, now met and sitting in General Assembly, and by the authority of the same, That there shall be allowed, in addition to the companies of the Vol-t unteer Troops of the State of South Carolina as now provided by law, not more than four companies of Naval Militia, which shall constitute a battalion, to be known as the Naval Battalion of the Volunteer Troops of South Carolina.</td>\n",
       "      <td>477</td>\n",
       "      <td>045</td>\n",
       "      <td>046</td>\n",
       "    </tr>\n",
       "    <tr>\n",
       "      <th>2</th>\n",
       "      <td>1892_0002</td>\n",
       "      <td>Acts</td>\n",
       "      <td>SOUTH CAROLINA</td>\n",
       "      <td>The officers of this battalion shall consist of a Lieutenant Commander, who shall be appointed by the Governor, and whose rank and pay shall assimilate to that of a Major of infantry, and a staff, to consist of one Adjutant, one Ordnance Officer, one Paymaster, who shall be the mustering officer, and one Surgeon, each with the rank of First Lieutenant.</td>\n",
       "      <td>356</td>\n",
       "      <td>046</td>\n",
       "      <td>046</td>\n",
       "    </tr>\n",
       "    <tr>\n",
       "      <th>3</th>\n",
       "      <td>1892_0003</td>\n",
       "      <td>Acts</td>\n",
       "      <td>SOUTH CAROLINA</td>\n",
       "      <td>They shall be paid the same as battalion staffs in the Volunteer Troops.</td>\n",
       "      <td>72</td>\n",
       "      <td>046</td>\n",
       "      <td>046</td>\n",
       "    </tr>\n",
       "    <tr>\n",
       "      <th>4</th>\n",
       "      <td>1892_0004</td>\n",
       "      <td>Acts</td>\n",
       "      <td>SOUTH CAROLINA</td>\n",
       "      <td>There shall also be attached to the staff the following petty officers: One Master-at-Arms, two Yeomen, one Hospital Steward, one Chief Bugler, who shall receive the same pay as the non-commissioned staff of a battalion of infantry.</td>\n",
       "      <td>232</td>\n",
       "      <td>046</td>\n",
       "      <td>046</td>\n",
       "    </tr>\n",
       "    <tr>\n",
       "      <th>...</th>\n",
       "      <td>...</td>\n",
       "      <td>...</td>\n",
       "      <td>...</td>\n",
       "      <td>...</td>\n",
       "      <td>...</td>\n",
       "      <td>...</td>\n",
       "      <td>...</td>\n",
       "    </tr>\n",
       "    <tr>\n",
       "      <th>1330</th>\n",
       "      <td>1901_1330</td>\n",
       "      <td>Acts</td>\n",
       "      <td>SOUTH CAROLINA</td>\n",
       "      <td>lands adjacent to said River; And whereas by the construction of said dam or dams the navigation of said River may be increased and the public interest promoted by the construction thereof for the purpose and for the sake of such improvement in the navigability of said River and for the public purposes to be ,fulfilled and encouraged by the construction of said dam or dams and for the purpose of removing any doubt which may arise as to the power and authority of the Secretary of State in granting the charter to the said Twin City Power Company for the erection of said dam or dams to be built across the said River: Now, Section 1. Be it enacted by the General Assembly of the State of South Carolina: That the right, power and privilege to construct and maintain a dam or dams across the Savannah River, as hereinbefore mentioned, to Twin City Power Company, its successors or assigns, shall be and is hereby fully authorized, ratified and confirmed; and that the said Twin City Power Company shall have all rights, powers and privileges conferred for the purpose of the acquisition and condemnation of land which may be overflowed by the erection or construction of said dam or dams as are conferred by Sections 1743-1755, inclusive, of the Revised Statutes of South Carolina, 1893, upon railway, canal and turnpike companies in the State and all of the Acts amendatory thereof; it being the intention of this Act for the sake of the public purposes intended to be carried out by said company to confer upon it all the rights, privileges and authorities conferred by the laws of this State upon railway, canal and turnpike companies in the acquisition and condemnation of property for rights of way or other interests in lands.</td>\n",
       "      <td>1751</td>\n",
       "      <td>00291</td>\n",
       "      <td>00291</td>\n",
       "    </tr>\n",
       "    <tr>\n",
       "      <th>1331</th>\n",
       "      <td>1901_1331</td>\n",
       "      <td>Acts</td>\n",
       "      <td>SOUTH CAROLINA</td>\n",
       "      <td>Approved the 2oth day of February, A. D. 1901 AN ACT To EMPOWER AND AUTHORIZE THE CouNnTY BoarD oF COMMISSIONERS OF CHEROKEE COUNTY TO BUILD A BRIDGE ACROSS BroAaD RIVER AND Borrow MONEY THEREFOR FROM THE CoMMISSIONERS OF THE SINKING FUND.</td>\n",
       "      <td>243</td>\n",
       "      <td>00291</td>\n",
       "      <td>00292</td>\n",
       "    </tr>\n",
       "    <tr>\n",
       "      <th>1332</th>\n",
       "      <td>1901_1332</td>\n",
       "      <td>Acts</td>\n",
       "      <td>SOUTH CAROLINA</td>\n",
       "      <td>Be it enacted by the General Assembly of the State of South Carolina: That the County Board of Commissioners of Cherokee County be, and they are hereby, authorized, if in their discretion they deem that it is for the best interest of said County, to borrow a sum of money from the Sinking Fund of the State of South Carolina, not to exceed ten thousand dollars, at a rate of interest not to exceed five per centum per annum, for the purpose of building a bridge across Broad River, in said County, at such point on said river as they may deem most practicable, and a special tax of one-half mill on the dollar may be levied on all taxable property in the County of Cherokee, provided the Board of Commissioners so decide to build said bridge, for the said period of seven years, for the purpose of repaying said loan.</td>\n",
       "      <td>836</td>\n",
       "      <td>00292</td>\n",
       "      <td>00292</td>\n",
       "    </tr>\n",
       "    <tr>\n",
       "      <th>1333</th>\n",
       "      <td>1901_1333</td>\n",
       "      <td>Acts</td>\n",
       "      <td>SOUTH CAROLINA</td>\n",
       "      <td>That the proceeds of said levy of onehalf mill shall be paid each year on said loan until the seventh year, in which year the balance remaining due on said loan shall be paid from said special levy, if any remain it shall-be turned into the County Treasury for ordinary County purposes, and if a’sufficient sum has not been realized by said special levy at the expiration of said seven years the deficiency shall be paid by the County Board of Commissioners out of the ordinary County funds.</td>\n",
       "      <td>493</td>\n",
       "      <td>00292</td>\n",
       "      <td>00292</td>\n",
       "    </tr>\n",
       "    <tr>\n",
       "      <th>1334</th>\n",
       "      <td>1901_1334</td>\n",
       "      <td>Acts</td>\n",
       "      <td>SOUTH CAROLINA</td>\n",
       "      <td>That the Commissioners of the Sinking Fund of the State of South Carolina are hereby authorized to lend to the County Board of Commissioners of Cherokee County out of the funds in their hands, the sum of ten thousand dollars, to be used for building said bridge, said sum to be secured by the special levy as herein provided for in Section one.</td>\n",
       "      <td>344</td>\n",
       "      <td>00292</td>\n",
       "      <td>00292</td>\n",
       "    </tr>\n",
       "  </tbody>\n",
       "</table>\n",
       "<p>3388 rows × 7 columns</p>\n",
       "</div>"
      ],
      "text/plain": [
       "             id law_type           state  \\\n",
       "0     1892_0000     Acts  SOUTH CAROLINA   \n",
       "1     1892_0001     Acts  SOUTH CAROLINA   \n",
       "2     1892_0002     Acts  SOUTH CAROLINA   \n",
       "3     1892_0003     Acts  SOUTH CAROLINA   \n",
       "4     1892_0004     Acts  SOUTH CAROLINA   \n",
       "...         ...      ...             ...   \n",
       "1330  1901_1330     Acts  SOUTH CAROLINA   \n",
       "1331  1901_1331     Acts  SOUTH CAROLINA   \n",
       "1332  1901_1332     Acts  SOUTH CAROLINA   \n",
       "1333  1901_1333     Acts  SOUTH CAROLINA   \n",
       "1334  1901_1334     Acts  SOUTH CAROLINA   \n",
       "\n",
       "                                                                                                                                                                                                                                                                                                                                                                                                                                                                                                                                                                                                                                                                                                                                                                                                                                                                                                                                                                                                                                                                                                                                                                                                                                                                                                                                                                                                                                                                                                                                                                                                                                                                                                                                                                                                     sentence  \\\n",
       "0                                                                                                                                                                                                                                                                                                                                                                                                                                                                                                                                                                                                                                                                                                                                                                                                                                                                                                                                                                                                                                                                                                                                                                                                                                                                                                                                                                                                                                                                                                                                                                                                                                                                                                 AN ACT to CoNSsTITUTE A BATTALION TO BE KNOWN AS THE NAVAL BATTALION OF VOLUNTEER TROOPS OF SOUTH CAROLINA.   \n",
       "1                                                                                                                                                                                                                                                                                                                                                                                                                                                                                                                                                                                                                                                                                                                                                                                                                                                                                                                                                                                                                                                                                                                                                                                                                                                                                                                            Be tt enacted by the Senate and House of Representatives of the State of South Carolina, now met and sitting in General Assembly, and by the authority of the same, That there shall be allowed, in addition to the companies of the Vol-t unteer Troops of the State of South Carolina as now provided by law, not more than four companies of Naval Militia, which shall constitute a battalion, to be known as the Naval Battalion of the Volunteer Troops of South Carolina.   \n",
       "2                                                                                                                                                                                                                                                                                                                                                                                                                                                                                                                                                                                                                                                                                                                                                                                                                                                                                                                                                                                                                                                                                                                                                                                                                                                                                                                                                                                                                                          The officers of this battalion shall consist of a Lieutenant Commander, who shall be appointed by the Governor, and whose rank and pay shall assimilate to that of a Major of infantry, and a staff, to consist of one Adjutant, one Ordnance Officer, one Paymaster, who shall be the mustering officer, and one Surgeon, each with the rank of First Lieutenant.   \n",
       "3                                                                                                                                                                                                                                                                                                                                                                                                                                                                                                                                                                                                                                                                                                                                                                                                                                                                                                                                                                                                                                                                                                                                                                                                                                                                                                                                                                                                                                                                                                                                                                                                                                                                                                                                    They shall be paid the same as battalion staffs in the Volunteer Troops.   \n",
       "4                                                                                                                                                                                                                                                                                                                                                                                                                                                                                                                                                                                                                                                                                                                                                                                                                                                                                                                                                                                                                                                                                                                                                                                                                                                                                                                                                                                                                                                                                                                                                                    There shall also be attached to the staff the following petty officers: One Master-at-Arms, two Yeomen, one Hospital Steward, one Chief Bugler, who shall receive the same pay as the non-commissioned staff of a battalion of infantry.   \n",
       "...                                                                                                                                                                                                                                                                                                                                                                                                                                                                                                                                                                                                                                                                                                                                                                                                                                                                                                                                                                                                                                                                                                                                                                                                                                                                                                                                                                                                                                                                                                                                                                                                                                                                                                                                                                                                       ...   \n",
       "1330  lands adjacent to said River; And whereas by the construction of said dam or dams the navigation of said River may be increased and the public interest promoted by the construction thereof for the purpose and for the sake of such improvement in the navigability of said River and for the public purposes to be ,fulfilled and encouraged by the construction of said dam or dams and for the purpose of removing any doubt which may arise as to the power and authority of the Secretary of State in granting the charter to the said Twin City Power Company for the erection of said dam or dams to be built across the said River: Now, Section 1. Be it enacted by the General Assembly of the State of South Carolina: That the right, power and privilege to construct and maintain a dam or dams across the Savannah River, as hereinbefore mentioned, to Twin City Power Company, its successors or assigns, shall be and is hereby fully authorized, ratified and confirmed; and that the said Twin City Power Company shall have all rights, powers and privileges conferred for the purpose of the acquisition and condemnation of land which may be overflowed by the erection or construction of said dam or dams as are conferred by Sections 1743-1755, inclusive, of the Revised Statutes of South Carolina, 1893, upon railway, canal and turnpike companies in the State and all of the Acts amendatory thereof; it being the intention of this Act for the sake of the public purposes intended to be carried out by said company to confer upon it all the rights, privileges and authorities conferred by the laws of this State upon railway, canal and turnpike companies in the acquisition and condemnation of property for rights of way or other interests in lands.   \n",
       "1331                                                                                                                                                                                                                                                                                                                                                                                                                                                                                                                                                                                                                                                                                                                                                                                                                                                                                                                                                                                                                                                                                                                                                                                                                                                                                                                                                                                                                                                                                                                                                          Approved the 2oth day of February, A. D. 1901 AN ACT To EMPOWER AND AUTHORIZE THE CouNnTY BoarD oF COMMISSIONERS OF CHEROKEE COUNTY TO BUILD A BRIDGE ACROSS BroAaD RIVER AND Borrow MONEY THEREFOR FROM THE CoMMISSIONERS OF THE SINKING FUND.   \n",
       "1332                                                                                                                                                                                                                                                                                                                                                                                                                                                                                                                                                                                                                                                                                                                                                                                                                                                                                                                                                        Be it enacted by the General Assembly of the State of South Carolina: That the County Board of Commissioners of Cherokee County be, and they are hereby, authorized, if in their discretion they deem that it is for the best interest of said County, to borrow a sum of money from the Sinking Fund of the State of South Carolina, not to exceed ten thousand dollars, at a rate of interest not to exceed five per centum per annum, for the purpose of building a bridge across Broad River, in said County, at such point on said river as they may deem most practicable, and a special tax of one-half mill on the dollar may be levied on all taxable property in the County of Cherokee, provided the Board of Commissioners so decide to build said bridge, for the said period of seven years, for the purpose of repaying said loan.   \n",
       "1333                                                                                                                                                                                                                                                                                                                                                                                                                                                                                                                                                                                                                                                                                                                                                                                                                                                                                                                                                                                                                                                                                                                                                                                                                                                                                              That the proceeds of said levy of onehalf mill shall be paid each year on said loan until the seventh year, in which year the balance remaining due on said loan shall be paid from said special levy, if any remain it shall-be turned into the County Treasury for ordinary County purposes, and if a’sufficient sum has not been realized by said special levy at the expiration of said seven years the deficiency shall be paid by the County Board of Commissioners out of the ordinary County funds.   \n",
       "1334                                                                                                                                                                                                                                                                                                                                                                                                                                                                                                                                                                                                                                                                                                                                                                                                                                                                                                                                                                                                                                                                                                                                                                                                                                                                                                                                                                                                                                                 That the Commissioners of the Sinking Fund of the State of South Carolina are hereby authorized to lend to the County Board of Commissioners of Cherokee County out of the funds in their hands, the sum of ten thousand dollars, to be used for building said bridge, said sum to be secured by the special levy as herein provided for in Section one.   \n",
       "\n",
       "      length start_page end_page  \n",
       "0        109        045      045  \n",
       "1        477        045      046  \n",
       "2        356        046      046  \n",
       "3         72        046      046  \n",
       "4        232        046      046  \n",
       "...      ...        ...      ...  \n",
       "1330    1751      00291    00291  \n",
       "1331     243      00291    00292  \n",
       "1332     836      00292    00292  \n",
       "1333     493      00292    00292  \n",
       "1334     344      00292    00292  \n",
       "\n",
       "[3388 rows x 7 columns]"
      ]
     },
     "execution_count": 6,
     "metadata": {},
     "output_type": "execute_result"
    }
   ],
   "source": [
    "df_final"
   ]
  }
 ],
 "metadata": {
  "kernelspec": {
   "display_name": "Python 3 (ipykernel)",
   "language": "python",
   "name": "python3"
  },
  "language_info": {
   "codemirror_mode": {
    "name": "ipython",
    "version": 3
   },
   "file_extension": ".py",
   "mimetype": "text/x-python",
   "name": "python",
   "nbconvert_exporter": "python",
   "pygments_lexer": "ipython3",
   "version": "3.11.4"
  }
 },
 "nbformat": 4,
 "nbformat_minor": 4
}
