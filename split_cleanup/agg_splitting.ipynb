{
 "cells": [
  {
   "cell_type": "markdown",
   "metadata": {},
   "source": [
    "# Aggregrate Sentence Splitting"
   ]
  },
  {
   "cell_type": "markdown",
   "metadata": {},
   "source": [
    "This notebook runs `sentence_splitting.ipynb` for the years initiated below to concat and make a final, all encompassing, Pandas dataframe.\n",
    "<br>\n",
    "NOTE: The `%%capture` command at the top of some cell is to avoid displaying the output messages."
   ]
  },
  {
   "cell_type": "code",
   "execution_count": 1,
   "metadata": {},
   "outputs": [],
   "source": [
    "import pandas as pd\n",
    "import sys\n",
    "from tqdm import tqdm  # For printing out progress bar\n",
    "import os"
   ]
  },
  {
   "cell_type": "code",
   "execution_count": 2,
   "metadata": {
    "scrolled": true
   },
   "outputs": [
    {
     "name": "stdout",
     "output_type": "stream",
     "text": [
      "1.3.5\n"
     ]
    }
   ],
   "source": [
    "print(pd.__version__)"
   ]
  },
  {
   "cell_type": "code",
   "execution_count": 3,
   "metadata": {
    "scrolled": true
   },
   "outputs": [],
   "source": [
    "# !pip install -U pandas --user"
   ]
  },
  {
   "cell_type": "code",
   "execution_count": 4,
   "metadata": {},
   "outputs": [
    {
     "name": "stdout",
     "output_type": "stream",
     "text": [
      "['1906', '1953', '1913', '1968', '1880', '1928', '1954', '1914', '1929', '1940', '1900', '1886-1887', '1896', '1915', '1962', '1901', '1897', '1916', '1963', '1890', '1938', '1902', '1964', '1924', '1873-1874', '1891', '1939', '1950', '1910', '1965', '1925', '1892', '1911', '1926', '1893', '1912', '1869-1870', '1927', '1934', '1949', '1960', '1920', '1935', '1961', '1921', '1936', '1922', '1875-76', '1878', '1937', '1959', '1923', '1930', '1879', '1945', '1931', '1946', '1958b', '1873', '1932', '1881-82', '1888', '1947', '1877-78', '1907', '1874', '1933', '1889', '1948', '1908', '1955', '1872-1873', '1868-69', '1941', '1909', '1956', '1883', '1942', '1898', '1957', '1917', '1870-1871', '1884', '1943', '1903', '1899', '1958', '1918', '1871-1872', '1885', '1944', '1904', '1951', '1871', '1919', '1966', '1905', '1952', '1967', '1894']\n"
     ]
    }
   ],
   "source": [
    "# Manualy define the list of years to aggregate\n",
    "# years = [1892, 1901]\n",
    "\n",
    "# Or, read all folder names in the OCR (or a specified) directory\n",
    "years = [name for name in os.listdir(\"/work/otb-lab/OCRed\") if not name.startswith('.')]\n",
    "\n",
    "print(years)"
   ]
  },
  {
   "cell_type": "code",
   "execution_count": 5,
   "metadata": {},
   "outputs": [],
   "source": [
    "# A dictionary to count the number of errors for all years\n",
    "errorCountsAgg = {}"
   ]
  },
  {
   "cell_type": "code",
   "execution_count": 6,
   "metadata": {
    "ExecuteTime": {
     "end_time": "2023-07-12T21:24:24.668431Z",
     "start_time": "2023-07-12T21:24:20.423761Z"
    },
    "scrolled": true
   },
   "outputs": [
    {
     "name": "stderr",
     "output_type": "stream",
     "text": [
      "Processed the list: 100%|██████████| 100/100 [07:21<00:00,  4.41s/it]      \n"
     ]
    }
   ],
   "source": [
    "%%capture cap --no-stderr\n",
    "\n",
    "# Create an empty list for the final dataframe\n",
    "df_final = []\n",
    "\n",
    "# Set up the progress bar\n",
    "progress_bar = tqdm(total=len(years), file=sys.stderr)\n",
    "\n",
    "# Iterate over the list\n",
    "for year in years:\n",
    "    \n",
    "    # Update the progress bar\n",
    "    progress_bar.set_description(f\"Processing year {year}\")\n",
    "\n",
    "    # The %store command lets you pass variables between two different notebooks.\n",
    "    # Store the year so that it can be picked up by the other notebook\n",
    "    %store year\n",
    "\n",
    "    # Run the faster notebook, since the outputs are not shown here anyways\n",
    "    # %run SentenceSplitting.ipynb\n",
    "    %run sentence_splitting.ipynb\n",
    "\n",
    "    # All variables, including the final dataframe,\n",
    "    # should now be available in this notebook's scope.\n",
    "\n",
    "    # Append this year's dataframe to the final dataframe\n",
    "    df_final.append(df_cleaned)       \n",
    "    \n",
    "    # Loop over this year's error counting dictionary and\n",
    "    # update the overall error counting dictionary\n",
    "    for key, value in errorsDict.items():\n",
    "        try:  # If some value exists, append the new value to it\n",
    "            errorCountsAgg[key] += value\n",
    "        except KeyError:  # Else, use this value as the initialization value\n",
    "            errorCountsAgg[key] = value\n",
    "\n",
    "    # Update the progress bar\n",
    "    progress_bar.update(1)\n",
    "\n",
    "# Close the progress bar\n",
    "progress_bar.set_description(f\"Processed the list\")\n",
    "progress_bar.close()\n",
    "\n",
    "# Convert the list to a dataframe\n",
    "df_final = pd.concat(df_final, ignore_index=True)"
   ]
  },
  {
   "cell_type": "code",
   "execution_count": 7,
   "metadata": {
    "tags": []
   },
   "outputs": [
    {
     "data": {
      "text/plain": [
       "{'section identifiers': 104173,\n",
       " 'EOL hyphenation': 338137,\n",
       " 'Approved phrases': 8540,\n",
       " 'Act seperators': 3753,\n",
       " 'Incorrect starting nums': 172762,\n",
       " 'Session headers': 135}"
      ]
     },
     "execution_count": 7,
     "metadata": {},
     "output_type": "execute_result"
    }
   ],
   "source": [
    "# Get a total count of all the errors\n",
    "errorCountsAgg"
   ]
  },
  {
   "cell_type": "code",
   "execution_count": 8,
   "metadata": {},
   "outputs": [
    {
     "data": {
      "text/html": [
       "<div>\n",
       "<style scoped>\n",
       "    .dataframe tbody tr th:only-of-type {\n",
       "        vertical-align: middle;\n",
       "    }\n",
       "\n",
       "    .dataframe tbody tr th {\n",
       "        vertical-align: top;\n",
       "    }\n",
       "\n",
       "    .dataframe thead th {\n",
       "        text-align: right;\n",
       "    }\n",
       "</style>\n",
       "<table border=\"1\" class=\"dataframe\">\n",
       "  <thead>\n",
       "    <tr style=\"text-align: right;\">\n",
       "      <th></th>\n",
       "      <th>id</th>\n",
       "      <th>law_type</th>\n",
       "      <th>state</th>\n",
       "      <th>sentence</th>\n",
       "      <th>length</th>\n",
       "      <th>start_page</th>\n",
       "      <th>end_page</th>\n",
       "    </tr>\n",
       "  </thead>\n",
       "  <tbody>\n",
       "    <tr>\n",
       "      <th>0</th>\n",
       "      <td>1906_0000</td>\n",
       "      <td>Acts</td>\n",
       "      <td>SOUTH CAROLINA</td>\n",
       "      <td>Acts and]oint Resolutions OF THE General Assem...</td>\n",
       "      <td>279</td>\n",
       "      <td>00395</td>\n",
       "      <td>00395</td>\n",
       "    </tr>\n",
       "    <tr>\n",
       "      <th>1</th>\n",
       "      <td>1906_0001</td>\n",
       "      <td>Acts</td>\n",
       "      <td>SOUTH CAROLINA</td>\n",
       "      <td>Joun T. Stoan, LieutenantGovernor and ex offic...</td>\n",
       "      <td>73</td>\n",
       "      <td>00395</td>\n",
       "      <td>00395</td>\n",
       "    </tr>\n",
       "    <tr>\n",
       "      <th>2</th>\n",
       "      <td>1906_0002</td>\n",
       "      <td>Acts</td>\n",
       "      <td>SOUTH CAROLINA</td>\n",
       "      <td>M. L. SmirH, Speaker of the House of Represent...</td>\n",
       "      <td>53</td>\n",
       "      <td>00395</td>\n",
       "      <td>00395</td>\n",
       "    </tr>\n",
       "    <tr>\n",
       "      <th>3</th>\n",
       "      <td>1906_0003</td>\n",
       "      <td>Acts</td>\n",
       "      <td>SOUTH CAROLINA</td>\n",
       "      <td>RosERT R. HEMPHILL, Clerk of the Senate.</td>\n",
       "      <td>40</td>\n",
       "      <td>00395</td>\n",
       "      <td>00395</td>\n",
       "    </tr>\n",
       "    <tr>\n",
       "      <th>4</th>\n",
       "      <td>1906_0004</td>\n",
       "      <td>Acts</td>\n",
       "      <td>SOUTH CAROLINA</td>\n",
       "      <td>T. C. Hamer, Clerk of the House of Representat...</td>\n",
       "      <td>51</td>\n",
       "      <td>00395</td>\n",
       "      <td>00395</td>\n",
       "    </tr>\n",
       "    <tr>\n",
       "      <th>...</th>\n",
       "      <td>...</td>\n",
       "      <td>...</td>\n",
       "      <td>...</td>\n",
       "      <td>...</td>\n",
       "      <td>...</td>\n",
       "      <td>...</td>\n",
       "      <td>...</td>\n",
       "    </tr>\n",
       "    <tr>\n",
       "      <th>467404</th>\n",
       "      <td>1894_2072</td>\n",
       "      <td>Acts</td>\n",
       "      <td>SOUTH CAROLINA</td>\n",
       "      <td>But no such grant shall be made for a longer p...</td>\n",
       "      <td>70</td>\n",
       "      <td>479</td>\n",
       "      <td>479</td>\n",
       "    </tr>\n",
       "    <tr>\n",
       "      <th>467405</th>\n",
       "      <td>1894_2073</td>\n",
       "      <td>Acts</td>\n",
       "      <td>SOUTH CAROLINA</td>\n",
       "      <td>That this Act shall take effect from and after...</td>\n",
       "      <td>706</td>\n",
       "      <td>479</td>\n",
       "      <td>479</td>\n",
       "    </tr>\n",
       "    <tr>\n",
       "      <th>467406</th>\n",
       "      <td>1894_2074</td>\n",
       "      <td>Acts</td>\n",
       "      <td>SOUTH CAROLINA</td>\n",
       "      <td>That this Act is a public Act, and shall conti...</td>\n",
       "      <td>202</td>\n",
       "      <td>479</td>\n",
       "      <td>479</td>\n",
       "    </tr>\n",
       "    <tr>\n",
       "      <th>467407</th>\n",
       "      <td>1894_2075</td>\n",
       "      <td>Acts</td>\n",
       "      <td>SOUTH CAROLINA</td>\n",
       "      <td>A JOINT RESOLUTION TO PRROVIPE FOR LOCATING TH...</td>\n",
       "      <td>133</td>\n",
       "      <td>479</td>\n",
       "      <td>479</td>\n",
       "    </tr>\n",
       "    <tr>\n",
       "      <th>467408</th>\n",
       "      <td>1894_2076</td>\n",
       "      <td>Acts</td>\n",
       "      <td>SOUTH CAROLINA</td>\n",
       "      <td>Whereas a dispute has arisen between the Count...</td>\n",
       "      <td>738</td>\n",
       "      <td>479</td>\n",
       "      <td>479</td>\n",
       "    </tr>\n",
       "  </tbody>\n",
       "</table>\n",
       "<p>467409 rows × 7 columns</p>\n",
       "</div>"
      ],
      "text/plain": [
       "               id law_type           state  \\\n",
       "0       1906_0000     Acts  SOUTH CAROLINA   \n",
       "1       1906_0001     Acts  SOUTH CAROLINA   \n",
       "2       1906_0002     Acts  SOUTH CAROLINA   \n",
       "3       1906_0003     Acts  SOUTH CAROLINA   \n",
       "4       1906_0004     Acts  SOUTH CAROLINA   \n",
       "...           ...      ...             ...   \n",
       "467404  1894_2072     Acts  SOUTH CAROLINA   \n",
       "467405  1894_2073     Acts  SOUTH CAROLINA   \n",
       "467406  1894_2074     Acts  SOUTH CAROLINA   \n",
       "467407  1894_2075     Acts  SOUTH CAROLINA   \n",
       "467408  1894_2076     Acts  SOUTH CAROLINA   \n",
       "\n",
       "                                                 sentence  length start_page  \\\n",
       "0       Acts and]oint Resolutions OF THE General Assem...     279      00395   \n",
       "1       Joun T. Stoan, LieutenantGovernor and ex offic...      73      00395   \n",
       "2       M. L. SmirH, Speaker of the House of Represent...      53      00395   \n",
       "3                RosERT R. HEMPHILL, Clerk of the Senate.      40      00395   \n",
       "4       T. C. Hamer, Clerk of the House of Representat...      51      00395   \n",
       "...                                                   ...     ...        ...   \n",
       "467404  But no such grant shall be made for a longer p...      70        479   \n",
       "467405  That this Act shall take effect from and after...     706        479   \n",
       "467406  That this Act is a public Act, and shall conti...     202        479   \n",
       "467407  A JOINT RESOLUTION TO PRROVIPE FOR LOCATING TH...     133        479   \n",
       "467408  Whereas a dispute has arisen between the Count...     738        479   \n",
       "\n",
       "       end_page  \n",
       "0         00395  \n",
       "1         00395  \n",
       "2         00395  \n",
       "3         00395  \n",
       "4         00395  \n",
       "...         ...  \n",
       "467404      479  \n",
       "467405      479  \n",
       "467406      479  \n",
       "467407      479  \n",
       "467408      479  \n",
       "\n",
       "[467409 rows x 7 columns]"
      ]
     },
     "execution_count": 8,
     "metadata": {},
     "output_type": "execute_result"
    }
   ],
   "source": [
    "df_final"
   ]
  },
  {
   "cell_type": "markdown",
   "metadata": {},
   "source": [
    "<br>"
   ]
  },
  {
   "cell_type": "markdown",
   "metadata": {},
   "source": [
    "## Checking and dropping for duplicates\n",
    "There is a high possibility for duplicates to exist in the sentence column. This is removed here, intead of in `SentenceSplitting.ipynb`, because there might be duplicates across different volumes."
   ]
  },
  {
   "cell_type": "code",
   "execution_count": 9,
   "metadata": {
    "tags": []
   },
   "outputs": [
    {
     "name": "stdout",
     "output_type": "stream",
     "text": [
      "The number of dropped sentences is 91415\n"
     ]
    }
   ],
   "source": [
    "print(f\"The number of dropped sentences is {df_final[df_final.duplicated(subset=['sentence'])].shape[0]}\")"
   ]
  },
  {
   "cell_type": "code",
   "execution_count": 10,
   "metadata": {
    "tags": []
   },
   "outputs": [],
   "source": [
    "df_dropped = df_final.drop_duplicates(subset=['sentence'], ignore_index=True)"
   ]
  },
  {
   "cell_type": "code",
   "execution_count": 11,
   "metadata": {
    "tags": []
   },
   "outputs": [
    {
     "data": {
      "text/html": [
       "<div>\n",
       "<style scoped>\n",
       "    .dataframe tbody tr th:only-of-type {\n",
       "        vertical-align: middle;\n",
       "    }\n",
       "\n",
       "    .dataframe tbody tr th {\n",
       "        vertical-align: top;\n",
       "    }\n",
       "\n",
       "    .dataframe thead th {\n",
       "        text-align: right;\n",
       "    }\n",
       "</style>\n",
       "<table border=\"1\" class=\"dataframe\">\n",
       "  <thead>\n",
       "    <tr style=\"text-align: right;\">\n",
       "      <th></th>\n",
       "      <th>id</th>\n",
       "      <th>law_type</th>\n",
       "      <th>state</th>\n",
       "      <th>sentence</th>\n",
       "      <th>length</th>\n",
       "      <th>start_page</th>\n",
       "      <th>end_page</th>\n",
       "    </tr>\n",
       "  </thead>\n",
       "  <tbody>\n",
       "    <tr>\n",
       "      <th>0</th>\n",
       "      <td>1906_0000</td>\n",
       "      <td>Acts</td>\n",
       "      <td>SOUTH CAROLINA</td>\n",
       "      <td>Acts and]oint Resolutions OF THE General Assem...</td>\n",
       "      <td>279</td>\n",
       "      <td>00395</td>\n",
       "      <td>00395</td>\n",
       "    </tr>\n",
       "    <tr>\n",
       "      <th>1</th>\n",
       "      <td>1906_0001</td>\n",
       "      <td>Acts</td>\n",
       "      <td>SOUTH CAROLINA</td>\n",
       "      <td>Joun T. Stoan, LieutenantGovernor and ex offic...</td>\n",
       "      <td>73</td>\n",
       "      <td>00395</td>\n",
       "      <td>00395</td>\n",
       "    </tr>\n",
       "    <tr>\n",
       "      <th>2</th>\n",
       "      <td>1906_0002</td>\n",
       "      <td>Acts</td>\n",
       "      <td>SOUTH CAROLINA</td>\n",
       "      <td>M. L. SmirH, Speaker of the House of Represent...</td>\n",
       "      <td>53</td>\n",
       "      <td>00395</td>\n",
       "      <td>00395</td>\n",
       "    </tr>\n",
       "    <tr>\n",
       "      <th>3</th>\n",
       "      <td>1906_0003</td>\n",
       "      <td>Acts</td>\n",
       "      <td>SOUTH CAROLINA</td>\n",
       "      <td>RosERT R. HEMPHILL, Clerk of the Senate.</td>\n",
       "      <td>40</td>\n",
       "      <td>00395</td>\n",
       "      <td>00395</td>\n",
       "    </tr>\n",
       "    <tr>\n",
       "      <th>4</th>\n",
       "      <td>1906_0004</td>\n",
       "      <td>Acts</td>\n",
       "      <td>SOUTH CAROLINA</td>\n",
       "      <td>T. C. Hamer, Clerk of the House of Representat...</td>\n",
       "      <td>51</td>\n",
       "      <td>00395</td>\n",
       "      <td>00395</td>\n",
       "    </tr>\n",
       "    <tr>\n",
       "      <th>...</th>\n",
       "      <td>...</td>\n",
       "      <td>...</td>\n",
       "      <td>...</td>\n",
       "      <td>...</td>\n",
       "      <td>...</td>\n",
       "      <td>...</td>\n",
       "      <td>...</td>\n",
       "    </tr>\n",
       "    <tr>\n",
       "      <th>375989</th>\n",
       "      <td>1894_2072</td>\n",
       "      <td>Acts</td>\n",
       "      <td>SOUTH CAROLINA</td>\n",
       "      <td>But no such grant shall be made for a longer p...</td>\n",
       "      <td>70</td>\n",
       "      <td>479</td>\n",
       "      <td>479</td>\n",
       "    </tr>\n",
       "    <tr>\n",
       "      <th>375990</th>\n",
       "      <td>1894_2073</td>\n",
       "      <td>Acts</td>\n",
       "      <td>SOUTH CAROLINA</td>\n",
       "      <td>That this Act shall take effect from and after...</td>\n",
       "      <td>706</td>\n",
       "      <td>479</td>\n",
       "      <td>479</td>\n",
       "    </tr>\n",
       "    <tr>\n",
       "      <th>375991</th>\n",
       "      <td>1894_2074</td>\n",
       "      <td>Acts</td>\n",
       "      <td>SOUTH CAROLINA</td>\n",
       "      <td>That this Act is a public Act, and shall conti...</td>\n",
       "      <td>202</td>\n",
       "      <td>479</td>\n",
       "      <td>479</td>\n",
       "    </tr>\n",
       "    <tr>\n",
       "      <th>375992</th>\n",
       "      <td>1894_2075</td>\n",
       "      <td>Acts</td>\n",
       "      <td>SOUTH CAROLINA</td>\n",
       "      <td>A JOINT RESOLUTION TO PRROVIPE FOR LOCATING TH...</td>\n",
       "      <td>133</td>\n",
       "      <td>479</td>\n",
       "      <td>479</td>\n",
       "    </tr>\n",
       "    <tr>\n",
       "      <th>375993</th>\n",
       "      <td>1894_2076</td>\n",
       "      <td>Acts</td>\n",
       "      <td>SOUTH CAROLINA</td>\n",
       "      <td>Whereas a dispute has arisen between the Count...</td>\n",
       "      <td>738</td>\n",
       "      <td>479</td>\n",
       "      <td>479</td>\n",
       "    </tr>\n",
       "  </tbody>\n",
       "</table>\n",
       "<p>375994 rows × 7 columns</p>\n",
       "</div>"
      ],
      "text/plain": [
       "               id law_type           state  \\\n",
       "0       1906_0000     Acts  SOUTH CAROLINA   \n",
       "1       1906_0001     Acts  SOUTH CAROLINA   \n",
       "2       1906_0002     Acts  SOUTH CAROLINA   \n",
       "3       1906_0003     Acts  SOUTH CAROLINA   \n",
       "4       1906_0004     Acts  SOUTH CAROLINA   \n",
       "...           ...      ...             ...   \n",
       "375989  1894_2072     Acts  SOUTH CAROLINA   \n",
       "375990  1894_2073     Acts  SOUTH CAROLINA   \n",
       "375991  1894_2074     Acts  SOUTH CAROLINA   \n",
       "375992  1894_2075     Acts  SOUTH CAROLINA   \n",
       "375993  1894_2076     Acts  SOUTH CAROLINA   \n",
       "\n",
       "                                                 sentence  length start_page  \\\n",
       "0       Acts and]oint Resolutions OF THE General Assem...     279      00395   \n",
       "1       Joun T. Stoan, LieutenantGovernor and ex offic...      73      00395   \n",
       "2       M. L. SmirH, Speaker of the House of Represent...      53      00395   \n",
       "3                RosERT R. HEMPHILL, Clerk of the Senate.      40      00395   \n",
       "4       T. C. Hamer, Clerk of the House of Representat...      51      00395   \n",
       "...                                                   ...     ...        ...   \n",
       "375989  But no such grant shall be made for a longer p...      70        479   \n",
       "375990  That this Act shall take effect from and after...     706        479   \n",
       "375991  That this Act is a public Act, and shall conti...     202        479   \n",
       "375992  A JOINT RESOLUTION TO PRROVIPE FOR LOCATING TH...     133        479   \n",
       "375993  Whereas a dispute has arisen between the Count...     738        479   \n",
       "\n",
       "       end_page  \n",
       "0         00395  \n",
       "1         00395  \n",
       "2         00395  \n",
       "3         00395  \n",
       "4         00395  \n",
       "...         ...  \n",
       "375989      479  \n",
       "375990      479  \n",
       "375991      479  \n",
       "375992      479  \n",
       "375993      479  \n",
       "\n",
       "[375994 rows x 7 columns]"
      ]
     },
     "execution_count": 11,
     "metadata": {},
     "output_type": "execute_result"
    }
   ],
   "source": [
    "df_dropped"
   ]
  },
  {
   "cell_type": "markdown",
   "metadata": {},
   "source": [
    "<br>"
   ]
  },
  {
   "cell_type": "markdown",
   "metadata": {},
   "source": [
    "## Exporting"
   ]
  },
  {
   "cell_type": "code",
   "execution_count": 15,
   "metadata": {},
   "outputs": [],
   "source": [
    "df_dropped.to_csv(\"SC_acts.csv\", index=False)"
   ]
  },
  {
   "cell_type": "markdown",
   "metadata": {},
   "source": [
    "<br>"
   ]
  },
  {
   "cell_type": "markdown",
   "metadata": {},
   "source": [
    "## Selective random sampling\n",
    "Select 100 random sentences for each year"
   ]
  },
  {
   "cell_type": "raw",
   "metadata": {},
   "source": [
    "df_random = []\n",
    "yearsLeft = []  # List of year left after duplicates are dropped\n",
    "\n",
    "for i, year in enumerate(years):\n",
    "    \n",
    "    try:\n",
    "        data = df_dropped[df_dropped['id'].str.startswith(year)].sample(100)\n",
    "        yearsLeft.append(year)\n",
    "    except ValueError:\n",
    "        print(f\"{year} not present\")\n",
    "        continue\n",
    "    \n",
    "    df_random.append(data)\n",
    "    \n",
    "df_random = pd.concat(df_random, ignore_index=True)"
   ]
  },
  {
   "cell_type": "raw",
   "metadata": {},
   "source": [
    "print(len(years))\n",
    "print(len(yearsLeft))"
   ]
  },
  {
   "cell_type": "raw",
   "metadata": {},
   "source": [
    "[year for year in years if year not in yearsLeft]"
   ]
  },
  {
   "cell_type": "raw",
   "metadata": {},
   "source": [
    "df_random['year'] = df_random['id'].str[:4]"
   ]
  },
  {
   "cell_type": "raw",
   "metadata": {},
   "source": [
    "df_random = df_random[['year', 'sentence']]"
   ]
  },
  {
   "cell_type": "raw",
   "metadata": {},
   "source": [
    "df_random"
   ]
  },
  {
   "cell_type": "raw",
   "metadata": {},
   "source": [
    "# df_random.to_csv(\"SC_acts_random.csv\", index = False)"
   ]
  }
 ],
 "metadata": {
  "kernelspec": {
   "display_name": "Python 3 (ipykernel)",
   "language": "python",
   "name": "python3"
  },
  "language_info": {
   "codemirror_mode": {
    "name": "ipython",
    "version": 3
   },
   "file_extension": ".py",
   "mimetype": "text/x-python",
   "name": "python",
   "nbconvert_exporter": "python",
   "pygments_lexer": "ipython3",
   "version": "3.11.4"
  }
 },
 "nbformat": 4,
 "nbformat_minor": 4
}
