{
 "cells": [
  {
   "cell_type": "code",
   "execution_count": 1,
   "id": "ff2979ce-dd36-41e5-9efe-ebaa7c356194",
   "metadata": {},
   "outputs": [],
   "source": [
    "import os\n",
    "import nltk\n",
    "import pandas as pd\n",
    "import multiprocessing\n",
    "\n",
    "from splitting_functs_discrepancy import *\n",
    "from numpy import nan, array_split\n",
    "\n",
    "pd.set_option('display.max_colwidth', None)"
   ]
  },
  {
   "cell_type": "markdown",
   "id": "c24d1ab9-8967-4c83-9e2f-adc9e9236570",
   "metadata": {},
   "source": [
    "## Data Aquiring"
   ]
  },
  {
   "cell_type": "code",
   "execution_count": 2,
   "id": "ab26dc83-204d-4a2e-a46f-ff48cb0ff711",
   "metadata": {},
   "outputs": [],
   "source": [
    "path = \"./data/1877_571-586.csv\"\n",
    "df = pd.read_csv(path)"
   ]
  },
  {
   "cell_type": "code",
   "execution_count": 3,
   "id": "5f131354-19d0-494f-8cce-6a89554b94c6",
   "metadata": {},
   "outputs": [
    {
     "data": {
      "text/html": [
       "<div>\n",
       "<style scoped>\n",
       "    .dataframe tbody tr th:only-of-type {\n",
       "        vertical-align: middle;\n",
       "    }\n",
       "\n",
       "    .dataframe tbody tr th {\n",
       "        vertical-align: top;\n",
       "    }\n",
       "\n",
       "    .dataframe thead th {\n",
       "        text-align: right;\n",
       "    }\n",
       "</style>\n",
       "<table border=\"1\" class=\"dataframe\">\n",
       "  <thead>\n",
       "    <tr style=\"text-align: right;\">\n",
       "      <th></th>\n",
       "      <th>Year</th>\n",
       "      <th>Page_No</th>\n",
       "      <th>Act</th>\n",
       "      <th>Coding (Axton)</th>\n",
       "    </tr>\n",
       "  </thead>\n",
       "  <tbody>\n",
       "    <tr>\n",
       "      <th>0</th>\n",
       "      <td>1877</td>\n",
       "      <td>571</td>\n",
       "      <td>an act ro amenp an act entitleed “an act to esttabliish uniformity in the sessions of the circuit couurts.” section 1.</td>\n",
       "      <td>0</td>\n",
       "    </tr>\n",
       "    <tr>\n",
       "      <th>1</th>\n",
       "      <td>1877</td>\n",
       "      <td>571</td>\n",
       "      <td>be it enacted by the senate and house of representatives of the state of south carolina, now met and sitting in general assembly, and by the authority of the same, that section 5 of an act entitled “an act to establish uniformity in the sessions of the circuit courts,” approved june 9th, 1877, be, and the same is hereby, amended by striking out the eleventh line thereof and inserting in lieu thereof “third monday in february, second monday in june and third monday in september.” sec. 2. that the said section be amended on line 15, at the end of the section, by adding the words ‘‘and the fourth monday in june.” approved march 22, 1878.</td>\n",
       "      <td>0</td>\n",
       "    </tr>\n",
       "    <tr>\n",
       "      <th>2</th>\n",
       "      <td>1877</td>\n",
       "      <td>571</td>\n",
       "      <td>—— an act to alter and amend the schoo.t law of sour carolina.</td>\n",
       "      <td>1</td>\n",
       "    </tr>\n",
       "    <tr>\n",
       "      <th>3</th>\n",
       "      <td>1877</td>\n",
       "      <td>571</td>\n",
       "      <td>be it enacted by the senate and house of representatives of the state of south carolina, now met and sitting in general assembly, and by the authority of the same, that the state superintendent of education and four (4) persons to be appointed by the governor, by and with the advice and consent of the senate, who shall hold office for two years and until their successors may be appointed, unless sooner removed by the governor, shall constitute the state board of examiners.</td>\n",
       "      <td>0</td>\n",
       "    </tr>\n",
       "    <tr>\n",
       "      <th>4</th>\n",
       "      <td>1877</td>\n",
       "      <td>571</td>\n",
       "      <td>of this board the state superintendent of education shall be ez officio chairman.</td>\n",
       "      <td>0</td>\n",
       "    </tr>\n",
       "  </tbody>\n",
       "</table>\n",
       "</div>"
      ],
      "text/plain": [
       "   Year  Page_No  \\\n",
       "0  1877      571   \n",
       "1  1877      571   \n",
       "2  1877      571   \n",
       "3  1877      571   \n",
       "4  1877      571   \n",
       "\n",
       "                                                                                                                                                                                                                                                                                                                                                                                                                                                                                                                                                                                                                                                                  Act  \\\n",
       "0                                                                                                                                                                                                                                                                                                                                                                                                                                                                                                                                              an act ro amenp an act entitleed “an act to esttabliish uniformity in the sessions of the circuit couurts.” section 1.   \n",
       "1  be it enacted by the senate and house of representatives of the state of south carolina, now met and sitting in general assembly, and by the authority of the same, that section 5 of an act entitled “an act to establish uniformity in the sessions of the circuit courts,” approved june 9th, 1877, be, and the same is hereby, amended by striking out the eleventh line thereof and inserting in lieu thereof “third monday in february, second monday in june and third monday in september.” sec. 2. that the said section be amended on line 15, at the end of the section, by adding the words ‘‘and the fourth monday in june.” approved march 22, 1878.   \n",
       "2                                                                                                                                                                                                                                                                                                                                                                                                                                                                                                                                                                                                      —— an act to alter and amend the schoo.t law of sour carolina.   \n",
       "3                                                                                                                                                                       be it enacted by the senate and house of representatives of the state of south carolina, now met and sitting in general assembly, and by the authority of the same, that the state superintendent of education and four (4) persons to be appointed by the governor, by and with the advice and consent of the senate, who shall hold office for two years and until their successors may be appointed, unless sooner removed by the governor, shall constitute the state board of examiners.   \n",
       "4                                                                                                                                                                                                                                                                                                                                                                                                                                                                                                                                                                                   of this board the state superintendent of education shall be ez officio chairman.   \n",
       "\n",
       "   Coding (Axton)  \n",
       "0               0  \n",
       "1               0  \n",
       "2               1  \n",
       "3               0  \n",
       "4               0  "
      ]
     },
     "execution_count": 3,
     "metadata": {},
     "output_type": "execute_result"
    }
   ],
   "source": [
    "df.head()"
   ]
  },
  {
   "cell_type": "code",
   "execution_count": 4,
   "id": "53220566-d1f3-45f9-8880-8c12881017c4",
   "metadata": {},
   "outputs": [
    {
     "data": {
      "text/plain": [
       "132"
      ]
     },
     "execution_count": 4,
     "metadata": {},
     "output_type": "execute_result"
    }
   ],
   "source": [
    "df.shape[0]"
   ]
  },
  {
   "cell_type": "markdown",
   "id": "1ede7de4-7d39-4a2e-b113-6f1d434e6a4f",
   "metadata": {},
   "source": [
    "## Initial Data Cleaning\n",
    "Concatenate all adjacent row which have the same values for all columns except the `Act` column into a single row."
   ]
  },
  {
   "cell_type": "code",
   "execution_count": 5,
   "id": "6901a49a-ce42-40c7-8f02-8085c168de7e",
   "metadata": {
    "scrolled": true
   },
   "outputs": [],
   "source": [
    "# Initialize an empty list to store the resulting rows\n",
    "result_rows = []\n",
    "\n",
    "# Initialize variables to track the current group\n",
    "current_group = [df.iloc[0]['Year'], df.iloc[0]['Page_No'], df.iloc[0]['Coding (Axton)']]\n",
    "current_text = df.iloc[0]['Act']\n",
    "\n",
    "# Iterate through the DataFrame\n",
    "for index, row in df.iterrows():\n",
    "    if [row['Year'], row['Page_No'], row['Coding (Axton)']] == current_group:\n",
    "        # If the current row has the same values in the three columns, concatenate the text\n",
    "        current_text = current_text + ' ' + row['Act']\n",
    "    else:\n",
    "        # If the current row has different values, add the current row to the result\n",
    "        result_rows.append([current_group[0], current_group[1], current_group[2], current_text])\n",
    "        # Update the current group and text\n",
    "        current_group = [row['Year'], row['Page_No'], row['Coding (Axton)']]\n",
    "        current_text = row['Act']\n",
    "\n",
    "# Add the last group to the result\n",
    "result_rows.append([current_group[0], current_group[1], current_group[2], current_text])\n",
    "\n",
    "# Create a new DataFrame from the result list\n",
    "result_df = pd.DataFrame(result_rows, columns=['Year', 'Page_No', 'Coding (Axton)', 'Act'])"
   ]
  },
  {
   "cell_type": "code",
   "execution_count": 6,
   "id": "40d51f2d-bf72-468e-96be-d96be4468fc2",
   "metadata": {},
   "outputs": [
    {
     "data": {
      "text/html": [
       "<div>\n",
       "<style scoped>\n",
       "    .dataframe tbody tr th:only-of-type {\n",
       "        vertical-align: middle;\n",
       "    }\n",
       "\n",
       "    .dataframe tbody tr th {\n",
       "        vertical-align: top;\n",
       "    }\n",
       "\n",
       "    .dataframe thead th {\n",
       "        text-align: right;\n",
       "    }\n",
       "</style>\n",
       "<table border=\"1\" class=\"dataframe\">\n",
       "  <thead>\n",
       "    <tr style=\"text-align: right;\">\n",
       "      <th></th>\n",
       "      <th>Year</th>\n",
       "      <th>Page_No</th>\n",
       "      <th>Coding (Axton)</th>\n",
       "      <th>Act</th>\n",
       "    </tr>\n",
       "  </thead>\n",
       "  <tbody>\n",
       "    <tr>\n",
       "      <th>0</th>\n",
       "      <td>1877</td>\n",
       "      <td>571</td>\n",
       "      <td>0</td>\n",
       "      <td>an act ro amenp an act entitleed “an act to esttabliish uniformity in the sessions of the circuit couurts.” section 1. an act ro amenp an act entitleed “an act to esttabliish uniformity in the sessions of the circuit couurts.” section 1. be it enacted by the senate and house of representatives of the state of south carolina, now met and sitting in general assembly, and by the authority of the same, that section 5 of an act entitled “an act to establish uniformity in the sessions of the circuit courts,” approved june 9th, 1877, be, and the same is hereby, amended by striking out the eleventh line thereof and inserting in lieu thereof “third monday in february, second monday in june and third monday in september.” sec. 2. that the said section be amended on line 15, at the end of the section, by adding the words ‘‘and the fourth monday in june.” approved march 22, 1878.</td>\n",
       "    </tr>\n",
       "    <tr>\n",
       "      <th>1</th>\n",
       "      <td>1877</td>\n",
       "      <td>571</td>\n",
       "      <td>1</td>\n",
       "      <td>—— an act to alter and amend the schoo.t law of sour carolina.</td>\n",
       "    </tr>\n",
       "    <tr>\n",
       "      <th>2</th>\n",
       "      <td>1877</td>\n",
       "      <td>571</td>\n",
       "      <td>0</td>\n",
       "      <td>be it enacted by the senate and house of representatives of the state of south carolina, now met and sitting in general assembly, and by the authority of the same, that the state superintendent of education and four (4) persons to be appointed by the governor, by and with the advice and consent of the senate, who shall hold office for two years and until their successors may be appointed, unless sooner removed by the governor, shall constitute the state board of examiners. of this board the state superintendent of education shall be ez officio chairman. the clerk of the state superintendent of education, as hereinafter provided for, shall be clerk of the state board of examiners. he shall be custodian of its records, papers and effects, and shall keep minutes of its proceedings; and said records, papers and minutes shall be kept in the office of the state superintendent of education and shall be open to inspection. sec. 2. that the said board shall meet on the call of its chairman, or upon the request of a majority of its members, at the office of the state superintendent of education, or at such other place as may be designated in the call. a majority of the board shall constitute a quorum for transacting business. sec. 3. that the official seal of the state superintendent of education shall be used for the authentication of the acts of the state board of examiners.</td>\n",
       "    </tr>\n",
       "    <tr>\n",
       "      <th>3</th>\n",
       "      <td>1877</td>\n",
       "      <td>572</td>\n",
       "      <td>0</td>\n",
       "      <td>sec. 4. that the state board of examiners shall constitute an advisory body with whom the state superintendent of education shall have the right to consult when he is in doubt as to his official duty; and shall have power to review all decisions of the county boards of examiners, as hereinafter provided for appeals to the state board of examiners must be made through the county boards of examiners in writing and must distinctly set forth the question of law as well as the facts of the case upon which the appeal is taken, and the decision of the state board shall be final upon the matter in issue. sec. 5. that the state board of examiners shall have power 1st. to adopt rules and regulations not inconsistent with the laws of the state for its own government and for the government of the free public schools 2d. to prescribe and enforce rules for the examination of teachers 3d. to prescribe a standard of proficiency before county boards of examiners which will entitle persons examined by such boards to certificates as teachers. to prescribe and enforce the course of study in the free public schools, 5th. to prescribe and to enforce as far as practicable the use of a uniform series of text books in the free public schools, except in the city of charleston provided, that the state board of examiners shall not have power without permission of the general assembly of the state to change a text book within five (5) years from the date of its adoption.</td>\n",
       "    </tr>\n",
       "    <tr>\n",
       "      <th>4</th>\n",
       "      <td>1877</td>\n",
       "      <td>572</td>\n",
       "      <td>2</td>\n",
       "      <td>to grant teachers’ state certificates, and to revoke them for immoral or unprofessional conduct, profanity or evident unfitness for teaching.</td>\n",
       "    </tr>\n",
       "  </tbody>\n",
       "</table>\n",
       "</div>"
      ],
      "text/plain": [
       "   Year  Page_No  Coding (Axton)  \\\n",
       "0  1877      571               0   \n",
       "1  1877      571               1   \n",
       "2  1877      571               0   \n",
       "3  1877      572               0   \n",
       "4  1877      572               2   \n",
       "\n",
       "                                                                                                                                                                                                                                                                                                                                                                                                                                                                                                                                                                                                                                                                                                                                                                                                                                                                                                                                                                                                                                                                                                                                                                                                                                                                                                                                                                                                                                                                                                                          Act  \n",
       "0                                                                                                                                                                                                                                                                                                                                                                                                                                                                                                                                                                                                            an act ro amenp an act entitleed “an act to esttabliish uniformity in the sessions of the circuit couurts.” section 1. an act ro amenp an act entitleed “an act to esttabliish uniformity in the sessions of the circuit couurts.” section 1. be it enacted by the senate and house of representatives of the state of south carolina, now met and sitting in general assembly, and by the authority of the same, that section 5 of an act entitled “an act to establish uniformity in the sessions of the circuit courts,” approved june 9th, 1877, be, and the same is hereby, amended by striking out the eleventh line thereof and inserting in lieu thereof “third monday in february, second monday in june and third monday in september.” sec. 2. that the said section be amended on line 15, at the end of the section, by adding the words ‘‘and the fourth monday in june.” approved march 22, 1878.  \n",
       "1                                                                                                                                                                                                                                                                                                                                                                                                                                                                                                                                                                                                                                                                                                                                                                                                                                                                                                                                                                                                                                                                                                                                                                                                                                                                                                                                                                                                                                                              —— an act to alter and amend the schoo.t law of sour carolina.  \n",
       "2                                                                               be it enacted by the senate and house of representatives of the state of south carolina, now met and sitting in general assembly, and by the authority of the same, that the state superintendent of education and four (4) persons to be appointed by the governor, by and with the advice and consent of the senate, who shall hold office for two years and until their successors may be appointed, unless sooner removed by the governor, shall constitute the state board of examiners. of this board the state superintendent of education shall be ez officio chairman. the clerk of the state superintendent of education, as hereinafter provided for, shall be clerk of the state board of examiners. he shall be custodian of its records, papers and effects, and shall keep minutes of its proceedings; and said records, papers and minutes shall be kept in the office of the state superintendent of education and shall be open to inspection. sec. 2. that the said board shall meet on the call of its chairman, or upon the request of a majority of its members, at the office of the state superintendent of education, or at such other place as may be designated in the call. a majority of the board shall constitute a quorum for transacting business. sec. 3. that the official seal of the state superintendent of education shall be used for the authentication of the acts of the state board of examiners.  \n",
       "3  sec. 4. that the state board of examiners shall constitute an advisory body with whom the state superintendent of education shall have the right to consult when he is in doubt as to his official duty; and shall have power to review all decisions of the county boards of examiners, as hereinafter provided for appeals to the state board of examiners must be made through the county boards of examiners in writing and must distinctly set forth the question of law as well as the facts of the case upon which the appeal is taken, and the decision of the state board shall be final upon the matter in issue. sec. 5. that the state board of examiners shall have power 1st. to adopt rules and regulations not inconsistent with the laws of the state for its own government and for the government of the free public schools 2d. to prescribe and enforce rules for the examination of teachers 3d. to prescribe a standard of proficiency before county boards of examiners which will entitle persons examined by such boards to certificates as teachers. to prescribe and enforce the course of study in the free public schools, 5th. to prescribe and to enforce as far as practicable the use of a uniform series of text books in the free public schools, except in the city of charleston provided, that the state board of examiners shall not have power without permission of the general assembly of the state to change a text book within five (5) years from the date of its adoption.  \n",
       "4                                                                                                                                                                                                                                                                                                                                                                                                                                                                                                                                                                                                                                                                                                                                                                                                                                                                                                                                                                                                                                                                                                                                                                                                                                                                                                                                                                               to grant teachers’ state certificates, and to revoke them for immoral or unprofessional conduct, profanity or evident unfitness for teaching.  "
      ]
     },
     "execution_count": 6,
     "metadata": {},
     "output_type": "execute_result"
    }
   ],
   "source": [
    "result_df.head()"
   ]
  },
  {
   "cell_type": "code",
   "execution_count": 7,
   "id": "60e8cc74-90cc-4063-a573-b8babad61058",
   "metadata": {},
   "outputs": [
    {
     "data": {
      "text/plain": [
       "49"
      ]
     },
     "execution_count": 7,
     "metadata": {},
     "output_type": "execute_result"
    }
   ],
   "source": [
    "result_df.shape[0]"
   ]
  },
  {
   "cell_type": "markdown",
   "id": "2611aaeb-4d9f-44f7-8e0c-e9645a60dd0e",
   "metadata": {},
   "source": [
    "Remove the codings for 1 and 2"
   ]
  },
  {
   "cell_type": "code",
   "execution_count": 8,
   "id": "445b5c3f-49e0-4406-baad-54e6cef17820",
   "metadata": {
    "scrolled": true
   },
   "outputs": [],
   "source": [
    "result_df['Coding (Axton)'] = result_df['Coding (Axton)'].map({\n",
    "    0:0,\n",
    "    1:'',\n",
    "    2:''\n",
    "})"
   ]
  },
  {
   "cell_type": "markdown",
   "id": "ac834f5a-1b55-4296-bbde-982b96b86192",
   "metadata": {},
   "source": [
    "Assign the number of words for each sentence."
   ]
  },
  {
   "cell_type": "code",
   "execution_count": 9,
   "id": "0463d66c-b84a-4374-96a6-97b2cff294df",
   "metadata": {
    "scrolled": true
   },
   "outputs": [],
   "source": [
    "result_df['num_words'] = result_df['Act'].str.split(\" \").str.len()"
   ]
  },
  {
   "cell_type": "code",
   "execution_count": 10,
   "id": "3009dea8-f372-45ae-b74c-546284ed956a",
   "metadata": {},
   "outputs": [
    {
     "data": {
      "text/html": [
       "<div>\n",
       "<style scoped>\n",
       "    .dataframe tbody tr th:only-of-type {\n",
       "        vertical-align: middle;\n",
       "    }\n",
       "\n",
       "    .dataframe tbody tr th {\n",
       "        vertical-align: top;\n",
       "    }\n",
       "\n",
       "    .dataframe thead th {\n",
       "        text-align: right;\n",
       "    }\n",
       "</style>\n",
       "<table border=\"1\" class=\"dataframe\">\n",
       "  <thead>\n",
       "    <tr style=\"text-align: right;\">\n",
       "      <th></th>\n",
       "      <th>Year</th>\n",
       "      <th>Page_No</th>\n",
       "      <th>Coding (Axton)</th>\n",
       "      <th>Act</th>\n",
       "      <th>num_words</th>\n",
       "    </tr>\n",
       "  </thead>\n",
       "  <tbody>\n",
       "    <tr>\n",
       "      <th>0</th>\n",
       "      <td>1877</td>\n",
       "      <td>571</td>\n",
       "      <td>0</td>\n",
       "      <td>an act ro amenp an act entitleed “an act to esttabliish uniformity in the sessions of the circuit couurts.” section 1. an act ro amenp an act entitleed “an act to esttabliish uniformity in the sessions of the circuit couurts.” section 1. be it enacted by the senate and house of representatives of the state of south carolina, now met and sitting in general assembly, and by the authority of the same, that section 5 of an act entitled “an act to establish uniformity in the sessions of the circuit courts,” approved june 9th, 1877, be, and the same is hereby, amended by striking out the eleventh line thereof and inserting in lieu thereof “third monday in february, second monday in june and third monday in september.” sec. 2. that the said section be amended on line 15, at the end of the section, by adding the words ‘‘and the fourth monday in june.” approved march 22, 1878.</td>\n",
       "      <td>158</td>\n",
       "    </tr>\n",
       "    <tr>\n",
       "      <th>1</th>\n",
       "      <td>1877</td>\n",
       "      <td>571</td>\n",
       "      <td></td>\n",
       "      <td>—— an act to alter and amend the schoo.t law of sour carolina.</td>\n",
       "      <td>13</td>\n",
       "    </tr>\n",
       "    <tr>\n",
       "      <th>2</th>\n",
       "      <td>1877</td>\n",
       "      <td>571</td>\n",
       "      <td>0</td>\n",
       "      <td>be it enacted by the senate and house of representatives of the state of south carolina, now met and sitting in general assembly, and by the authority of the same, that the state superintendent of education and four (4) persons to be appointed by the governor, by and with the advice and consent of the senate, who shall hold office for two years and until their successors may be appointed, unless sooner removed by the governor, shall constitute the state board of examiners. of this board the state superintendent of education shall be ez officio chairman. the clerk of the state superintendent of education, as hereinafter provided for, shall be clerk of the state board of examiners. he shall be custodian of its records, papers and effects, and shall keep minutes of its proceedings; and said records, papers and minutes shall be kept in the office of the state superintendent of education and shall be open to inspection. sec. 2. that the said board shall meet on the call of its chairman, or upon the request of a majority of its members, at the office of the state superintendent of education, or at such other place as may be designated in the call. a majority of the board shall constitute a quorum for transacting business. sec. 3. that the official seal of the state superintendent of education shall be used for the authentication of the acts of the state board of examiners.</td>\n",
       "      <td>242</td>\n",
       "    </tr>\n",
       "    <tr>\n",
       "      <th>3</th>\n",
       "      <td>1877</td>\n",
       "      <td>572</td>\n",
       "      <td>0</td>\n",
       "      <td>sec. 4. that the state board of examiners shall constitute an advisory body with whom the state superintendent of education shall have the right to consult when he is in doubt as to his official duty; and shall have power to review all decisions of the county boards of examiners, as hereinafter provided for appeals to the state board of examiners must be made through the county boards of examiners in writing and must distinctly set forth the question of law as well as the facts of the case upon which the appeal is taken, and the decision of the state board shall be final upon the matter in issue. sec. 5. that the state board of examiners shall have power 1st. to adopt rules and regulations not inconsistent with the laws of the state for its own government and for the government of the free public schools 2d. to prescribe and enforce rules for the examination of teachers 3d. to prescribe a standard of proficiency before county boards of examiners which will entitle persons examined by such boards to certificates as teachers. to prescribe and enforce the course of study in the free public schools, 5th. to prescribe and to enforce as far as practicable the use of a uniform series of text books in the free public schools, except in the city of charleston provided, that the state board of examiners shall not have power without permission of the general assembly of the state to change a text book within five (5) years from the date of its adoption.</td>\n",
       "      <td>261</td>\n",
       "    </tr>\n",
       "    <tr>\n",
       "      <th>4</th>\n",
       "      <td>1877</td>\n",
       "      <td>572</td>\n",
       "      <td></td>\n",
       "      <td>to grant teachers’ state certificates, and to revoke them for immoral or unprofessional conduct, profanity or evident unfitness for teaching.</td>\n",
       "      <td>20</td>\n",
       "    </tr>\n",
       "  </tbody>\n",
       "</table>\n",
       "</div>"
      ],
      "text/plain": [
       "   Year  Page_No Coding (Axton)  \\\n",
       "0  1877      571              0   \n",
       "1  1877      571                  \n",
       "2  1877      571              0   \n",
       "3  1877      572              0   \n",
       "4  1877      572                  \n",
       "\n",
       "                                                                                                                                                                                                                                                                                                                                                                                                                                                                                                                                                                                                                                                                                                                                                                                                                                                                                                                                                                                                                                                                                                                                                                                                                                                                                                                                                                                                                                                                                                                          Act  \\\n",
       "0                                                                                                                                                                                                                                                                                                                                                                                                                                                                                                                                                                                                            an act ro amenp an act entitleed “an act to esttabliish uniformity in the sessions of the circuit couurts.” section 1. an act ro amenp an act entitleed “an act to esttabliish uniformity in the sessions of the circuit couurts.” section 1. be it enacted by the senate and house of representatives of the state of south carolina, now met and sitting in general assembly, and by the authority of the same, that section 5 of an act entitled “an act to establish uniformity in the sessions of the circuit courts,” approved june 9th, 1877, be, and the same is hereby, amended by striking out the eleventh line thereof and inserting in lieu thereof “third monday in february, second monday in june and third monday in september.” sec. 2. that the said section be amended on line 15, at the end of the section, by adding the words ‘‘and the fourth monday in june.” approved march 22, 1878.   \n",
       "1                                                                                                                                                                                                                                                                                                                                                                                                                                                                                                                                                                                                                                                                                                                                                                                                                                                                                                                                                                                                                                                                                                                                                                                                                                                                                                                                                                                                                                                              —— an act to alter and amend the schoo.t law of sour carolina.   \n",
       "2                                                                               be it enacted by the senate and house of representatives of the state of south carolina, now met and sitting in general assembly, and by the authority of the same, that the state superintendent of education and four (4) persons to be appointed by the governor, by and with the advice and consent of the senate, who shall hold office for two years and until their successors may be appointed, unless sooner removed by the governor, shall constitute the state board of examiners. of this board the state superintendent of education shall be ez officio chairman. the clerk of the state superintendent of education, as hereinafter provided for, shall be clerk of the state board of examiners. he shall be custodian of its records, papers and effects, and shall keep minutes of its proceedings; and said records, papers and minutes shall be kept in the office of the state superintendent of education and shall be open to inspection. sec. 2. that the said board shall meet on the call of its chairman, or upon the request of a majority of its members, at the office of the state superintendent of education, or at such other place as may be designated in the call. a majority of the board shall constitute a quorum for transacting business. sec. 3. that the official seal of the state superintendent of education shall be used for the authentication of the acts of the state board of examiners.   \n",
       "3  sec. 4. that the state board of examiners shall constitute an advisory body with whom the state superintendent of education shall have the right to consult when he is in doubt as to his official duty; and shall have power to review all decisions of the county boards of examiners, as hereinafter provided for appeals to the state board of examiners must be made through the county boards of examiners in writing and must distinctly set forth the question of law as well as the facts of the case upon which the appeal is taken, and the decision of the state board shall be final upon the matter in issue. sec. 5. that the state board of examiners shall have power 1st. to adopt rules and regulations not inconsistent with the laws of the state for its own government and for the government of the free public schools 2d. to prescribe and enforce rules for the examination of teachers 3d. to prescribe a standard of proficiency before county boards of examiners which will entitle persons examined by such boards to certificates as teachers. to prescribe and enforce the course of study in the free public schools, 5th. to prescribe and to enforce as far as practicable the use of a uniform series of text books in the free public schools, except in the city of charleston provided, that the state board of examiners shall not have power without permission of the general assembly of the state to change a text book within five (5) years from the date of its adoption.   \n",
       "4                                                                                                                                                                                                                                                                                                                                                                                                                                                                                                                                                                                                                                                                                                                                                                                                                                                                                                                                                                                                                                                                                                                                                                                                                                                                                                                                                                               to grant teachers’ state certificates, and to revoke them for immoral or unprofessional conduct, profanity or evident unfitness for teaching.   \n",
       "\n",
       "   num_words  \n",
       "0        158  \n",
       "1         13  \n",
       "2        242  \n",
       "3        261  \n",
       "4         20  "
      ]
     },
     "execution_count": 10,
     "metadata": {},
     "output_type": "execute_result"
    }
   ],
   "source": [
    "result_df.head()"
   ]
  },
  {
   "cell_type": "code",
   "execution_count": 11,
   "id": "65c1573c-9ed7-4457-8301-1a677064e7a5",
   "metadata": {},
   "outputs": [
    {
     "data": {
      "text/plain": [
       "49"
      ]
     },
     "execution_count": 11,
     "metadata": {},
     "output_type": "execute_result"
    }
   ],
   "source": [
    "result_df.shape[0]"
   ]
  },
  {
   "cell_type": "markdown",
   "id": "048f36b5-77ca-4d82-819e-da7865dffa54",
   "metadata": {},
   "source": [
    "## Sentence Tokenize\n",
    "Tokenize each sentence and split each new tokenized sentence into its own line."
   ]
  },
  {
   "cell_type": "code",
   "execution_count": 12,
   "id": "60e75e83-9323-4327-ac6a-d43bc1d690b3",
   "metadata": {
    "scrolled": true
   },
   "outputs": [],
   "source": [
    "result_df_2 = []\n",
    "for row in result_df.itertuples():\n",
    "    \n",
    "    # Pass through the tokenizer\n",
    "    if row.num_words > 1:\n",
    "        act_tokenizer = nltk.PunktSentenceTokenizer(row.Act)\n",
    "        sub_acts = act_tokenizer.tokenize(row.Act)  # A list of Acts as seperated by the tokenizer\n",
    "        # print(len(sub_acts))\n",
    "        # print(sub_acts)\n",
    "        # print(\"\\n\")\n",
    "    else:\n",
    "        sub_acts = [row.Act]\n",
    "\n",
    "    # For each new (sub) Act generated, add it to a new dataframe with the same values for the remaining columns\n",
    "    for sub_act in sub_acts:\n",
    "        data = {\n",
    "                \"Year\": row.Year,\n",
    "                \"Page_No\": row.Page_No,\n",
    "                \"Act\": sub_act,\n",
    "                \"Coding (Axton)\": row[3],\n",
    "                \"num_words\": row.num_words\n",
    "            }\n",
    "        temp = pd.Series(data).to_frame().transpose()\n",
    "        result_df_2.append(temp)"
   ]
  },
  {
   "cell_type": "code",
   "execution_count": 13,
   "id": "3de3f0b6-a619-4acf-93ef-cf45a79e475a",
   "metadata": {},
   "outputs": [],
   "source": [
    "result_df_2 = pd.concat(result_df_2, ignore_index=True)"
   ]
  },
  {
   "cell_type": "code",
   "execution_count": 14,
   "id": "357e01ba-63a4-480e-8e5a-fe89943f2373",
   "metadata": {},
   "outputs": [
    {
     "data": {
      "text/html": [
       "<div>\n",
       "<style scoped>\n",
       "    .dataframe tbody tr th:only-of-type {\n",
       "        vertical-align: middle;\n",
       "    }\n",
       "\n",
       "    .dataframe tbody tr th {\n",
       "        vertical-align: top;\n",
       "    }\n",
       "\n",
       "    .dataframe thead th {\n",
       "        text-align: right;\n",
       "    }\n",
       "</style>\n",
       "<table border=\"1\" class=\"dataframe\">\n",
       "  <thead>\n",
       "    <tr style=\"text-align: right;\">\n",
       "      <th></th>\n",
       "      <th>Year</th>\n",
       "      <th>Page_No</th>\n",
       "      <th>Act</th>\n",
       "      <th>Coding (Axton)</th>\n",
       "      <th>num_words</th>\n",
       "    </tr>\n",
       "  </thead>\n",
       "  <tbody>\n",
       "    <tr>\n",
       "      <th>0</th>\n",
       "      <td>1877</td>\n",
       "      <td>571</td>\n",
       "      <td>an act ro amenp an act entitleed “an act to esttabliish uniformity in the sessions of the circuit couurts.” section 1. an act ro amenp an act entitleed “an act to esttabliish uniformity in the sessions of the circuit couurts.” section 1. be it enacted by the senate and house of representatives of the state of south carolina, now met and sitting in general assembly, and by the authority of the same, that section 5 of an act entitled “an act to establish uniformity in the sessions of the circuit courts,” approved june 9th, 1877, be, and the same is hereby, amended by striking out the eleventh line thereof and inserting in lieu thereof “third monday in february, second monday in june and third monday in september.” sec. 2. that the said section be amended on line 15, at the end of the section, by adding the words ‘‘and the fourth monday in june.” approved march 22, 1878.</td>\n",
       "      <td>0</td>\n",
       "      <td>158</td>\n",
       "    </tr>\n",
       "    <tr>\n",
       "      <th>1</th>\n",
       "      <td>1877</td>\n",
       "      <td>571</td>\n",
       "      <td>—— an act to alter and amend the schoo.t law of sour carolina.</td>\n",
       "      <td></td>\n",
       "      <td>13</td>\n",
       "    </tr>\n",
       "    <tr>\n",
       "      <th>2</th>\n",
       "      <td>1877</td>\n",
       "      <td>571</td>\n",
       "      <td>be it enacted by the senate and house of representatives of the state of south carolina, now met and sitting in general assembly, and by the authority of the same, that the state superintendent of education and four (4) persons to be appointed by the governor, by and with the advice and consent of the senate, who shall hold office for two years and until their successors may be appointed, unless sooner removed by the governor, shall constitute the state board of examiners.</td>\n",
       "      <td>0</td>\n",
       "      <td>242</td>\n",
       "    </tr>\n",
       "    <tr>\n",
       "      <th>3</th>\n",
       "      <td>1877</td>\n",
       "      <td>571</td>\n",
       "      <td>of this board the state superintendent of education shall be ez officio chairman.</td>\n",
       "      <td>0</td>\n",
       "      <td>242</td>\n",
       "    </tr>\n",
       "    <tr>\n",
       "      <th>4</th>\n",
       "      <td>1877</td>\n",
       "      <td>571</td>\n",
       "      <td>the clerk of the state superintendent of education, as hereinafter provided for, shall be clerk of the state board of examiners.</td>\n",
       "      <td>0</td>\n",
       "      <td>242</td>\n",
       "    </tr>\n",
       "  </tbody>\n",
       "</table>\n",
       "</div>"
      ],
      "text/plain": [
       "   Year Page_No  \\\n",
       "0  1877     571   \n",
       "1  1877     571   \n",
       "2  1877     571   \n",
       "3  1877     571   \n",
       "4  1877     571   \n",
       "\n",
       "                                                                                                                                                                                                                                                                                                                                                                                                                                                                                                                                                                                                                                                                                                                                                                                                                                                                                                                Act  \\\n",
       "0  an act ro amenp an act entitleed “an act to esttabliish uniformity in the sessions of the circuit couurts.” section 1. an act ro amenp an act entitleed “an act to esttabliish uniformity in the sessions of the circuit couurts.” section 1. be it enacted by the senate and house of representatives of the state of south carolina, now met and sitting in general assembly, and by the authority of the same, that section 5 of an act entitled “an act to establish uniformity in the sessions of the circuit courts,” approved june 9th, 1877, be, and the same is hereby, amended by striking out the eleventh line thereof and inserting in lieu thereof “third monday in february, second monday in june and third monday in september.” sec. 2. that the said section be amended on line 15, at the end of the section, by adding the words ‘‘and the fourth monday in june.” approved march 22, 1878.   \n",
       "1                                                                                                                                                                                                                                                                                                                                                                                                                                                                                                                                                                                                                                                                                                                                                                                                                                                    —— an act to alter and amend the schoo.t law of sour carolina.   \n",
       "2                                                                                                                                                                                                                                                                                                                                                                                                                     be it enacted by the senate and house of representatives of the state of south carolina, now met and sitting in general assembly, and by the authority of the same, that the state superintendent of education and four (4) persons to be appointed by the governor, by and with the advice and consent of the senate, who shall hold office for two years and until their successors may be appointed, unless sooner removed by the governor, shall constitute the state board of examiners.   \n",
       "3                                                                                                                                                                                                                                                                                                                                                                                                                                                                                                                                                                                                                                                                                                                                                                                                                                 of this board the state superintendent of education shall be ez officio chairman.   \n",
       "4                                                                                                                                                                                                                                                                                                                                                                                                                                                                                                                                                                                                                                                                                                                                                                                  the clerk of the state superintendent of education, as hereinafter provided for, shall be clerk of the state board of examiners.   \n",
       "\n",
       "  Coding (Axton) num_words  \n",
       "0              0       158  \n",
       "1                       13  \n",
       "2              0       242  \n",
       "3              0       242  \n",
       "4              0       242  "
      ]
     },
     "execution_count": 14,
     "metadata": {},
     "output_type": "execute_result"
    }
   ],
   "source": [
    "result_df_2.head()"
   ]
  },
  {
   "cell_type": "markdown",
   "id": "18f1bc5b-2e59-45d9-9c9a-058089b165a9",
   "metadata": {},
   "source": [
    "## More Cleaning\n",
    "Follow cleaning in `sentence_splitting.ipynb`"
   ]
  },
  {
   "cell_type": "code",
   "execution_count": 15,
   "id": "6746b4a6-57a5-44df-bd09-da646568ba4c",
   "metadata": {},
   "outputs": [],
   "source": [
    "# New dataframe so that the results of the matching can be compared\n",
    "df_cleaned = result_df_2.copy()"
   ]
  },
  {
   "cell_type": "markdown",
   "id": "c3927678-f1b8-4901-9740-7f9f4dcc5582",
   "metadata": {},
   "source": [
    "### Correcting Some Important Words"
   ]
  },
  {
   "cell_type": "code",
   "execution_count": 16,
   "id": "a78df7d1-eec8-4540-b4b5-ed87a3ded9ad",
   "metadata": {
    "tags": []
   },
   "outputs": [
    {
     "name": "stdout",
     "output_type": "stream",
     "text": [
      "Correcting the following word spellings in the dataframe: ['section']\n"
     ]
    }
   ],
   "source": [
    "target_words = ['section']  # Add more target words\n",
    "print(\"Correcting the following word spellings in the dataframe:\", target_words)"
   ]
  },
  {
   "cell_type": "code",
   "execution_count": 17,
   "id": "d45391a8-fe94-4e3e-9e32-c6b7b99b1bb4",
   "metadata": {
    "tags": []
   },
   "outputs": [
    {
     "name": "stdout",
     "output_type": "stream",
     "text": [
      "Using 8 cores.\n"
     ]
    },
    {
     "name": "stderr",
     "output_type": "stream",
     "text": [
      "/Users/nitingupta/miniconda3/envs/OTB/lib/python3.12/site-packages/numpy/core/fromnumeric.py:59: FutureWarning: 'DataFrame.swapaxes' is deprecated and will be removed in a future version. Please use 'DataFrame.transpose' instead.\n",
      "  return bound(*args, **kwds)\n"
     ]
    }
   ],
   "source": [
    "num_cores = multiprocessing.cpu_count()\n",
    "chunks = array_split(df_cleaned, num_cores)\n",
    "print(f'Using {num_cores} cores.')\n",
    "\n",
    "with multiprocessing.Pool(num_cores) as pool:\n",
    "    threshold = 1.5  # Adjust the threshold as needed\n",
    "    \n",
    "    params = [(chunk, target_words, threshold, 'Act') for chunk in chunks]    \n",
    "    processed_chunks = pool.starmap(correct_chunk, params)\n",
    "\n",
    "df_cleaned = pd.concat(processed_chunks, ignore_index=True)"
   ]
  },
  {
   "cell_type": "code",
   "execution_count": 18,
   "id": "8c3800fb-a89b-4725-9c19-ea0bd48b75a1",
   "metadata": {},
   "outputs": [
    {
     "data": {
      "text/html": [
       "<div>\n",
       "<style scoped>\n",
       "    .dataframe tbody tr th:only-of-type {\n",
       "        vertical-align: middle;\n",
       "    }\n",
       "\n",
       "    .dataframe tbody tr th {\n",
       "        vertical-align: top;\n",
       "    }\n",
       "\n",
       "    .dataframe thead th {\n",
       "        text-align: right;\n",
       "    }\n",
       "</style>\n",
       "<table border=\"1\" class=\"dataframe\">\n",
       "  <thead>\n",
       "    <tr style=\"text-align: right;\">\n",
       "      <th></th>\n",
       "      <th>Year</th>\n",
       "      <th>Page_No</th>\n",
       "      <th>Act</th>\n",
       "      <th>Coding (Axton)</th>\n",
       "      <th>num_words</th>\n",
       "      <th>corrected_column</th>\n",
       "      <th>flag</th>\n",
       "      <th>org_words</th>\n",
       "    </tr>\n",
       "  </thead>\n",
       "  <tbody>\n",
       "    <tr>\n",
       "      <th>18</th>\n",
       "      <td>1877</td>\n",
       "      <td>573</td>\n",
       "      <td>sec. 7. that a state superintendent of education shall be elected at each general election in the same manner as other state officers, who shall enter upon the duties of his office at the time prescribed by law. sec. 8. that he shall, before entering upon the duties of his office, give bond for the use of the state of south carolina in the penal sum of five thousand (5,000) dollars, with good and sufficient sureties, to be approved by the governor, conditioned for the faithful and impartial performance of the duties of his office; and he shall, also, at the time of giving bond, take and subscribe the oath prescribed in sectiou 30 of article ii of the constitution of the state, which oath shall be endorsed upon the back of said bond, and the bond shall be filed with and preserved by the secretary of state.</td>\n",
       "      <td>0</td>\n",
       "      <td>403</td>\n",
       "      <td>sec. 7. that a state superintendent of education shall be elected at each general election in the same manner as other state officers, who shall enter upon the duties of his office at the time prescribed by law. sec. 8. that he shall, before entering upon the duties of his office, give bond for the use of the state of south carolina in the penal sum of five thousand (5,000) dollars, with good and sufficient sureties, to be approved by the governor, conditioned for the faithful and impartial performance of the duties of his office; and he shall, also, at the time of giving bond, take and subscribe the oath prescribed in section 30 of article ii of the constitution of the state, which oath shall be endorsed upon the back of said bond, and the bond shall be filed with and preserved by the secretary of state.</td>\n",
       "      <td>True</td>\n",
       "      <td>sectiou</td>\n",
       "    </tr>\n",
       "  </tbody>\n",
       "</table>\n",
       "</div>"
      ],
      "text/plain": [
       "    Year Page_No  \\\n",
       "18  1877     573   \n",
       "\n",
       "                                                                                                                                                                                                                                                                                                                                                                                                                                                                                                                                                                                                                                                                                                                                                                                                                                                 Act  \\\n",
       "18  sec. 7. that a state superintendent of education shall be elected at each general election in the same manner as other state officers, who shall enter upon the duties of his office at the time prescribed by law. sec. 8. that he shall, before entering upon the duties of his office, give bond for the use of the state of south carolina in the penal sum of five thousand (5,000) dollars, with good and sufficient sureties, to be approved by the governor, conditioned for the faithful and impartial performance of the duties of his office; and he shall, also, at the time of giving bond, take and subscribe the oath prescribed in sectiou 30 of article ii of the constitution of the state, which oath shall be endorsed upon the back of said bond, and the bond shall be filed with and preserved by the secretary of state.   \n",
       "\n",
       "   Coding (Axton) num_words  \\\n",
       "18              0       403   \n",
       "\n",
       "                                                                                                                                                                                                                                                                                                                                                                                                                                                                                                                                                                                                                                                                                                                                                                                                                                    corrected_column  \\\n",
       "18  sec. 7. that a state superintendent of education shall be elected at each general election in the same manner as other state officers, who shall enter upon the duties of his office at the time prescribed by law. sec. 8. that he shall, before entering upon the duties of his office, give bond for the use of the state of south carolina in the penal sum of five thousand (5,000) dollars, with good and sufficient sureties, to be approved by the governor, conditioned for the faithful and impartial performance of the duties of his office; and he shall, also, at the time of giving bond, take and subscribe the oath prescribed in section 30 of article ii of the constitution of the state, which oath shall be endorsed upon the back of said bond, and the bond shall be filed with and preserved by the secretary of state.   \n",
       "\n",
       "    flag org_words  \n",
       "18  True   sectiou  "
      ]
     },
     "execution_count": 18,
     "metadata": {},
     "output_type": "execute_result"
    }
   ],
   "source": [
    "df_cleaned[df_cleaned.flag == True]"
   ]
  },
  {
   "cell_type": "code",
   "execution_count": 19,
   "id": "f2d034f2-0229-4f3b-91d0-84c1404f8cbc",
   "metadata": {
    "tags": []
   },
   "outputs": [],
   "source": [
    "df_cleaned.drop(['Act', 'flag', 'org_words'], axis = 1, inplace=True)\n",
    "df_cleaned.rename({'corrected_column':'Act'}, axis=1, inplace=True)"
   ]
  },
  {
   "cell_type": "code",
   "execution_count": 20,
   "id": "f33d7acc-6048-4714-858c-65198e05b3ca",
   "metadata": {
    "tags": []
   },
   "outputs": [
    {
     "data": {
      "text/html": [
       "<div>\n",
       "<style scoped>\n",
       "    .dataframe tbody tr th:only-of-type {\n",
       "        vertical-align: middle;\n",
       "    }\n",
       "\n",
       "    .dataframe tbody tr th {\n",
       "        vertical-align: top;\n",
       "    }\n",
       "\n",
       "    .dataframe thead th {\n",
       "        text-align: right;\n",
       "    }\n",
       "</style>\n",
       "<table border=\"1\" class=\"dataframe\">\n",
       "  <thead>\n",
       "    <tr style=\"text-align: right;\">\n",
       "      <th></th>\n",
       "      <th>Year</th>\n",
       "      <th>Page_No</th>\n",
       "      <th>Coding (Axton)</th>\n",
       "      <th>num_words</th>\n",
       "      <th>Act</th>\n",
       "    </tr>\n",
       "  </thead>\n",
       "  <tbody>\n",
       "    <tr>\n",
       "      <th>0</th>\n",
       "      <td>1877</td>\n",
       "      <td>571</td>\n",
       "      <td>0</td>\n",
       "      <td>158</td>\n",
       "      <td>an act ro amenp an act entitleed “an act to esttabliish uniformity in the sessions of the circuit couurts.” section 1. an act ro amenp an act entitleed “an act to esttabliish uniformity in the sessions of the circuit couurts.” section 1. be it enacted by the senate and house of representatives of the state of south carolina, now met and sitting in general assembly, and by the authority of the same, that section 5 of an act entitled “an act to establish uniformity in the sessions of the circuit courts,” approved june 9th, 1877, be, and the same is hereby, amended by striking out the eleventh line thereof and inserting in lieu thereof “third monday in february, second monday in june and third monday in september.” sec. 2. that the said section be amended on line 15, at the end of the section, by adding the words ‘‘and the fourth monday in june.” approved march 22, 1878.</td>\n",
       "    </tr>\n",
       "    <tr>\n",
       "      <th>1</th>\n",
       "      <td>1877</td>\n",
       "      <td>571</td>\n",
       "      <td></td>\n",
       "      <td>13</td>\n",
       "      <td>—— an act to alter and amend the schoo.t law of sour carolina.</td>\n",
       "    </tr>\n",
       "    <tr>\n",
       "      <th>2</th>\n",
       "      <td>1877</td>\n",
       "      <td>571</td>\n",
       "      <td>0</td>\n",
       "      <td>242</td>\n",
       "      <td>be it enacted by the senate and house of representatives of the state of south carolina, now met and sitting in general assembly, and by the authority of the same, that the state superintendent of education and four (4) persons to be appointed by the governor, by and with the advice and consent of the senate, who shall hold office for two years and until their successors may be appointed, unless sooner removed by the governor, shall constitute the state board of examiners.</td>\n",
       "    </tr>\n",
       "    <tr>\n",
       "      <th>3</th>\n",
       "      <td>1877</td>\n",
       "      <td>571</td>\n",
       "      <td>0</td>\n",
       "      <td>242</td>\n",
       "      <td>of this board the state superintendent of education shall be ez officio chairman.</td>\n",
       "    </tr>\n",
       "    <tr>\n",
       "      <th>4</th>\n",
       "      <td>1877</td>\n",
       "      <td>571</td>\n",
       "      <td>0</td>\n",
       "      <td>242</td>\n",
       "      <td>the clerk of the state superintendent of education, as hereinafter provided for, shall be clerk of the state board of examiners.</td>\n",
       "    </tr>\n",
       "  </tbody>\n",
       "</table>\n",
       "</div>"
      ],
      "text/plain": [
       "   Year Page_No Coding (Axton) num_words  \\\n",
       "0  1877     571              0       158   \n",
       "1  1877     571                       13   \n",
       "2  1877     571              0       242   \n",
       "3  1877     571              0       242   \n",
       "4  1877     571              0       242   \n",
       "\n",
       "                                                                                                                                                                                                                                                                                                                                                                                                                                                                                                                                                                                                                                                                                                                                                                                                                                                                                                                Act  \n",
       "0  an act ro amenp an act entitleed “an act to esttabliish uniformity in the sessions of the circuit couurts.” section 1. an act ro amenp an act entitleed “an act to esttabliish uniformity in the sessions of the circuit couurts.” section 1. be it enacted by the senate and house of representatives of the state of south carolina, now met and sitting in general assembly, and by the authority of the same, that section 5 of an act entitled “an act to establish uniformity in the sessions of the circuit courts,” approved june 9th, 1877, be, and the same is hereby, amended by striking out the eleventh line thereof and inserting in lieu thereof “third monday in february, second monday in june and third monday in september.” sec. 2. that the said section be amended on line 15, at the end of the section, by adding the words ‘‘and the fourth monday in june.” approved march 22, 1878.  \n",
       "1                                                                                                                                                                                                                                                                                                                                                                                                                                                                                                                                                                                                                                                                                                                                                                                                                                                    —— an act to alter and amend the schoo.t law of sour carolina.  \n",
       "2                                                                                                                                                                                                                                                                                                                                                                                                                     be it enacted by the senate and house of representatives of the state of south carolina, now met and sitting in general assembly, and by the authority of the same, that the state superintendent of education and four (4) persons to be appointed by the governor, by and with the advice and consent of the senate, who shall hold office for two years and until their successors may be appointed, unless sooner removed by the governor, shall constitute the state board of examiners.  \n",
       "3                                                                                                                                                                                                                                                                                                                                                                                                                                                                                                                                                                                                                                                                                                                                                                                                                                 of this board the state superintendent of education shall be ez officio chairman.  \n",
       "4                                                                                                                                                                                                                                                                                                                                                                                                                                                                                                                                                                                                                                                                                                                                                                                  the clerk of the state superintendent of education, as hereinafter provided for, shall be clerk of the state board of examiners.  "
      ]
     },
     "execution_count": 20,
     "metadata": {},
     "output_type": "execute_result"
    }
   ],
   "source": [
    "df_cleaned.head()"
   ]
  },
  {
   "cell_type": "code",
   "execution_count": 21,
   "id": "3f348d69-f960-4ce5-894f-bf24f76f02ba",
   "metadata": {},
   "outputs": [
    {
     "data": {
      "text/plain": [
       "128"
      ]
     },
     "execution_count": 21,
     "metadata": {},
     "output_type": "execute_result"
    }
   ],
   "source": [
    "df_cleaned.shape[0]"
   ]
  },
  {
   "cell_type": "markdown",
   "id": "080a3487-161f-4c27-842a-b4e436a02523",
   "metadata": {
    "tags": []
   },
   "source": [
    "### Splitting Sentences Based On \"Approved ...\" Phrases\n",
    "Some \"Approved...\" phrases appear at the end of an Act. Sometimes a phrase, such as a new Act, might also by added on to the end of this phrase.\n",
    "The phrases after the incorrect \"Approved\" phrases should be split into a new sentence."
   ]
  },
  {
   "cell_type": "code",
   "execution_count": 22,
   "id": "4d3065ae",
   "metadata": {},
   "outputs": [],
   "source": [
    "approved_rgx_strings = [r'(approved the [0Oo1Iil!2Z5S6G\\d]{1,2}(t|h|s|t|n|d|r|d){0,2} day of [a-z]+(,| |.){1,2}((a\\. d\\.(. |.| |){1,2}){0,1}.{4}(. |.| |)){0,1})', \n",
    "                        r'(approved( |,|){0,2}[a-z]+ [0Oo1Iil!2Z5S6G\\d]{1,2}(t|h|s|t|n|d|r|d){0,2}, (a\\. d\\.(. |.| |){1,2}){0,1}.{4}(. |.| |))', \n",
    "                        r'(approved the [a-z]+-[a-z]+ day of [a-z]+, (a\\. d\\.(. |.| |){1,2}){0,1}.{4}(. |.| |))', \n",
    "                        r'(approved: [a-z| |.]+, [a-z]+.)', \n",
    "                        r'(approved( |,|){0,2}[a-z]+(.| |,){1,2}[0Oo1Iil!2Z5S6G\\d]{1,2}(.| |,){0,1})']"
   ]
  },
  {
   "cell_type": "code",
   "execution_count": 23,
   "id": "7d31af0f",
   "metadata": {},
   "outputs": [],
   "source": [
    "approved_rgx = []\n",
    "for string in approved_rgx_strings:\n",
    "    approved_rgx.append( re.compile(string, re.IGNORECASE) )"
   ]
  },
  {
   "cell_type": "code",
   "execution_count": 24,
   "id": "4e7d8dba",
   "metadata": {
    "tags": []
   },
   "outputs": [
    {
     "data": {
      "text/plain": [
       "[re.compile(r'(approved the [0Oo1Iil!2Z5S6G\\d]{1,2}(t|h|s|t|n|d|r|d){0,2} day of [a-z]+(,| |.){1,2}((a\\. d\\.(. |.| |){1,2}){0,1}.{4}(. |.| |)){0,1})',\n",
       "            re.IGNORECASE|re.UNICODE),\n",
       " re.compile(r'(approved( |,|){0,2}[a-z]+ [0Oo1Iil!2Z5S6G\\d]{1,2}(t|h|s|t|n|d|r|d){0,2}, (a\\. d\\.(. |.| |){1,2}){0,1}.{4}(. |.| |))',\n",
       "            re.IGNORECASE|re.UNICODE),\n",
       " re.compile(r'(approved the [a-z]+-[a-z]+ day of [a-z]+, (a\\. d\\.(. |.| |){1,2}){0,1}.{4}(. |.| |))',\n",
       "            re.IGNORECASE|re.UNICODE),\n",
       " re.compile(r'(approved: [a-z| |.]+, [a-z]+.)', re.IGNORECASE|re.UNICODE),\n",
       " re.compile(r'(approved( |,|){0,2}[a-z]+(.| |,){1,2}[0Oo1Iil!2Z5S6G\\d]{1,2}(.| |,){0,1})',\n",
       "            re.IGNORECASE|re.UNICODE)]"
      ]
     },
     "execution_count": 24,
     "metadata": {},
     "output_type": "execute_result"
    }
   ],
   "source": [
    "approved_rgx"
   ]
  },
  {
   "cell_type": "code",
   "execution_count": 25,
   "id": "d0349714",
   "metadata": {
    "tags": []
   },
   "outputs": [
    {
     "name": "stdout",
     "output_type": "stream",
     "text": [
      "Working on pattern 1 using 8 cores.\n",
      "Working on pattern 2 using 8 cores.\n",
      "Working on pattern 3 using 8 cores.\n",
      "Working on pattern 4 using 8 cores.\n",
      "Working on pattern 5 using 8 cores.\n"
     ]
    }
   ],
   "source": [
    "df_new = df_cleaned.copy()\n",
    "\n",
    "for i, rgx in enumerate(approved_rgx_strings):\n",
    "    print(f'Working on pattern {i+1} using {os.cpu_count()} cores.')\n",
    "    \n",
    "    # Split the DataFrame using multiprocessing\n",
    "    new_rows = []\n",
    "\n",
    "    # Create a multiprocessing pool with the number of desired processes\n",
    "    with multiprocessing.Pool() as pool:\n",
    "        args_list = [(row, rgx, list(df_new.columns), 'Act') for _, row in df_new.iterrows()]\n",
    "\n",
    "        # Use starmap to pass the tuples as separate arguments to process_row\n",
    "        results = pool.starmap(process_row, args_list)\n",
    "\n",
    "    # Flatten the list of lists into a single list of split rows\n",
    "    new_rows = [item for sublist in results for item in sublist]\n",
    "\n",
    "    # Create a new DataFrame with the split rows\n",
    "    df_new = pd.DataFrame(new_rows)"
   ]
  },
  {
   "cell_type": "code",
   "execution_count": 26,
   "id": "151873fd",
   "metadata": {
    "tags": []
   },
   "outputs": [
    {
     "data": {
      "text/html": [
       "<div>\n",
       "<style scoped>\n",
       "    .dataframe tbody tr th:only-of-type {\n",
       "        vertical-align: middle;\n",
       "    }\n",
       "\n",
       "    .dataframe tbody tr th {\n",
       "        vertical-align: top;\n",
       "    }\n",
       "\n",
       "    .dataframe thead th {\n",
       "        text-align: right;\n",
       "    }\n",
       "</style>\n",
       "<table border=\"1\" class=\"dataframe\">\n",
       "  <thead>\n",
       "    <tr style=\"text-align: right;\">\n",
       "      <th></th>\n",
       "      <th>Year</th>\n",
       "      <th>Page_No</th>\n",
       "      <th>Coding (Axton)</th>\n",
       "      <th>num_words</th>\n",
       "      <th>Act</th>\n",
       "    </tr>\n",
       "  </thead>\n",
       "  <tbody>\n",
       "    <tr>\n",
       "      <th>0</th>\n",
       "      <td>1877</td>\n",
       "      <td>571</td>\n",
       "      <td>0</td>\n",
       "      <td>158</td>\n",
       "      <td>an act ro amenp an act entitleed “an act to esttabliish uniformity in the sessions of the circuit couurts.” section 1. an act ro amenp an act entitleed “an act to esttabliish uniformity in the sessions of the circuit couurts.” section 1. be it enacted by the senate and house of representatives of the state of south carolina, now met and sitting in general assembly, and by the authority of the same, that section 5 of an act entitled “an act to establish uniformity in the sessions of the circuit courts,” approved june 9th, 1877, be, and the same is hereby, amended by striking out the eleventh line thereof and inserting in lieu thereof “third monday in february, second monday in june and third monday in september.” sec. 2. that the said section be amended on line 15, at the end of the section, by adding the words ‘‘and the fourth monday in june.”</td>\n",
       "    </tr>\n",
       "    <tr>\n",
       "      <th>1</th>\n",
       "      <td>1877</td>\n",
       "      <td>571</td>\n",
       "      <td>0</td>\n",
       "      <td>158</td>\n",
       "      <td></td>\n",
       "    </tr>\n",
       "    <tr>\n",
       "      <th>2</th>\n",
       "      <td>1877</td>\n",
       "      <td>571</td>\n",
       "      <td></td>\n",
       "      <td>13</td>\n",
       "      <td>—— an act to alter and amend the schoo.t law of sour carolina.</td>\n",
       "    </tr>\n",
       "    <tr>\n",
       "      <th>3</th>\n",
       "      <td>1877</td>\n",
       "      <td>571</td>\n",
       "      <td>0</td>\n",
       "      <td>242</td>\n",
       "      <td>be it enacted by the senate and house of representatives of the state of south carolina, now met and sitting in general assembly, and by the authority of the same, that the state superintendent of education and four (4) persons to be appointed by the governor, by and with the advice and consent of the senate, who shall hold office for two years and until their successors may be appointed, unless sooner removed by the governor, shall constitute the state board of examiners.</td>\n",
       "    </tr>\n",
       "    <tr>\n",
       "      <th>4</th>\n",
       "      <td>1877</td>\n",
       "      <td>571</td>\n",
       "      <td>0</td>\n",
       "      <td>242</td>\n",
       "      <td>of this board the state superintendent of education shall be ez officio chairman.</td>\n",
       "    </tr>\n",
       "  </tbody>\n",
       "</table>\n",
       "</div>"
      ],
      "text/plain": [
       "   Year  Page_No Coding (Axton)  num_words  \\\n",
       "0  1877      571              0        158   \n",
       "1  1877      571              0        158   \n",
       "2  1877      571                        13   \n",
       "3  1877      571              0        242   \n",
       "4  1877      571              0        242   \n",
       "\n",
       "                                                                                                                                                                                                                                                                                                                                                                                                                                                                                                                                                                                                                                                                                                                                                                                                                                                                                        Act  \n",
       "0  an act ro amenp an act entitleed “an act to esttabliish uniformity in the sessions of the circuit couurts.” section 1. an act ro amenp an act entitleed “an act to esttabliish uniformity in the sessions of the circuit couurts.” section 1. be it enacted by the senate and house of representatives of the state of south carolina, now met and sitting in general assembly, and by the authority of the same, that section 5 of an act entitled “an act to establish uniformity in the sessions of the circuit courts,” approved june 9th, 1877, be, and the same is hereby, amended by striking out the eleventh line thereof and inserting in lieu thereof “third monday in february, second monday in june and third monday in september.” sec. 2. that the said section be amended on line 15, at the end of the section, by adding the words ‘‘and the fourth monday in june.”   \n",
       "1                                                                                                                                                                                                                                                                                                                                                                                                                                                                                                                                                                                                                                                                                                                                                                                                                                                                                            \n",
       "2                                                                                                                                                                                                                                                                                                                                                                                                                                                                                                                                                                                                                                                                                                                                                                                                                            —— an act to alter and amend the schoo.t law of sour carolina.  \n",
       "3                                                                                                                                                                                                                                                                                                                                                                                             be it enacted by the senate and house of representatives of the state of south carolina, now met and sitting in general assembly, and by the authority of the same, that the state superintendent of education and four (4) persons to be appointed by the governor, by and with the advice and consent of the senate, who shall hold office for two years and until their successors may be appointed, unless sooner removed by the governor, shall constitute the state board of examiners.  \n",
       "4                                                                                                                                                                                                                                                                                                                                                                                                                                                                                                                                                                                                                                                                                                                                                                                                         of this board the state superintendent of education shall be ez officio chairman.  "
      ]
     },
     "execution_count": 26,
     "metadata": {},
     "output_type": "execute_result"
    }
   ],
   "source": [
    "df_new.head()"
   ]
  },
  {
   "cell_type": "code",
   "execution_count": 27,
   "id": "1c6193b5-468a-4022-842a-14535d1e7b74",
   "metadata": {},
   "outputs": [
    {
     "data": {
      "text/plain": [
       "129"
      ]
     },
     "execution_count": 27,
     "metadata": {},
     "output_type": "execute_result"
    }
   ],
   "source": [
    "df_new.shape[0]"
   ]
  },
  {
   "cell_type": "code",
   "execution_count": 28,
   "id": "7cf994e4",
   "metadata": {
    "tags": []
   },
   "outputs": [
    {
     "name": "stdout",
     "output_type": "stream",
     "text": [
      "Split sentences 1\n"
     ]
    }
   ],
   "source": [
    "if df_new.shape[0] > df_cleaned.shape[0]:\n",
    "    print(\"Split sentences\", df_new.shape[0] - df_cleaned.shape[0])\n",
    "    df_cleaned = df_new"
   ]
  },
  {
   "cell_type": "markdown",
   "id": "e135c5ef-0d4d-4944-99ed-ed0d9f742a5e",
   "metadata": {
    "tags": []
   },
   "source": [
    "### Relocating Incorrect \"Approved ...\" Phrases\n",
    "Since \"Approved...\" phrases appear in different formats throughout the years, the code uses multiple Regex strings to match the first occurence.\n",
    "<br>By testing on the entire corpus, these 5 strings match the formats in all years. However, there will be some outliers (errors) that can not be captured by these strings."
   ]
  },
  {
   "cell_type": "code",
   "execution_count": 29,
   "id": "77e24e9e-5c11-42a9-960e-0b58fb8815d3",
   "metadata": {
    "tags": []
   },
   "outputs": [
    {
     "data": {
      "text/plain": [
       "['^(approved the [0Oo1Iil!2Z5S6G\\\\d]{1,2}(t|h|s|t|n|d|r|d){0,2} day of [a-z]+(,| |.){1,2}((a\\\\. d\\\\.(. |.| |){1,2}){0,1}.{4}(. |.| |)){0,1})',\n",
       " '^(approved( |,|){0,2}[a-z]+ [0Oo1Iil!2Z5S6G\\\\d]{1,2}(t|h|s|t|n|d|r|d){0,2}, (a\\\\. d\\\\.(. |.| |){1,2}){0,1}.{4}(. |.| |))',\n",
       " '^(approved the [a-z]+-[a-z]+ day of [a-z]+, (a\\\\. d\\\\.(. |.| |){1,2}){0,1}.{4}(. |.| |))',\n",
       " '^(approved: [a-z| |.]+, [a-z]+.)',\n",
       " '^(approved( |,|){0,2}[a-z]+(.| |,){1,2}[0Oo1Iil!2Z5S6G\\\\d]{1,2}(.| |,){0,1})']"
      ]
     },
     "execution_count": 29,
     "metadata": {},
     "output_type": "execute_result"
    }
   ],
   "source": [
    "# Add the caret in the regex strings...\n",
    "for i, string in enumerate(approved_rgx_strings):\n",
    "    approved_rgx_strings[i] = '^' + string\n",
    "approved_rgx_strings"
   ]
  },
  {
   "cell_type": "code",
   "execution_count": 30,
   "id": "04470bf0-f392-425d-a078-588ad48a887a",
   "metadata": {},
   "outputs": [],
   "source": [
    "approved_rgx = []\n",
    "for string in approved_rgx_strings:\n",
    "    approved_rgx.append( re.compile(string, re.IGNORECASE) )"
   ]
  },
  {
   "cell_type": "code",
   "execution_count": 31,
   "id": "20171c4d-2311-4b03-99b3-abcdd88a2cdc",
   "metadata": {
    "tags": []
   },
   "outputs": [
    {
     "data": {
      "text/plain": [
       "[re.compile(r'^(approved the [0Oo1Iil!2Z5S6G\\d]{1,2}(t|h|s|t|n|d|r|d){0,2} day of [a-z]+(,| |.){1,2}((a\\. d\\.(. |.| |){1,2}){0,1}.{4}(. |.| |)){0,1})',\n",
       "            re.IGNORECASE|re.UNICODE),\n",
       " re.compile(r'^(approved( |,|){0,2}[a-z]+ [0Oo1Iil!2Z5S6G\\d]{1,2}(t|h|s|t|n|d|r|d){0,2}, (a\\. d\\.(. |.| |){1,2}){0,1}.{4}(. |.| |))',\n",
       "            re.IGNORECASE|re.UNICODE),\n",
       " re.compile(r'^(approved the [a-z]+-[a-z]+ day of [a-z]+, (a\\. d\\.(. |.| |){1,2}){0,1}.{4}(. |.| |))',\n",
       "            re.IGNORECASE|re.UNICODE),\n",
       " re.compile(r'^(approved: [a-z| |.]+, [a-z]+.)', re.IGNORECASE|re.UNICODE),\n",
       " re.compile(r'^(approved( |,|){0,2}[a-z]+(.| |,){1,2}[0Oo1Iil!2Z5S6G\\d]{1,2}(.| |,){0,1})',\n",
       "            re.IGNORECASE|re.UNICODE)]"
      ]
     },
     "execution_count": 31,
     "metadata": {},
     "output_type": "execute_result"
    }
   ],
   "source": [
    "approved_rgx"
   ]
  },
  {
   "cell_type": "code",
   "execution_count": 32,
   "id": "74b4413d-056f-4da1-a52c-070bdffaf1ce",
   "metadata": {},
   "outputs": [],
   "source": [
    "modified = 0\n",
    "\n",
    "for rgx_match in approved_rgx:\n",
    "    \n",
    "    # Search for matches in the 'sentence' column\n",
    "    matches = df_cleaned['Act'].str.extract(rgx_match)[0]\n",
    "    \n",
    "    # Remove the matched patterns from sentences\n",
    "    df_cleaned['Act'] = df_cleaned['Act'].str.replace(rgx_match, '', n=-1, regex=True)\n",
    "    \n",
    "    # Add matches to the end of previous sentence\n",
    "    df_cleaned['Act'] = df_cleaned['Act'].str.cat(matches.shift(-1), \n",
    "                                                            sep=' ', na_rep='')\n",
    "    \n",
    "    modified += matches.count().sum()"
   ]
  },
  {
   "cell_type": "code",
   "execution_count": 33,
   "id": "094fc56e-96fb-4375-8d8c-57b64cc7e29d",
   "metadata": {
    "tags": []
   },
   "outputs": [
    {
     "name": "stdout",
     "output_type": "stream",
     "text": [
      "1\n"
     ]
    }
   ],
   "source": [
    "print(modified)"
   ]
  },
  {
   "cell_type": "code",
   "execution_count": 34,
   "id": "1aec12f9-a06d-4e79-a677-27a9904d39a9",
   "metadata": {
    "tags": []
   },
   "outputs": [
    {
     "data": {
      "text/html": [
       "<div>\n",
       "<style scoped>\n",
       "    .dataframe tbody tr th:only-of-type {\n",
       "        vertical-align: middle;\n",
       "    }\n",
       "\n",
       "    .dataframe tbody tr th {\n",
       "        vertical-align: top;\n",
       "    }\n",
       "\n",
       "    .dataframe thead th {\n",
       "        text-align: right;\n",
       "    }\n",
       "</style>\n",
       "<table border=\"1\" class=\"dataframe\">\n",
       "  <thead>\n",
       "    <tr style=\"text-align: right;\">\n",
       "      <th></th>\n",
       "      <th>Year</th>\n",
       "      <th>Page_No</th>\n",
       "      <th>Coding (Axton)</th>\n",
       "      <th>num_words</th>\n",
       "      <th>Act</th>\n",
       "    </tr>\n",
       "  </thead>\n",
       "  <tbody>\n",
       "    <tr>\n",
       "      <th>0</th>\n",
       "      <td>1877</td>\n",
       "      <td>571</td>\n",
       "      <td>0</td>\n",
       "      <td>158</td>\n",
       "      <td>an act ro amenp an act entitleed “an act to esttabliish uniformity in the sessions of the circuit couurts.” section 1. an act ro amenp an act entitleed “an act to esttabliish uniformity in the sessions of the circuit couurts.” section 1. be it enacted by the senate and house of representatives of the state of south carolina, now met and sitting in general assembly, and by the authority of the same, that section 5 of an act entitled “an act to establish uniformity in the sessions of the circuit courts,” approved june 9th, 1877, be, and the same is hereby, amended by striking out the eleventh line thereof and inserting in lieu thereof “third monday in february, second monday in june and third monday in september.” sec. 2. that the said section be amended on line 15, at the end of the section, by adding the words ‘‘and the fourth monday in june.”</td>\n",
       "    </tr>\n",
       "    <tr>\n",
       "      <th>1</th>\n",
       "      <td>1877</td>\n",
       "      <td>571</td>\n",
       "      <td>0</td>\n",
       "      <td>158</td>\n",
       "      <td></td>\n",
       "    </tr>\n",
       "    <tr>\n",
       "      <th>2</th>\n",
       "      <td>1877</td>\n",
       "      <td>571</td>\n",
       "      <td></td>\n",
       "      <td>13</td>\n",
       "      <td>—— an act to alter and amend the schoo.t law of sour carolina.</td>\n",
       "    </tr>\n",
       "    <tr>\n",
       "      <th>3</th>\n",
       "      <td>1877</td>\n",
       "      <td>571</td>\n",
       "      <td>0</td>\n",
       "      <td>242</td>\n",
       "      <td>be it enacted by the senate and house of representatives of the state of south carolina, now met and sitting in general assembly, and by the authority of the same, that the state superintendent of education and four (4) persons to be appointed by the governor, by and with the advice and consent of the senate, who shall hold office for two years and until their successors may be appointed, unless sooner removed by the governor, shall constitute the state board of examiners.</td>\n",
       "    </tr>\n",
       "    <tr>\n",
       "      <th>4</th>\n",
       "      <td>1877</td>\n",
       "      <td>571</td>\n",
       "      <td>0</td>\n",
       "      <td>242</td>\n",
       "      <td>of this board the state superintendent of education shall be ez officio chairman.</td>\n",
       "    </tr>\n",
       "  </tbody>\n",
       "</table>\n",
       "</div>"
      ],
      "text/plain": [
       "   Year  Page_No Coding (Axton)  num_words  \\\n",
       "0  1877      571              0        158   \n",
       "1  1877      571              0        158   \n",
       "2  1877      571                        13   \n",
       "3  1877      571              0        242   \n",
       "4  1877      571              0        242   \n",
       "\n",
       "                                                                                                                                                                                                                                                                                                                                                                                                                                                                                                                                                                                                                                                                                                                                                                                                                                                                                             Act  \n",
       "0  an act ro amenp an act entitleed “an act to esttabliish uniformity in the sessions of the circuit couurts.” section 1. an act ro amenp an act entitleed “an act to esttabliish uniformity in the sessions of the circuit couurts.” section 1. be it enacted by the senate and house of representatives of the state of south carolina, now met and sitting in general assembly, and by the authority of the same, that section 5 of an act entitled “an act to establish uniformity in the sessions of the circuit courts,” approved june 9th, 1877, be, and the same is hereby, amended by striking out the eleventh line thereof and inserting in lieu thereof “third monday in february, second monday in june and third monday in september.” sec. 2. that the said section be amended on line 15, at the end of the section, by adding the words ‘‘and the fourth monday in june.”        \n",
       "1                                                                                                                                                                                                                                                                                                                                                                                                                                                                                                                                                                                                                                                                                                                                                                                                                                                                                                 \n",
       "2                                                                                                                                                                                                                                                                                                                                                                                                                                                                                                                                                                                                                                                                                                                                                                                                                            —— an act to alter and amend the schoo.t law of sour carolina.       \n",
       "3                                                                                                                                                                                                                                                                                                                                                                                             be it enacted by the senate and house of representatives of the state of south carolina, now met and sitting in general assembly, and by the authority of the same, that the state superintendent of education and four (4) persons to be appointed by the governor, by and with the advice and consent of the senate, who shall hold office for two years and until their successors may be appointed, unless sooner removed by the governor, shall constitute the state board of examiners.       \n",
       "4                                                                                                                                                                                                                                                                                                                                                                                                                                                                                                                                                                                                                                                                                                                                                                                                         of this board the state superintendent of education shall be ez officio chairman.       "
      ]
     },
     "execution_count": 34,
     "metadata": {},
     "output_type": "execute_result"
    }
   ],
   "source": [
    "df_cleaned.head()"
   ]
  },
  {
   "cell_type": "code",
   "execution_count": 35,
   "id": "44cde798-3e7f-4042-a31a-74a429420dcb",
   "metadata": {},
   "outputs": [
    {
     "data": {
      "text/plain": [
       "129"
      ]
     },
     "execution_count": 35,
     "metadata": {},
     "output_type": "execute_result"
    }
   ],
   "source": [
    "df_cleaned.shape[0]"
   ]
  },
  {
   "cell_type": "markdown",
   "id": "ec66d4f3-b036-4695-9393-81e26a84d58f",
   "metadata": {
    "tags": []
   },
   "source": [
    "### Removing End-Of-Line Hyphenation\n",
    "Whenever a word in the sentence continues from the end of a line to the beginning of the next line and is joined by a hyphen, the OCRed sentence also contains that hyphen and a space.\n",
    "For example, 'Commander-in-Chief' is OCRed as 'Com- mander-in-Chief'\n",
    "The following code implements regex patterns to remove \"- \" in the text since each hyphenated word is split with \"- \"."
   ]
  },
  {
   "cell_type": "code",
   "execution_count": 36,
   "id": "c39cd101-8907-43b1-bb8e-64c476b8bf11",
   "metadata": {
    "tags": []
   },
   "outputs": [],
   "source": [
    "modified = df_cleaned['Act'].str.count(pat = r'(—|_|-)( )*').sum()\n",
    "df_cleaned['Act'] = df_cleaned['Act'].str.replace(pat = r'(—|_|-)( )*',\n",
    "                                                            repl = \"\",\n",
    "                                                            regex = True)"
   ]
  },
  {
   "cell_type": "code",
   "execution_count": 37,
   "id": "43f8a536-e5cb-47bd-826e-a06553fde1f4",
   "metadata": {
    "tags": []
   },
   "outputs": [
    {
     "data": {
      "text/plain": [
       "9"
      ]
     },
     "execution_count": 37,
     "metadata": {},
     "output_type": "execute_result"
    }
   ],
   "source": [
    "modified"
   ]
  },
  {
   "cell_type": "code",
   "execution_count": 38,
   "id": "268cc420-8e69-4e4b-90e2-04a4b85edef7",
   "metadata": {
    "tags": []
   },
   "outputs": [
    {
     "data": {
      "text/html": [
       "<div>\n",
       "<style scoped>\n",
       "    .dataframe tbody tr th:only-of-type {\n",
       "        vertical-align: middle;\n",
       "    }\n",
       "\n",
       "    .dataframe tbody tr th {\n",
       "        vertical-align: top;\n",
       "    }\n",
       "\n",
       "    .dataframe thead th {\n",
       "        text-align: right;\n",
       "    }\n",
       "</style>\n",
       "<table border=\"1\" class=\"dataframe\">\n",
       "  <thead>\n",
       "    <tr style=\"text-align: right;\">\n",
       "      <th></th>\n",
       "      <th>Year</th>\n",
       "      <th>Page_No</th>\n",
       "      <th>Coding (Axton)</th>\n",
       "      <th>num_words</th>\n",
       "      <th>Act</th>\n",
       "    </tr>\n",
       "  </thead>\n",
       "  <tbody>\n",
       "    <tr>\n",
       "      <th>0</th>\n",
       "      <td>1877</td>\n",
       "      <td>571</td>\n",
       "      <td>0</td>\n",
       "      <td>158</td>\n",
       "      <td>an act ro amenp an act entitleed “an act to esttabliish uniformity in the sessions of the circuit couurts.” section 1. an act ro amenp an act entitleed “an act to esttabliish uniformity in the sessions of the circuit couurts.” section 1. be it enacted by the senate and house of representatives of the state of south carolina, now met and sitting in general assembly, and by the authority of the same, that section 5 of an act entitled “an act to establish uniformity in the sessions of the circuit courts,” approved june 9th, 1877, be, and the same is hereby, amended by striking out the eleventh line thereof and inserting in lieu thereof “third monday in february, second monday in june and third monday in september.” sec. 2. that the said section be amended on line 15, at the end of the section, by adding the words ‘‘and the fourth monday in june.”</td>\n",
       "    </tr>\n",
       "    <tr>\n",
       "      <th>1</th>\n",
       "      <td>1877</td>\n",
       "      <td>571</td>\n",
       "      <td>0</td>\n",
       "      <td>158</td>\n",
       "      <td></td>\n",
       "    </tr>\n",
       "    <tr>\n",
       "      <th>2</th>\n",
       "      <td>1877</td>\n",
       "      <td>571</td>\n",
       "      <td></td>\n",
       "      <td>13</td>\n",
       "      <td>an act to alter and amend the schoo.t law of sour carolina.</td>\n",
       "    </tr>\n",
       "    <tr>\n",
       "      <th>3</th>\n",
       "      <td>1877</td>\n",
       "      <td>571</td>\n",
       "      <td>0</td>\n",
       "      <td>242</td>\n",
       "      <td>be it enacted by the senate and house of representatives of the state of south carolina, now met and sitting in general assembly, and by the authority of the same, that the state superintendent of education and four (4) persons to be appointed by the governor, by and with the advice and consent of the senate, who shall hold office for two years and until their successors may be appointed, unless sooner removed by the governor, shall constitute the state board of examiners.</td>\n",
       "    </tr>\n",
       "    <tr>\n",
       "      <th>4</th>\n",
       "      <td>1877</td>\n",
       "      <td>571</td>\n",
       "      <td>0</td>\n",
       "      <td>242</td>\n",
       "      <td>of this board the state superintendent of education shall be ez officio chairman.</td>\n",
       "    </tr>\n",
       "  </tbody>\n",
       "</table>\n",
       "</div>"
      ],
      "text/plain": [
       "   Year  Page_No Coding (Axton)  num_words  \\\n",
       "0  1877      571              0        158   \n",
       "1  1877      571              0        158   \n",
       "2  1877      571                        13   \n",
       "3  1877      571              0        242   \n",
       "4  1877      571              0        242   \n",
       "\n",
       "                                                                                                                                                                                                                                                                                                                                                                                                                                                                                                                                                                                                                                                                                                                                                                                                                                                                                             Act  \n",
       "0  an act ro amenp an act entitleed “an act to esttabliish uniformity in the sessions of the circuit couurts.” section 1. an act ro amenp an act entitleed “an act to esttabliish uniformity in the sessions of the circuit couurts.” section 1. be it enacted by the senate and house of representatives of the state of south carolina, now met and sitting in general assembly, and by the authority of the same, that section 5 of an act entitled “an act to establish uniformity in the sessions of the circuit courts,” approved june 9th, 1877, be, and the same is hereby, amended by striking out the eleventh line thereof and inserting in lieu thereof “third monday in february, second monday in june and third monday in september.” sec. 2. that the said section be amended on line 15, at the end of the section, by adding the words ‘‘and the fourth monday in june.”        \n",
       "1                                                                                                                                                                                                                                                                                                                                                                                                                                                                                                                                                                                                                                                                                                                                                                                                                                                                                                 \n",
       "2                                                                                                                                                                                                                                                                                                                                                                                                                                                                                                                                                                                                                                                                                                                                                                                                                               an act to alter and amend the schoo.t law of sour carolina.       \n",
       "3                                                                                                                                                                                                                                                                                                                                                                                             be it enacted by the senate and house of representatives of the state of south carolina, now met and sitting in general assembly, and by the authority of the same, that the state superintendent of education and four (4) persons to be appointed by the governor, by and with the advice and consent of the senate, who shall hold office for two years and until their successors may be appointed, unless sooner removed by the governor, shall constitute the state board of examiners.       \n",
       "4                                                                                                                                                                                                                                                                                                                                                                                                                                                                                                                                                                                                                                                                                                                                                                                                         of this board the state superintendent of education shall be ez officio chairman.       "
      ]
     },
     "execution_count": 38,
     "metadata": {},
     "output_type": "execute_result"
    }
   ],
   "source": [
    "df_cleaned.head()"
   ]
  },
  {
   "cell_type": "code",
   "execution_count": 39,
   "id": "888ca3ec-194e-4d4e-9a32-58e8c328c018",
   "metadata": {},
   "outputs": [
    {
     "data": {
      "text/plain": [
       "129"
      ]
     },
     "execution_count": 39,
     "metadata": {},
     "output_type": "execute_result"
    }
   ],
   "source": [
    "df_cleaned.shape[0]"
   ]
  },
  {
   "cell_type": "markdown",
   "id": "bb78f79b-f754-4573-a97f-0e7a0154977d",
   "metadata": {
    "tags": []
   },
   "source": [
    "### Removing Act Seperators\n",
    "The horizontal lines differentiating one Act from another show up as U+2014 : EM DASH characters (one or multiple) in the OCR.\n",
    "<br>For example, '——- —— AN ACT...' or '—— AN ACT...'"
   ]
  },
  {
   "cell_type": "code",
   "execution_count": 40,
   "id": "788fa43f-8ab4-4928-be0e-455171723f18",
   "metadata": {
    "tags": []
   },
   "outputs": [],
   "source": [
    "modified = df_cleaned['Act'].str.count(pat = r'^—+(?=\\s*[A-Za-z])').sum()\n",
    "df_cleaned['Act'] = df_cleaned['Act'].str.replace(pat = r'^—+(?=\\s*[A-Za-z])',\n",
    "                                                            repl = '',\n",
    "                                                            regex = True)"
   ]
  },
  {
   "cell_type": "code",
   "execution_count": 41,
   "id": "aa158b3f-0247-4ea0-9ab2-7b9cdbba0db6",
   "metadata": {
    "tags": []
   },
   "outputs": [
    {
     "data": {
      "text/plain": [
       "0"
      ]
     },
     "execution_count": 41,
     "metadata": {},
     "output_type": "execute_result"
    }
   ],
   "source": [
    "modified"
   ]
  },
  {
   "cell_type": "code",
   "execution_count": 42,
   "id": "258015b3-a1f9-4b92-b684-31d2813b7cfb",
   "metadata": {
    "tags": []
   },
   "outputs": [
    {
     "data": {
      "text/plain": [
       "129"
      ]
     },
     "execution_count": 42,
     "metadata": {},
     "output_type": "execute_result"
    }
   ],
   "source": [
    "df_cleaned.shape[0]"
   ]
  },
  {
   "cell_type": "markdown",
   "id": "5bc88f11-3f92-4ae3-8b57-8d74fade867c",
   "metadata": {},
   "source": [
    "### Uppercasing"
   ]
  },
  {
   "cell_type": "code",
   "execution_count": 43,
   "id": "0b96fe6f",
   "metadata": {
    "tags": []
   },
   "outputs": [],
   "source": [
    "def upperIfNeeded(sentence, ratio = 0.50):\n",
    "    \"\"\"\n",
    "    Convert the given sentence list into an uppercase sentence list\n",
    "    if the ratio of uppercase words (not including the ones with a mix of digits \n",
    "    or words like \"SECTION\") to the total words is greater than a fixed value.\n",
    "    Needs an `uppered` variable to be defined outside of this scope.\n",
    "    \n",
    "    Parameters\n",
    "    ----------\n",
    "    sentence: str\n",
    "         A str of sentence to check and convert to uppercase\n",
    "        \n",
    "    Returns\n",
    "    -------\n",
    "    str\n",
    "        If check is approved the return an uppercase version of str.\n",
    "        Else return the sentence.\n",
    "    \"\"\"\n",
    "\n",
    "    global uppered\n",
    "    \n",
    "    # A count of the number of already uppercased words\n",
    "    count = 0\n",
    "    \n",
    "    # Check whether the word consists of only letters,\n",
    "    # has a length greater than 1, is uppercase, and \n",
    "    # isn't \"SECTION\"\n",
    "    for word in sentence.split(\" \"):\n",
    "        if word.isalpha() and len(word) > 1 and word.isupper() and word != \"SECTION\":\n",
    "            count += 1\n",
    "\n",
    "    # If the count to words ratio is greater\n",
    "    # return all uppercase words\n",
    "    if (count/len(sentence.split(\" \")) > ratio):\n",
    "        uppered += 1\n",
    "        return sentence.upper()        \n",
    "    \n",
    "    # Else, return the original sentence list\n",
    "    return sentence"
   ]
  },
  {
   "cell_type": "code",
   "execution_count": 44,
   "id": "2a8156f6",
   "metadata": {
    "tags": []
   },
   "outputs": [
    {
     "name": "stdout",
     "output_type": "stream",
     "text": [
      "0\n"
     ]
    }
   ],
   "source": [
    "uppered = 0\n",
    "df_cleaned['Act'] = df_cleaned.apply(lambda x: upperIfNeeded(x['Act']), axis=1)\n",
    "print(uppered)"
   ]
  },
  {
   "cell_type": "markdown",
   "id": "de88c027-9f41-4867-8c3f-2ed907d2a170",
   "metadata": {
    "tags": []
   },
   "source": [
    "## Some Final Touches"
   ]
  },
  {
   "cell_type": "markdown",
   "id": "ee81273c-54bb-4750-baf4-5f8bcc8dade2",
   "metadata": {},
   "source": [
    "### Remove Unneeded Columns"
   ]
  },
  {
   "cell_type": "code",
   "execution_count": 45,
   "id": "9f8bb701",
   "metadata": {
    "tags": []
   },
   "outputs": [],
   "source": [
    "df_cleaned.drop('num_words', axis=1, inplace=True)"
   ]
  },
  {
   "cell_type": "code",
   "execution_count": 46,
   "id": "f0cfb980",
   "metadata": {
    "tags": []
   },
   "outputs": [
    {
     "data": {
      "text/html": [
       "<div>\n",
       "<style scoped>\n",
       "    .dataframe tbody tr th:only-of-type {\n",
       "        vertical-align: middle;\n",
       "    }\n",
       "\n",
       "    .dataframe tbody tr th {\n",
       "        vertical-align: top;\n",
       "    }\n",
       "\n",
       "    .dataframe thead th {\n",
       "        text-align: right;\n",
       "    }\n",
       "</style>\n",
       "<table border=\"1\" class=\"dataframe\">\n",
       "  <thead>\n",
       "    <tr style=\"text-align: right;\">\n",
       "      <th></th>\n",
       "      <th>Year</th>\n",
       "      <th>Page_No</th>\n",
       "      <th>Coding (Axton)</th>\n",
       "      <th>Act</th>\n",
       "    </tr>\n",
       "  </thead>\n",
       "  <tbody>\n",
       "    <tr>\n",
       "      <th>0</th>\n",
       "      <td>1877</td>\n",
       "      <td>571</td>\n",
       "      <td>0</td>\n",
       "      <td>an act ro amenp an act entitleed “an act to esttabliish uniformity in the sessions of the circuit couurts.” section 1. an act ro amenp an act entitleed “an act to esttabliish uniformity in the sessions of the circuit couurts.” section 1. be it enacted by the senate and house of representatives of the state of south carolina, now met and sitting in general assembly, and by the authority of the same, that section 5 of an act entitled “an act to establish uniformity in the sessions of the circuit courts,” approved june 9th, 1877, be, and the same is hereby, amended by striking out the eleventh line thereof and inserting in lieu thereof “third monday in february, second monday in june and third monday in september.” sec. 2. that the said section be amended on line 15, at the end of the section, by adding the words ‘‘and the fourth monday in june.”</td>\n",
       "    </tr>\n",
       "    <tr>\n",
       "      <th>1</th>\n",
       "      <td>1877</td>\n",
       "      <td>571</td>\n",
       "      <td>0</td>\n",
       "      <td></td>\n",
       "    </tr>\n",
       "    <tr>\n",
       "      <th>2</th>\n",
       "      <td>1877</td>\n",
       "      <td>571</td>\n",
       "      <td></td>\n",
       "      <td>an act to alter and amend the schoo.t law of sour carolina.</td>\n",
       "    </tr>\n",
       "    <tr>\n",
       "      <th>3</th>\n",
       "      <td>1877</td>\n",
       "      <td>571</td>\n",
       "      <td>0</td>\n",
       "      <td>be it enacted by the senate and house of representatives of the state of south carolina, now met and sitting in general assembly, and by the authority of the same, that the state superintendent of education and four (4) persons to be appointed by the governor, by and with the advice and consent of the senate, who shall hold office for two years and until their successors may be appointed, unless sooner removed by the governor, shall constitute the state board of examiners.</td>\n",
       "    </tr>\n",
       "    <tr>\n",
       "      <th>4</th>\n",
       "      <td>1877</td>\n",
       "      <td>571</td>\n",
       "      <td>0</td>\n",
       "      <td>of this board the state superintendent of education shall be ez officio chairman.</td>\n",
       "    </tr>\n",
       "  </tbody>\n",
       "</table>\n",
       "</div>"
      ],
      "text/plain": [
       "   Year  Page_No Coding (Axton)  \\\n",
       "0  1877      571              0   \n",
       "1  1877      571              0   \n",
       "2  1877      571                  \n",
       "3  1877      571              0   \n",
       "4  1877      571              0   \n",
       "\n",
       "                                                                                                                                                                                                                                                                                                                                                                                                                                                                                                                                                                                                                                                                                                                                                                                                                                                                                             Act  \n",
       "0  an act ro amenp an act entitleed “an act to esttabliish uniformity in the sessions of the circuit couurts.” section 1. an act ro amenp an act entitleed “an act to esttabliish uniformity in the sessions of the circuit couurts.” section 1. be it enacted by the senate and house of representatives of the state of south carolina, now met and sitting in general assembly, and by the authority of the same, that section 5 of an act entitled “an act to establish uniformity in the sessions of the circuit courts,” approved june 9th, 1877, be, and the same is hereby, amended by striking out the eleventh line thereof and inserting in lieu thereof “third monday in february, second monday in june and third monday in september.” sec. 2. that the said section be amended on line 15, at the end of the section, by adding the words ‘‘and the fourth monday in june.”        \n",
       "1                                                                                                                                                                                                                                                                                                                                                                                                                                                                                                                                                                                                                                                                                                                                                                                                                                                                                                 \n",
       "2                                                                                                                                                                                                                                                                                                                                                                                                                                                                                                                                                                                                                                                                                                                                                                                                                               an act to alter and amend the schoo.t law of sour carolina.       \n",
       "3                                                                                                                                                                                                                                                                                                                                                                                             be it enacted by the senate and house of representatives of the state of south carolina, now met and sitting in general assembly, and by the authority of the same, that the state superintendent of education and four (4) persons to be appointed by the governor, by and with the advice and consent of the senate, who shall hold office for two years and until their successors may be appointed, unless sooner removed by the governor, shall constitute the state board of examiners.       \n",
       "4                                                                                                                                                                                                                                                                                                                                                                                                                                                                                                                                                                                                                                                                                                                                                                                                         of this board the state superintendent of education shall be ez officio chairman.       "
      ]
     },
     "execution_count": 46,
     "metadata": {},
     "output_type": "execute_result"
    }
   ],
   "source": [
    "df_cleaned.head()"
   ]
  },
  {
   "cell_type": "markdown",
   "id": "06a2a17b-e461-41d8-aec7-dbbe853da5f1",
   "metadata": {},
   "source": [
    "### Remove empty rows"
   ]
  },
  {
   "cell_type": "code",
   "execution_count": 47,
   "id": "b2c25841-1d9e-474d-b461-d32501f422f5",
   "metadata": {},
   "outputs": [],
   "source": [
    "df_cleaned = df_cleaned[~df_cleaned.Act.str.isspace()]"
   ]
  },
  {
   "cell_type": "markdown",
   "id": "7f27bd84-f0c7-4833-a5f8-a0d290ff36f2",
   "metadata": {},
   "source": [
    "### Rearrange Columns"
   ]
  },
  {
   "cell_type": "code",
   "execution_count": 48,
   "id": "a62d0c41-9182-4d25-9ab3-c7187995712a",
   "metadata": {},
   "outputs": [],
   "source": [
    "cols = list(df.columns)\n",
    "df_cleaned = df_cleaned[cols]"
   ]
  },
  {
   "cell_type": "code",
   "execution_count": 49,
   "id": "4bd1f226-8f8c-4ad1-976f-f255c3f6622a",
   "metadata": {},
   "outputs": [
    {
     "data": {
      "text/html": [
       "<div>\n",
       "<style scoped>\n",
       "    .dataframe tbody tr th:only-of-type {\n",
       "        vertical-align: middle;\n",
       "    }\n",
       "\n",
       "    .dataframe tbody tr th {\n",
       "        vertical-align: top;\n",
       "    }\n",
       "\n",
       "    .dataframe thead th {\n",
       "        text-align: right;\n",
       "    }\n",
       "</style>\n",
       "<table border=\"1\" class=\"dataframe\">\n",
       "  <thead>\n",
       "    <tr style=\"text-align: right;\">\n",
       "      <th></th>\n",
       "      <th>Year</th>\n",
       "      <th>Page_No</th>\n",
       "      <th>Act</th>\n",
       "      <th>Coding (Axton)</th>\n",
       "    </tr>\n",
       "  </thead>\n",
       "  <tbody>\n",
       "    <tr>\n",
       "      <th>0</th>\n",
       "      <td>1877</td>\n",
       "      <td>571</td>\n",
       "      <td>an act ro amenp an act entitleed “an act to esttabliish uniformity in the sessions of the circuit couurts.” section 1. an act ro amenp an act entitleed “an act to esttabliish uniformity in the sessions of the circuit couurts.” section 1. be it enacted by the senate and house of representatives of the state of south carolina, now met and sitting in general assembly, and by the authority of the same, that section 5 of an act entitled “an act to establish uniformity in the sessions of the circuit courts,” approved june 9th, 1877, be, and the same is hereby, amended by striking out the eleventh line thereof and inserting in lieu thereof “third monday in february, second monday in june and third monday in september.” sec. 2. that the said section be amended on line 15, at the end of the section, by adding the words ‘‘and the fourth monday in june.”</td>\n",
       "      <td>0</td>\n",
       "    </tr>\n",
       "    <tr>\n",
       "      <th>2</th>\n",
       "      <td>1877</td>\n",
       "      <td>571</td>\n",
       "      <td>an act to alter and amend the schoo.t law of sour carolina.</td>\n",
       "      <td></td>\n",
       "    </tr>\n",
       "    <tr>\n",
       "      <th>3</th>\n",
       "      <td>1877</td>\n",
       "      <td>571</td>\n",
       "      <td>be it enacted by the senate and house of representatives of the state of south carolina, now met and sitting in general assembly, and by the authority of the same, that the state superintendent of education and four (4) persons to be appointed by the governor, by and with the advice and consent of the senate, who shall hold office for two years and until their successors may be appointed, unless sooner removed by the governor, shall constitute the state board of examiners.</td>\n",
       "      <td>0</td>\n",
       "    </tr>\n",
       "    <tr>\n",
       "      <th>4</th>\n",
       "      <td>1877</td>\n",
       "      <td>571</td>\n",
       "      <td>of this board the state superintendent of education shall be ez officio chairman.</td>\n",
       "      <td>0</td>\n",
       "    </tr>\n",
       "    <tr>\n",
       "      <th>5</th>\n",
       "      <td>1877</td>\n",
       "      <td>571</td>\n",
       "      <td>the clerk of the state superintendent of education, as hereinafter provided for, shall be clerk of the state board of examiners.</td>\n",
       "      <td>0</td>\n",
       "    </tr>\n",
       "  </tbody>\n",
       "</table>\n",
       "</div>"
      ],
      "text/plain": [
       "   Year  Page_No  \\\n",
       "0  1877      571   \n",
       "2  1877      571   \n",
       "3  1877      571   \n",
       "4  1877      571   \n",
       "5  1877      571   \n",
       "\n",
       "                                                                                                                                                                                                                                                                                                                                                                                                                                                                                                                                                                                                                                                                                                                                                                                                                                                                                             Act  \\\n",
       "0  an act ro amenp an act entitleed “an act to esttabliish uniformity in the sessions of the circuit couurts.” section 1. an act ro amenp an act entitleed “an act to esttabliish uniformity in the sessions of the circuit couurts.” section 1. be it enacted by the senate and house of representatives of the state of south carolina, now met and sitting in general assembly, and by the authority of the same, that section 5 of an act entitled “an act to establish uniformity in the sessions of the circuit courts,” approved june 9th, 1877, be, and the same is hereby, amended by striking out the eleventh line thereof and inserting in lieu thereof “third monday in february, second monday in june and third monday in september.” sec. 2. that the said section be amended on line 15, at the end of the section, by adding the words ‘‘and the fourth monday in june.”         \n",
       "2                                                                                                                                                                                                                                                                                                                                                                                                                                                                                                                                                                                                                                                                                                                                                                                                                               an act to alter and amend the schoo.t law of sour carolina.        \n",
       "3                                                                                                                                                                                                                                                                                                                                                                                             be it enacted by the senate and house of representatives of the state of south carolina, now met and sitting in general assembly, and by the authority of the same, that the state superintendent of education and four (4) persons to be appointed by the governor, by and with the advice and consent of the senate, who shall hold office for two years and until their successors may be appointed, unless sooner removed by the governor, shall constitute the state board of examiners.        \n",
       "4                                                                                                                                                                                                                                                                                                                                                                                                                                                                                                                                                                                                                                                                                                                                                                                                         of this board the state superintendent of education shall be ez officio chairman.        \n",
       "5                                                                                                                                                                                                                                                                                                                                                                                                                                                                                                                                                                                                                                                                                                                                                          the clerk of the state superintendent of education, as hereinafter provided for, shall be clerk of the state board of examiners.        \n",
       "\n",
       "  Coding (Axton)  \n",
       "0              0  \n",
       "2                 \n",
       "3              0  \n",
       "4              0  \n",
       "5              0  "
      ]
     },
     "execution_count": 49,
     "metadata": {},
     "output_type": "execute_result"
    }
   ],
   "source": [
    "df_cleaned.head()"
   ]
  },
  {
   "cell_type": "markdown",
   "id": "29de7163-d042-4f39-a732-6a4998a2b1b2",
   "metadata": {},
   "source": [
    "## Save"
   ]
  },
  {
   "cell_type": "code",
   "execution_count": 50,
   "id": "1fc17735-e235-4126-a951-0edf28150f10",
   "metadata": {},
   "outputs": [],
   "source": [
    "# Original file name without file type\n",
    "og_fname = path.split('/')[-1].split('.')[0]\n",
    "\n",
    "df_cleaned.to_csv(f'./{og_fname}_updated.csv', index=False)"
   ]
  }
 ],
 "metadata": {
  "kernelspec": {
   "display_name": "Python 3 (ipykernel)",
   "language": "python",
   "name": "python3"
  },
  "language_info": {
   "codemirror_mode": {
    "name": "ipython",
    "version": 3
   },
   "file_extension": ".py",
   "mimetype": "text/x-python",
   "name": "python",
   "nbconvert_exporter": "python",
   "pygments_lexer": "ipython3",
   "version": "3.12.0"
  }
 },
 "nbformat": 4,
 "nbformat_minor": 5
}
