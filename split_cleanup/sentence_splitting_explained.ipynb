{
 "cells": [
  {
   "cell_type": "markdown",
   "metadata": {
    "tags": []
   },
   "source": [
    "# Sentence Splitting\n",
    "This notebook uses OCRed text for a volume year and splits it into sentences using regular expression pattern matching.<br>\n",
    "For this notebook to run, there should be an OCRed folder that should contain a .txt file, a .tsv file, and an images sub-folder (more details in the notebook)."
   ]
  },
  {
   "cell_type": "markdown",
   "metadata": {},
   "source": [
    "This notebook mirrors `sentence_splitting.ipynb`, but has explainations along with the code."
   ]
  },
  {
   "cell_type": "markdown",
   "metadata": {},
   "source": [
    "<b>Note:</b>\n",
    "- If the Acts and Joints were mixed for the chosen year, the OCRed output will contain `{year}_Both.txt` and `{year}_Both_data.tsv`\n",
    "- If the Acts and Joints were seperate for the chosen year, the OCRed output will contain `{year}_Acts.txt` and `{year}_Acts_data.tsv`"
   ]
  },
  {
   "cell_type": "code",
   "execution_count": 1,
   "metadata": {
    "ExecuteTime": {
     "end_time": "2023-07-12T21:10:35.381355Z",
     "start_time": "2023-07-12T21:10:35.372055Z"
    },
    "scrolled": true
   },
   "outputs": [],
   "source": [
    "from nltk.tokenize import PunktSentenceTokenizer\n",
    "import pandas as pd\n",
    "import matplotlib.pyplot as plt\n",
    "from os import listdir\n",
    "import re\n",
    "from numpy import nan, where\n",
    "# pd.set_option('display.max_colwidth', None)"
   ]
  },
  {
   "cell_type": "markdown",
   "metadata": {},
   "source": [
    "<br>\n",
    "Either get the year variable from elsewhere (such as when this notebook is accessed from another file) or specify the year."
   ]
  },
  {
   "cell_type": "code",
   "execution_count": 2,
   "metadata": {},
   "outputs": [],
   "source": [
    "# Get the year variable from somewhere else\n",
    "%store -r year"
   ]
  },
  {
   "cell_type": "code",
   "execution_count": 3,
   "metadata": {},
   "outputs": [],
   "source": [
    "# # If running this notebook independently,\n",
    "# # Uncoment the following line of code\n",
    "year = '1901'"
   ]
  },
  {
   "cell_type": "code",
   "execution_count": 4,
   "metadata": {
    "scrolled": true
   },
   "outputs": [
    {
     "name": "stdout",
     "output_type": "stream",
     "text": [
      "Working on 1901 under /work/otb-lab/OCRed/1901\n"
     ]
    }
   ],
   "source": [
    "# This is the directory that will contain the OCRed output:\n",
    "dir_OCR = \"/work/otb-lab/OCRed/\" + str(year)\n",
    "\n",
    "print(f\"Working on {year} under {dir_OCR}\")"
   ]
  },
  {
   "cell_type": "markdown",
   "metadata": {},
   "source": [
    "Since this file will be run in a batch, it is possible that the variables are cached to decrease run time. So, delete the `acts_path` variable if it exists."
   ]
  },
  {
   "cell_type": "code",
   "execution_count": 5,
   "metadata": {},
   "outputs": [],
   "source": [
    "if 'acts_path' in globals():\n",
    "    print(\"Deleting acts_path\")\n",
    "    del acts_path"
   ]
  },
  {
   "cell_type": "markdown",
   "metadata": {},
   "source": [
    "The OCR folders might contain many variations of the file that needs to be used here. Hence, the many if else statements."
   ]
  },
  {
   "cell_type": "code",
   "execution_count": 6,
   "metadata": {
    "scrolled": true,
    "tags": []
   },
   "outputs": [
    {
     "name": "stdout",
     "output_type": "stream",
     "text": [
      "/work/otb-lab/OCRed/1901/1901_Acts.txt\n"
     ]
    }
   ],
   "source": [
    "# Try reading in \"{year}_text.txt\" if the Acts and Joints were seperate for the year\n",
    "try:\n",
    "    # Try to get a filename in the directory which has 'act' and 'text' in it\n",
    "    for file in listdir(dir_OCR):\n",
    "        \n",
    "        if \"txt\" in file.lower() and \"joint\" not in file.lower() and \"concurrent\" not in file.lower() and \"bills\" not in file.lower():\n",
    "            if \"acts\" in file.lower():\n",
    "                acts_path = dir_OCR + \"/\" + file\n",
    "                break\n",
    "                \n",
    "            elif \"act\" in file.lower():\n",
    "                acts_path = dir_OCR + \"/\" + file\n",
    "                break\n",
    "    \n",
    "    print(acts_path)\n",
    "    with open(acts_path, 'r') as f:\n",
    "        data = f.read()\n",
    "\n",
    "    # If the read is successful, set a flag that identifies that the Acts and Joints are seperate\n",
    "    actsSep = True\n",
    "\n",
    "# However, if the directory contains {year}_Both.txt instead, a FileNotFoundError will be returned for the above code.\n",
    "# So, catch that error and read in \"{year}_Both.txt\"\n",
    "except:\n",
    "    \n",
    "    try:\n",
    "    \n",
    "    \n",
    "        # Try to get a filename in the directory which has 'both' and 'text' in it\n",
    "        for file in listdir(dir_OCR):\n",
    "\n",
    "            if \"both\" in file.lower() and \"txt\" in file.lower() and \"joint\" not in file.lower() and \"concurrent\" not in file.lower() and \"bills\" not in file.lower():\n",
    "                acts_path = dir_OCR + \"/\" + file\n",
    "\n",
    "        print(acts_path)\n",
    "        with open(acts_path, 'r') as f:\n",
    "            data = f.read()\n",
    "\n",
    "        actsSep = False  # The flag being False means that the Acts and Joints are not seperate\n",
    "        \n",
    "        \n",
    "    # However, some years might contain {year}_Acts_Joints.txt\n",
    "    except:\n",
    "        \n",
    "        # Try to get a filename in the directory which has 'both' and 'text' in it\n",
    "        for file in listdir(dir_OCR):\n",
    "\n",
    "            if \"acts\" in file.lower() and \"joints\" in file.lower() and \"txt\" in file.lower():\n",
    "                acts_path = dir_OCR + \"/\" + file\n",
    "\n",
    "        print(acts_path)\n",
    "        with open(acts_path, 'r') as f:\n",
    "            data = f.read()\n",
    "\n",
    "        actsSep = False  # The flag being False means that the Acts and Joints are not seperate\n",
    "\n",
    "\n",
    "# This variable holds all the OCRed text as a String\n",
    "# data"
   ]
  },
  {
   "cell_type": "code",
   "execution_count": 7,
   "metadata": {},
   "outputs": [
    {
     "name": "stdout",
     "output_type": "stream",
     "text": [
      "The number of pages OCRed for 1901 is: 258\n"
     ]
    }
   ],
   "source": [
    "print(\"The number of pages OCRed for {year} is: {count}\".format(year = year, count = (data.count(\"\\n\\n\")+1)))"
   ]
  },
  {
   "cell_type": "markdown",
   "metadata": {},
   "source": [
    "<br>"
   ]
  },
  {
   "cell_type": "markdown",
   "metadata": {},
   "source": [
    "## A. Training the tokenizer\n",
    "Based on this [article](https://subscription.packtpub.com/book/application-development/9781782167853/1/ch01lvl1sec12/training-a-sentence-tokenizer),\n",
    "- NLTK's default sentence tokenizer is general purpose and usually works quite well. But sometimes it might not be the best choice for our text if it uses nonstandard punctuation or is formatted in a unique way. In such cases, training your own sentence tokenizer can result in much more accurate sentence tokenization.\n",
    "- The `PunktSentenceTokenizer` class uses an unsupervised learning algorithm to learn what constitutes a sentence break.\n",
    "    - The specific technique used in this case is called sentence boundary detection. It works by counting punctuation and tokens that commonly end a sentence, such as a period or a newline, then using the resulting frequencies to decide the sentence boundaries."
   ]
  },
  {
   "cell_type": "code",
   "execution_count": 8,
   "metadata": {
    "scrolled": true,
    "tags": []
   },
   "outputs": [],
   "source": [
    "sent_tokenizer = PunktSentenceTokenizer(data)\n",
    "sentences = sent_tokenizer.tokenize(data)\n",
    "\n",
    "# A List of tokens/sentences as seperated by nltk's PunktSentenceTokenizer\n",
    "# sentences"
   ]
  },
  {
   "cell_type": "markdown",
   "metadata": {},
   "source": [
    "<br>"
   ]
  },
  {
   "cell_type": "markdown",
   "metadata": {},
   "source": [
    "## B. Creating the dataframe\n",
    "Make a new dataframe with the sentences and lengths as a features.\n",
    "<br>Other features will be added later."
   ]
  },
  {
   "cell_type": "code",
   "execution_count": 9,
   "metadata": {},
   "outputs": [],
   "source": [
    "# Add to a new DataFrame\n",
    "df = pd.DataFrame()\n",
    "df[\"sentence\"] = sentences"
   ]
  },
  {
   "cell_type": "code",
   "execution_count": 10,
   "metadata": {
    "tags": []
   },
   "outputs": [],
   "source": [
    "# Strip sentences of trailing and leading whitespaces\n",
    "df['sentence'] = df['sentence'].str.strip()"
   ]
  },
  {
   "cell_type": "code",
   "execution_count": 11,
   "metadata": {},
   "outputs": [
    {
     "name": "stdout",
     "output_type": "stream",
     "text": [
      "Length of the initial dataframe: 1864 \n",
      "This is the number of tokenized sentences.\n"
     ]
    }
   ],
   "source": [
    "print(\"Length of the initial dataframe:\", df.shape[0], \"\\nThis is the number of tokenized sentences.\")"
   ]
  },
  {
   "cell_type": "markdown",
   "metadata": {},
   "source": [
    "<br>"
   ]
  },
  {
   "cell_type": "markdown",
   "metadata": {
    "tags": []
   },
   "source": [
    "## C. Adding page file names\n",
    "- Add an feature that specifies which page number that sentence starts and ends on.\n",
    "- Reading only Acts. <b> Not reading Joints </b>\n",
    "- The reason to read the files from the directory is to ensure that missing file pages are not missed in the dataframe."
   ]
  },
  {
   "cell_type": "markdown",
   "metadata": {},
   "source": [
    "There are also variations for the images sub-folder..."
   ]
  },
  {
   "cell_type": "code",
   "execution_count": 12,
   "metadata": {},
   "outputs": [
    {
     "name": "stdout",
     "output_type": "stream",
     "text": [
      "The images directory is /work/otb-lab/OCRed/1901/images\n",
      "The number of image files for this year is: 270\n"
     ]
    }
   ],
   "source": [
    "try:\n",
    "    dir_imgs = dir_OCR + \"/images\"\n",
    "    imgs = listdir(dir_imgs)\n",
    "except FileNotFoundError:\n",
    "\n",
    "    try:\n",
    "        dir_imgs = dir_OCR + \"/Images\"\n",
    "        imgs = listdir(dir_imgs)\n",
    "    except FileNotFoundError:\n",
    "        \n",
    "        try:\n",
    "            dir_imgs = dir_OCR + \"/images.zip\"\n",
    "            imgs = listdir(dir_imgs)\n",
    "\n",
    "        except FileNotFoundError:\n",
    "            \n",
    "            try:\n",
    "                dir_imgs = dir_OCR + \"/Images.zip\"\n",
    "                imgs = listdir(dir_imgs)\n",
    "\n",
    "            except FileNotFoundError:\n",
    "                dir_imgs = dir_OCR + \"/\" + year\n",
    "                imgs = listdir(dir_imgs)\n",
    "            \n",
    "\n",
    "print(f\"The images directory is {dir_imgs}\")\n",
    "    \n",
    "imgs = [img for img in imgs if \"jpg\" in img or \"tiff\" in img or \"JPG\" in img or \"TIFF\" in img]\n",
    "imgs.sort()\n",
    "print(\"The number of image files for this year is:\", len(imgs))"
   ]
  },
  {
   "cell_type": "code",
   "execution_count": 13,
   "metadata": {
    "tags": []
   },
   "outputs": [
    {
     "name": "stdout",
     "output_type": "stream",
     "text": [
      "The files are of type: jpg\n"
     ]
    }
   ],
   "source": [
    "fileType = imgs[0].split(\".\")[1]\n",
    "print(f\"The files are of type: {fileType}\")"
   ]
  },
  {
   "cell_type": "markdown",
   "metadata": {},
   "source": [
    "<b>Note:</b>\n",
    "- The OCR attempts to seperates new pages by adding \"\\n\\n\". However, the total number of pages does not equal the total count of \"\\n\\n\" in the text as the OCR does not add \"\\n\\n\" after every page.\n",
    "- One way to eliminate this issue is by utilizing the `{year}_Both_data.tsv` (if acts and joints mixed) or `{year}_Acts_data.tsv` (if acts and joints seperated) file from the OCR output.\n",
    "- This file contains each word (in the 2nd last column) and the filename for that word (last column).\n",
    "- Also, since we are only working with Acts, if the Acts and Joints are seperate, the last word in the df_word dataframe will not end on the actual last page in the images sub-folder."
   ]
  },
  {
   "cell_type": "code",
   "execution_count": 14,
   "metadata": {},
   "outputs": [
    {
     "name": "stdout",
     "output_type": "stream",
     "text": [
      "/work/otb-lab/OCRed/1901/1901_Acts_data.tsv\n"
     ]
    }
   ],
   "source": [
    "for file in listdir(dir_OCR):\n",
    "    if \"tsv\" in file.lower():\n",
    "        \n",
    "        if actsSep:           \n",
    "            \n",
    "            # Try to get a filename in the directory which has 'act' (or 'acts') and 'tsv' in it\n",
    "            if \"act\" in file.lower() or \"acts\" in file.lower():\n",
    "                words_path = dir_OCR + '/' + file\n",
    "               \n",
    "        else:\n",
    "    \n",
    "            if \"both\" in file.lower() or \"joints\" in file.lower():\n",
    "                words_path = dir_OCR + '/' + file               \n",
    "\n",
    "\n",
    "df_words = pd.read_table(words_path)\n",
    "print(words_path)"
   ]
  },
  {
   "cell_type": "code",
   "execution_count": 15,
   "metadata": {},
   "outputs": [
    {
     "data": {
      "text/html": [
       "<div>\n",
       "<style scoped>\n",
       "    .dataframe tbody tr th:only-of-type {\n",
       "        vertical-align: middle;\n",
       "    }\n",
       "\n",
       "    .dataframe tbody tr th {\n",
       "        vertical-align: top;\n",
       "    }\n",
       "\n",
       "    .dataframe thead th {\n",
       "        text-align: right;\n",
       "    }\n",
       "</style>\n",
       "<table border=\"1\" class=\"dataframe\">\n",
       "  <thead>\n",
       "    <tr style=\"text-align: right;\">\n",
       "      <th></th>\n",
       "      <th>left</th>\n",
       "      <th>top</th>\n",
       "      <th>width</th>\n",
       "      <th>height</th>\n",
       "      <th>conf</th>\n",
       "      <th>text</th>\n",
       "      <th>name</th>\n",
       "    </tr>\n",
       "  </thead>\n",
       "  <tbody>\n",
       "    <tr>\n",
       "      <th>0</th>\n",
       "      <td>0</td>\n",
       "      <td>0</td>\n",
       "      <td>1592</td>\n",
       "      <td>2536</td>\n",
       "      <td>-1.000000</td>\n",
       "      <td>NaN</td>\n",
       "      <td>00035.jpg</td>\n",
       "    </tr>\n",
       "    <tr>\n",
       "      <th>1</th>\n",
       "      <td>728</td>\n",
       "      <td>283</td>\n",
       "      <td>60</td>\n",
       "      <td>144</td>\n",
       "      <td>-1.000000</td>\n",
       "      <td>NaN</td>\n",
       "      <td>00035.jpg</td>\n",
       "    </tr>\n",
       "    <tr>\n",
       "      <th>2</th>\n",
       "      <td>728</td>\n",
       "      <td>257</td>\n",
       "      <td>180</td>\n",
       "      <td>170</td>\n",
       "      <td>-1.000000</td>\n",
       "      <td>NaN</td>\n",
       "      <td>00035.jpg</td>\n",
       "    </tr>\n",
       "    <tr>\n",
       "      <th>3</th>\n",
       "      <td>728</td>\n",
       "      <td>283</td>\n",
       "      <td>60</td>\n",
       "      <td>144</td>\n",
       "      <td>-1.000000</td>\n",
       "      <td>NaN</td>\n",
       "      <td>00035.jpg</td>\n",
       "    </tr>\n",
       "    <tr>\n",
       "      <th>4</th>\n",
       "      <td>728</td>\n",
       "      <td>283</td>\n",
       "      <td>60</td>\n",
       "      <td>144</td>\n",
       "      <td>34.161140</td>\n",
       "      <td>IK</td>\n",
       "      <td>00035.jpg</td>\n",
       "    </tr>\n",
       "    <tr>\n",
       "      <th>...</th>\n",
       "      <td>...</td>\n",
       "      <td>...</td>\n",
       "      <td>...</td>\n",
       "      <td>...</td>\n",
       "      <td>...</td>\n",
       "      <td>...</td>\n",
       "      <td>...</td>\n",
       "    </tr>\n",
       "    <tr>\n",
       "      <th>127981</th>\n",
       "      <td>682</td>\n",
       "      <td>1851</td>\n",
       "      <td>38</td>\n",
       "      <td>31</td>\n",
       "      <td>95.772659</td>\n",
       "      <td>of</td>\n",
       "      <td>00292.jpg</td>\n",
       "    </tr>\n",
       "    <tr>\n",
       "      <th>127982</th>\n",
       "      <td>735</td>\n",
       "      <td>1851</td>\n",
       "      <td>174</td>\n",
       "      <td>39</td>\n",
       "      <td>96.576187</td>\n",
       "      <td>February,</td>\n",
       "      <td>00292.jpg</td>\n",
       "    </tr>\n",
       "    <tr>\n",
       "      <th>127983</th>\n",
       "      <td>926</td>\n",
       "      <td>1851</td>\n",
       "      <td>40</td>\n",
       "      <td>31</td>\n",
       "      <td>92.059761</td>\n",
       "      <td>A.</td>\n",
       "      <td>00292.jpg</td>\n",
       "    </tr>\n",
       "    <tr>\n",
       "      <th>127984</th>\n",
       "      <td>984</td>\n",
       "      <td>1851</td>\n",
       "      <td>39</td>\n",
       "      <td>31</td>\n",
       "      <td>92.059761</td>\n",
       "      <td>D.</td>\n",
       "      <td>00292.jpg</td>\n",
       "    </tr>\n",
       "    <tr>\n",
       "      <th>127985</th>\n",
       "      <td>1043</td>\n",
       "      <td>1859</td>\n",
       "      <td>87</td>\n",
       "      <td>31</td>\n",
       "      <td>6.582840</td>\n",
       "      <td>1goI.</td>\n",
       "      <td>00292.jpg</td>\n",
       "    </tr>\n",
       "  </tbody>\n",
       "</table>\n",
       "<p>127986 rows × 7 columns</p>\n",
       "</div>"
      ],
      "text/plain": [
       "        left   top  width  height       conf       text       name\n",
       "0          0     0   1592    2536  -1.000000        NaN  00035.jpg\n",
       "1        728   283     60     144  -1.000000        NaN  00035.jpg\n",
       "2        728   257    180     170  -1.000000        NaN  00035.jpg\n",
       "3        728   283     60     144  -1.000000        NaN  00035.jpg\n",
       "4        728   283     60     144  34.161140         IK  00035.jpg\n",
       "...      ...   ...    ...     ...        ...        ...        ...\n",
       "127981   682  1851     38      31  95.772659         of  00292.jpg\n",
       "127982   735  1851    174      39  96.576187  February,  00292.jpg\n",
       "127983   926  1851     40      31  92.059761         A.  00292.jpg\n",
       "127984   984  1851     39      31  92.059761         D.  00292.jpg\n",
       "127985  1043  1859     87      31   6.582840      1goI.  00292.jpg\n",
       "\n",
       "[127986 rows x 7 columns]"
      ]
     },
     "execution_count": 15,
     "metadata": {},
     "output_type": "execute_result"
    }
   ],
   "source": [
    "df_words"
   ]
  },
  {
   "cell_type": "markdown",
   "metadata": {},
   "source": [
    "So, to label the page numbers in the dataframe, we can go through the original dataframe and find the start and end words in each sentence.\n",
    "<br>We, can then find the page numbers for those words, from `df_words` and add them to the original dataframe, `df`.\n",
    "<br>To start, we need to clean the two dataframes."
   ]
  },
  {
   "cell_type": "code",
   "execution_count": 16,
   "metadata": {},
   "outputs": [],
   "source": [
    "df['page'] = nan\n",
    "\n",
    "# Drop the columns which are unessecary for our analysis\n",
    "df_words.drop(columns=[\"left\", \"top\", \"width\", \"height\", \"conf\"], inplace=True)\n",
    "\n",
    "# Drop the rows which don't contain a word in the \"text\" column\n",
    "df_words.dropna(inplace=True)\n",
    "\n",
    "# Relabel the \"name\" column to \"page\" column\n",
    "df_words.rename(columns={\"name\": \"page\"}, inplace=True)\n",
    "\n",
    "# Reassign index after dropping nas\n",
    "df_words = df_words.assign(row_number=range(len(df_words)))\n",
    "df_words.set_index('row_number', inplace=True)\n",
    "\n",
    "# Drop the 'page' column from the org dataframe\n",
    "df.drop(columns=['page'], inplace=True)\n",
    "\n",
    "# Add an empty 'start_page' and 'end_page' column\n",
    "df['start_page'] = nan\n",
    "df['end_page'] = nan"
   ]
  },
  {
   "cell_type": "markdown",
   "metadata": {},
   "source": [
    "Since, a word can only exist on a single page, we have unique identifiers for the start and end page for each sentence "
   ]
  },
  {
   "cell_type": "code",
   "execution_count": 17,
   "metadata": {},
   "outputs": [],
   "source": [
    "# Remove \"\\n\\n\" from the original dataframe as they will interfere with the analysis\n",
    "df['sentence'] = df['sentence'].str.replace(\"\\n\\n\", \"\", regex = False)"
   ]
  },
  {
   "cell_type": "code",
   "execution_count": 18,
   "metadata": {
    "tags": []
   },
   "outputs": [],
   "source": [
    "# Tracker for df_words:\n",
    "words_trkr = 0\n",
    "\n",
    "# Loop over the original dataframe\n",
    "for i in range(0, df.shape[0]):\n",
    "\n",
    "    # For each sentence, extract the first and last word\n",
    "    tmp_sentence = df.iloc[i]['sentence'].split(\" \")\n",
    "    start, last = tmp_sentence[0], tmp_sentence[-1]\n",
    "    \n",
    "    # Get the page number for the start and end word\n",
    "    try:\n",
    "        start_page = df_words.iloc[words_trkr]['page']\n",
    "    except IndexError:\n",
    "        try:\n",
    "            words_trkr -= len(tmp_sentence)\n",
    "            start_page = df_words.iloc[words_trkr]['page']\n",
    "        except:\n",
    "            start_page = df_words['page'].iloc[-1]\n",
    "    \n",
    "    try:\n",
    "        end_page = df_words.iloc[words_trkr + len(tmp_sentence)]['page']\n",
    "    except IndexError:\n",
    "        try:\n",
    "            end_page = df_words.iloc[words_trkr]['page']\n",
    "        except:\n",
    "            end_page = df_words['page'].iloc[-1]\n",
    "    \n",
    "\n",
    "    # Remove the filename from the pages:\n",
    "    start_page = start_page.split(\".\")[0]\n",
    "    end_page = end_page.split(\".\")[0]\n",
    "\n",
    "    \n",
    "    # Assign the page number to their respective columns in the dataframe\n",
    "    df.at[i, 'start_page'] = start_page\n",
    "    df.at[i, 'end_page'] = end_page\n",
    "    \n",
    "    # Update tracker\n",
    "    words_trkr += len(tmp_sentence)"
   ]
  },
  {
   "cell_type": "code",
   "execution_count": 19,
   "metadata": {},
   "outputs": [
    {
     "data": {
      "text/html": [
       "<div>\n",
       "<style scoped>\n",
       "    .dataframe tbody tr th:only-of-type {\n",
       "        vertical-align: middle;\n",
       "    }\n",
       "\n",
       "    .dataframe tbody tr th {\n",
       "        vertical-align: top;\n",
       "    }\n",
       "\n",
       "    .dataframe thead th {\n",
       "        text-align: right;\n",
       "    }\n",
       "</style>\n",
       "<table border=\"1\" class=\"dataframe\">\n",
       "  <thead>\n",
       "    <tr style=\"text-align: right;\">\n",
       "      <th></th>\n",
       "      <th>sentence</th>\n",
       "      <th>start_page</th>\n",
       "      <th>end_page</th>\n",
       "    </tr>\n",
       "  </thead>\n",
       "  <tbody>\n",
       "    <tr>\n",
       "      <th>1859</th>\n",
       "      <td>SECTION 1. Be it enacted by the General Assemb...</td>\n",
       "      <td>292.0</td>\n",
       "      <td>292.0</td>\n",
       "    </tr>\n",
       "    <tr>\n",
       "      <th>1860</th>\n",
       "      <td>That the proceeds of said levy of one- half mi...</td>\n",
       "      <td>292.0</td>\n",
       "      <td>292.0</td>\n",
       "    </tr>\n",
       "    <tr>\n",
       "      <th>1861</th>\n",
       "      <td>Sec. 2.</td>\n",
       "      <td>292.0</td>\n",
       "      <td>292.0</td>\n",
       "    </tr>\n",
       "    <tr>\n",
       "      <th>1862</th>\n",
       "      <td>That the Commissioners of the Sinking Fund of ...</td>\n",
       "      <td>292.0</td>\n",
       "      <td>292.0</td>\n",
       "    </tr>\n",
       "    <tr>\n",
       "      <th>1863</th>\n",
       "      <td>Approved the 2oth day of February, A. D. 1goI.</td>\n",
       "      <td>292.0</td>\n",
       "      <td>292.0</td>\n",
       "    </tr>\n",
       "  </tbody>\n",
       "</table>\n",
       "</div>"
      ],
      "text/plain": [
       "                                               sentence  start_page  end_page\n",
       "1859  SECTION 1. Be it enacted by the General Assemb...       292.0     292.0\n",
       "1860  That the proceeds of said levy of one- half mi...       292.0     292.0\n",
       "1861                                            Sec. 2.       292.0     292.0\n",
       "1862  That the Commissioners of the Sinking Fund of ...       292.0     292.0\n",
       "1863     Approved the 2oth day of February, A. D. 1goI.       292.0     292.0"
      ]
     },
     "execution_count": 19,
     "metadata": {},
     "output_type": "execute_result"
    }
   ],
   "source": [
    "df.tail()"
   ]
  },
  {
   "cell_type": "markdown",
   "metadata": {},
   "source": [
    "<br>"
   ]
  },
  {
   "cell_type": "markdown",
   "metadata": {
    "tags": []
   },
   "source": [
    "## D. Further Cleaning and Regex\n",
    "Remove unecessary words in the sentences which do not contribute to the overall meaning."
   ]
  },
  {
   "cell_type": "markdown",
   "metadata": {},
   "source": [
    "<b>NOTE:</b> This notebook adds extra code below for demonstration which adds some runtime overhead. However, `sentence_splitting.ipynb` does not have that extra code, so running it will produce faster results."
   ]
  },
  {
   "cell_type": "code",
   "execution_count": 20,
   "metadata": {},
   "outputs": [],
   "source": [
    "# New dataframe so that the results of the matching can be compared\n",
    "df_cleaned = df.copy()\n",
    "\n",
    "# A new dictionary to keep track of the number of errors\n",
    "errorsDict = {}"
   ]
  },
  {
   "cell_type": "code",
   "execution_count": 21,
   "metadata": {},
   "outputs": [],
   "source": [
    "# Create a new column that will contain the removed words that match the section patter\n",
    "df_cleaned['removed'] = ''\n",
    "\n",
    "# Rename 'sentence' column to 'org_sent' to avoid confusion\n",
    "df_cleaned.rename(columns={'sentence': 'org_sent'}, inplace=True)"
   ]
  },
  {
   "cell_type": "code",
   "execution_count": 22,
   "metadata": {},
   "outputs": [
    {
     "data": {
      "text/html": [
       "<div>\n",
       "<style scoped>\n",
       "    .dataframe tbody tr th:only-of-type {\n",
       "        vertical-align: middle;\n",
       "    }\n",
       "\n",
       "    .dataframe tbody tr th {\n",
       "        vertical-align: top;\n",
       "    }\n",
       "\n",
       "    .dataframe thead th {\n",
       "        text-align: right;\n",
       "    }\n",
       "</style>\n",
       "<table border=\"1\" class=\"dataframe\">\n",
       "  <thead>\n",
       "    <tr style=\"text-align: right;\">\n",
       "      <th></th>\n",
       "      <th>org_sent</th>\n",
       "      <th>start_page</th>\n",
       "      <th>end_page</th>\n",
       "      <th>removed</th>\n",
       "    </tr>\n",
       "  </thead>\n",
       "  <tbody>\n",
       "    <tr>\n",
       "      <th>0</th>\n",
       "      <td>IK OF THE | GENERAL ASSEMBLY.</td>\n",
       "      <td>35.0</td>\n",
       "      <td>35.0</td>\n",
       "      <td></td>\n",
       "    </tr>\n",
       "    <tr>\n",
       "      <th>1</th>\n",
       "      <td>OF THE STATE OF SOUTH CAROLINA Passed at the R...</td>\n",
       "      <td>35.0</td>\n",
       "      <td>35.0</td>\n",
       "      <td></td>\n",
       "    </tr>\n",
       "    <tr>\n",
       "      <th>2</th>\n",
       "      <td>M. B. McSweeney, Governor.</td>\n",
       "      <td>35.0</td>\n",
       "      <td>35.0</td>\n",
       "      <td></td>\n",
       "    </tr>\n",
       "    <tr>\n",
       "      <th>3</th>\n",
       "      <td>Jas. H. TittMan, Lieutenant- Governor and ex o...</td>\n",
       "      <td>35.0</td>\n",
       "      <td>35.0</td>\n",
       "      <td></td>\n",
       "    </tr>\n",
       "    <tr>\n",
       "      <th>4</th>\n",
       "      <td>W. F STEVENSON, Speaker of the House of Repres...</td>\n",
       "      <td>35.0</td>\n",
       "      <td>35.0</td>\n",
       "      <td></td>\n",
       "    </tr>\n",
       "  </tbody>\n",
       "</table>\n",
       "</div>"
      ],
      "text/plain": [
       "                                            org_sent  start_page  end_page  \\\n",
       "0                      IK OF THE | GENERAL ASSEMBLY.        35.0      35.0   \n",
       "1  OF THE STATE OF SOUTH CAROLINA Passed at the R...        35.0      35.0   \n",
       "2                         M. B. McSweeney, Governor.        35.0      35.0   \n",
       "3  Jas. H. TittMan, Lieutenant- Governor and ex o...        35.0      35.0   \n",
       "4  W. F STEVENSON, Speaker of the House of Repres...        35.0      35.0   \n",
       "\n",
       "  removed  \n",
       "0          \n",
       "1          \n",
       "2          \n",
       "3          \n",
       "4          "
      ]
     },
     "execution_count": 22,
     "metadata": {},
     "output_type": "execute_result"
    }
   ],
   "source": [
    "df_cleaned.head()"
   ]
  },
  {
   "cell_type": "code",
   "execution_count": 23,
   "metadata": {
    "tags": []
   },
   "outputs": [],
   "source": [
    "def replaceInDF(rgx_match: re.Pattern, df: pd.DataFrame, prevAppend: bool):\n",
    "    '''\n",
    "    Find the provided regex pattern in the provided dataframe.\n",
    "    \n",
    "    Parameters\n",
    "    ----------\n",
    "    rgx_match : re.Pattern\n",
    "        A regular expression pattern that will be search for and replaced in the df\n",
    "    df: pandas.Dataframe\n",
    "        A Pandas dataframe to search and replace for\n",
    "        Should contain an:\n",
    "            'org_sent' column, in which the matches which will be replaced\n",
    "             'removed' column, in which the matched string will be stored\n",
    "     prevAppend: bool\n",
    "         A flag for whether the match should be append to the end of the previous sentence\n",
    "        \n",
    "    Returns\n",
    "    -------\n",
    "    A tuple consisting of:\n",
    "    \n",
    "    df: pandas.Dataframe\n",
    "        The modified Dataframe with the matches performed\n",
    "    errorCount: int\n",
    "        A count of how many times this error was found.\n",
    "    '''\n",
    "    \n",
    "    errorCount = 0\n",
    "    \n",
    "    for i in range(0, df.shape[0]):\n",
    "    \n",
    "        # The value at this row's \"removed\" column\n",
    "        removed_val = df.iloc[i]['removed']\n",
    "        \n",
    "        # The found matches\n",
    "        matches = \"; \".join([x.group() for x in re.finditer(rgx_match, df.iloc[i]['org_sent'])])\n",
    "        \n",
    "        # if no match found...\n",
    "        if not matches:\n",
    "            continue\n",
    "\n",
    "        # Else if match is found...\n",
    "        \n",
    "        # Update the counter for the error with the number of matches found\n",
    "        errorCount += len(matches.split(\";\"))\n",
    "        \n",
    "        # Check if there is already a value in the 'removed' column for that row\n",
    "        if removed_val != \"\" and not pd.isnull(removed_val):\n",
    "            # Append the matches to the existing value seperated by \";\"\n",
    "            df.at[i, 'removed'] = str(removed_val) + \"; \" + matches\n",
    "        else:\n",
    "            # Add the matched patterns to the \"removed\" section seperated by \";\"\n",
    "            df.at[i, 'removed'] = matches\n",
    "        \n",
    "        if prevAppend and i != 0:\n",
    "            \n",
    "            m = re.search(rgx_match, df.iloc[i]['org_sent'])\n",
    "            if m:\n",
    "                # Add to the end of the previous sentence\n",
    "                df.at[i-1, 'org_sent'] = df.iloc[i-1]['org_sent'] + \" \" + str(m.group())\n",
    "            \n",
    "        # Remove the matched patterns from sentences\n",
    "        df.at[i, 'org_sent'] = re.sub(rgx_match, '', df.iloc[i]['org_sent'])    \n",
    "        \n",
    "    return df, errorCount"
   ]
  },
  {
   "cell_type": "markdown",
   "metadata": {},
   "source": [
    "<br>"
   ]
  },
  {
   "cell_type": "markdown",
   "metadata": {
    "tags": []
   },
   "source": [
    "### 1. Removing section identifiers\n",
    "The following code implements regex patterns to identify sections, such as \"Section 1.\", \"Sec. 4.\", etc. \n",
    "<br>Since most sections, which need to be removed, appear either at the start or the start of the ORCed sentence, the pattern finds matches either at the start or the end of the sentence.\n",
    "<br>Do note that the same pattern is repeated for the start and end of the sentence, and is seperated by '|'."
   ]
  },
  {
   "cell_type": "markdown",
   "metadata": {},
   "source": [
    "Some notes about the pattern:\n",
    "- `r'(S|s|E|e|C|c|T|t|I|i|O|o|N|n){2,}'` matches \"Section\"\n",
    "- `r'(\\.|,|:|;| )'{0,2}` matches mistaken delimiters or spaces following \"Section\"\n",
    "- `r'[0Oo1Iil!2Z5S6G\\d]{1,2}'` matches the section number. Letters are required in this pattern to account for OCR mistakes\n",
    "- `r'(. |.| |)'` matches the end of phrase spaces and periods"
   ]
  },
  {
   "cell_type": "code",
   "execution_count": 24,
   "metadata": {
    "tags": []
   },
   "outputs": [],
   "source": [
    "rgx_match = re.compile(r\"^(S|s|E|e|C|c|T|t|I|i|O|o|N|n){2,}(\\.|,|:|;| ){0,2}[0Oo1Iil!2Z5S6G\\d]{1,2}(. |.| |)|(S|s|E|e|C|c|T|t|I|i|O|o|N|n){2,}(\\.|,|:|;| ){0,2}[0Oo1Iil!2Z5S6G\\d]{1,2}(. |.| |)$\")\n",
    "\n",
    "df_cleaned, errorsDict['section identifiers'] = replaceInDF(rgx_match, df_cleaned, False)"
   ]
  },
  {
   "cell_type": "code",
   "execution_count": 25,
   "metadata": {},
   "outputs": [
    {
     "data": {
      "text/html": [
       "<div>\n",
       "<style scoped>\n",
       "    .dataframe tbody tr th:only-of-type {\n",
       "        vertical-align: middle;\n",
       "    }\n",
       "\n",
       "    .dataframe tbody tr th {\n",
       "        vertical-align: top;\n",
       "    }\n",
       "\n",
       "    .dataframe thead th {\n",
       "        text-align: right;\n",
       "    }\n",
       "</style>\n",
       "<table border=\"1\" class=\"dataframe\">\n",
       "  <thead>\n",
       "    <tr style=\"text-align: right;\">\n",
       "      <th></th>\n",
       "      <th>org_sent</th>\n",
       "      <th>start_page</th>\n",
       "      <th>end_page</th>\n",
       "      <th>removed</th>\n",
       "    </tr>\n",
       "  </thead>\n",
       "  <tbody>\n",
       "    <tr>\n",
       "      <th>0</th>\n",
       "      <td>IK OF THE | GENERAL ASSEMBLY.</td>\n",
       "      <td>35.0</td>\n",
       "      <td>35.0</td>\n",
       "      <td></td>\n",
       "    </tr>\n",
       "    <tr>\n",
       "      <th>1</th>\n",
       "      <td>OF THE STATE OF SOUTH CAROLINA Passed at the R...</td>\n",
       "      <td>35.0</td>\n",
       "      <td>35.0</td>\n",
       "      <td></td>\n",
       "    </tr>\n",
       "    <tr>\n",
       "      <th>2</th>\n",
       "      <td>M. B. McSweeney, Governor.</td>\n",
       "      <td>35.0</td>\n",
       "      <td>35.0</td>\n",
       "      <td></td>\n",
       "    </tr>\n",
       "    <tr>\n",
       "      <th>3</th>\n",
       "      <td>Jas. H. TittMan, Lieutenant- Governor and ex o...</td>\n",
       "      <td>35.0</td>\n",
       "      <td>35.0</td>\n",
       "      <td></td>\n",
       "    </tr>\n",
       "    <tr>\n",
       "      <th>4</th>\n",
       "      <td>W. F STEVENSON, Speaker of the House of Repres...</td>\n",
       "      <td>35.0</td>\n",
       "      <td>35.0</td>\n",
       "      <td></td>\n",
       "    </tr>\n",
       "    <tr>\n",
       "      <th>5</th>\n",
       "      <td>T. C. Hamer, Clerk of the House of Representat...</td>\n",
       "      <td>35.0</td>\n",
       "      <td>35.0</td>\n",
       "      <td></td>\n",
       "    </tr>\n",
       "    <tr>\n",
       "      <th>6</th>\n",
       "      <td>ro, = PART I. GENERAL AND PERMANENT LAWS- _ No.</td>\n",
       "      <td>35.0</td>\n",
       "      <td>35.0</td>\n",
       "      <td></td>\n",
       "    </tr>\n",
       "    <tr>\n",
       "      <th>7</th>\n",
       "      <td>344. AN ACT to Grant To THE City CouncIL oF CH...</td>\n",
       "      <td>35.0</td>\n",
       "      <td>35.0</td>\n",
       "      <td></td>\n",
       "    </tr>\n",
       "    <tr>\n",
       "      <th>8</th>\n",
       "      <td>Be it enacted by the General Assembly of the S...</td>\n",
       "      <td>35.0</td>\n",
       "      <td>36.0</td>\n",
       "      <td>SECTION 1. ; SEc. 2.</td>\n",
       "    </tr>\n",
       "    <tr>\n",
       "      <th>9</th>\n",
       "      <td>The grant herein made is upon the express cond...</td>\n",
       "      <td>36.0</td>\n",
       "      <td>36.0</td>\n",
       "      <td></td>\n",
       "    </tr>\n",
       "  </tbody>\n",
       "</table>\n",
       "</div>"
      ],
      "text/plain": [
       "                                            org_sent  start_page  end_page  \\\n",
       "0                      IK OF THE | GENERAL ASSEMBLY.        35.0      35.0   \n",
       "1  OF THE STATE OF SOUTH CAROLINA Passed at the R...        35.0      35.0   \n",
       "2                         M. B. McSweeney, Governor.        35.0      35.0   \n",
       "3  Jas. H. TittMan, Lieutenant- Governor and ex o...        35.0      35.0   \n",
       "4  W. F STEVENSON, Speaker of the House of Repres...        35.0      35.0   \n",
       "5  T. C. Hamer, Clerk of the House of Representat...        35.0      35.0   \n",
       "6    ro, = PART I. GENERAL AND PERMANENT LAWS- _ No.        35.0      35.0   \n",
       "7  344. AN ACT to Grant To THE City CouncIL oF CH...        35.0      35.0   \n",
       "8  Be it enacted by the General Assembly of the S...        35.0      36.0   \n",
       "9  The grant herein made is upon the express cond...        36.0      36.0   \n",
       "\n",
       "                removed  \n",
       "0                        \n",
       "1                        \n",
       "2                        \n",
       "3                        \n",
       "4                        \n",
       "5                        \n",
       "6                        \n",
       "7                        \n",
       "8  SECTION 1. ; SEc. 2.  \n",
       "9                        "
      ]
     },
     "execution_count": 25,
     "metadata": {},
     "output_type": "execute_result"
    }
   ],
   "source": [
    "df_cleaned.head(10)"
   ]
  },
  {
   "cell_type": "markdown",
   "metadata": {},
   "source": [
    "<br>"
   ]
  },
  {
   "cell_type": "markdown",
   "metadata": {
    "tags": []
   },
   "source": [
    "### 2. Removing end of line hyphenation\n",
    "Whenever a word in the sentence continues from the end of a line to the beginning of the next line and is joined by a hyphen, the OCRed sentence also contains that hyphen and a space.\n",
    "<br>For example, 'Commander-in-Chief' is OCRed as 'Com- mander-in-Chief'\n",
    "<br>The following code implements regex patterns to remove \"- \" in the text since each hyphenated word is split with \"- \"."
   ]
  },
  {
   "cell_type": "code",
   "execution_count": 26,
   "metadata": {
    "tags": []
   },
   "outputs": [],
   "source": [
    "rgx_match = re.compile('[-][ ]')\n",
    "df_cleaned, errorsDict['EOL hyphenation'] = replaceInDF(rgx_match, df_cleaned, False)"
   ]
  },
  {
   "cell_type": "code",
   "execution_count": 27,
   "metadata": {},
   "outputs": [
    {
     "data": {
      "text/html": [
       "<div>\n",
       "<style scoped>\n",
       "    .dataframe tbody tr th:only-of-type {\n",
       "        vertical-align: middle;\n",
       "    }\n",
       "\n",
       "    .dataframe tbody tr th {\n",
       "        vertical-align: top;\n",
       "    }\n",
       "\n",
       "    .dataframe thead th {\n",
       "        text-align: right;\n",
       "    }\n",
       "</style>\n",
       "<table border=\"1\" class=\"dataframe\">\n",
       "  <thead>\n",
       "    <tr style=\"text-align: right;\">\n",
       "      <th></th>\n",
       "      <th>org_sent</th>\n",
       "      <th>start_page</th>\n",
       "      <th>end_page</th>\n",
       "      <th>removed</th>\n",
       "    </tr>\n",
       "  </thead>\n",
       "  <tbody>\n",
       "    <tr>\n",
       "      <th>0</th>\n",
       "      <td>IK OF THE | GENERAL ASSEMBLY.</td>\n",
       "      <td>35.0</td>\n",
       "      <td>35.0</td>\n",
       "      <td></td>\n",
       "    </tr>\n",
       "    <tr>\n",
       "      <th>1</th>\n",
       "      <td>OF THE STATE OF SOUTH CAROLINA Passed at the R...</td>\n",
       "      <td>35.0</td>\n",
       "      <td>35.0</td>\n",
       "      <td>-</td>\n",
       "    </tr>\n",
       "    <tr>\n",
       "      <th>2</th>\n",
       "      <td>M. B. McSweeney, Governor.</td>\n",
       "      <td>35.0</td>\n",
       "      <td>35.0</td>\n",
       "      <td></td>\n",
       "    </tr>\n",
       "    <tr>\n",
       "      <th>3</th>\n",
       "      <td>Jas. H. TittMan, LieutenantGovernor and ex off...</td>\n",
       "      <td>35.0</td>\n",
       "      <td>35.0</td>\n",
       "      <td>-</td>\n",
       "    </tr>\n",
       "    <tr>\n",
       "      <th>4</th>\n",
       "      <td>W. F STEVENSON, Speaker of the House of Repres...</td>\n",
       "      <td>35.0</td>\n",
       "      <td>35.0</td>\n",
       "      <td></td>\n",
       "    </tr>\n",
       "    <tr>\n",
       "      <th>5</th>\n",
       "      <td>T. C. Hamer, Clerk of the House of Representat...</td>\n",
       "      <td>35.0</td>\n",
       "      <td>35.0</td>\n",
       "      <td></td>\n",
       "    </tr>\n",
       "    <tr>\n",
       "      <th>6</th>\n",
       "      <td>ro, = PART I. GENERAL AND PERMANENT LAWS_ No.</td>\n",
       "      <td>35.0</td>\n",
       "      <td>35.0</td>\n",
       "      <td>-</td>\n",
       "    </tr>\n",
       "    <tr>\n",
       "      <th>7</th>\n",
       "      <td>344. AN ACT to Grant To THE City CouncIL oF CH...</td>\n",
       "      <td>35.0</td>\n",
       "      <td>35.0</td>\n",
       "      <td></td>\n",
       "    </tr>\n",
       "    <tr>\n",
       "      <th>8</th>\n",
       "      <td>Be it enacted by the General Assembly of the S...</td>\n",
       "      <td>35.0</td>\n",
       "      <td>36.0</td>\n",
       "      <td>SECTION 1. ; SEc. 2.; - ; -</td>\n",
       "    </tr>\n",
       "    <tr>\n",
       "      <th>9</th>\n",
       "      <td>The grant herein made is upon the express cond...</td>\n",
       "      <td>36.0</td>\n",
       "      <td>36.0</td>\n",
       "      <td>-</td>\n",
       "    </tr>\n",
       "  </tbody>\n",
       "</table>\n",
       "</div>"
      ],
      "text/plain": [
       "                                            org_sent  start_page  end_page  \\\n",
       "0                      IK OF THE | GENERAL ASSEMBLY.        35.0      35.0   \n",
       "1  OF THE STATE OF SOUTH CAROLINA Passed at the R...        35.0      35.0   \n",
       "2                         M. B. McSweeney, Governor.        35.0      35.0   \n",
       "3  Jas. H. TittMan, LieutenantGovernor and ex off...        35.0      35.0   \n",
       "4  W. F STEVENSON, Speaker of the House of Repres...        35.0      35.0   \n",
       "5  T. C. Hamer, Clerk of the House of Representat...        35.0      35.0   \n",
       "6      ro, = PART I. GENERAL AND PERMANENT LAWS_ No.        35.0      35.0   \n",
       "7  344. AN ACT to Grant To THE City CouncIL oF CH...        35.0      35.0   \n",
       "8  Be it enacted by the General Assembly of the S...        35.0      36.0   \n",
       "9  The grant herein made is upon the express cond...        36.0      36.0   \n",
       "\n",
       "                        removed  \n",
       "0                                \n",
       "1                            -   \n",
       "2                                \n",
       "3                            -   \n",
       "4                                \n",
       "5                                \n",
       "6                            -   \n",
       "7                                \n",
       "8  SECTION 1. ; SEc. 2.; - ; -   \n",
       "9                            -   "
      ]
     },
     "execution_count": 27,
     "metadata": {},
     "output_type": "execute_result"
    }
   ],
   "source": [
    "df_cleaned.head(10)"
   ]
  },
  {
   "cell_type": "markdown",
   "metadata": {},
   "source": [
    "<br>"
   ]
  },
  {
   "cell_type": "markdown",
   "metadata": {
    "tags": []
   },
   "source": [
    "### 3. Relocating incorrect \"Approved ...\" phrases\n",
    "The “Approved…” phrases are incorrectly appended to the start of the next law. They should by appended to the end of the previous law.\n",
    "<br>Phrases might be of the format: \n",
    "- \"Approved the 2oth day of February, A. D. 1901\",\n",
    "- \"Approved December 15th, A. D. 1892.\",\n",
    "- \"Approved December O5th, A. D. 1892.\",\n",
    "- \"Approved December !2th, A. D. 1892.\",\n",
    "- \"Approved December 6Gth, A. D. 1892.\",\n",
    "- \"Approved December 05th, A. D. 1892.\","
   ]
  },
  {
   "cell_type": "markdown",
   "metadata": {},
   "source": [
    "Since phrases might either have the month or the date after the \"Approved\" sub-string, the code below utilized two patterns to account for either case, seperated by '|'.\n",
    "<br>\n",
    "Some notes about the pattern:\n",
    "- `r'[0Oo1Iil!2Z5S6G\\d]{1,2}'` matches the date. Letters are required in this pattern to account for OCR mistakes\n",
    "- `r'(?:th|st|nd|rd)'` matches the prefixes for the dates\n",
    "- `r'[A-Z][a-z]+'` matches the month\n",
    "- `r'.{4}'` matches years\n",
    "- `r'(. |.| |)'` matches the end of phrase spaces and periods"
   ]
  },
  {
   "cell_type": "code",
   "execution_count": 28,
   "metadata": {},
   "outputs": [],
   "source": [
    "rgx_match = re.compile(\n",
    "    r'^Approved the [0Oo1Iil!2Z5S6G\\d]{1,2}(?:th|st|nd|rd) day of [A-Z][a-z]+, A\\. D\\. .{4}(. |.| |)\\b|Approved [A-Z][a-z]+ [0Oo1Iil!2Z5S6G\\d]{1,2}(?:th|st|nd|rd), A\\. D\\. .{4}(. |.| |)\\b')\n",
    "df_cleaned, errorsDict['Approved phrases'] = replaceInDF(rgx_match, df_cleaned, True)"
   ]
  },
  {
   "cell_type": "code",
   "execution_count": 29,
   "metadata": {},
   "outputs": [
    {
     "data": {
      "text/html": [
       "<div>\n",
       "<style scoped>\n",
       "    .dataframe tbody tr th:only-of-type {\n",
       "        vertical-align: middle;\n",
       "    }\n",
       "\n",
       "    .dataframe tbody tr th {\n",
       "        vertical-align: top;\n",
       "    }\n",
       "\n",
       "    .dataframe thead th {\n",
       "        text-align: right;\n",
       "    }\n",
       "</style>\n",
       "<table border=\"1\" class=\"dataframe\">\n",
       "  <thead>\n",
       "    <tr style=\"text-align: right;\">\n",
       "      <th></th>\n",
       "      <th>org_sent</th>\n",
       "      <th>start_page</th>\n",
       "      <th>end_page</th>\n",
       "      <th>removed</th>\n",
       "    </tr>\n",
       "  </thead>\n",
       "  <tbody>\n",
       "    <tr>\n",
       "      <th>0</th>\n",
       "      <td>IK OF THE | GENERAL ASSEMBLY.</td>\n",
       "      <td>35.0</td>\n",
       "      <td>35.0</td>\n",
       "      <td></td>\n",
       "    </tr>\n",
       "    <tr>\n",
       "      <th>1</th>\n",
       "      <td>OF THE STATE OF SOUTH CAROLINA Passed at the R...</td>\n",
       "      <td>35.0</td>\n",
       "      <td>35.0</td>\n",
       "      <td>-</td>\n",
       "    </tr>\n",
       "    <tr>\n",
       "      <th>2</th>\n",
       "      <td>M. B. McSweeney, Governor.</td>\n",
       "      <td>35.0</td>\n",
       "      <td>35.0</td>\n",
       "      <td></td>\n",
       "    </tr>\n",
       "    <tr>\n",
       "      <th>3</th>\n",
       "      <td>Jas. H. TittMan, LieutenantGovernor and ex off...</td>\n",
       "      <td>35.0</td>\n",
       "      <td>35.0</td>\n",
       "      <td>-</td>\n",
       "    </tr>\n",
       "    <tr>\n",
       "      <th>4</th>\n",
       "      <td>W. F STEVENSON, Speaker of the House of Repres...</td>\n",
       "      <td>35.0</td>\n",
       "      <td>35.0</td>\n",
       "      <td></td>\n",
       "    </tr>\n",
       "    <tr>\n",
       "      <th>5</th>\n",
       "      <td>T. C. Hamer, Clerk of the House of Representat...</td>\n",
       "      <td>35.0</td>\n",
       "      <td>35.0</td>\n",
       "      <td></td>\n",
       "    </tr>\n",
       "    <tr>\n",
       "      <th>6</th>\n",
       "      <td>ro, = PART I. GENERAL AND PERMANENT LAWS_ No.</td>\n",
       "      <td>35.0</td>\n",
       "      <td>35.0</td>\n",
       "      <td>-</td>\n",
       "    </tr>\n",
       "    <tr>\n",
       "      <th>7</th>\n",
       "      <td>344. AN ACT to Grant To THE City CouncIL oF CH...</td>\n",
       "      <td>35.0</td>\n",
       "      <td>35.0</td>\n",
       "      <td></td>\n",
       "    </tr>\n",
       "    <tr>\n",
       "      <th>8</th>\n",
       "      <td>Be it enacted by the General Assembly of the S...</td>\n",
       "      <td>35.0</td>\n",
       "      <td>36.0</td>\n",
       "      <td>SECTION 1. ; SEc. 2.; - ; -</td>\n",
       "    </tr>\n",
       "    <tr>\n",
       "      <th>9</th>\n",
       "      <td>The grant herein made is upon the express cond...</td>\n",
       "      <td>36.0</td>\n",
       "      <td>36.0</td>\n",
       "      <td>-</td>\n",
       "    </tr>\n",
       "  </tbody>\n",
       "</table>\n",
       "</div>"
      ],
      "text/plain": [
       "                                            org_sent  start_page  end_page  \\\n",
       "0                      IK OF THE | GENERAL ASSEMBLY.        35.0      35.0   \n",
       "1  OF THE STATE OF SOUTH CAROLINA Passed at the R...        35.0      35.0   \n",
       "2                         M. B. McSweeney, Governor.        35.0      35.0   \n",
       "3  Jas. H. TittMan, LieutenantGovernor and ex off...        35.0      35.0   \n",
       "4  W. F STEVENSON, Speaker of the House of Repres...        35.0      35.0   \n",
       "5  T. C. Hamer, Clerk of the House of Representat...        35.0      35.0   \n",
       "6      ro, = PART I. GENERAL AND PERMANENT LAWS_ No.        35.0      35.0   \n",
       "7  344. AN ACT to Grant To THE City CouncIL oF CH...        35.0      35.0   \n",
       "8  Be it enacted by the General Assembly of the S...        35.0      36.0   \n",
       "9  The grant herein made is upon the express cond...        36.0      36.0   \n",
       "\n",
       "                        removed  \n",
       "0                                \n",
       "1                            -   \n",
       "2                                \n",
       "3                            -   \n",
       "4                                \n",
       "5                                \n",
       "6                            -   \n",
       "7                                \n",
       "8  SECTION 1. ; SEc. 2.; - ; -   \n",
       "9                            -   "
      ]
     },
     "execution_count": 29,
     "metadata": {},
     "output_type": "execute_result"
    }
   ],
   "source": [
    "df_cleaned.head(10)"
   ]
  },
  {
   "cell_type": "markdown",
   "metadata": {},
   "source": [
    "<br>"
   ]
  },
  {
   "cell_type": "markdown",
   "metadata": {
    "tags": []
   },
   "source": [
    "### 4. Removing Act seperators\n",
    "The horizontal lines differentiating one Act from another show up as U+2014 : EM DASH characters (one or multiple) in the OCR.\n",
    "<br>For example, '——- —— AN ACT...' or '—— AN ACT...'"
   ]
  },
  {
   "cell_type": "markdown",
   "metadata": {},
   "source": [
    "Some notes about the pattern:\n",
    "- `r'^—+'` matches one or more consecutive occurrences of the \"—\" character at the start of a line.\n",
    "- `r'(?=\\s*[A-Za-z])'` is a positive lookahead (this part isn't captured) that checks if there is zero or more whitespace characters (\\s*) followed by a letter ([A-Za-z]) after the \"—\" characters."
   ]
  },
  {
   "cell_type": "code",
   "execution_count": 30,
   "metadata": {},
   "outputs": [],
   "source": [
    "rgx_match = re.compile(r'^—+(?=\\s*[A-Za-z])')\n",
    "df_cleaned, errorsDict['Act seperators'] = replaceInDF(rgx_match, df_cleaned, False)"
   ]
  },
  {
   "cell_type": "code",
   "execution_count": 31,
   "metadata": {},
   "outputs": [
    {
     "data": {
      "text/html": [
       "<div>\n",
       "<style scoped>\n",
       "    .dataframe tbody tr th:only-of-type {\n",
       "        vertical-align: middle;\n",
       "    }\n",
       "\n",
       "    .dataframe tbody tr th {\n",
       "        vertical-align: top;\n",
       "    }\n",
       "\n",
       "    .dataframe thead th {\n",
       "        text-align: right;\n",
       "    }\n",
       "</style>\n",
       "<table border=\"1\" class=\"dataframe\">\n",
       "  <thead>\n",
       "    <tr style=\"text-align: right;\">\n",
       "      <th></th>\n",
       "      <th>org_sent</th>\n",
       "      <th>start_page</th>\n",
       "      <th>end_page</th>\n",
       "      <th>removed</th>\n",
       "    </tr>\n",
       "  </thead>\n",
       "  <tbody>\n",
       "    <tr>\n",
       "      <th>0</th>\n",
       "      <td>IK OF THE | GENERAL ASSEMBLY.</td>\n",
       "      <td>35.0</td>\n",
       "      <td>35.0</td>\n",
       "      <td></td>\n",
       "    </tr>\n",
       "    <tr>\n",
       "      <th>1</th>\n",
       "      <td>OF THE STATE OF SOUTH CAROLINA Passed at the R...</td>\n",
       "      <td>35.0</td>\n",
       "      <td>35.0</td>\n",
       "      <td>-</td>\n",
       "    </tr>\n",
       "    <tr>\n",
       "      <th>2</th>\n",
       "      <td>M. B. McSweeney, Governor.</td>\n",
       "      <td>35.0</td>\n",
       "      <td>35.0</td>\n",
       "      <td></td>\n",
       "    </tr>\n",
       "    <tr>\n",
       "      <th>3</th>\n",
       "      <td>Jas. H. TittMan, LieutenantGovernor and ex off...</td>\n",
       "      <td>35.0</td>\n",
       "      <td>35.0</td>\n",
       "      <td>-</td>\n",
       "    </tr>\n",
       "    <tr>\n",
       "      <th>4</th>\n",
       "      <td>W. F STEVENSON, Speaker of the House of Repres...</td>\n",
       "      <td>35.0</td>\n",
       "      <td>35.0</td>\n",
       "      <td></td>\n",
       "    </tr>\n",
       "  </tbody>\n",
       "</table>\n",
       "</div>"
      ],
      "text/plain": [
       "                                            org_sent  start_page  end_page  \\\n",
       "0                      IK OF THE | GENERAL ASSEMBLY.        35.0      35.0   \n",
       "1  OF THE STATE OF SOUTH CAROLINA Passed at the R...        35.0      35.0   \n",
       "2                         M. B. McSweeney, Governor.        35.0      35.0   \n",
       "3  Jas. H. TittMan, LieutenantGovernor and ex off...        35.0      35.0   \n",
       "4  W. F STEVENSON, Speaker of the House of Repres...        35.0      35.0   \n",
       "\n",
       "  removed  \n",
       "0          \n",
       "1      -   \n",
       "2          \n",
       "3      -   \n",
       "4          "
      ]
     },
     "execution_count": 31,
     "metadata": {},
     "output_type": "execute_result"
    }
   ],
   "source": [
    "df_cleaned.head()"
   ]
  },
  {
   "cell_type": "markdown",
   "metadata": {},
   "source": [
    "<br>"
   ]
  },
  {
   "cell_type": "markdown",
   "metadata": {
    "tags": []
   },
   "source": [
    "### 5. Removing incorrect numbers at the start\n",
    "Some numbers are incorrectly left at the start of the sentence from the OCR process. They are rather OCRed, for example, as 2, or 2."
   ]
  },
  {
   "cell_type": "markdown",
   "metadata": {},
   "source": [
    "Some notes about the pattern:\n",
    "- `r'^[0Oo1Iil!2Z5S6G\\d]{1,3}'` matches upto 3 numbers at the start of the string\n",
    "- `r'(. |.| |)'` matches the end of phrase spaces and periods"
   ]
  },
  {
   "cell_type": "code",
   "execution_count": 32,
   "metadata": {},
   "outputs": [],
   "source": [
    "rgx_match = re.compile(r'^[0Oo1Iil!2Z5S6G\\d]{1,3}(. |.| |)')\n",
    "df_cleaned, errorsDict['Incorrect starting nums'] = replaceInDF(rgx_match, df_cleaned, False)"
   ]
  },
  {
   "cell_type": "code",
   "execution_count": 33,
   "metadata": {},
   "outputs": [
    {
     "data": {
      "text/html": [
       "<div>\n",
       "<style scoped>\n",
       "    .dataframe tbody tr th:only-of-type {\n",
       "        vertical-align: middle;\n",
       "    }\n",
       "\n",
       "    .dataframe tbody tr th {\n",
       "        vertical-align: top;\n",
       "    }\n",
       "\n",
       "    .dataframe thead th {\n",
       "        text-align: right;\n",
       "    }\n",
       "</style>\n",
       "<table border=\"1\" class=\"dataframe\">\n",
       "  <thead>\n",
       "    <tr style=\"text-align: right;\">\n",
       "      <th></th>\n",
       "      <th>org_sent</th>\n",
       "      <th>start_page</th>\n",
       "      <th>end_page</th>\n",
       "      <th>removed</th>\n",
       "    </tr>\n",
       "  </thead>\n",
       "  <tbody>\n",
       "    <tr>\n",
       "      <th>0</th>\n",
       "      <td>OF THE | GENERAL ASSEMBLY.</td>\n",
       "      <td>35.0</td>\n",
       "      <td>35.0</td>\n",
       "      <td>IK</td>\n",
       "    </tr>\n",
       "    <tr>\n",
       "      <th>1</th>\n",
       "      <td>THE STATE OF SOUTH CAROLINA Passed at the Regu...</td>\n",
       "      <td>35.0</td>\n",
       "      <td>35.0</td>\n",
       "      <td>- ; OF</td>\n",
       "    </tr>\n",
       "    <tr>\n",
       "      <th>2</th>\n",
       "      <td>M. B. McSweeney, Governor.</td>\n",
       "      <td>35.0</td>\n",
       "      <td>35.0</td>\n",
       "      <td></td>\n",
       "    </tr>\n",
       "    <tr>\n",
       "      <th>3</th>\n",
       "      <td>Jas. H. TittMan, LieutenantGovernor and ex off...</td>\n",
       "      <td>35.0</td>\n",
       "      <td>35.0</td>\n",
       "      <td>-</td>\n",
       "    </tr>\n",
       "    <tr>\n",
       "      <th>4</th>\n",
       "      <td>W. F STEVENSON, Speaker of the House of Repres...</td>\n",
       "      <td>35.0</td>\n",
       "      <td>35.0</td>\n",
       "      <td></td>\n",
       "    </tr>\n",
       "  </tbody>\n",
       "</table>\n",
       "</div>"
      ],
      "text/plain": [
       "                                            org_sent  start_page  end_page  \\\n",
       "0                         OF THE | GENERAL ASSEMBLY.        35.0      35.0   \n",
       "1  THE STATE OF SOUTH CAROLINA Passed at the Regu...        35.0      35.0   \n",
       "2                         M. B. McSweeney, Governor.        35.0      35.0   \n",
       "3  Jas. H. TittMan, LieutenantGovernor and ex off...        35.0      35.0   \n",
       "4  W. F STEVENSON, Speaker of the House of Repres...        35.0      35.0   \n",
       "\n",
       "   removed  \n",
       "0      IK   \n",
       "1  - ; OF   \n",
       "2           \n",
       "3       -   \n",
       "4           "
      ]
     },
     "execution_count": 33,
     "metadata": {},
     "output_type": "execute_result"
    }
   ],
   "source": [
    "df_cleaned.head()"
   ]
  },
  {
   "cell_type": "markdown",
   "metadata": {},
   "source": [
    "<br>"
   ]
  },
  {
   "cell_type": "markdown",
   "metadata": {
    "tags": []
   },
   "source": [
    "### 6. Removing session headers\n",
    "For some volumes, the OCRed text includes information about the session held (which is usually found on the first page).\n",
    "<br>The first valid sentence starts with \"An Acts ...\". So, to remove them, the code removes all sentences until the first valid sentence appears"
   ]
  },
  {
   "cell_type": "code",
   "execution_count": 34,
   "metadata": {
    "scrolled": true,
    "tags": []
   },
   "outputs": [],
   "source": [
    "disregarded = 0  # Count for the number removed\n",
    "\n",
    "for i, sent in enumerate(df_cleaned['org_sent']):\n",
    "\n",
    "    # If the sentence with \"an\" is found, exit the loop\n",
    "    if 'act' in sent.lower().strip():\n",
    "           break\n",
    "    \n",
    "    # Disregard the sentence since it does not start with \"an\"\n",
    "    df_cleaned.drop(index=i, inplace=True)\n",
    "\n",
    "    disregarded += 1"
   ]
  },
  {
   "cell_type": "code",
   "execution_count": 35,
   "metadata": {},
   "outputs": [],
   "source": [
    "# Reset the index\n",
    "df_cleaned.reset_index(drop=True, inplace=True)"
   ]
  },
  {
   "cell_type": "code",
   "execution_count": 36,
   "metadata": {
    "tags": []
   },
   "outputs": [
    {
     "name": "stdout",
     "output_type": "stream",
     "text": [
      "Total number of sentences disregarded: 7.\n"
     ]
    }
   ],
   "source": [
    "print(f\"Total number of sentences disregarded: {disregarded}.\")\n",
    "errorsDict['Session headers'] = disregarded"
   ]
  },
  {
   "cell_type": "code",
   "execution_count": 37,
   "metadata": {},
   "outputs": [],
   "source": [
    "# df_cleaned.head()"
   ]
  },
  {
   "cell_type": "markdown",
   "metadata": {},
   "source": [
    "<br>"
   ]
  },
  {
   "cell_type": "markdown",
   "metadata": {
    "tags": []
   },
   "source": [
    "### 7. Converting to uppercase\n",
    "For some sentence, the OCR process outputs few words as a mix of upper and lower case letters. To help in producing human readable digitized text, the following piece of code detects and changes words to all uppercase.\n",
    "<br>While this step might not be a priority for computational analysis, it is an important step to help improve the readability of the sentences\n",
    "<br>An example, \"AN ACT FoR THE PROTECTION OF THE AIDS TO NAVIGATION EsTABLISHED BY THE AUTHORITY OF THE UNITED STATES LicgHt Hovust BoarD WITHIN THE STATE OF SOUTH CAROLINA.\""
   ]
  },
  {
   "cell_type": "code",
   "execution_count": 38,
   "metadata": {
    "tags": []
   },
   "outputs": [],
   "source": [
    "def upperIfNeeded(sentence, ratio = 0.50):\n",
    "    '''\n",
    "    Convert the given sentence list into an uppercase sentence list\n",
    "    if the ratio of uppercase words (not including the ones with a mix of digits \n",
    "    or words like \"SECTION\") to the total words is greater than a fixed value.\n",
    "    \n",
    "    Parameters\n",
    "    ----------\n",
    "    sentence: str\n",
    "         A str of sentence to check and convert to uppercase\n",
    "        \n",
    "    Returns\n",
    "    -------\n",
    "    sentence: str\n",
    "        If check is approved the return an uppercase version of str.\n",
    "        Else return the sentence.\n",
    "    '''\n",
    "    \n",
    "    count = 0  # A count of the number of already uppercased words\n",
    "    \n",
    "    for word in sentence.split(\" \"):\n",
    "        # Check whether the word consists of only letters,\n",
    "        # has a length greater than 1, is uppercase, and \n",
    "        # isn't \"SECTION\"\n",
    "        if word.isalpha() and len(word) > 1 and word.isupper() and word != \"SECTION\":\n",
    "            count += 1\n",
    "\n",
    "    # If the count to words ratio is greater\n",
    "    if (count/len(sentence.split(\" \")) > ratio):\n",
    "        # Return all uppercase words\n",
    "        return sentence.upper()        \n",
    "    \n",
    "    # Else, return the original sentence list\n",
    "    return sentence"
   ]
  },
  {
   "cell_type": "code",
   "execution_count": 39,
   "metadata": {
    "tags": []
   },
   "outputs": [],
   "source": [
    "# Apply the above function to each sentence in 'org_sent'\n",
    "# And store the output a new column named 'modified'\n",
    "df_cleaned['modified'] = df_cleaned.apply(lambda x: upperIfNeeded(x['org_sent']), axis=1)"
   ]
  },
  {
   "cell_type": "code",
   "execution_count": 40,
   "metadata": {
    "tags": []
   },
   "outputs": [],
   "source": [
    "# Check if the original sentence has been converted to uppercase,\n",
    "# and if it has, then add a boolean in a new column named 'flag'\n",
    "\n",
    "df_cleaned['flag'] = where(df_cleaned['org_sent'] != df_cleaned['modified'], True, False)"
   ]
  },
  {
   "cell_type": "code",
   "execution_count": 41,
   "metadata": {
    "scrolled": true,
    "tags": []
   },
   "outputs": [
    {
     "data": {
      "text/html": [
       "<div>\n",
       "<style scoped>\n",
       "    .dataframe tbody tr th:only-of-type {\n",
       "        vertical-align: middle;\n",
       "    }\n",
       "\n",
       "    .dataframe tbody tr th {\n",
       "        vertical-align: top;\n",
       "    }\n",
       "\n",
       "    .dataframe thead th {\n",
       "        text-align: right;\n",
       "    }\n",
       "</style>\n",
       "<table border=\"1\" class=\"dataframe\">\n",
       "  <thead>\n",
       "    <tr style=\"text-align: right;\">\n",
       "      <th></th>\n",
       "      <th>org_sent</th>\n",
       "      <th>start_page</th>\n",
       "      <th>end_page</th>\n",
       "      <th>removed</th>\n",
       "      <th>modified</th>\n",
       "      <th>flag</th>\n",
       "    </tr>\n",
       "  </thead>\n",
       "  <tbody>\n",
       "    <tr>\n",
       "      <th>0</th>\n",
       "      <td>AN ACT to Grant To THE City CouncIL oF CHARLES...</td>\n",
       "      <td>35.0</td>\n",
       "      <td>35.0</td>\n",
       "      <td>344.</td>\n",
       "      <td>AN ACT TO GRANT TO THE CITY COUNCIL OF CHARLES...</td>\n",
       "      <td>True</td>\n",
       "    </tr>\n",
       "    <tr>\n",
       "      <th>8</th>\n",
       "      <td>AN ACT VacatinG BEACH AVENUE, IN THE TOWN OF M...</td>\n",
       "      <td>36.0</td>\n",
       "      <td>36.0</td>\n",
       "      <td>- ; - ; 345.</td>\n",
       "      <td>AN ACT VACATING BEACH AVENUE, IN THE TOWN OF M...</td>\n",
       "      <td>True</td>\n",
       "    </tr>\n",
       "    <tr>\n",
       "      <th>13</th>\n",
       "      <td>AN ACT To Give CoNSENT BY THE STATE OF SOUTH C...</td>\n",
       "      <td>37.0</td>\n",
       "      <td>37.0</td>\n",
       "      <td>346.</td>\n",
       "      <td>AN ACT TO GIVE CONSENT BY THE STATE OF SOUTH C...</td>\n",
       "      <td>True</td>\n",
       "    </tr>\n",
       "    <tr>\n",
       "      <th>22</th>\n",
       "      <td>AN ACT ‘vor THE APPORTIONMENT OF REPRESENTATIV...</td>\n",
       "      <td>38.0</td>\n",
       "      <td>39.0</td>\n",
       "      <td>Approved the 21st day of February, A. D. rgor.</td>\n",
       "      <td>AN ACT ‘VOR THE APPORTIONMENT OF REPRESENTATIV...</td>\n",
       "      <td>True</td>\n",
       "    </tr>\n",
       "    <tr>\n",
       "      <th>41</th>\n",
       "      <td>AN ACT to ProvipE UNIFORMITY AND EQUALITY IN T...</td>\n",
       "      <td>41.0</td>\n",
       "      <td>41.0</td>\n",
       "      <td>NIES.; - ; - ; - ; 350.</td>\n",
       "      <td>AN ACT TO PROVIPE UNIFORMITY AND EQUALITY IN T...</td>\n",
       "      <td>True</td>\n",
       "    </tr>\n",
       "    <tr>\n",
       "      <th>...</th>\n",
       "      <td>...</td>\n",
       "      <td>...</td>\n",
       "      <td>...</td>\n",
       "      <td>...</td>\n",
       "      <td>...</td>\n",
       "      <td>...</td>\n",
       "    </tr>\n",
       "    <tr>\n",
       "      <th>1815</th>\n",
       "      <td>N ACT to AuTuHorRIZE AND REQUIRE A RE-RETURN A...</td>\n",
       "      <td>286.0</td>\n",
       "      <td>287.0</td>\n",
       "      <td>- ; Approved the 20th day of February, A. D. 1...</td>\n",
       "      <td>N ACT TO AUTUHORRIZE AND REQUIRE A RE-RETURN A...</td>\n",
       "      <td>True</td>\n",
       "    </tr>\n",
       "    <tr>\n",
       "      <th>1827</th>\n",
       "      <td>AN ACT To Seti CertaAIn Property TO SARAH PENN...</td>\n",
       "      <td>288.0</td>\n",
       "      <td>288.0</td>\n",
       "      <td>495.</td>\n",
       "      <td>AN ACT TO SETI CERTAAIN PROPERTY TO SARAH PENN...</td>\n",
       "      <td>True</td>\n",
       "    </tr>\n",
       "    <tr>\n",
       "      <th>1833</th>\n",
       "      <td>AN ACT to PRovipE FOR THE ERECTION OF A Jatt F...</td>\n",
       "      <td>289.0</td>\n",
       "      <td>289.0</td>\n",
       "      <td>- ; - ; - ; 496.</td>\n",
       "      <td>AN ACT TO PROVIPE FOR THE ERECTION OF A JATT F...</td>\n",
       "      <td>True</td>\n",
       "    </tr>\n",
       "    <tr>\n",
       "      <th>1848</th>\n",
       "      <td>AN ACT to AvuTHOoRIZE AND EMPOWER Twin City Po...</td>\n",
       "      <td>290.0</td>\n",
       "      <td>290.0</td>\n",
       "      <td>- ; - ; 497.</td>\n",
       "      <td>AN ACT TO AVUTHOORIZE AND EMPOWER TWIN CITY PO...</td>\n",
       "      <td>True</td>\n",
       "    </tr>\n",
       "    <tr>\n",
       "      <th>1851</th>\n",
       "      <td>AN ACT To EMPOWER AND AUTHORIZE THE CouNnTY Bo...</td>\n",
       "      <td>291.0</td>\n",
       "      <td>292.0</td>\n",
       "      <td>- ; Approved the 2oth day of February, A. D. 1...</td>\n",
       "      <td>AN ACT TO EMPOWER AND AUTHORIZE THE COUNNTY BO...</td>\n",
       "      <td>True</td>\n",
       "    </tr>\n",
       "  </tbody>\n",
       "</table>\n",
       "<p>122 rows × 6 columns</p>\n",
       "</div>"
      ],
      "text/plain": [
       "                                               org_sent  start_page  end_page  \\\n",
       "0     AN ACT to Grant To THE City CouncIL oF CHARLES...        35.0      35.0   \n",
       "8     AN ACT VacatinG BEACH AVENUE, IN THE TOWN OF M...        36.0      36.0   \n",
       "13    AN ACT To Give CoNSENT BY THE STATE OF SOUTH C...        37.0      37.0   \n",
       "22    AN ACT ‘vor THE APPORTIONMENT OF REPRESENTATIV...        38.0      39.0   \n",
       "41    AN ACT to ProvipE UNIFORMITY AND EQUALITY IN T...        41.0      41.0   \n",
       "...                                                 ...         ...       ...   \n",
       "1815  N ACT to AuTuHorRIZE AND REQUIRE A RE-RETURN A...       286.0     287.0   \n",
       "1827  AN ACT To Seti CertaAIn Property TO SARAH PENN...       288.0     288.0   \n",
       "1833  AN ACT to PRovipE FOR THE ERECTION OF A Jatt F...       289.0     289.0   \n",
       "1848  AN ACT to AvuTHOoRIZE AND EMPOWER Twin City Po...       290.0     290.0   \n",
       "1851  AN ACT To EMPOWER AND AUTHORIZE THE CouNnTY Bo...       291.0     292.0   \n",
       "\n",
       "                                                removed  \\\n",
       "0                                                 344.    \n",
       "8                                         - ; - ; 345.    \n",
       "13                                                346.    \n",
       "22      Approved the 21st day of February, A. D. rgor.    \n",
       "41                             NIES.; - ; - ; - ; 350.    \n",
       "...                                                 ...   \n",
       "1815  - ; Approved the 20th day of February, A. D. 1...   \n",
       "1827                                              495.    \n",
       "1833                                  - ; - ; - ; 496.    \n",
       "1848                                      - ; - ; 497.    \n",
       "1851  - ; Approved the 2oth day of February, A. D. 1...   \n",
       "\n",
       "                                               modified  flag  \n",
       "0     AN ACT TO GRANT TO THE CITY COUNCIL OF CHARLES...  True  \n",
       "8     AN ACT VACATING BEACH AVENUE, IN THE TOWN OF M...  True  \n",
       "13    AN ACT TO GIVE CONSENT BY THE STATE OF SOUTH C...  True  \n",
       "22    AN ACT ‘VOR THE APPORTIONMENT OF REPRESENTATIV...  True  \n",
       "41    AN ACT TO PROVIPE UNIFORMITY AND EQUALITY IN T...  True  \n",
       "...                                                 ...   ...  \n",
       "1815  N ACT TO AUTUHORRIZE AND REQUIRE A RE-RETURN A...  True  \n",
       "1827  AN ACT TO SETI CERTAAIN PROPERTY TO SARAH PENN...  True  \n",
       "1833  AN ACT TO PROVIPE FOR THE ERECTION OF A JATT F...  True  \n",
       "1848  AN ACT TO AVUTHOORIZE AND EMPOWER TWIN CITY PO...  True  \n",
       "1851  AN ACT TO EMPOWER AND AUTHORIZE THE COUNNTY BO...  True  \n",
       "\n",
       "[122 rows x 6 columns]"
      ]
     },
     "execution_count": 41,
     "metadata": {},
     "output_type": "execute_result"
    }
   ],
   "source": [
    "# View the rows where the sentence has been converted to uppercase\n",
    "df_cleaned[df_cleaned['flag'] == True]"
   ]
  },
  {
   "cell_type": "markdown",
   "metadata": {},
   "source": [
    "<b>Note:</b> If the above table is empty, it might help in decreasing the ratio parameter in `upperIfNeeded` above."
   ]
  },
  {
   "cell_type": "code",
   "execution_count": 42,
   "metadata": {
    "tags": []
   },
   "outputs": [
    {
     "name": "stdout",
     "output_type": "stream",
     "text": [
      "Total number of sentences changed to uppercase: 122.\n"
     ]
    }
   ],
   "source": [
    "if not df_cleaned[df_cleaned['flag'] == True].empty:\n",
    "    uppercased = df_cleaned['flag'].value_counts()[True]\n",
    "else:\n",
    "    uppercased = 0\n",
    "print(f\"Total number of sentences changed to uppercase: {uppercased}.\")\n",
    "\n",
    "errorsDict['Uppercased'] = uppercased"
   ]
  },
  {
   "cell_type": "markdown",
   "metadata": {},
   "source": [
    "If you are satisfied with the result and number of the uppercase changes, then replace the 'org_sent' with the 'modified' column and remove the 'flag' column."
   ]
  },
  {
   "cell_type": "code",
   "execution_count": 43,
   "metadata": {
    "tags": []
   },
   "outputs": [],
   "source": [
    "df_cleaned.drop(['org_sent', 'flag'], axis=1, inplace=True)\n",
    "df_cleaned.rename(columns={'modified': 'org_sent'}, inplace=True)"
   ]
  },
  {
   "cell_type": "code",
   "execution_count": 44,
   "metadata": {
    "tags": []
   },
   "outputs": [],
   "source": [
    "# Rearrange columns\n",
    "cols = df_cleaned.columns.tolist()\n",
    "cols = cols[-1:] + cols[:-1]\n",
    "df_cleaned = df_cleaned[cols]"
   ]
  },
  {
   "cell_type": "markdown",
   "metadata": {},
   "source": [
    "Otherwise, you can change the ratio parameter in `upperIfNeeded` function to either increase the number (if you think sentences which shouldn't be uppercased are being uppercased) or decrease (if you think more sentences could be uppercased)."
   ]
  },
  {
   "cell_type": "markdown",
   "metadata": {},
   "source": [
    "<br>"
   ]
  },
  {
   "cell_type": "markdown",
   "metadata": {
    "tags": []
   },
   "source": [
    "### Results\n",
    "<b>Note:</b> The error fixing above is not perfect and some errors are still present in the dataframe after performing these operations.\n",
    "Also, some errors are too random to match and search using a pattern, and are still present in the dataframe.\n",
    "<br>The output below shows the number of errors corrected for this volume"
   ]
  },
  {
   "cell_type": "code",
   "execution_count": 45,
   "metadata": {
    "tags": []
   },
   "outputs": [
    {
     "data": {
      "text/plain": [
       "{'section identifiers': 528,\n",
       " 'EOL hyphenation': 1826,\n",
       " 'Approved phrases': 114,\n",
       " 'Act seperators': 4,\n",
       " 'Incorrect starting nums': 340,\n",
       " 'Session headers': 7,\n",
       " 'Uppercased': 122}"
      ]
     },
     "execution_count": 45,
     "metadata": {},
     "output_type": "execute_result"
    }
   ],
   "source": [
    "errorsDict"
   ]
  },
  {
   "cell_type": "markdown",
   "metadata": {},
   "source": [
    "<br>"
   ]
  },
  {
   "cell_type": "markdown",
   "metadata": {
    "tags": []
   },
   "source": [
    "## E. Character length\n",
    "Add the character length feature. This is added here because the lengths of the sentences might have changed during the cleaning process above."
   ]
  },
  {
   "cell_type": "code",
   "execution_count": 46,
   "metadata": {
    "tags": []
   },
   "outputs": [],
   "source": [
    "df_cleaned[\"length\"] = df_cleaned['org_sent'].str.len()"
   ]
  },
  {
   "cell_type": "code",
   "execution_count": 47,
   "metadata": {
    "tags": []
   },
   "outputs": [
    {
     "data": {
      "text/html": [
       "<div>\n",
       "<style scoped>\n",
       "    .dataframe tbody tr th:only-of-type {\n",
       "        vertical-align: middle;\n",
       "    }\n",
       "\n",
       "    .dataframe tbody tr th {\n",
       "        vertical-align: top;\n",
       "    }\n",
       "\n",
       "    .dataframe thead th {\n",
       "        text-align: right;\n",
       "    }\n",
       "</style>\n",
       "<table border=\"1\" class=\"dataframe\">\n",
       "  <thead>\n",
       "    <tr style=\"text-align: right;\">\n",
       "      <th></th>\n",
       "      <th>org_sent</th>\n",
       "      <th>start_page</th>\n",
       "      <th>end_page</th>\n",
       "      <th>removed</th>\n",
       "      <th>length</th>\n",
       "    </tr>\n",
       "  </thead>\n",
       "  <tbody>\n",
       "    <tr>\n",
       "      <th>0</th>\n",
       "      <td>AN ACT TO GRANT TO THE CITY COUNCIL OF CHARLES...</td>\n",
       "      <td>35.0</td>\n",
       "      <td>35.0</td>\n",
       "      <td>344.</td>\n",
       "      <td>179</td>\n",
       "    </tr>\n",
       "    <tr>\n",
       "      <th>1</th>\n",
       "      <td>Be it enacted by the General Assembly of the S...</td>\n",
       "      <td>35.0</td>\n",
       "      <td>36.0</td>\n",
       "      <td>SECTION 1. ; SEc. 2.; - ; -</td>\n",
       "      <td>888</td>\n",
       "    </tr>\n",
       "    <tr>\n",
       "      <th>2</th>\n",
       "      <td>The grant herein made is upon the express cond...</td>\n",
       "      <td>36.0</td>\n",
       "      <td>36.0</td>\n",
       "      <td>-</td>\n",
       "      <td>287</td>\n",
       "    </tr>\n",
       "    <tr>\n",
       "      <th>3</th>\n",
       "      <td>c. 3.</td>\n",
       "      <td>36.0</td>\n",
       "      <td>36.0</td>\n",
       "      <td>Sr</td>\n",
       "      <td>5</td>\n",
       "    </tr>\n",
       "    <tr>\n",
       "      <th>4</th>\n",
       "      <td>That in case of the failure of the United Stat...</td>\n",
       "      <td>36.0</td>\n",
       "      <td>36.0</td>\n",
       "      <td></td>\n",
       "      <td>269</td>\n",
       "    </tr>\n",
       "  </tbody>\n",
       "</table>\n",
       "</div>"
      ],
      "text/plain": [
       "                                            org_sent  start_page  end_page  \\\n",
       "0  AN ACT TO GRANT TO THE CITY COUNCIL OF CHARLES...        35.0      35.0   \n",
       "1  Be it enacted by the General Assembly of the S...        35.0      36.0   \n",
       "2  The grant herein made is upon the express cond...        36.0      36.0   \n",
       "3                                              c. 3.        36.0      36.0   \n",
       "4  That in case of the failure of the United Stat...        36.0      36.0   \n",
       "\n",
       "                        removed  length  \n",
       "0                         344.      179  \n",
       "1  SECTION 1. ; SEc. 2.; - ; -      888  \n",
       "2                            -      287  \n",
       "3                            Sr       5  \n",
       "4                                   269  "
      ]
     },
     "execution_count": 47,
     "metadata": {},
     "output_type": "execute_result"
    }
   ],
   "source": [
    "df_cleaned.head()"
   ]
  },
  {
   "cell_type": "markdown",
   "metadata": {},
   "source": [
    "Get rid of sentences with a low number of characters as they might not form meaningful sentences.\n",
    "<br>However, first, get the statistics on the length column to avoid removing meaningful sentences."
   ]
  },
  {
   "cell_type": "code",
   "execution_count": 48,
   "metadata": {},
   "outputs": [
    {
     "data": {
      "text/plain": [
       "count    1857.000000\n",
       "mean      291.592892\n",
       "std       374.813503\n",
       "min         0.000000\n",
       "25%         9.000000\n",
       "50%       187.000000\n",
       "75%       390.000000\n",
       "max      3608.000000\n",
       "Name: length, dtype: float64"
      ]
     },
     "execution_count": 48,
     "metadata": {},
     "output_type": "execute_result"
    }
   ],
   "source": [
    "# Get the statistics for the length column\n",
    "df_cleaned[\"length\"].describe()"
   ]
  },
  {
   "cell_type": "code",
   "execution_count": 49,
   "metadata": {},
   "outputs": [
    {
     "data": {
      "image/png": "[encoded data removed]",
      "text/plain": [
       "<Figure size 432x288 with 2 Axes>"
      ]
     },
     "metadata": {
      "needs_background": "light"
     },
     "output_type": "display_data"
    }
   ],
   "source": [
    "# Plot a histogram for that column\n",
    "fig, axes = plt.subplots(1, 2)\n",
    "df_cleaned.hist(column=\"length\", ax=axes[0])\n",
    "axes[0].set_title('Character lengths')\n",
    "axes[0].set(xlabel=\"Character length of the sentences\", ylabel=\"Frequency\")\n",
    "\n",
    "df_cleaned.hist(column=\"length\", ax=axes[1])\n",
    "\n",
    "axes[1].set_title('Character lengths (zoomed)')\n",
    "axes[1].set(xlabel=\"Character length of the sentences\", ylabel=\"Frequency\", xlim = [0, 1000])\n",
    "fig.tight_layout()"
   ]
  },
  {
   "cell_type": "markdown",
   "metadata": {},
   "source": [
    "<br>\n",
    "Define a cutoff for the sentences. All sentences belows this length will be removed"
   ]
  },
  {
   "cell_type": "code",
   "execution_count": 50,
   "metadata": {},
   "outputs": [],
   "source": [
    "cut_len = 30"
   ]
  },
  {
   "cell_type": "markdown",
   "metadata": {},
   "source": [
    "Create a smaller dataframe, and export it to csv, that only contains the short length sentences.\n",
    "Check the csv and change the length condition accordingly."
   ]
  },
  {
   "cell_type": "code",
   "execution_count": 51,
   "metadata": {},
   "outputs": [],
   "source": [
    "# testing_df = df[df['length'] < cut_len]\n",
    "# testing_df = testing_df.sort_values(by=['length'], ascending=False)"
   ]
  },
  {
   "cell_type": "code",
   "execution_count": 52,
   "metadata": {
    "tags": []
   },
   "outputs": [],
   "source": [
    "# testing_df.head(10)"
   ]
  },
  {
   "cell_type": "code",
   "execution_count": 53,
   "metadata": {},
   "outputs": [],
   "source": [
    "# # Uncomment the following line of code to create the csv which contains the short length sentences.\n",
    "# testing_df.to_csv(f\"{year}_len_{cut_len}_testing.csv\", index=False)"
   ]
  },
  {
   "cell_type": "markdown",
   "metadata": {},
   "source": [
    "<br>\n",
    "Once, the length is decided, update the dataframe with sentences greater that the length"
   ]
  },
  {
   "cell_type": "code",
   "execution_count": 54,
   "metadata": {
    "tags": []
   },
   "outputs": [],
   "source": [
    "# Initial length\n",
    "ilen = df_cleaned.shape[0]"
   ]
  },
  {
   "cell_type": "code",
   "execution_count": 55,
   "metadata": {},
   "outputs": [
    {
     "name": "stdout",
     "output_type": "stream",
     "text": [
      "Length of the cleaned dataframe:  1359\n",
      "Reduction of about 26.82%\n"
     ]
    }
   ],
   "source": [
    "df_cleaned = df_cleaned[ df_cleaned[\"length\"] > cut_len]\n",
    "print(\"Length of the cleaned dataframe: \", df_cleaned.shape[0])\n",
    "print(\"Reduction of about {:.2f}%\".format( (1 - df_cleaned.shape[0]/ilen) * 100))"
   ]
  },
  {
   "cell_type": "code",
   "execution_count": 56,
   "metadata": {},
   "outputs": [],
   "source": [
    "df_cleaned.reset_index(drop=True, inplace=True)\n",
    "df_cleaned.index.name = \"index\"\n",
    "\n",
    "# Rearrange columns\n",
    "cols = df_cleaned.columns.tolist()\n",
    "cols = [cols[0]] + cols[-1:] + cols[1:-1]\n",
    "df_cleaned = df_cleaned[cols]"
   ]
  },
  {
   "cell_type": "code",
   "execution_count": 57,
   "metadata": {},
   "outputs": [
    {
     "data": {
      "text/html": [
       "<div>\n",
       "<style scoped>\n",
       "    .dataframe tbody tr th:only-of-type {\n",
       "        vertical-align: middle;\n",
       "    }\n",
       "\n",
       "    .dataframe tbody tr th {\n",
       "        vertical-align: top;\n",
       "    }\n",
       "\n",
       "    .dataframe thead th {\n",
       "        text-align: right;\n",
       "    }\n",
       "</style>\n",
       "<table border=\"1\" class=\"dataframe\">\n",
       "  <thead>\n",
       "    <tr style=\"text-align: right;\">\n",
       "      <th></th>\n",
       "      <th>org_sent</th>\n",
       "      <th>length</th>\n",
       "      <th>start_page</th>\n",
       "      <th>end_page</th>\n",
       "      <th>removed</th>\n",
       "    </tr>\n",
       "    <tr>\n",
       "      <th>index</th>\n",
       "      <th></th>\n",
       "      <th></th>\n",
       "      <th></th>\n",
       "      <th></th>\n",
       "      <th></th>\n",
       "    </tr>\n",
       "  </thead>\n",
       "  <tbody>\n",
       "    <tr>\n",
       "      <th>0</th>\n",
       "      <td>AN ACT TO GRANT TO THE CITY COUNCIL OF CHARLES...</td>\n",
       "      <td>179</td>\n",
       "      <td>35.0</td>\n",
       "      <td>35.0</td>\n",
       "      <td>344.</td>\n",
       "    </tr>\n",
       "    <tr>\n",
       "      <th>1</th>\n",
       "      <td>Be it enacted by the General Assembly of the S...</td>\n",
       "      <td>888</td>\n",
       "      <td>35.0</td>\n",
       "      <td>36.0</td>\n",
       "      <td>SECTION 1. ; SEc. 2.; - ; -</td>\n",
       "    </tr>\n",
       "    <tr>\n",
       "      <th>2</th>\n",
       "      <td>The grant herein made is upon the express cond...</td>\n",
       "      <td>287</td>\n",
       "      <td>36.0</td>\n",
       "      <td>36.0</td>\n",
       "      <td>-</td>\n",
       "    </tr>\n",
       "    <tr>\n",
       "      <th>3</th>\n",
       "      <td>That in case of the failure of the United Stat...</td>\n",
       "      <td>269</td>\n",
       "      <td>36.0</td>\n",
       "      <td>36.0</td>\n",
       "      <td></td>\n",
       "    </tr>\n",
       "    <tr>\n",
       "      <th>4</th>\n",
       "      <td>That this Act shall take effect immediately up...</td>\n",
       "      <td>125</td>\n",
       "      <td>36.0</td>\n",
       "      <td>36.0</td>\n",
       "      <td></td>\n",
       "    </tr>\n",
       "    <tr>\n",
       "      <th>...</th>\n",
       "      <td>...</td>\n",
       "      <td>...</td>\n",
       "      <td>...</td>\n",
       "      <td>...</td>\n",
       "      <td>...</td>\n",
       "    </tr>\n",
       "    <tr>\n",
       "      <th>1354</th>\n",
       "      <td>nds adjacent to said River; And whereas by the...</td>\n",
       "      <td>1780</td>\n",
       "      <td>291.0</td>\n",
       "      <td>291.0</td>\n",
       "      <td>- ; - ; - ; - ; - ; - ; - ; - ; la</td>\n",
       "    </tr>\n",
       "    <tr>\n",
       "      <th>1355</th>\n",
       "      <td>AN ACT TO EMPOWER AND AUTHORIZE THE COUNNTY BO...</td>\n",
       "      <td>193</td>\n",
       "      <td>291.0</td>\n",
       "      <td>292.0</td>\n",
       "      <td>- ; Approved the 2oth day of February, A. D. 1...</td>\n",
       "    </tr>\n",
       "    <tr>\n",
       "      <th>1356</th>\n",
       "      <td>Be it enacted by the General Assembly of the S...</td>\n",
       "      <td>817</td>\n",
       "      <td>292.0</td>\n",
       "      <td>292.0</td>\n",
       "      <td>SECTION 1. ; - ; - ; - ; -</td>\n",
       "    </tr>\n",
       "    <tr>\n",
       "      <th>1357</th>\n",
       "      <td>That the proceeds of said levy of onehalf mill...</td>\n",
       "      <td>491</td>\n",
       "      <td>292.0</td>\n",
       "      <td>292.0</td>\n",
       "      <td>-</td>\n",
       "    </tr>\n",
       "    <tr>\n",
       "      <th>1358</th>\n",
       "      <td>That the Commissioners of the Sinking Fund of ...</td>\n",
       "      <td>390</td>\n",
       "      <td>292.0</td>\n",
       "      <td>292.0</td>\n",
       "      <td></td>\n",
       "    </tr>\n",
       "  </tbody>\n",
       "</table>\n",
       "<p>1359 rows × 5 columns</p>\n",
       "</div>"
      ],
      "text/plain": [
       "                                                org_sent  length  start_page  \\\n",
       "index                                                                          \n",
       "0      AN ACT TO GRANT TO THE CITY COUNCIL OF CHARLES...     179        35.0   \n",
       "1      Be it enacted by the General Assembly of the S...     888        35.0   \n",
       "2      The grant herein made is upon the express cond...     287        36.0   \n",
       "3      That in case of the failure of the United Stat...     269        36.0   \n",
       "4      That this Act shall take effect immediately up...     125        36.0   \n",
       "...                                                  ...     ...         ...   \n",
       "1354   nds adjacent to said River; And whereas by the...    1780       291.0   \n",
       "1355   AN ACT TO EMPOWER AND AUTHORIZE THE COUNNTY BO...     193       291.0   \n",
       "1356   Be it enacted by the General Assembly of the S...     817       292.0   \n",
       "1357   That the proceeds of said levy of onehalf mill...     491       292.0   \n",
       "1358   That the Commissioners of the Sinking Fund of ...     390       292.0   \n",
       "\n",
       "       end_page                                            removed  \n",
       "index                                                               \n",
       "0          35.0                                              344.   \n",
       "1          36.0                       SECTION 1. ; SEc. 2.; - ; -   \n",
       "2          36.0                                                 -   \n",
       "3          36.0                                                     \n",
       "4          36.0                                                     \n",
       "...         ...                                                ...  \n",
       "1354      291.0                 - ; - ; - ; - ; - ; - ; - ; - ; la  \n",
       "1355      292.0  - ; Approved the 2oth day of February, A. D. 1...  \n",
       "1356      292.0                        SECTION 1. ; - ; - ; - ; -   \n",
       "1357      292.0                                                 -   \n",
       "1358      292.0                                                     \n",
       "\n",
       "[1359 rows x 5 columns]"
      ]
     },
     "execution_count": 57,
     "metadata": {},
     "output_type": "execute_result"
    }
   ],
   "source": [
    "df_cleaned"
   ]
  },
  {
   "cell_type": "markdown",
   "metadata": {},
   "source": [
    "<br>"
   ]
  },
  {
   "cell_type": "markdown",
   "metadata": {
    "tags": []
   },
   "source": [
    "## F. Adding features\n",
    "The features added below are:\n",
    "- an id: a concatenation of the year and index number\n",
    "- whether the sentence is an Act or a Joint\n",
    "- the state that the law originates from"
   ]
  },
  {
   "cell_type": "markdown",
   "metadata": {},
   "source": [
    "<br>"
   ]
  },
  {
   "cell_type": "markdown",
   "metadata": {},
   "source": [
    "### 1. Adding ID"
   ]
  },
  {
   "cell_type": "code",
   "execution_count": 58,
   "metadata": {},
   "outputs": [],
   "source": [
    "def addPrefix(fileName: str, nameLen: int) -> str:\n",
    "    '''\n",
    "    Since the fileNames from the excel parsing could be any of any length\n",
    "    (ranging from 1-3), this function appends a string of 0's to the \n",
    "    start of the input so that it is the specified nameLen lengths long.\n",
    "    \n",
    "    Parameters\n",
    "    ----------\n",
    "    fileName : str\n",
    "        The file name that needs to be prefixed\n",
    "        The fileName shouldn't have a prefix, such as '.tiff'\n",
    "    nameLen : int\n",
    "        The length of the expected name of the file\n",
    "        Ex. '00034.jpg' would have length of 5\n",
    "        so nameLen should be 5\n",
    "\n",
    "    Returns\n",
    "    -------\n",
    "    str\n",
    "        A length nameLen file name (prefixed with 0's)\n",
    "    '''\n",
    "    \n",
    "    # prefix_length = nameLen - len(fileName)\n",
    "    prefix = \"0\" * (nameLen - len(fileName))\n",
    "    \n",
    "    return prefix + fileName"
   ]
  },
  {
   "cell_type": "code",
   "execution_count": 59,
   "metadata": {},
   "outputs": [],
   "source": [
    "df_cleaned.reset_index(inplace=True)\n",
    "df_cleaned.rename(columns={\"index\" : \"id\"}, inplace=True)"
   ]
  },
  {
   "cell_type": "code",
   "execution_count": 60,
   "metadata": {
    "tags": []
   },
   "outputs": [],
   "source": [
    "# The length of the id of the last row in the dataframe, which is used to assess how many 0's will be prefixed to the other ids\n",
    "maxNumLength = len(str(df_cleaned.last_valid_index()))\n",
    "\n",
    "df_cleaned['id'] = df_cleaned.apply(lambda x: str(year) + \"_\" + addPrefix( str(x['id']), maxNumLength ), axis=1)"
   ]
  },
  {
   "cell_type": "markdown",
   "metadata": {},
   "source": [
    "<br>"
   ]
  },
  {
   "cell_type": "markdown",
   "metadata": {},
   "source": [
    "### 2. Adding the remaining identifiers"
   ]
  },
  {
   "cell_type": "code",
   "execution_count": 61,
   "metadata": {},
   "outputs": [],
   "source": [
    "df_cleaned.insert(1, 'law_type', 'Acts')\n",
    "df_cleaned.insert(2, 'state', 'SOUTH CAROLINA')"
   ]
  },
  {
   "cell_type": "markdown",
   "metadata": {},
   "source": [
    "<br>"
   ]
  },
  {
   "cell_type": "markdown",
   "metadata": {},
   "source": [
    "## Exporting"
   ]
  },
  {
   "cell_type": "code",
   "execution_count": 62,
   "metadata": {},
   "outputs": [
    {
     "data": {
      "text/html": [
       "<div>\n",
       "<style scoped>\n",
       "    .dataframe tbody tr th:only-of-type {\n",
       "        vertical-align: middle;\n",
       "    }\n",
       "\n",
       "    .dataframe tbody tr th {\n",
       "        vertical-align: top;\n",
       "    }\n",
       "\n",
       "    .dataframe thead th {\n",
       "        text-align: right;\n",
       "    }\n",
       "</style>\n",
       "<table border=\"1\" class=\"dataframe\">\n",
       "  <thead>\n",
       "    <tr style=\"text-align: right;\">\n",
       "      <th></th>\n",
       "      <th>id</th>\n",
       "      <th>law_type</th>\n",
       "      <th>state</th>\n",
       "      <th>sentence</th>\n",
       "      <th>length</th>\n",
       "      <th>start_page</th>\n",
       "      <th>end_page</th>\n",
       "    </tr>\n",
       "  </thead>\n",
       "  <tbody>\n",
       "    <tr>\n",
       "      <th>0</th>\n",
       "      <td>1901_0000</td>\n",
       "      <td>Acts</td>\n",
       "      <td>SOUTH CAROLINA</td>\n",
       "      <td>AN ACT TO GRANT TO THE CITY COUNCIL OF CHARLES...</td>\n",
       "      <td>179</td>\n",
       "      <td>35.0</td>\n",
       "      <td>35.0</td>\n",
       "    </tr>\n",
       "    <tr>\n",
       "      <th>1</th>\n",
       "      <td>1901_0001</td>\n",
       "      <td>Acts</td>\n",
       "      <td>SOUTH CAROLINA</td>\n",
       "      <td>Be it enacted by the General Assembly of the S...</td>\n",
       "      <td>888</td>\n",
       "      <td>35.0</td>\n",
       "      <td>36.0</td>\n",
       "    </tr>\n",
       "    <tr>\n",
       "      <th>2</th>\n",
       "      <td>1901_0002</td>\n",
       "      <td>Acts</td>\n",
       "      <td>SOUTH CAROLINA</td>\n",
       "      <td>The grant herein made is upon the express cond...</td>\n",
       "      <td>287</td>\n",
       "      <td>36.0</td>\n",
       "      <td>36.0</td>\n",
       "    </tr>\n",
       "    <tr>\n",
       "      <th>3</th>\n",
       "      <td>1901_0003</td>\n",
       "      <td>Acts</td>\n",
       "      <td>SOUTH CAROLINA</td>\n",
       "      <td>That in case of the failure of the United Stat...</td>\n",
       "      <td>269</td>\n",
       "      <td>36.0</td>\n",
       "      <td>36.0</td>\n",
       "    </tr>\n",
       "    <tr>\n",
       "      <th>4</th>\n",
       "      <td>1901_0004</td>\n",
       "      <td>Acts</td>\n",
       "      <td>SOUTH CAROLINA</td>\n",
       "      <td>That this Act shall take effect immediately up...</td>\n",
       "      <td>125</td>\n",
       "      <td>36.0</td>\n",
       "      <td>36.0</td>\n",
       "    </tr>\n",
       "    <tr>\n",
       "      <th>...</th>\n",
       "      <td>...</td>\n",
       "      <td>...</td>\n",
       "      <td>...</td>\n",
       "      <td>...</td>\n",
       "      <td>...</td>\n",
       "      <td>...</td>\n",
       "      <td>...</td>\n",
       "    </tr>\n",
       "    <tr>\n",
       "      <th>1354</th>\n",
       "      <td>1901_1354</td>\n",
       "      <td>Acts</td>\n",
       "      <td>SOUTH CAROLINA</td>\n",
       "      <td>nds adjacent to said River; And whereas by the...</td>\n",
       "      <td>1780</td>\n",
       "      <td>291.0</td>\n",
       "      <td>291.0</td>\n",
       "    </tr>\n",
       "    <tr>\n",
       "      <th>1355</th>\n",
       "      <td>1901_1355</td>\n",
       "      <td>Acts</td>\n",
       "      <td>SOUTH CAROLINA</td>\n",
       "      <td>AN ACT TO EMPOWER AND AUTHORIZE THE COUNNTY BO...</td>\n",
       "      <td>193</td>\n",
       "      <td>291.0</td>\n",
       "      <td>292.0</td>\n",
       "    </tr>\n",
       "    <tr>\n",
       "      <th>1356</th>\n",
       "      <td>1901_1356</td>\n",
       "      <td>Acts</td>\n",
       "      <td>SOUTH CAROLINA</td>\n",
       "      <td>Be it enacted by the General Assembly of the S...</td>\n",
       "      <td>817</td>\n",
       "      <td>292.0</td>\n",
       "      <td>292.0</td>\n",
       "    </tr>\n",
       "    <tr>\n",
       "      <th>1357</th>\n",
       "      <td>1901_1357</td>\n",
       "      <td>Acts</td>\n",
       "      <td>SOUTH CAROLINA</td>\n",
       "      <td>That the proceeds of said levy of onehalf mill...</td>\n",
       "      <td>491</td>\n",
       "      <td>292.0</td>\n",
       "      <td>292.0</td>\n",
       "    </tr>\n",
       "    <tr>\n",
       "      <th>1358</th>\n",
       "      <td>1901_1358</td>\n",
       "      <td>Acts</td>\n",
       "      <td>SOUTH CAROLINA</td>\n",
       "      <td>That the Commissioners of the Sinking Fund of ...</td>\n",
       "      <td>390</td>\n",
       "      <td>292.0</td>\n",
       "      <td>292.0</td>\n",
       "    </tr>\n",
       "  </tbody>\n",
       "</table>\n",
       "<p>1359 rows × 7 columns</p>\n",
       "</div>"
      ],
      "text/plain": [
       "             id law_type           state  \\\n",
       "0     1901_0000     Acts  SOUTH CAROLINA   \n",
       "1     1901_0001     Acts  SOUTH CAROLINA   \n",
       "2     1901_0002     Acts  SOUTH CAROLINA   \n",
       "3     1901_0003     Acts  SOUTH CAROLINA   \n",
       "4     1901_0004     Acts  SOUTH CAROLINA   \n",
       "...         ...      ...             ...   \n",
       "1354  1901_1354     Acts  SOUTH CAROLINA   \n",
       "1355  1901_1355     Acts  SOUTH CAROLINA   \n",
       "1356  1901_1356     Acts  SOUTH CAROLINA   \n",
       "1357  1901_1357     Acts  SOUTH CAROLINA   \n",
       "1358  1901_1358     Acts  SOUTH CAROLINA   \n",
       "\n",
       "                                               sentence  length  start_page  \\\n",
       "0     AN ACT TO GRANT TO THE CITY COUNCIL OF CHARLES...     179        35.0   \n",
       "1     Be it enacted by the General Assembly of the S...     888        35.0   \n",
       "2     The grant herein made is upon the express cond...     287        36.0   \n",
       "3     That in case of the failure of the United Stat...     269        36.0   \n",
       "4     That this Act shall take effect immediately up...     125        36.0   \n",
       "...                                                 ...     ...         ...   \n",
       "1354  nds adjacent to said River; And whereas by the...    1780       291.0   \n",
       "1355  AN ACT TO EMPOWER AND AUTHORIZE THE COUNNTY BO...     193       291.0   \n",
       "1356  Be it enacted by the General Assembly of the S...     817       292.0   \n",
       "1357  That the proceeds of said levy of onehalf mill...     491       292.0   \n",
       "1358  That the Commissioners of the Sinking Fund of ...     390       292.0   \n",
       "\n",
       "      end_page  \n",
       "0         35.0  \n",
       "1         36.0  \n",
       "2         36.0  \n",
       "3         36.0  \n",
       "4         36.0  \n",
       "...        ...  \n",
       "1354     291.0  \n",
       "1355     292.0  \n",
       "1356     292.0  \n",
       "1357     292.0  \n",
       "1358     292.0  \n",
       "\n",
       "[1359 rows x 7 columns]"
      ]
     },
     "execution_count": 62,
     "metadata": {},
     "output_type": "execute_result"
    }
   ],
   "source": [
    "# Drop the 'removed' column\n",
    "df_cleaned.drop(['removed'], axis = 1, inplace=True)\n",
    "\n",
    "# Rename the 'org_sent' column\n",
    "df_cleaned.rename(columns={\"org_sent\": \"sentence\"}, inplace=True)\n",
    "\n",
    "df_cleaned"
   ]
  },
  {
   "cell_type": "code",
   "execution_count": 63,
   "metadata": {},
   "outputs": [],
   "source": [
    "# # Export the final dataframe to csv for viewing\n",
    "# df_cleaned.to_csv(f\"{year}_faster.csv\", index=False)"
   ]
  }
 ],
 "metadata": {
  "kernelspec": {
   "display_name": "Python 3",
   "language": "python",
   "name": "python3"
  },
  "language_info": {
   "codemirror_mode": {
    "name": "ipython",
    "version": 3
   },
   "file_extension": ".py",
   "mimetype": "text/x-python",
   "name": "python",
   "nbconvert_exporter": "python",
   "pygments_lexer": "ipython3",
   "version": "3.7.4"
  }
 },
 "nbformat": 4,
 "nbformat_minor": 5
}
