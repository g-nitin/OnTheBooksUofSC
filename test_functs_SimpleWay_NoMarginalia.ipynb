{
 "cells": [
  {
   "cell_type": "markdown",
   "metadata": {},
   "source": [
    "## This version of program does the following\n",
    "- dil_iter = 15\n",
    "- x_buffer = 30 and y_buffer =10"
   ]
  },
  {
   "cell_type": "code",
   "execution_count": 8,
   "metadata": {},
   "outputs": [],
   "source": [
    "import cv2\n",
    "import os\n",
    "import pandas as pd\n",
    "import numpy as np\n",
    "from matplotlib import pyplot as plt\n",
    "import importlib\n",
    "import sys"
   ]
  },
  {
   "cell_type": "code",
   "execution_count": 14,
   "metadata": {
    "id": "cOAogArKwmWi"
   },
   "outputs": [],
   "source": [
    "dirpath = '/Users/bipva/Desktop/OTB/MarginaliaRemoval/volumes/1934-JPG-uc1-b3692920-1647872012'\n",
    "content = os.listdir(dirpath)     "
   ]
  },
  {
   "cell_type": "code",
   "execution_count": 15,
   "metadata": {},
   "outputs": [
    {
     "name": "stdout",
     "output_type": "stream",
     "text": [
      "1934\n"
     ]
    }
   ],
   "source": [
    "# Get the year\n",
    "import re\n",
    "fileName = re.findall(\".+(\\/.+)$\", dirpath)  \n",
    "year = fileName[0][1:5]\n",
    "print(year)"
   ]
  },
  {
   "cell_type": "code",
   "execution_count": 16,
   "metadata": {},
   "outputs": [],
   "source": [
    "# Read the contents of the volume\n",
    "ints = list(range(0, len(content)))\n",
    "content = [content[i] for i in ints]\n",
    "content.sort()"
   ]
  },
  {
   "cell_type": "code",
   "execution_count": 17,
   "metadata": {},
   "outputs": [],
   "source": [
    "fType = 'jpg' if \"JPG\" in dirpath else 'tiff'\n",
    "im_sample = [dirpath+'/'+ x for x in content if fType in x]\n"
   ]
  },
  {
   "cell_type": "markdown",
   "metadata": {},
   "source": [
    "# Simple way --- working"
   ]
  },
  {
   "cell_type": "code",
   "execution_count": 26,
   "metadata": {},
   "outputs": [],
   "source": [
    "import matplotlib.pyplot as plt\n",
    "y1=240\n",
    "x1= 80\n",
    "h=2200\n",
    "w=1800\n",
    "x2 = x1+w\n",
    "y2 = y1+h\n",
    "\n",
    "def crop(im_sample):\n",
    "    imgs_dict = {}\n",
    "    for i in im_sample:\n",
    "        img = cv2.imread(i)\n",
    "        imgs_dict[i] = {\n",
    "            'path': i,\n",
    "            'bbox_x1': x1,\n",
    "            'bbox_y1': y1, \n",
    "            'bbox_x2': x2,\n",
    "            'bbox_y2': y2,\n",
    "        }\n",
    "        crop = img[y1:y2, x1:x2]\n",
    "        f, ax = plt.subplots(1,2, figsize=(20,15)) \n",
    "        ax[0].imshow(img)\n",
    "        ax[1].imshow(crop)\n",
    "        plt.show()\n",
    "    \n",
    "    return imgs_dict"
   ]
  },
  {
   "cell_type": "code",
   "execution_count": 28,
   "metadata": {},
   "outputs": [],
   "source": [
    "#imgs = crop(im_sample)\n",
    "imgs_df = pd.DataFrame.from_dict(imgs, orient=\"index\")\n",
    "imgs_df.to_csv(f\"./sample_{year}_csv.csv\", index_label=False)"
   ]
  },
  {
   "cell_type": "markdown",
   "metadata": {},
   "source": [
    "# simple way --- ended"
   ]
  },
  {
   "cell_type": "code",
   "execution_count": null,
   "metadata": {},
   "outputs": [],
   "source": []
  }
 ],
 "metadata": {
  "colab": {
   "collapsed_sections": [],
   "provenance": []
  },
  "kernelspec": {
   "display_name": "Python 3 (ipykernel)",
   "language": "python",
   "name": "python3"
  },
  "language_info": {
   "codemirror_mode": {
    "name": "ipython",
    "version": 3
   },
   "file_extension": ".py",
   "mimetype": "text/x-python",
   "name": "python",
   "nbconvert_exporter": "python",
   "pygments_lexer": "ipython3",
   "version": "3.9.7"
  }
 },
 "nbformat": 4,
 "nbformat_minor": 1
}
