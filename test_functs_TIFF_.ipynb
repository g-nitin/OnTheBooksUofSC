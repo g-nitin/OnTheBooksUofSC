{
 "cells": [
  {
   "cell_type": "markdown",
   "metadata": {},
   "source": [
    "## This version of program does the following\n",
    "- Read the files (either .tiff or .jpg) from the given directory for ONE volume\n",
    "- ALL the files are read in one go (different from UNC file which read 10 .jpg files in one go)\n",
    "- The files are from 1898 volume after removing front and back pages\n",
    "- The files which throw errors and stop the code from running are stored in a seperate csv file, called errors.csv, in the same directory.\n",
    "- The crop coordinates for other files are stored in another csv (named after the year of the volume) in the same directory.\n",
    "- Note: Some pages are not cropped but also don't throw errors. Those pages are not stored in the errors.csv file, and are rather stored in the year based csv file."
   ]
  },
  {
   "cell_type": "code",
   "execution_count": null,
   "metadata": {
    "id": "VlAD_U6_xaVj",
    "scrolled": true
   },
   "outputs": [],
   "source": [
    "%run crop_functions_updated_.py"
   ]
  },
  {
   "cell_type": "code",
   "execution_count": null,
   "metadata": {
    "colab": {
     "base_uri": "https://localhost:8080/",
     "height": 373
    },
    "id": "g1eEpmLrwIGL",
    "outputId": "58b5f7fd-399a-4f1d-da82-a241443f3216"
   },
   "outputs": [],
   "source": [
    "from crop_functions_updated_ import *\n",
    "%matplotlib inline\n",
    "plt.rcParams['figure.figsize'] = [15, 50]\n",
    "mod = importlib.reload(sys.modules['crop_functions_updated_'])  \n",
    "vars().update(mod.__dict__)"
   ]
  },
  {
   "cell_type": "code",
   "execution_count": null,
   "metadata": {
    "id": "cOAogArKwmWi"
   },
   "outputs": [],
   "source": [
    "dirpath = \"/Users/nitingupta/Desktop/OTB/MarginaliaRemoval/volumes/1898-JPG-iau-31858020993071-1647032690\"\n",
    "# dirpath = \"/Users/nitingupta/Desktop/OTB/MarginaliaRemoval/volumes/1924-TIFF-Heinsssc0266\"\n",
    "content = os.listdir(dirpath)\n",
    "\n",
    "# content_jpg = [x for x in os.listdir(dirpath) if '.jpg' in x]\n",
    "# print(content_jpg)"
   ]
  },
  {
   "cell_type": "code",
   "execution_count": null,
   "metadata": {},
   "outputs": [],
   "source": [
    "# Get the year\n",
    "import re\n",
    "# fileName = re.findall(\".+(\\/.+)$\", dirpath)  # for non-windows based paths\n",
    "fileName = re.findall(\".+(\\\\.+)$\", dirpath)  # for windows based paths\n",
    "year = fileName[0][1:5]"
   ]
  },
  {
   "cell_type": "code",
   "execution_count": null,
   "metadata": {},
   "outputs": [],
   "source": [
    "# changed the second argument from 10 to 1 if we are testing one page only, else 10\n",
    "# ints = r.sample(range(0,len(content)), 10)\n",
    "\n",
    "ints = list(range(0, len(content)))"
   ]
  },
  {
   "cell_type": "code",
   "execution_count": null,
   "metadata": {},
   "outputs": [],
   "source": [
    "content = [content[i] for i in ints]\n",
    "content.sort()"
   ]
  },
  {
   "cell_type": "code",
   "execution_count": null,
   "metadata": {},
   "outputs": [],
   "source": [
    "fType = 'jpg' if \"JPG\" in dirpath else 'tiff'\n",
    "sample = [dirpath+'/'+ x for x in content if fType in x]"
   ]
  },
  {
   "cell_type": "code",
   "execution_count": null,
   "metadata": {
    "scrolled": true
   },
   "outputs": [],
   "source": [
    "print(sample)"
   ]
  },
  {
   "cell_type": "code",
   "execution_count": null,
   "metadata": {
    "scrolled": true
   },
   "outputs": [],
   "source": [
    "errorList = []  # will contain the list of all the file paths which throw errors\n",
    "errorPath = ''\n",
    "freq = 0\n",
    "while True:\n",
    "    freq += 1\n",
    "    # Do make sure that the sample_csv.csv has been deleted (or is empty)\n",
    "    # Because the method below will append to the csv if it already exists\n",
    "    errorPath = crop2csv(sample, dil_iter=24)\n",
    "    \n",
    "    if (errorPath != ''):\n",
    "        errorPathIndex = sample.index(errorPath)\n",
    "        sample = sample[errorPathIndex+1:]\n",
    "        errorList += [errorPath]\n",
    "    else:\n",
    "        break"
   ]
  },
  {
   "cell_type": "code",
   "execution_count": null,
   "metadata": {},
   "outputs": [],
   "source": [
    "# Read the csv and removed the unwanted header information lines\n",
    "df = pd.read_csv('sample_csv.csv')\n",
    "df = df.drop(df[df.path == 'path'].index)\n",
    "\n",
    "csvPath = './' + year + '.csv'\n",
    "df.to_csv(csvPath, index_label=False, index=False)\n",
    "\n",
    "os.remove('sample_csv.csv')"
   ]
  },
  {
   "cell_type": "code",
   "execution_count": null,
   "metadata": {},
   "outputs": [],
   "source": [
    "# Create a dictionary of the errorList values\n",
    "errorDict = {\n",
    "    'year': int(year),\n",
    "    'errorpaths':errorList}\n",
    "errorDict"
   ]
  },
  {
   "cell_type": "code",
   "execution_count": null,
   "metadata": {},
   "outputs": [],
   "source": [
    "# import os.path\n",
    "\n",
    "# convert the dictionary to a dataframe\n",
    "df_errors = pd.DataFrame.from_dict(errorDict)\n",
    "\n",
    "# if the file already exists, then just append to it without the header\n",
    "if (os.path.isfile('errors.csv')):\n",
    "    df_errors.to_csv(r'errors.csv', index = False, header = False, mode='a')\n",
    "else:\n",
    "    df_errors.to_csv(r'errors.csv', index = False, header = True)"
   ]
  }
 ],
 "metadata": {
  "colab": {
   "collapsed_sections": [],
   "provenance": []
  },
  "kernelspec": {
   "display_name": "Python 3 (ipykernel)",
   "language": "python",
   "name": "python3"
  },
  "language_info": {
   "codemirror_mode": {
    "name": "ipython",
    "version": 3
   },
   "file_extension": ".py",
   "mimetype": "text/x-python",
   "name": "python",
   "nbconvert_exporter": "python",
   "pygments_lexer": "ipython3",
   "version": "3.10.8"
  },
  "vscode": {
   "interpreter": {
    "hash": "b0fa6594d8f4cbf19f97940f81e996739fb7646882a419484c72d19e05852a7e"
   }
  }
 },
 "nbformat": 4,
 "nbformat_minor": 1
}
